{
 "cells": [
  {
   "cell_type": "code",
   "execution_count": 1,
   "metadata": {},
   "outputs": [
    {
     "name": "stderr",
     "output_type": "stream",
     "text": [
      "Using TensorFlow backend.\n"
     ]
    }
   ],
   "source": [
    "import sys \n",
    "sys.path.insert(0,'/home/mohit/Downloads/code_notebooks/deep_boltzmann') #Change it accordingly\n",
    "import numpy as np\n",
    "import matplotlib.pyplot as plt\n",
    "from matplotlib import rcParams\n",
    "import keras\n",
    "import tensorflow as tf"
   ]
  },
  {
   "cell_type": "code",
   "execution_count": 2,
   "metadata": {},
   "outputs": [],
   "source": [
    "from IPython.display import SVG\n",
    "from keras.utils.vis_utils import model_to_dot"
   ]
  },
  {
   "cell_type": "code",
   "execution_count": 3,
   "metadata": {},
   "outputs": [],
   "source": [
    "rcParams.update({'font.size': 16})"
   ]
  },
  {
   "cell_type": "code",
   "execution_count": 4,
   "metadata": {},
   "outputs": [],
   "source": [
    "from deep_boltzmann.models import ParticleDimer\n",
    "from deep_boltzmann.networks.invertible import invnet, EnergyInvNet, create_RealNVPNet\n",
    "from deep_boltzmann.sampling import GaussianPriorMCMC\n",
    "from deep_boltzmann.sampling.latent_sampling import BiasedModel\n",
    "from deep_boltzmann.sampling.permutation import HungarianMapper\n",
    "from deep_boltzmann.util import load_obj, save_obj\n",
    "from deep_boltzmann.sampling.analysis import free_energy_bootstrap, mean_finite, std_finite"
   ]
  },
  {
   "cell_type": "code",
   "execution_count": 5,
   "metadata": {},
   "outputs": [],
   "source": [
    "# load trajectory data\n",
    "trajdict = np.load('output.npz')\n",
    "import ast\n",
    "#params = ast.literal_eval(str(trajdict['params']))\n",
    "traj_closed_train = trajdict['traj_closed_train_hungarian']\n",
    "traj_open_train = trajdict['traj_open_train_hungarian']\n",
    "traj_closed_test = trajdict['traj_closed_test_hungarian']\n",
    "traj_open_test = trajdict['traj_open_test_hungarian']\n",
    "x = np.vstack([traj_closed_train, traj_open_train])\n",
    "xval = np.vstack([traj_closed_test, traj_open_test])\n",
    "\n",
    "# create model\n",
    "#params['grid_k'] = 0.0\n",
    "model = ParticleDimer()"
   ]
  },
  {
   "cell_type": "code",
   "execution_count": null,
   "metadata": {},
   "outputs": [],
   "source": []
  },
  {
   "cell_type": "code",
   "execution_count": 6,
   "metadata": {},
   "outputs": [],
   "source": [
    "noise_intensity = 0.0\n",
    "Nnoise = xval.shape[0]\n",
    "X0 = np.vstack([traj_closed_train, traj_open_train])\n",
    "X0noise = X0[np.random.choice(X0.shape[0], Nnoise)] + noise_intensity * np.random.randn(Nnoise, X0.shape[1])\n",
    "X0noise = X0noise.astype(np.float32)"
   ]
  },
  {
   "cell_type": "code",
   "execution_count": 7,
   "metadata": {},
   "outputs": [
    {
     "name": "stdout",
     "output_type": "stream",
     "text": [
      "W<RRRRRRRR>\n",
      "W 76 0 0\n",
      "< 76 0 0\n",
      "R 38 38 0\n",
      "WARNING:tensorflow:From /home/mohit/anaconda3/lib/python3.7/site-packages/keras/backend/tensorflow_backend.py:74: The name tf.get_default_graph is deprecated. Please use tf.compat.v1.get_default_graph instead.\n",
      "\n",
      "R 38 38 0\n",
      "R 38 38 0\n",
      "R 38 38 0\n",
      "R 38 38 0\n",
      "R 38 38 0\n",
      "R 38 38 0\n",
      "R 38 38 0\n",
      "> 38 38 0\n",
      "WARNING:tensorflow:From /home/mohit/anaconda3/lib/python3.7/site-packages/keras/backend/tensorflow_backend.py:517: The name tf.placeholder is deprecated. Please use tf.compat.v1.placeholder instead.\n",
      "\n",
      "WARNING:tensorflow:From /home/mohit/anaconda3/lib/python3.7/site-packages/keras/backend/tensorflow_backend.py:4138: The name tf.random_uniform is deprecated. Please use tf.random.uniform instead.\n",
      "\n"
     ]
    }
   ],
   "source": [
    "bg = invnet(model.dim, 'RRRRRRRR', energy_model=model, nl_layers=4, nl_hidden=200, #100\n",
    "            nl_activation='relu', nl_activation_scale='tanh',  whiten=X0noise)"
   ]
  },
  {
   "cell_type": "code",
   "execution_count": 8,
   "metadata": {},
   "outputs": [],
   "source": [
    "def load( filename, energy_model, clear_session=True):\n",
    "        \"\"\" Loads parameters into model. Careful: this clears the whole TF session!!\n",
    "        \"\"\"\n",
    "        from deep_boltzmann.util import load_obj\n",
    "        if clear_session:\n",
    "                keras.backend.clear_session()\n",
    "        D = load_obj(filename)\n",
    "        prior = D['prior']\n",
    "        layerdicts = D['layers']\n",
    "        print(layerdicts)\n",
    "        layers = [eval(d['type']).from_dict(d) for d in layerdicts]\n",
    "        return EnergyInvNet(energy_model, layers, prior=prior)"
   ]
  },
  {
   "cell_type": "code",
   "execution_count": null,
   "metadata": {},
   "outputs": [
    {
     "name": "stdout",
     "output_type": "stream",
     "text": [
      "WARNING:tensorflow:From /home/mohit/anaconda3/lib/python3.7/site-packages/keras/backend/tensorflow_backend.py:95: The name tf.reset_default_graph is deprecated. Please use tf.compat.v1.reset_default_graph instead.\n",
      "\n",
      "WARNING:tensorflow:From /home/mohit/anaconda3/lib/python3.7/site-packages/keras/backend/tensorflow_backend.py:98: The name tf.placeholder_with_default is deprecated. Please use tf.compat.v1.placeholder_with_default instead.\n",
      "\n"
     ]
    }
   ],
   "source": [
    "filename = 'ParticleModel.pkl'\n",
    "bg.load(filename, model)"
   ]
  },
  {
   "cell_type": "code",
   "execution_count": 1,
   "metadata": {},
   "outputs": [
    {
     "ename": "NameError",
     "evalue": "name 'bg' is not defined",
     "output_type": "error",
     "traceback": [
      "\u001b[0;31m---------------------------------------------------------------------------\u001b[0m",
      "\u001b[0;31mNameError\u001b[0m                                 Traceback (most recent call last)",
      "\u001b[0;32m<ipython-input-1-bc8b367c064e>\u001b[0m in \u001b[0;36m<module>\u001b[0;34m\u001b[0m\n\u001b[0;32m----> 1\u001b[0;31m \u001b[0mprint\u001b[0m\u001b[0;34m(\u001b[0m\u001b[0mbg\u001b[0m\u001b[0;34m.\u001b[0m\u001b[0mtransform_xz\u001b[0m\u001b[0;34m(\u001b[0m\u001b[0mnp\u001b[0m\u001b[0;34m.\u001b[0m\u001b[0marray\u001b[0m\u001b[0;34m(\u001b[0m\u001b[0;34m[\u001b[0m\u001b[0mtraj_closed_train\u001b[0m\u001b[0;34m[\u001b[0m\u001b[0;36m100\u001b[0m\u001b[0;34m]\u001b[0m\u001b[0;34m]\u001b[0m\u001b[0;34m)\u001b[0m\u001b[0;34m)\u001b[0m \u001b[0;34m)\u001b[0m\u001b[0;34m\u001b[0m\u001b[0;34m\u001b[0m\u001b[0m\n\u001b[0m",
      "\u001b[0;31mNameError\u001b[0m: name 'bg' is not defined"
     ]
    }
   ],
   "source": [
    "print(bg.transform_xz(np.array([traj_closed_train[100]])) )"
   ]
  },
  {
   "cell_type": "code",
   "execution_count": null,
   "metadata": {},
   "outputs": [],
   "source": []
  }
 ],
 "metadata": {
  "kernelspec": {
   "display_name": "Python 3",
   "language": "python",
   "name": "python3"
  }
 },
 "nbformat": 4,
 "nbformat_minor": 2
}
