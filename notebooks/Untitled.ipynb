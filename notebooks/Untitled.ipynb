{
 "cells": [
  {
   "cell_type": "code",
   "execution_count": 50,
   "metadata": {},
   "outputs": [],
   "source": [
    "import torch\n",
    "import torch.nn as nn\n",
    "from pathlib import Path\n",
    "import torchvision.transforms as transforms\n",
    "import torch.optim as optim\n",
    "import numpy as np\n",
    "from math import *\n",
    "from random import gauss,seed\n",
    "import math"
   ]
  },
  {
   "cell_type": "code",
   "execution_count": 51,
   "metadata": {},
   "outputs": [],
   "source": [
    "import matplotlib.pyplot as plt\n",
    "import seaborn "
   ]
  },
  {
   "cell_type": "code",
   "execution_count": 3,
   "metadata": {},
   "outputs": [
    {
     "name": "stderr",
     "output_type": "stream",
     "text": [
      "/home/mohit.kumargupta/.local/lib/python3.6/site-packages/tensorflow/python/framework/dtypes.py:516: FutureWarning: Passing (type, 1) or '1type' as a synonym of type is deprecated; in a future version of numpy, it will be understood as (type, (1,)) / '(1,)type'.\n",
      "  _np_qint8 = np.dtype([(\"qint8\", np.int8, 1)])\n",
      "/home/mohit.kumargupta/.local/lib/python3.6/site-packages/tensorflow/python/framework/dtypes.py:517: FutureWarning: Passing (type, 1) or '1type' as a synonym of type is deprecated; in a future version of numpy, it will be understood as (type, (1,)) / '(1,)type'.\n",
      "  _np_quint8 = np.dtype([(\"quint8\", np.uint8, 1)])\n",
      "/home/mohit.kumargupta/.local/lib/python3.6/site-packages/tensorflow/python/framework/dtypes.py:518: FutureWarning: Passing (type, 1) or '1type' as a synonym of type is deprecated; in a future version of numpy, it will be understood as (type, (1,)) / '(1,)type'.\n",
      "  _np_qint16 = np.dtype([(\"qint16\", np.int16, 1)])\n",
      "/home/mohit.kumargupta/.local/lib/python3.6/site-packages/tensorflow/python/framework/dtypes.py:519: FutureWarning: Passing (type, 1) or '1type' as a synonym of type is deprecated; in a future version of numpy, it will be understood as (type, (1,)) / '(1,)type'.\n",
      "  _np_quint16 = np.dtype([(\"quint16\", np.uint16, 1)])\n",
      "/home/mohit.kumargupta/.local/lib/python3.6/site-packages/tensorflow/python/framework/dtypes.py:520: FutureWarning: Passing (type, 1) or '1type' as a synonym of type is deprecated; in a future version of numpy, it will be understood as (type, (1,)) / '(1,)type'.\n",
      "  _np_qint32 = np.dtype([(\"qint32\", np.int32, 1)])\n",
      "/home/mohit.kumargupta/.local/lib/python3.6/site-packages/tensorflow/python/framework/dtypes.py:525: FutureWarning: Passing (type, 1) or '1type' as a synonym of type is deprecated; in a future version of numpy, it will be understood as (type, (1,)) / '(1,)type'.\n",
      "  np_resource = np.dtype([(\"resource\", np.ubyte, 1)])\n",
      "/home/mohit.kumargupta/.local/lib/python3.6/site-packages/tensorboard/compat/tensorflow_stub/dtypes.py:541: FutureWarning: Passing (type, 1) or '1type' as a synonym of type is deprecated; in a future version of numpy, it will be understood as (type, (1,)) / '(1,)type'.\n",
      "  _np_qint8 = np.dtype([(\"qint8\", np.int8, 1)])\n",
      "/home/mohit.kumargupta/.local/lib/python3.6/site-packages/tensorboard/compat/tensorflow_stub/dtypes.py:542: FutureWarning: Passing (type, 1) or '1type' as a synonym of type is deprecated; in a future version of numpy, it will be understood as (type, (1,)) / '(1,)type'.\n",
      "  _np_quint8 = np.dtype([(\"quint8\", np.uint8, 1)])\n",
      "/home/mohit.kumargupta/.local/lib/python3.6/site-packages/tensorboard/compat/tensorflow_stub/dtypes.py:543: FutureWarning: Passing (type, 1) or '1type' as a synonym of type is deprecated; in a future version of numpy, it will be understood as (type, (1,)) / '(1,)type'.\n",
      "  _np_qint16 = np.dtype([(\"qint16\", np.int16, 1)])\n",
      "/home/mohit.kumargupta/.local/lib/python3.6/site-packages/tensorboard/compat/tensorflow_stub/dtypes.py:544: FutureWarning: Passing (type, 1) or '1type' as a synonym of type is deprecated; in a future version of numpy, it will be understood as (type, (1,)) / '(1,)type'.\n",
      "  _np_quint16 = np.dtype([(\"quint16\", np.uint16, 1)])\n",
      "/home/mohit.kumargupta/.local/lib/python3.6/site-packages/tensorboard/compat/tensorflow_stub/dtypes.py:545: FutureWarning: Passing (type, 1) or '1type' as a synonym of type is deprecated; in a future version of numpy, it will be understood as (type, (1,)) / '(1,)type'.\n",
      "  _np_qint32 = np.dtype([(\"qint32\", np.int32, 1)])\n",
      "/home/mohit.kumargupta/.local/lib/python3.6/site-packages/tensorboard/compat/tensorflow_stub/dtypes.py:550: FutureWarning: Passing (type, 1) or '1type' as a synonym of type is deprecated; in a future version of numpy, it will be understood as (type, (1,)) / '(1,)type'.\n",
      "  np_resource = np.dtype([(\"resource\", np.ubyte, 1)])\n",
      "Using TensorFlow backend.\n"
     ]
    }
   ],
   "source": [
    "import sys \n",
    "sys.path.insert(0,'/home/mohit.kumargupta/deep_boltzmann')\n",
    "import numpy as np\n",
    "import matplotlib.pyplot as plt\n",
    "from matplotlib import rcParams\n",
    "from IPython.display import SVG\n",
    "from deep_boltzmann.models import ParticleDimer\n"
   ]
  },
  {
   "cell_type": "code",
   "execution_count": 52,
   "metadata": {},
   "outputs": [],
   "source": [
    "import mdtraj as md"
   ]
  },
  {
   "cell_type": "code",
   "execution_count": 53,
   "metadata": {},
   "outputs": [],
   "source": [
    "trajdict = np.load('output.npz')\n",
    "import ast\n",
    "#params = ast.literal_eval(str(trajdict['params']))\n",
    "traj_closed_train = trajdict['traj_closed_train_hungarian']\n",
    "traj_open_train = trajdict['traj_open_train_hungarian']\n",
    "traj_closed_test = trajdict['traj_closed_test_hungarian']\n",
    "traj_open_test = trajdict['traj_open_test_hungarian']\n",
    "x = np.vstack([traj_closed_train, traj_open_train])\n",
    "xval = np.vstack([traj_closed_test, traj_open_test])"
   ]
  },
  {
   "cell_type": "code",
   "execution_count": 54,
   "metadata": {},
   "outputs": [],
   "source": [
    "batch_size = 1000\n",
    "train_set = np.vstack([traj_open_train[1000: :2], traj_closed_train[1000: :2] ] )"
   ]
  },
  {
   "cell_type": "code",
   "execution_count": null,
   "metadata": {},
   "outputs": [],
   "source": []
  },
  {
   "cell_type": "code",
   "execution_count": 55,
   "metadata": {},
   "outputs": [],
   "source": [
    "dataSet = []\n",
    "j=0\n",
    "sz = 32"
   ]
  },
  {
   "cell_type": "code",
   "execution_count": 56,
   "metadata": {},
   "outputs": [],
   "source": [
    "boxes = []\n",
    "x = -3.25\n",
    "while x< 3.25:\n",
    "        y = -3.25\n",
    "        while(y<3.25):\n",
    "            boxes.append([x+3.25/sz, y +3.25/sz])\n",
    "            y+= (3.25*2)/sz   \n",
    "        x += (3.25*2)/sz"
   ]
  },
  {
   "cell_type": "code",
   "execution_count": 57,
   "metadata": {},
   "outputs": [],
   "source": [
    "boxes = np.array(boxes)"
   ]
  },
  {
   "cell_type": "code",
   "execution_count": 58,
   "metadata": {},
   "outputs": [],
   "source": [
    "boxes = np.tile(boxes,(36,1,1))"
   ]
  },
  {
   "cell_type": "code",
   "execution_count": 59,
   "metadata": {},
   "outputs": [],
   "source": [
    "boxes = torch.from_numpy(boxes)"
   ]
  },
  {
   "cell_type": "code",
   "execution_count": 61,
   "metadata": {},
   "outputs": [
    {
     "data": {
      "text/plain": [
       "torch.Size([36, 1024, 2])"
      ]
     },
     "execution_count": 61,
     "metadata": {},
     "output_type": "execute_result"
    }
   ],
   "source": [
    "boxes.shape"
   ]
  },
  {
   "cell_type": "code",
   "execution_count": 10,
   "metadata": {},
   "outputs": [],
   "source": [
    "Snapshot = np.transpose( np.tile(np.reshape(train_set[0][4:],(36,2) ), (1024,1,1)), (1,0,2))"
   ]
  },
  {
   "cell_type": "code",
   "execution_count": 11,
   "metadata": {},
   "outputs": [
    {
     "name": "stdout",
     "output_type": "stream",
     "text": [
      "2.718281828459045\n"
     ]
    }
   ],
   "source": [
    "print(np.exp(1))"
   ]
  },
  {
   "cell_type": "code",
   "execution_count": 42,
   "metadata": {},
   "outputs": [],
   "source": [
    "vol = (3.25*2/sz) **2\n",
    "i=0"
   ]
  },
  {
   "cell_type": "code",
   "execution_count": 60,
   "metadata": {},
   "outputs": [],
   "source": [
    "dataSet32 = []"
   ]
  },
  {
   "cell_type": "code",
   "execution_count": 49,
   "metadata": {},
   "outputs": [
    {
     "ename": "AttributeError",
     "evalue": "'numpy.ndarray' object has no attribute 'append'",
     "output_type": "error",
     "traceback": [
      "\u001b[0;31m---------------------------------------------------------------------------\u001b[0m",
      "\u001b[0;31mAttributeError\u001b[0m                            Traceback (most recent call last)",
      "\u001b[0;32m<ipython-input-49-8849fff3c95d>\u001b[0m in \u001b[0;36m<module>\u001b[0;34m\u001b[0m\n\u001b[1;32m      3\u001b[0m     \u001b[0mdist\u001b[0m \u001b[0;34m=\u001b[0m \u001b[0mnp\u001b[0m\u001b[0;34m.\u001b[0m\u001b[0mlinalg\u001b[0m\u001b[0;34m.\u001b[0m\u001b[0mnorm\u001b[0m\u001b[0;34m(\u001b[0m\u001b[0msnap\u001b[0m\u001b[0;34m-\u001b[0m\u001b[0mboxes\u001b[0m\u001b[0;34m,\u001b[0m\u001b[0maxis\u001b[0m \u001b[0;34m=\u001b[0m \u001b[0;36m2\u001b[0m\u001b[0;34m)\u001b[0m\u001b[0;34m\u001b[0m\u001b[0;34m\u001b[0m\u001b[0m\n\u001b[1;32m      4\u001b[0m     \u001b[0mval\u001b[0m \u001b[0;34m=\u001b[0m  \u001b[0mvol\u001b[0m \u001b[0;34m*\u001b[0m \u001b[0mnp\u001b[0m\u001b[0;34m.\u001b[0m\u001b[0mexp\u001b[0m\u001b[0;34m(\u001b[0m\u001b[0;34m-\u001b[0m\u001b[0;36m0.5\u001b[0m\u001b[0;34m*\u001b[0m\u001b[0mnp\u001b[0m\u001b[0;34m.\u001b[0m\u001b[0msquare\u001b[0m\u001b[0;34m(\u001b[0m\u001b[0mdist\u001b[0m\u001b[0;34m/\u001b[0m\u001b[0;36m0.5\u001b[0m\u001b[0;34m)\u001b[0m\u001b[0;34m)\u001b[0m\u001b[0;34m/\u001b[0m \u001b[0;34m(\u001b[0m\u001b[0;36m2\u001b[0m\u001b[0;34m*\u001b[0m\u001b[0mnp\u001b[0m\u001b[0;34m.\u001b[0m\u001b[0mpi\u001b[0m \u001b[0;34m*\u001b[0m \u001b[0;36m0.25\u001b[0m\u001b[0;34m)\u001b[0m\u001b[0;34m\u001b[0m\u001b[0;34m\u001b[0m\u001b[0m\n\u001b[0;32m----> 5\u001b[0;31m     \u001b[0mdataSet32\u001b[0m\u001b[0;34m.\u001b[0m\u001b[0mappend\u001b[0m\u001b[0;34m(\u001b[0m\u001b[0mval\u001b[0m\u001b[0;34m.\u001b[0m\u001b[0msum\u001b[0m\u001b[0;34m(\u001b[0m\u001b[0maxis\u001b[0m\u001b[0;34m=\u001b[0m\u001b[0;36m0\u001b[0m\u001b[0;34m)\u001b[0m\u001b[0;34m)\u001b[0m\u001b[0;34m\u001b[0m\u001b[0;34m\u001b[0m\u001b[0m\n\u001b[0m\u001b[1;32m      6\u001b[0m \u001b[0;34m\u001b[0m\u001b[0m\n",
      "\u001b[0;31mAttributeError\u001b[0m: 'numpy.ndarray' object has no attribute 'append'"
     ]
    }
   ],
   "source": [
    "for Snapshot in train_set:\n",
    "    torch.reshape()\n",
    "    snap = np.transpose( np.tile(np.reshape(Snapshot[4:],(36,2) ), (1024,1,1)), (1,0,2))\n",
    "    dist = np.linalg.norm(snap-boxes,axis = 2)\n",
    "    val =  vol * np.exp(-0.5*np.square(dist/0.5))/ (2*np.pi * 0.25)\n",
    "    dataSet32.append(val.sum(axis=0))\n",
    "    "
   ]
  },
  {
   "cell_type": "code",
   "execution_count": 45,
   "metadata": {},
   "outputs": [],
   "source": [
    "dataSet32 = np.reshape(np.array(dataSet32), (len(dataSet32),sz,sz) )"
   ]
  },
  {
   "cell_type": "code",
   "execution_count": 23,
   "metadata": {},
   "outputs": [],
   "source": [
    "np.save('NewDataSet32', dataSet32 ) "
   ]
  },
  {
   "cell_type": "code",
   "execution_count": 28,
   "metadata": {},
   "outputs": [],
   "source": [
    "dataSet32 = np.load('NewDataSet32.npy')"
   ]
  },
  {
   "cell_type": "code",
   "execution_count": 48,
   "metadata": {},
   "outputs": [
    {
     "data": {
      "text/plain": [
       "<matplotlib.axes._subplots.AxesSubplot at 0x15229b047080>"
      ]
     },
     "execution_count": 48,
     "metadata": {},
     "output_type": "execute_result"
    },
    {
     "data": {
      "image/png": "[encoded data removed]",
      "text/plain": [
       "<Figure size 432x288 with 2 Axes>"
      ]
     },
     "metadata": {
      "needs_background": "light"
     },
     "output_type": "display_data"
    }
   ],
   "source": [
    "seaborn.heatmap(dataSet32[1000])"
   ]
  },
  {
   "cell_type": "code",
   "execution_count": 17,
   "metadata": {},
   "outputs": [],
   "source": [
    "dataSet = np.load('../DataSet64.npy')"
   ]
  },
  {
   "cell_type": "code",
   "execution_count": 16,
   "metadata": {},
   "outputs": [],
   "source": [
    "dataSet = np.reshape(dataSet,(80000,64,64))"
   ]
  },
  {
   "cell_type": "code",
   "execution_count": 25,
   "metadata": {},
   "outputs": [],
   "source": [
    "dataSet3 = np.concatenate((dataSet2,dataSet),axis = 0)"
   ]
  },
  {
   "cell_type": "code",
   "execution_count": 18,
   "metadata": {},
   "outputs": [
    {
     "name": "stdout",
     "output_type": "stream",
     "text": [
      "(80000, 64, 64)\n"
     ]
    }
   ],
   "source": [
    "print(dataSet.shape)"
   ]
  },
  {
   "cell_type": "code",
   "execution_count": 14,
   "metadata": {},
   "outputs": [],
   "source": [
    "np.save('../DataSet64',dataSet)"
   ]
  },
  {
   "cell_type": "code",
   "execution_count": 15,
   "metadata": {},
   "outputs": [
    {
     "data": {
      "text/plain": [
       "(40001, 1024)"
      ]
     },
     "execution_count": 15,
     "metadata": {},
     "output_type": "execute_result"
    }
   ],
   "source": [
    "dataSet = np.array(dataSet)\n",
    "dataSet.shape"
   ]
  },
  {
   "cell_type": "code",
   "execution_count": 16,
   "metadata": {},
   "outputs": [],
   "source": [
    "dataSet = dataSet.reshape((40001,32,32))"
   ]
  },
  {
   "cell_type": "code",
   "execution_count": null,
   "metadata": {},
   "outputs": [],
   "source": [
    "np.save('DataSet32',dataSet[:40000].reshape((40000,32,32)))"
   ]
  },
  {
   "cell_type": "code",
   "execution_count": 5,
   "metadata": {},
   "outputs": [],
   "source": [
    "TrajDirectory = \"/home/mohit.kumargupta/confALA4/\"\n",
    "TrajFile = TrajDirectory +  \"traj_comp.xtc\"\n",
    "TopFile = TrajDirectory + \"ala4_amber_atA.gro\""
   ]
  },
  {
   "cell_type": "code",
   "execution_count": null,
   "metadata": {},
   "outputs": [],
   "source": []
  },
  {
   "cell_type": "code",
   "execution_count": 6,
   "metadata": {},
   "outputs": [],
   "source": [
    "def alnTetra(TrajFile, Topfile):\n",
    "    xtObject = md.load(TrajFile, top = Topfile)\n",
    "    return xtObject.xyz"
   ]
  },
  {
   "cell_type": "code",
   "execution_count": 7,
   "metadata": {},
   "outputs": [
    {
     "name": "stdout",
     "output_type": "stream",
     "text": [
      "[[[1.1620001  0.88500005 2.3370001 ]\n",
      "  [1.2360001  0.95300007 2.38      ]\n",
      "  [1.2140001  1.052      2.3400002 ]\n",
      "  ...\n",
      "  [0.126      2.3630002  3.2530003 ]\n",
      "  [0.039      2.3270001  3.2380002 ]\n",
      "  [0.115      2.457      3.2410002 ]]\n",
      "\n",
      " [[1.1350001  1.0070001  2.334     ]\n",
      "  [1.2270001  0.97300005 2.3820002 ]\n",
      "  [1.296      1.056      2.365     ]\n",
      "  ...\n",
      "  [0.11100001 2.3530002  3.2480001 ]\n",
      "  [0.062      2.308      3.1790001 ]\n",
      "  [0.059      2.4310002  3.2680001 ]]\n",
      "\n",
      " [[1.164      1.075      2.365     ]\n",
      "  [1.2320001  0.99200004 2.3850002 ]\n",
      "  [1.33       1.018      2.345     ]\n",
      "  ...\n",
      "  [0.10300001 2.3490002  3.2310002 ]\n",
      "  [0.054      2.3000002  3.1650002 ]\n",
      "  [0.082      2.4410002  3.2150002 ]]\n",
      "\n",
      " ...\n",
      "\n",
      " [[0.887      2.927      0.81600004]\n",
      "  [0.91600007 2.9290001  0.92100006]\n",
      "  [0.943      2.8260002  0.94600004]\n",
      "  ...\n",
      "  [3.2630002  1.7360001  2.9280002 ]\n",
      "  [3.262      1.756      3.022     ]\n",
      "  [3.259      1.8220001  2.8860002 ]]\n",
      "\n",
      " [[0.88600004 2.927      0.83100003]\n",
      "  [0.91600007 2.966      0.929     ]\n",
      "  [0.938      2.878      0.989     ]\n",
      "  ...\n",
      "  [3.2510002  1.756      2.9520001 ]\n",
      "  [3.2810001  1.792      3.0360003 ]\n",
      "  [3.2300003  1.8330001  2.9       ]]\n",
      "\n",
      " [[0.883      2.973      0.82400006]\n",
      "  [0.90300006 2.9850001  0.93000007]\n",
      "  [0.906      2.8850002  0.97300005]\n",
      "  ...\n",
      "  [3.249      1.7680001  2.94      ]\n",
      "  [3.2410002  1.7870001  3.0340002 ]\n",
      "  [3.2280002  1.8510001  2.897     ]]]\n"
     ]
    }
   ],
   "source": [
    "mdObj = alnTetra(TrajFile, TopFile)\n",
    "print(mdObj)"
   ]
  },
  {
   "cell_type": "code",
   "execution_count": 8,
   "metadata": {},
   "outputs": [
    {
     "name": "stdout",
     "output_type": "stream",
     "text": [
      "[1.2360001  0.95300007 2.38      ]\n"
     ]
    }
   ],
   "source": [
    "print(mdObj[0][1])"
   ]
  },
  {
   "cell_type": "code",
   "execution_count": 9,
   "metadata": {},
   "outputs": [],
   "source": [
    "trainingConfigs = mdObj[:10000].flatten().reshape((10000,10557))"
   ]
  },
  {
   "cell_type": "code",
   "execution_count": 10,
   "metadata": {},
   "outputs": [
    {
     "name": "stdout",
     "output_type": "stream",
     "text": [
      "(10000, 10557)\n"
     ]
    }
   ],
   "source": [
    "print(trainingConfigs.shape)"
   ]
  },
  {
   "cell_type": "code",
   "execution_count": 11,
   "metadata": {},
   "outputs": [],
   "source": [
    "device = \"cuda\""
   ]
  },
  {
   "cell_type": "code",
   "execution_count": 12,
   "metadata": {},
   "outputs": [],
   "source": [
    "trainingConfigs = torch.from_numpy(trainingConfigs).to(device)"
   ]
  },
  {
   "cell_type": "code",
   "execution_count": 28,
   "metadata": {},
   "outputs": [],
   "source": [
    "#RNADE\n",
    "class RNADE(nn.Module):\n",
    "    def __init__(self,protein_atoms,solvent_atoms):\n",
    "        super(RNADE, self).__init__()\n",
    "        self.protein_atoms = protein_atoms\n",
    "        self.solvent_atoms = solvent_atoms\n",
    "        self.total_dims = self.protein_atoms + self.solvent_atoms\n",
    "        self.D = self.total_dims\n",
    "        self.H = 128\n",
    "        self.params = nn.ParameterDict({\n",
    "            \"V\" : nn.Parameter(torch.randn(self.D, self.H)),\n",
    "            \"b\" : nn.Parameter(torch.zeros(self.D)),\n",
    "            \"V2\" : nn.Parameter(torch.randn(self.D, self.H)),\n",
    "            \"b2\" : nn.Parameter(torch.zeros(self.D)),\n",
    "            \"W\" : nn.Parameter(torch.randn(self.H, self.D)),\n",
    "            \"c\" : nn.Parameter(torch.zeros(1, self.H)),\n",
    "        })\n",
    "        nn.init.xavier_normal_(self.params[\"V\"])\n",
    "        nn.init.xavier_normal_(self.params[\"V2\"])\n",
    "        nn.init.xavier_normal_(self.params[\"W\"])\n",
    "        \n",
    "    def forward(self, x):\n",
    "        ai = self.params[\"c\"].expand(x.size(0), -1)   #B x H\n",
    "        a1=[]\n",
    "        m1 = []\n",
    "        for d in range(self.D):\n",
    "            if(d<self.protein_atoms):\n",
    "                ai = x[:, d:d+1].mm(self.params[\"W\"][:,d:d+1].t()) + ai\n",
    "                continue\n",
    "            h_i = torch.relu(ai) #B x H\n",
    "            alpha1 = torch.sigmoid( h_i.mm(self.params[\"V\"][d:d+1,:].t() ) + self.params[\"b\"][d:d+1] )*2  + pow(10,-1)#  BxH *  Hx1  \n",
    "            mean1 = h_i.mm(self.params[\"V2\"][d:d+1,:].t() ) + self.params[\"b2\"][d:d+1]\n",
    "            a1.append(alpha1)\n",
    "            m1.append(mean1)\n",
    "            ai = x[:, d:d+1].mm(self.params[\"W\"][:, d:d+1].t() ) + ai #Bx1 * 1xH =  BxH\n",
    "        \n",
    "        a1 = torch.cat(a1,1)\n",
    "        m1 = torch.cat(m1,1)\n",
    "        final_prob = torch.stack([m1,a1])       \n",
    "     \n",
    "        return final_prob\n",
    "\n",
    "    def sample(self, x):\n",
    "        ai = self.params[\"c\"].expand(x.size(0), -1)\n",
    "        means = []\n",
    "        alphas = []\n",
    "        boj = []\n",
    "        sample = x\n",
    "        for d in range(self.D):\n",
    "            h_i = torch.relu(ai)\n",
    "            if(d < self.protein_atoms):\n",
    "                ai = sample[:, d:d+1].mm(self.params[\"W\"][:,d:d+1].t()) + ai\n",
    "                continue\n",
    "            alpha = torch.sigmoid( h_i.mm(self.params[\"V\"][d:d+1,:].t() ) + self.params[\"b\"][d:d+1] )*2  + pow(10,-1) #  BxH *  Hx1  \n",
    "            mean = h_i.mm(self.params[\"V2\"][d:d+1,:].t() ) + self.params[\"b2\"][d:d+1]\n",
    "            means.append(mean)\n",
    "            alphas.append(alpha)\n",
    "            x1 = mean\n",
    "            boj.append(x1)\n",
    "            ai = x1.mm(self.params[\"W\"][:, d:d+1].t() ) + ai\n",
    "        boj = torch.cat(boj,1)\n",
    "        print(boj)\n",
    "        return boj"
   ]
  },
  {
   "cell_type": "code",
   "execution_count": 29,
   "metadata": {},
   "outputs": [],
   "source": [
    "def otherLoss(output,pred):\n",
    "    alpha = output[1, :,:]\n",
    "    mean = output[0, :, :]\n",
    "    print(mean.shape)\n",
    "    loss = torch.exp( -0.5 *  ( (pred[:,42*3:]- mean)/alpha)**2  )/(alpha*sqrt(2*3.14) ) +pow(10,-10)\n",
    "    print(\"Loss:\")\n",
    "    return -torch.log( loss ).sum(axis= 0).sum()/alpha.size()[0]"
   ]
  },
  {
   "cell_type": "code",
   "execution_count": 30,
   "metadata": {},
   "outputs": [],
   "source": [
    "def lossFunct(output,pred,ind):\n",
    "    alpha = output[1, :,4:]\n",
    "    mean = output[0, :, 4:]\n",
    "    loss = torch.exp( -0.5 *  ( (pred[:,4:]- mean)/alpha)**2  )/(alpha*sqrt(2*3.14) ) +pow(10,-10)\n",
    "    print(\"Loss:\")\n",
    "    return -torch.log( loss ).sum(axis= 0)[ind]/alpha.size()[0]"
   ]
  },
  {
   "cell_type": "code",
   "execution_count": 36,
   "metadata": {},
   "outputs": [],
   "source": [
    "batch_size = 256"
   ]
  },
  {
   "cell_type": "code",
   "execution_count": 37,
   "metadata": {},
   "outputs": [],
   "source": [
    "train_loader = torch.utils.data.DataLoader(trainingConfigs, batch_size=batch_size, shuffle=True)"
   ]
  },
  {
   "cell_type": "code",
   "execution_count": 38,
   "metadata": {},
   "outputs": [],
   "source": [
    "model = RNADE(42*3,trainingConfigs.shape[1]- 42*3).to(device)"
   ]
  },
  {
   "cell_type": "code",
   "execution_count": 39,
   "metadata": {},
   "outputs": [
    {
     "data": {
      "text/plain": [
       "RNADE(\n",
       "  (params): ParameterDict(\n",
       "      (V): Parameter containing: [torch.cuda.FloatTensor of size 10557x128 (GPU 0)]\n",
       "      (V2): Parameter containing: [torch.cuda.FloatTensor of size 10557x128 (GPU 0)]\n",
       "      (W): Parameter containing: [torch.cuda.FloatTensor of size 128x10557 (GPU 0)]\n",
       "      (b): Parameter containing: [torch.cuda.FloatTensor of size 10557 (GPU 0)]\n",
       "      (b2): Parameter containing: [torch.cuda.FloatTensor of size 10557 (GPU 0)]\n",
       "      (c): Parameter containing: [torch.cuda.FloatTensor of size 1x128 (GPU 0)]\n",
       "  )\n",
       ")"
      ]
     },
     "execution_count": 39,
     "metadata": {},
     "output_type": "execute_result"
    }
   ],
   "source": [
    "model.load_state_dict(torch.load(\"/scratch/mohit.kumargupta/ProteinRNADE2\"))\n",
    "model.eval()"
   ]
  },
  {
   "cell_type": "code",
   "execution_count": 40,
   "metadata": {},
   "outputs": [],
   "source": [
    "optimizer = optim.SGD(model.parameters(), lr=0.001, momentum=0.9)"
   ]
  },
  {
   "cell_type": "code",
   "execution_count": null,
   "metadata": {
    "scrolled": true
   },
   "outputs": [
    {
     "name": "stdout",
     "output_type": "stream",
     "text": [
      "0\n",
      "tensor([0.1322, 0.2815, 0.1611,  ..., 0.7027, 0.5643, 0.8237], device='cuda:0',\n",
      "       grad_fn=<SelectBackward>)\n",
      "torch.Size([256, 10431])\n",
      "Loss:\n",
      "15978.3349609375\n",
      "tensor([1.0348, 1.1023, 1.0588,  ..., 0.7030, 0.5645, 0.8240], device='cuda:0',\n",
      "       grad_fn=<SelectBackward>)\n",
      "torch.Size([256, 10431])\n",
      "Loss:\n",
      "14688.08203125\n",
      "tensor([1.0363, 1.1047, 1.0597,  ..., 0.7035, 0.5647, 0.8244], device='cuda:0',\n",
      "       grad_fn=<SelectBackward>)\n",
      "torch.Size([256, 10431])\n",
      "Loss:\n",
      "14709.9404296875\n",
      "tensor([1.0379, 1.1072, 1.0608,  ..., 0.7043, 0.5651, 0.8251], device='cuda:0',\n",
      "       grad_fn=<SelectBackward>)\n",
      "torch.Size([256, 10431])\n",
      "Loss:\n",
      "14642.662109375\n",
      "tensor([1.0395, 1.1098, 1.0621,  ..., 0.7054, 0.5656, 0.8259], device='cuda:0',\n",
      "       grad_fn=<SelectBackward>)\n",
      "torch.Size([256, 10431])\n",
      "Loss:\n",
      "14630.6162109375\n",
      "tensor([1.0410, 1.1125, 1.0636,  ..., 0.7066, 0.5662, 0.8269], device='cuda:0',\n",
      "       grad_fn=<SelectBackward>)\n",
      "torch.Size([256, 10431])\n",
      "Loss:\n",
      "14605.955078125\n",
      "tensor([1.0426, 1.1152, 1.0653,  ..., 0.7079, 0.5668, 0.8279], device='cuda:0',\n",
      "       grad_fn=<SelectBackward>)\n",
      "torch.Size([256, 10431])\n",
      "Loss:\n",
      "14709.033203125\n",
      "tensor([1.0442, 1.1180, 1.0671,  ..., 0.7094, 0.5676, 0.8291], device='cuda:0',\n",
      "       grad_fn=<SelectBackward>)\n",
      "torch.Size([256, 10431])\n",
      "Loss:\n",
      "14606.955078125\n",
      "tensor([1.0458, 1.1208, 1.0690,  ..., 0.7110, 0.5684, 0.8305], device='cuda:0',\n",
      "       grad_fn=<SelectBackward>)\n",
      "torch.Size([256, 10431])\n",
      "Loss:\n"
     ]
    }
   ],
   "source": [
    "for epoch in range(500):\n",
    "    print(epoch)\n",
    "    running_loss = 0.0\n",
    "    for i, data in enumerate(train_loader, 0):\n",
    "            #print(data)\n",
    "            optimizer.zero_grad()\n",
    "            x_hat = model(data)\n",
    "            print(x_hat[1][10])\n",
    "            loss = otherLoss(x_hat, data)\n",
    "            loss.backward()\n",
    "            optimizer.step()\n",
    "            print(loss.item())\n",
    "            # print statistics\n",
    "            running_loss += loss.item()\n",
    "    torch.save(model.state_dict(), '/scratch/mohit.kumargupta/ProteinRNADE3')\n",
    "    print(\"Running Loss is \" + str(running_loss) )"
   ]
  },
  {
   "cell_type": "code",
   "execution_count": null,
   "metadata": {},
   "outputs": [],
   "source": []
  }
 ],
 "metadata": {
  "kernelspec": {
   "display_name": "Python 3",
   "language": "python",
   "name": "python3"
  },
  "language_info": {
   "codemirror_mode": {
    "name": "ipython",
    "version": 3
   },
   "file_extension": ".py",
   "mimetype": "text/x-python",
   "name": "python",
   "nbconvert_exporter": "python",
   "pygments_lexer": "ipython3",
   "version": "3.6.8"
  }
 },
 "nbformat": 4,
 "nbformat_minor": 2
}
