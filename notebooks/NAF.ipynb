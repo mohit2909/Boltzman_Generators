{
 "cells": [
  {
   "cell_type": "code",
   "execution_count": 1,
   "metadata": {},
   "outputs": [],
   "source": [
    "import torch\n",
    "import torch.nn as nn\n",
    "from pathlib import Path\n",
    "import torchvision.transforms as transforms\n",
    "import torch.optim as optim\n",
    "import numpy as np\n",
    "from math import *\n",
    "import torch.distributions as tdist\n",
    "from random import gauss,seed"
   ]
  },
  {
   "cell_type": "code",
   "execution_count": 2,
   "metadata": {},
   "outputs": [],
   "source": [
    "import sys \n",
    "sys.path.insert(0,'/home/mohit/Downloads/code_notebooks/deep_boltzmann')\n",
    "import numpy as np\n",
    "import matplotlib.pyplot as plt\n",
    "from matplotlib import rcParams"
   ]
  },
  {
   "cell_type": "code",
   "execution_count": 3,
   "metadata": {},
   "outputs": [],
   "source": [
    "from IPython.display import SVG"
   ]
  },
  {
   "cell_type": "code",
   "execution_count": 4,
   "metadata": {},
   "outputs": [
    {
     "name": "stderr",
     "output_type": "stream",
     "text": [
      "Using TensorFlow backend.\n"
     ]
    }
   ],
   "source": [
    "from deep_boltzmann.models import ParticleDimer\n",
    "md = ParticleDimer()"
   ]
  },
  {
   "cell_type": "code",
   "execution_count": null,
   "metadata": {},
   "outputs": [],
   "source": [
    "class RNAF(nn.Module):\n",
    "    def __init__(self,dimer_atoms,solvent_atoms):\n",
    "        super(RNAF, self).__init__()\n",
    "        self.dimer_atoms = dimer_atoms\n",
    "        self.solvent_atoms = solvent_atoms\n",
    "        self.total_dims = self.dimer_atoms + self.solvent_atoms\n",
    "        self.D = self.total_dims\n",
    "        self.H = 64\n",
    "        self.params = nn.ParameterDict({\n",
    "            \"V\" : nn.Parameter(torch.randn(self.D, self.H)),\n",
    "            \"b\" : nn.Parameter(torch.zeros(self.D)),\n",
    "            \"V2\" : nn.Parameter(torch.randn(self.D, self.H)),\n",
    "            \"b2\" : nn.Parameter(torch.zeros(self.D)),\n",
    "            \"W\" : nn.Parameter(torch.randn(self.H, self.D)),\n",
    "            \"c\" : nn.Parameter(torch.zeros(1, self.H)),\n",
    "        })\n",
    "        nn.init.xavier_normal_(self.params[\"V\"])\n",
    "        nn.init.xavier_normal_(self.params[\"V2\"])\n",
    "        nn.init.xavier_normal_(self.params[\"W\"])\n",
    "        \n",
    "    def forward(self, x):\n",
    "        ai = self.params[\"c\"].expand(x.size(0), -1)   #B x H\n",
    "        a1=[]\n",
    "        m1 = []\n",
    "        z = []\n",
    "        for d in range(self.D):\n",
    "            h_i = torch.relu(ai) #B x H\n",
    "            #alpha1 = torch.sigmoid( h_i.mm(self.params[\"V\"][d:d+1,:].t() ) + self.params[\"b\"][d:d+1] )*2  + pow(10,-1) + 0.5#  BxH *  Hx1  \n",
    "            std1 = torch.sigmoid( h_i.mm(self.params[\"V\"][d:d+1,:].t() ) + self.params[\"b\"][d:d+1] ) * 1.60 - 0.7\n",
    "            #std1 = torch.exp(std1)\n",
    "            mean1 = h_i.mm(self.params[\"V2\"][d:d+1,:].t() ) + self.params[\"b2\"][d:d+1]\n",
    "            a1.append(std1)\n",
    "            m1.append(mean1)\n",
    "            z.append(torch.randn(x.size(0)))\n",
    "            ai = x[:, d:d+1].mm(self.params[\"W\"][:, d:d+1].t() ) + ai #Bx1 * 1xH =  BxH\n",
    "        \n",
    "        a1 = torch.cat(a1,1)\n",
    "        m1 = torch.cat(m1,1)\n",
    "        z = torch.cat(z,1)\n",
    "        final_prob = torch.stack([m1,a1,z])       \n",
    "     \n",
    "        return final_prob\n",
    "    \n",
    "    def sample(self,x):\n",
    "        ai = self.params[\"c\"].expand(x.size(0), -1)\n",
    "        means = []\n",
    "        alphas = []\n",
    "        boj = []\n",
    "        z = []\n",
    "        sample = x\n",
    "        for d in range(self.D):\n",
    "            h_i = torch.relu(ai)\n",
    "            if(d<4):\n",
    "                ai = sample[:, d:d+1].mm(self.params[\"W\"][:,d:d+1].t()) + ai\n",
    "                continue\n",
    "            alpha = torch.sigmoid( h_i.mm(self.params[\"V\"][d:d+1,:].t() ) + self.params[\"b\"][d:d+1] )*2  + pow(10,-1) + 0.5#  BxH *  Hx1  \n",
    "            mean = h_i.mm(self.params[\"V2\"][d:d+1,:].t() ) + self.params[\"b2\"][d:d+1]\n",
    "            means.append(mean)\n",
    "            alphas.append(alpha)\n",
    "            z.append(torch.randn(x.size(0)))\n",
    "            x1 = mean\n",
    "            boj.append(x1)\n",
    "            ai = x1.mm(self.params[\"W\"][:, d:d+1].t() ) + ai\n",
    "        alphas = torch.cat(alphas,1)\n",
    "        means = torch.cat(means,1)\n",
    "        z = torch.cat(z,1)\n",
    "        boj = torch.cat(boj,1)\n",
    "        print(boj)\n",
    "        return boj"
   ]
  },
  {
   "cell_type": "code",
   "execution_count": null,
   "metadata": {},
   "outputs": [],
   "source": [
    "def KlDivergence(output, pred):"
   ]
  }
 ],
 "metadata": {
  "kernelspec": {
   "display_name": "Python 3",
   "language": "python",
   "name": "python3"
  },
  "language_info": {
   "codemirror_mode": {
    "name": "ipython",
    "version": 3
   },
   "file_extension": ".py",
   "mimetype": "text/x-python",
   "name": "python",
   "nbconvert_exporter": "python",
   "pygments_lexer": "ipython3",
   "version": "3.7.3"
  }
 },
 "nbformat": 4,
 "nbformat_minor": 2
}
