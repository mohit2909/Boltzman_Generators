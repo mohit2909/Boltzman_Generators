{
 "cells": [
  {
   "cell_type": "code",
   "execution_count": 1,
   "metadata": {},
   "outputs": [],
   "source": [
    "import torch\n",
    "import torch.nn as nn\n",
    "from pathlib import Path\n",
    "import torchvision.transforms as transforms\n",
    "import torch.optim as optim\n",
    "import numpy as np\n",
    "from math import *\n",
    "import torch.distributions as tdist\n",
    "from random import gauss,seed"
   ]
  },
  {
   "cell_type": "code",
   "execution_count": 20,
   "metadata": {},
   "outputs": [],
   "source": [
    "import sys \n",
    "sys.path.insert(0,'/home/mohit.kumargupta/deep_boltzmann')\n",
    "import numpy as np\n",
    "import matplotlib.pyplot as plt\n",
    "from matplotlib import rcParams\n",
    "from IPython.display import SVG"
   ]
  },
  {
   "cell_type": "code",
   "execution_count": 21,
   "metadata": {},
   "outputs": [
    {
     "name": "stderr",
     "output_type": "stream",
     "text": [
      "/home/mohit.kumargupta/.local/lib/python3.6/site-packages/tensorflow/python/framework/dtypes.py:516: FutureWarning: Passing (type, 1) or '1type' as a synonym of type is deprecated; in a future version of numpy, it will be understood as (type, (1,)) / '(1,)type'.\n",
      "  _np_qint8 = np.dtype([(\"qint8\", np.int8, 1)])\n",
      "/home/mohit.kumargupta/.local/lib/python3.6/site-packages/tensorflow/python/framework/dtypes.py:517: FutureWarning: Passing (type, 1) or '1type' as a synonym of type is deprecated; in a future version of numpy, it will be understood as (type, (1,)) / '(1,)type'.\n",
      "  _np_quint8 = np.dtype([(\"quint8\", np.uint8, 1)])\n",
      "/home/mohit.kumargupta/.local/lib/python3.6/site-packages/tensorflow/python/framework/dtypes.py:518: FutureWarning: Passing (type, 1) or '1type' as a synonym of type is deprecated; in a future version of numpy, it will be understood as (type, (1,)) / '(1,)type'.\n",
      "  _np_qint16 = np.dtype([(\"qint16\", np.int16, 1)])\n",
      "/home/mohit.kumargupta/.local/lib/python3.6/site-packages/tensorflow/python/framework/dtypes.py:519: FutureWarning: Passing (type, 1) or '1type' as a synonym of type is deprecated; in a future version of numpy, it will be understood as (type, (1,)) / '(1,)type'.\n",
      "  _np_quint16 = np.dtype([(\"quint16\", np.uint16, 1)])\n",
      "/home/mohit.kumargupta/.local/lib/python3.6/site-packages/tensorflow/python/framework/dtypes.py:520: FutureWarning: Passing (type, 1) or '1type' as a synonym of type is deprecated; in a future version of numpy, it will be understood as (type, (1,)) / '(1,)type'.\n",
      "  _np_qint32 = np.dtype([(\"qint32\", np.int32, 1)])\n",
      "/home/mohit.kumargupta/.local/lib/python3.6/site-packages/tensorflow/python/framework/dtypes.py:525: FutureWarning: Passing (type, 1) or '1type' as a synonym of type is deprecated; in a future version of numpy, it will be understood as (type, (1,)) / '(1,)type'.\n",
      "  np_resource = np.dtype([(\"resource\", np.ubyte, 1)])\n",
      "/home/mohit.kumargupta/.local/lib/python3.6/site-packages/tensorboard/compat/tensorflow_stub/dtypes.py:541: FutureWarning: Passing (type, 1) or '1type' as a synonym of type is deprecated; in a future version of numpy, it will be understood as (type, (1,)) / '(1,)type'.\n",
      "  _np_qint8 = np.dtype([(\"qint8\", np.int8, 1)])\n",
      "/home/mohit.kumargupta/.local/lib/python3.6/site-packages/tensorboard/compat/tensorflow_stub/dtypes.py:542: FutureWarning: Passing (type, 1) or '1type' as a synonym of type is deprecated; in a future version of numpy, it will be understood as (type, (1,)) / '(1,)type'.\n",
      "  _np_quint8 = np.dtype([(\"quint8\", np.uint8, 1)])\n",
      "/home/mohit.kumargupta/.local/lib/python3.6/site-packages/tensorboard/compat/tensorflow_stub/dtypes.py:543: FutureWarning: Passing (type, 1) or '1type' as a synonym of type is deprecated; in a future version of numpy, it will be understood as (type, (1,)) / '(1,)type'.\n",
      "  _np_qint16 = np.dtype([(\"qint16\", np.int16, 1)])\n",
      "/home/mohit.kumargupta/.local/lib/python3.6/site-packages/tensorboard/compat/tensorflow_stub/dtypes.py:544: FutureWarning: Passing (type, 1) or '1type' as a synonym of type is deprecated; in a future version of numpy, it will be understood as (type, (1,)) / '(1,)type'.\n",
      "  _np_quint16 = np.dtype([(\"quint16\", np.uint16, 1)])\n",
      "/home/mohit.kumargupta/.local/lib/python3.6/site-packages/tensorboard/compat/tensorflow_stub/dtypes.py:545: FutureWarning: Passing (type, 1) or '1type' as a synonym of type is deprecated; in a future version of numpy, it will be understood as (type, (1,)) / '(1,)type'.\n",
      "  _np_qint32 = np.dtype([(\"qint32\", np.int32, 1)])\n",
      "/home/mohit.kumargupta/.local/lib/python3.6/site-packages/tensorboard/compat/tensorflow_stub/dtypes.py:550: FutureWarning: Passing (type, 1) or '1type' as a synonym of type is deprecated; in a future version of numpy, it will be understood as (type, (1,)) / '(1,)type'.\n",
      "  np_resource = np.dtype([(\"resource\", np.ubyte, 1)])\n",
      "Using TensorFlow backend.\n"
     ]
    }
   ],
   "source": [
    "from deep_boltzmann.models import ParticleDimer\n",
    "md = ParticleDimer()"
   ]
  },
  {
   "cell_type": "code",
   "execution_count": 4,
   "metadata": {},
   "outputs": [],
   "source": [
    "trajdict = np.load('output.npz')\n",
    "import ast\n",
    "#params = ast.literal_eval(str(trajdict['params']))\n",
    "traj_closed_train = trajdict['traj_closed_train_hungarian']\n",
    "traj_open_train = trajdict['traj_open_train_hungarian']\n",
    "traj_closed_test = trajdict['traj_closed_test_hungarian']\n",
    "traj_open_test = trajdict['traj_open_test_hungarian']\n",
    "x = np.vstack([traj_closed_train, traj_open_train])\n",
    "xval = np.vstack([traj_closed_test, traj_open_test])"
   ]
  },
  {
   "cell_type": "code",
   "execution_count": 5,
   "metadata": {},
   "outputs": [],
   "source": [
    "def thresholdFunction(output, threshold):\n",
    "    total = 0 \n",
    "    for eachOutput in output:\n",
    "        if(eachOutput>threshold):\n",
    "            total += 1\n",
    "    return total"
   ]
  },
  {
   "cell_type": "code",
   "execution_count": 6,
   "metadata": {},
   "outputs": [],
   "source": [
    "def samplingOfMixture(Model,loader):\n",
    "    sampled = None\n",
    "    t = None\n",
    "    real = None\n",
    "    for i, data in enumerate(loader, 0):\n",
    "        data= data.type(torch.FloatTensor)\n",
    "        if(t is not None):\n",
    "            t = torch.cat((t,data[:,:4]),0)\n",
    "        else:\n",
    "            t = data[:,:4] \n",
    "        if(sampled is not None):\n",
    "            sampled = torch.cat((sampled, Model.sample(data[:,:4]) ),0)\n",
    "        else:\n",
    "            sampled = Model.sample(data[:,:4])\n",
    "        if(real is not None):\n",
    "            real = torch.cat( (real, data), 0)\n",
    "        else:\n",
    "            real = data\n",
    "        break\n",
    "    FullConfiguration = torch.cat((t,sampled), 1)\n",
    "    return FullConfiguration, real"
   ]
  },
  {
   "cell_type": "code",
   "execution_count": 7,
   "metadata": {},
   "outputs": [],
   "source": [
    "class RNADE2(nn.Module):\n",
    "    def __init__(self,dimer_atoms,solvent_atoms):\n",
    "        super(RNADE2, self).__init__()\n",
    "        self.dimer_atoms = dimer_atoms\n",
    "        self.solvent_atoms = solvent_atoms\n",
    "        self.D = self.dimer_atoms + self.solvent_atoms\n",
    "        self.H = 16\n",
    "        self.K = 3\n",
    "        self.params = nn.ParameterDict({\n",
    "            \"V\" : nn.Parameter(torch.randn(self.D, self.H)),\n",
    "            \"b\" : nn.Parameter(torch.zeros(self.D)),\n",
    "            \"V2\" : nn.Parameter(torch.randn(self.D, self.H)),\n",
    "            \"b2\" : nn.Parameter(torch.zeros(self.D)),\n",
    "            \"Vmean\" : nn.Parameter(torch.randn(self.D,self.H, self.K)),\n",
    "            \"Valpha\" : nn.Parameter(torch.randn(self.D,self.H, self.K)),\n",
    "            \"Vstd\" : nn.Parameter(torch.randn(self.D,self.H, self.K)),\n",
    "            \"bmean\" : nn.Parameter(torch.zeros(self.D,self.K)),\n",
    "            \"balpha\" : nn.Parameter(torch.zeros(self.D,self.K)),\n",
    "            \"bstd\" : nn.Parameter(torch.zeros(self.D,self.K)),\n",
    "            \"W\" : nn.Parameter(torch.randn(self.H, self.D)),\n",
    "            \"c\" : nn.Parameter(torch.zeros(1, self.H)),\n",
    "        })\n",
    "        nn.init.xavier_normal_(self.params[\"V\"])\n",
    "        nn.init.xavier_normal_(self.params[\"V2\"])\n",
    "        nn.init.xavier_normal_(self.params[\"W\"])\n",
    "        nn.init.xavier_normal_(self.params[\"Vmean\"])\n",
    "        nn.init.xavier_normal_(self.params[\"Valpha\"])\n",
    "        nn.init.xavier_normal_(self.params[\"Vstd\"])\n",
    "        \n",
    "    def forward(self, x):\n",
    "        ai = self.params[\"c\"].expand(x.size(0), -1)   #B x H\n",
    "        a= None\n",
    "        m = None\n",
    "        s = None\n",
    "        for d in range(self.D):\n",
    "            if(d<4):\n",
    "                ai = x[:, d:d+1].mm(self.params[\"W\"][:,d:d+1].t()) + ai\n",
    "                continue\n",
    "            h_i = torch.relu(ai) #B x H\n",
    "            std = torch.sigmoid( ( h_i.mm(self.params[\"Vstd\"][d,:,] ) + self.params[\"bstd\"][d:d+1,:].expand(x.size(0), -1) ) )*2  + pow(10,-1) + 0.5#  BxH *  HxK = BxK  \n",
    "            mean = ( h_i.mm(self.params[\"Vmean\"][d,:,] ) + self.params[\"bmean\"][d:d+1,:].expand(x.size(0), -1) ) #B xH  * HxK  = B x K + BxK\n",
    "            alpha = torch.softmax( (h_i.mm(self.params[\"Valpha\"][d,:,] ) +self.params[\"balpha\"][d:d+1,:].expand(x.size(0), -1) ), dim = 1 )\n",
    "            print(alpha.size())\n",
    "            if(a is not None):\n",
    "                a = torch.cat((a, alpha.unsqueeze(dim = 0)),0)\n",
    "                m = torch.cat((m, mean.unsqueeze(dim = 0)) , 0)\n",
    "                s = torch.cat((s, std.unsqueeze(dim = 0)) , 0)\n",
    "            else:\n",
    "                a = alpha.unsqueeze(dim=0)\n",
    "                m = mean.unsqueeze(dim=0)\n",
    "                s = std.unsqueeze(dim=0)\n",
    "            ai = x[:, d:d+1].mm(self.params[\"W\"][:, d:d+1].t() ) + ai #Bx1 * 1xH =  BxH\n",
    "        \n",
    "        m = m.permute(1,0,2 )\n",
    "        a = a.permute(1,0,2)\n",
    "        s = s.permute(1,0,2)\n",
    "        return [m,s,a]\n",
    "    \n",
    "    def mixtureSample(self, pm):\n",
    "        alpha = pm[0]\n",
    "        mean = pm[1]\n",
    "        ans = []\n",
    "        std = pm[2]\n",
    "        for i in range(alpha.size()[0]):\n",
    "            while(1):\n",
    "                r = np.random.rand()*6  -3\n",
    "                prob = 0.0\n",
    "                for j in range(alpha.size()[1] ):\n",
    "                    prob = prob + ( alpha[i,j] * torch.exp(-0.5* ((r-mean[i,j])/std[i,j])**2) / ( std[i,j]  * sqrt(2*3.14)) ).detach().numpy()\n",
    "                if(prob>= np.random.rand()):\n",
    "                    ans.append(r)\n",
    "                    break\n",
    "        return torch.from_numpy( np.array(ans)).type(torch.DoubleTensor);\n",
    "            \n",
    "    def sample(self,x):\n",
    "        ai = self.params[\"c\"].expand(x.size(0), -1)   #B x H\n",
    "        a= None\n",
    "        m = None\n",
    "        s = None\n",
    "        boj = []\n",
    "        for d in range(self.D):\n",
    "            if(d<4):\n",
    "                #print(x[:,d:d+1].size(), self.params[\"W\"][:,d:d+1].t().size(),x[:,d:d+1].dtype)\n",
    "                ai = x[:, d:d+1].mm(self.params[\"W\"][:,d:d+1].t()) + ai\n",
    "                continue\n",
    "            h_i = torch.relu(ai) #B x H\n",
    "            std = torch.sigmoid( ( h_i.mm(self.params[\"Vstd\"][d,:,] ) + self.params[\"bstd\"][d:d+1,:].expand(x.size(0), -1) ) )*2  + pow(10,-1) + 0.5#  BxH *  HxK = BxK  \n",
    "            mean = ( h_i.mm(self.params[\"Vmean\"][d,:,] ) + self.params[\"bmean\"][d:d+1,:].expand(x.size(0), -1) ) #B xH  * HxK  = B x K + BxK\n",
    "            alpha = torch.softmax( (h_i.mm(self.params[\"Valpha\"][d,:,] ) +self.params[\"balpha\"][d:d+1,:].expand(x.size(0), -1) ), dim = 1 )\n",
    "            ind = torch.argmax(alpha,dim=1)\n",
    "            samples = mean[:,0:1]\n",
    "          \n",
    "            '''\n",
    "            samples = self.mixtureSample([alpha,mean,std]).unsqueeze(dim=0).t()\n",
    "            samples = samples.type(torch.FloatTensor)\n",
    "            '''\n",
    "            boj.append(samples)\n",
    "            ai = samples.mm(self.params[\"W\"][:, d:d+1].t() ) + ai\n",
    "            \n",
    "        boj = torch.cat(boj,1)\n",
    "        return boj"
   ]
  },
  {
   "cell_type": "code",
   "execution_count": 11,
   "metadata": {},
   "outputs": [],
   "source": [
    "#RNADE\n",
    "class RNADE(nn.Module):\n",
    "    def __init__(self,dimer_atoms,solvent_atoms):\n",
    "        super(RNADE, self).__init__()\n",
    "        self.dimer_atoms = dimer_atoms\n",
    "        self.solvent_atoms = solvent_atoms\n",
    "        self.total_dims = self.dimer_atoms + self.solvent_atoms\n",
    "        self.D = self.total_dims\n",
    "        self.H = 64\n",
    "        self.params = nn.ParameterDict({\n",
    "            \"V\" : nn.Parameter(torch.randn(self.D, self.H)),\n",
    "            \"b\" : nn.Parameter(torch.zeros(self.D)),\n",
    "            \"V2\" : nn.Parameter(torch.randn(self.D, self.H)),\n",
    "            \"b2\" : nn.Parameter(torch.zeros(self.D)),\n",
    "            \"W\" : nn.Parameter(torch.randn(self.H, self.D)),\n",
    "            \"c\" : nn.Parameter(torch.zeros(1, self.H)),\n",
    "        })\n",
    "        nn.init.xavier_normal_(self.params[\"V\"])\n",
    "        nn.init.xavier_normal_(self.params[\"V2\"])\n",
    "        nn.init.xavier_normal_(self.params[\"W\"])\n",
    "        \n",
    "    def forward(self, x):\n",
    "        ai = self.params[\"c\"].expand(x.size(0), -1)   #B x H\n",
    "        a1=[]\n",
    "        m1 = []\n",
    "        for d in range(self.D):\n",
    "            h_i = torch.relu(ai) #B x H\n",
    "            alpha1 = torch.sigmoid( h_i.mm(self.params[\"V\"][d:d+1,:].t() ) + self.params[\"b\"][d:d+1] )*2  + pow(10,-1) + 0.5#  BxH *  Hx1  \n",
    "            mean1 = h_i.mm(self.params[\"V2\"][d:d+1,:].t() ) + self.params[\"b2\"][d:d+1]\n",
    "            a1.append(alpha1)\n",
    "            m1.append(mean1)\n",
    "            ai = x[:, d:d+1].mm(self.params[\"W\"][:, d:d+1].t() ) + ai #Bx1 * 1xH =  BxH\n",
    "        \n",
    "        a1 = torch.cat(a1,1)\n",
    "        m1 = torch.cat(m1,1)\n",
    "        final_prob = torch.stack([m1,a1])       \n",
    "     \n",
    "        return final_prob\n",
    "\n",
    "    def sample(self, x):\n",
    "        ai = self.params[\"c\"].expand(x.size(0), -1)\n",
    "        means = []\n",
    "        alphas = []\n",
    "        boj = []\n",
    "        sample = x\n",
    "        for d in range(self.D):\n",
    "            h_i = torch.relu(ai)\n",
    "            if(d<4):\n",
    "                ai = sample[:, d:d+1].mm(self.params[\"W\"][:,d:d+1].t()) + ai\n",
    "                continue\n",
    "            alpha = torch.sigmoid( h_i.mm(self.params[\"V\"][d:d+1,:].t() ) + self.params[\"b\"][d:d+1] )*2  + pow(10,-1) + 0.5#  BxH *  Hx1  \n",
    "            mean = h_i.mm(self.params[\"V2\"][d:d+1,:].t() ) + self.params[\"b2\"][d:d+1]\n",
    "            means.append(mean)\n",
    "            alphas.append(alpha)\n",
    "            x1 = mean\n",
    "            boj.append(x1)\n",
    "            ai = x1.mm(self.params[\"W\"][:, d:d+1].t() ) + ai\n",
    "        boj = torch.cat(boj,1)\n",
    "        print(boj)\n",
    "        return boj"
   ]
  },
  {
   "cell_type": "code",
   "execution_count": 26,
   "metadata": {},
   "outputs": [],
   "source": [
    "PATH = \"RNADECombine2\"\n",
    "device = \"cpu\""
   ]
  },
  {
   "cell_type": "code",
   "execution_count": 27,
   "metadata": {},
   "outputs": [
    {
     "data": {
      "text/plain": [
       "RNADE(\n",
       "  (params): ParameterDict(\n",
       "      (V): Parameter containing: [torch.FloatTensor of size 76x64]\n",
       "      (V2): Parameter containing: [torch.FloatTensor of size 76x64]\n",
       "      (W): Parameter containing: [torch.FloatTensor of size 64x76]\n",
       "      (b): Parameter containing: [torch.FloatTensor of size 76]\n",
       "      (b2): Parameter containing: [torch.FloatTensor of size 76]\n",
       "      (c): Parameter containing: [torch.FloatTensor of size 1x64]\n",
       "  )\n",
       ")"
      ]
     },
     "execution_count": 27,
     "metadata": {},
     "output_type": "execute_result"
    }
   ],
   "source": [
    "model = RNADE(4,72).to(device)\n",
    "model.load_state_dict(torch.load(PATH))\n",
    "model.eval()"
   ]
  },
  {
   "cell_type": "code",
   "execution_count": 28,
   "metadata": {},
   "outputs": [],
   "source": [
    "def generateDenser(dist):\n",
    "    nSamples =100\n",
    "    pi = 3.14\n",
    "    x1 =  np.random.rand(nSamples) *0.2 -dist/2\n",
    "    y1 = np.random.rand(nSamples) * 0.2 -0.1\n",
    "    angle = np.random.rand(nSamples) * np.pi/6 - np.pi/12\n",
    "    x2= x1 + dist *np.cos(angle)\n",
    "    y2 = y1 + dist*np.sin(angle)\n",
    "    return np.transpose( np.array([x1,y1,x2,y2]) )"
   ]
  },
  {
   "cell_type": "code",
   "execution_count": 35,
   "metadata": {},
   "outputs": [],
   "source": [
    "data = generateDenser(2.0)"
   ]
  },
  {
   "cell_type": "code",
   "execution_count": 36,
   "metadata": {},
   "outputs": [],
   "source": [
    "batch_size = 200"
   ]
  },
  {
   "cell_type": "code",
   "execution_count": 37,
   "metadata": {},
   "outputs": [],
   "source": [
    "train_loader = torch.utils.data.DataLoader(data, batch_size=batch_size, shuffle=False)"
   ]
  },
  {
   "cell_type": "code",
   "execution_count": 38,
   "metadata": {},
   "outputs": [
    {
     "name": "stdout",
     "output_type": "stream",
     "text": [
      "tensor([[-3.0212, -2.9132, -2.9084,  ...,  1.6394,  2.9890,  2.8589],\n",
      "        [-2.9738, -2.9668, -2.9517,  ...,  1.5559,  2.9876,  2.8226],\n",
      "        [-2.9878, -2.9329, -2.9634,  ...,  1.5518,  2.9727,  2.8308],\n",
      "        ...,\n",
      "        [-3.0167, -2.9138, -2.9286,  ...,  1.5626,  2.9785,  2.8291],\n",
      "        [-2.9703, -2.9591, -2.9919,  ...,  1.5604,  2.9779,  2.8443],\n",
      "        [-2.9953, -2.9322, -2.8834,  ...,  1.8007,  2.9995,  2.9563]],\n",
      "       grad_fn=<CatBackward>)\n"
     ]
    }
   ],
   "source": [
    "[PredictedConfig, RealConfig] = samplingOfMixture(model,train_loader)"
   ]
  },
  {
   "cell_type": "code",
   "execution_count": 39,
   "metadata": {},
   "outputs": [],
   "source": [
    "PredictedConfigEnergy = md.energy(np.array(PredictedConfig.detach()))"
   ]
  },
  {
   "cell_type": "code",
   "execution_count": 40,
   "metadata": {},
   "outputs": [
    {
     "name": "stdout",
     "output_type": "stream",
     "text": [
      "[ 105.579216    167.81530762  161.68278503  325.61294556  569.4864502\n",
      "   88.18785095  791.27313232  115.21520233  131.02236938  270.94589233\n",
      "  972.13366699 1386.28186035   89.88457489  119.55769348  475.25689697\n",
      "  107.37480927  145.48027039  549.09680176  119.67451477  110.71121979\n",
      "  589.16845703  278.39855957  117.49777985  106.47904205   97.98345947\n",
      "  107.29229736  355.81219482  119.77720642   97.8862381   135.37207031\n",
      "  127.7903595   824.27697754  212.88253784  119.72207642  110.15677643\n",
      "  223.46299744  142.07939148   95.56497955   94.12478638  321.86602783\n",
      "  142.73780823  118.9316864   101.27015686   95.2988205   599.67169189\n",
      "  175.25646973  158.56977844  466.64193726  134.43295288  220.94299316\n",
      "  100.63288116  589.31170654  142.08114624  157.77360535  726.83050537\n",
      " 1017.53485107   93.86168671  245.93003845   82.94322205  293.04702759\n",
      "  342.91409302  189.97029114  477.00811768 1152.40466309  302.55474854\n",
      "   84.06032562   90.94303131  214.9733429   419.89831543  291.40945435\n",
      "  105.2793045    82.69129944  143.46261597  113.163414    160.17434692\n",
      "  832.62542725  137.96975708 1226.1697998   588.60180664 1284.19055176\n",
      "  104.71850586  101.74092102  115.57972717   79.05283356   95.97275543\n",
      "  459.73135376   90.64783478  374.36636353  763.86566162  240.07888794\n",
      "  118.73323059 1072.36645508  189.43479919   89.4289093   258.01416016\n",
      "  110.53852081  181.00177002  621.44146729  550.31066895  101.83577728]\n"
     ]
    }
   ],
   "source": [
    "print(PredictedConfigEnergy)"
   ]
  },
  {
   "cell_type": "code",
   "execution_count": 23,
   "metadata": {},
   "outputs": [],
   "source": [
    "bins = [30,40,50,60,70,80,90,100]"
   ]
  },
  {
   "cell_type": "code",
   "execution_count": 24,
   "metadata": {},
   "outputs": [
    {
     "data": {
      "text/plain": [
       "(array([0., 0., 0., 0., 0., 0., 0.]),\n",
       " array([ 30,  40,  50,  60,  70,  80,  90, 100]),\n",
       " <a list of 7 Patch objects>)"
      ]
     },
     "execution_count": 24,
     "metadata": {},
     "output_type": "execute_result"
    },
    {
     "data": {
      "image/png": "[encoded data removed]",
      "text/plain": [
       "<Figure size 432x288 with 1 Axes>"
      ]
     },
     "metadata": {
      "needs_background": "light"
     },
     "output_type": "display_data"
    }
   ],
   "source": [
    "plt.hist(np.array(PredictedConfigEnergy),bins = bins)"
   ]
  },
  {
   "cell_type": "code",
   "execution_count": 19,
   "metadata": {},
   "outputs": [
    {
     "data": {
      "text/plain": [
       "<a list of 1 Patch objects>"
      ]
     },
     "execution_count": 19,
     "metadata": {},
     "output_type": "execute_result"
    },
    {
     "data": {
      "image/png": "[encoded data removed]",
      "text/plain": [
       "<Figure size 432x288 with 1 Axes>"
      ]
     },
     "metadata": {
      "needs_background": "light"
     },
     "output_type": "display_data"
    }
   ],
   "source": [
    "plt.hist(np.array(PredictedConfigEnergy), 400, density = True, cumulative = True, histtype='step' )[-1]"
   ]
  },
  {
   "cell_type": "code",
   "execution_count": 20,
   "metadata": {
    "scrolled": false
   },
   "outputs": [
    {
     "name": "stdout",
     "output_type": "stream",
     "text": [
      "tensor([[-2.9676, -2.9656, -2.9646,  ...,  1.7038,  2.9354,  2.9122],\n",
      "        [-2.9533, -2.8513, -2.9539,  ...,  1.7373,  2.9832,  2.9082],\n",
      "        [-2.7142, -2.9454, -3.0423,  ...,  1.8540,  2.9869,  3.0307],\n",
      "        ...,\n",
      "        [-2.8613, -2.8450, -2.9717,  ...,  1.6680,  2.9951,  2.8442],\n",
      "        [-2.8469, -2.9546, -3.0214,  ...,  1.8418,  2.9922,  2.9949],\n",
      "        [-2.7217, -2.9328, -3.0407,  ...,  1.8323,  2.9902,  3.0079]],\n",
      "       grad_fn=<CatBackward>)\n",
      "0.95 0\n",
      "tensor([[-2.9740, -2.8593, -2.9150,  ...,  1.6717,  2.9647,  2.8515],\n",
      "        [-3.0092, -2.9058, -2.9551,  ...,  1.7008,  2.9451,  2.9094],\n",
      "        [-2.7902, -2.9831, -3.0296,  ...,  1.8419,  2.9666,  3.0013],\n",
      "        ...,\n",
      "        [-2.9233, -2.9681, -2.9993,  ...,  1.6939,  2.9353,  2.9010],\n",
      "        [-2.9453, -2.8638, -2.9515,  ...,  1.6683,  2.9784,  2.8444],\n",
      "        [-2.9712, -2.9105, -2.9320,  ...,  1.6647,  2.9623,  2.8547]],\n",
      "       grad_fn=<CatBackward>)\n",
      "1.05 0\n",
      "tensor([[-2.8708, -2.8768, -2.9911,  ...,  1.5271,  2.9986,  2.7076],\n",
      "        [-2.9782, -2.8775, -2.9012,  ...,  1.6744,  2.9566,  2.8551],\n",
      "        [-2.9551, -2.9295, -2.9391,  ...,  1.6275,  2.9740,  2.8128],\n",
      "        ...,\n",
      "        [-2.9912, -2.8977, -2.9166,  ...,  1.7065,  2.9551,  2.8855],\n",
      "        [-2.9337, -2.9525, -3.0106,  ...,  1.6923,  2.9479,  2.9046],\n",
      "        [-2.9476, -2.9298, -2.9870,  ...,  1.6888,  2.9498,  2.9014]],\n",
      "       grad_fn=<CatBackward>)\n",
      "1.1500000000000001 1\n",
      "tensor([[-2.9230, -2.8927, -2.9395,  ...,  1.7066,  2.9496,  2.8777],\n",
      "        [-2.9033, -2.9222, -2.9705,  ...,  1.6930,  2.9505,  2.8648],\n",
      "        [-2.8785, -2.9424, -3.0361,  ...,  1.6786,  2.9897,  2.8453],\n",
      "        ...,\n",
      "        [-2.9435, -2.9634, -3.0119,  ...,  1.6789,  2.9534,  2.8783],\n",
      "        [-2.9859, -2.8495, -2.8803,  ...,  1.6948,  2.9588,  2.8666],\n",
      "        [-2.9586, -2.8778, -2.9175,  ...,  1.7194,  2.9550,  2.8974]],\n",
      "       grad_fn=<CatBackward>)\n",
      "1.2500000000000002 2\n",
      "tensor([[-2.9680, -2.8863, -2.8999,  ...,  1.7388,  2.9631,  2.9027],\n",
      "        [-2.9493, -2.9299, -2.9229,  ...,  1.7285,  2.9562,  2.8848],\n",
      "        [-2.8901, -2.8861, -2.9747,  ...,  1.5778,  2.9900,  2.7510],\n",
      "        ...,\n",
      "        [-2.9849, -2.8585, -2.8783,  ...,  1.7298,  2.9560,  2.8873],\n",
      "        [-2.9721, -2.9020, -2.9396,  ...,  1.7097,  2.9626,  2.8878],\n",
      "        [-2.9491, -2.8734, -2.9480,  ...,  1.7083,  2.9542,  2.8703]],\n",
      "       grad_fn=<CatBackward>)\n",
      "1.3500000000000003 10\n",
      "tensor([[-2.9303, -2.9178, -2.9786,  ...,  1.7362,  2.9483,  2.8912],\n",
      "        [-2.9422, -2.9334, -2.9228,  ...,  1.7110,  2.9635,  2.8753],\n",
      "        [-2.9451, -2.9526, -3.0714,  ...,  1.5224,  2.9659,  2.7693],\n",
      "        ...,\n",
      "        [-2.9354, -2.9528, -3.0103,  ...,  1.7118,  2.9550,  2.8653],\n",
      "        [-2.9360, -2.9069, -2.9564,  ...,  1.6599,  2.9672,  2.8466],\n",
      "        [-2.9214, -2.9206, -2.9655,  ...,  1.7077,  2.9526,  2.8692]],\n",
      "       grad_fn=<CatBackward>)\n",
      "1.4500000000000004 7\n",
      "tensor([[-2.8942, -2.9168, -3.0067,  ...,  1.7652,  2.9440,  2.9161],\n",
      "        [-2.9123, -2.8771, -2.9768,  ...,  1.7442,  2.9559,  2.8909],\n",
      "        [-2.9791, -2.9085, -2.9053,  ...,  1.6977,  2.9744,  2.8651],\n",
      "        ...,\n",
      "        [-2.9773, -2.9301, -3.0375,  ...,  1.4877,  2.9840,  2.7376],\n",
      "        [-2.9187, -2.8892, -2.9778,  ...,  1.7478,  2.9539,  2.8952],\n",
      "        [-2.9116, -2.9160, -3.0149,  ...,  1.5253,  2.9738,  2.7576]],\n",
      "       grad_fn=<CatBackward>)\n",
      "1.5500000000000005 1\n",
      "tensor([[-2.9672, -2.9285, -2.9362,  ...,  1.5879,  2.9796,  2.7988],\n",
      "        [-3.0381, -2.8937, -3.0476,  ...,  1.5305,  3.0042,  2.7618],\n",
      "        [-2.9762, -2.8845, -2.9617,  ...,  1.7660,  2.9588,  2.9170],\n",
      "        ...,\n",
      "        [-3.0611, -2.8677, -2.9155,  ...,  1.7526,  2.9678,  2.9065],\n",
      "        [-2.9702, -2.8975, -3.0072,  ...,  1.5010,  2.9787,  2.7564],\n",
      "        [-2.9694, -2.8787, -2.9770,  ...,  1.5488,  2.9750,  2.7947]],\n",
      "       grad_fn=<CatBackward>)\n",
      "1.6500000000000006 1\n",
      "tensor([[-2.9749, -2.9666, -3.0594,  ...,  1.5333,  2.9953,  2.7494],\n",
      "        [-2.9909, -2.8881, -2.9519,  ...,  1.6044,  2.9808,  2.8236],\n",
      "        [-2.9924, -2.9075, -2.9349,  ...,  1.5639,  2.9825,  2.7866],\n",
      "        ...,\n",
      "        [-2.9584, -2.9202, -3.0036,  ...,  1.7764,  2.9665,  2.9304],\n",
      "        [-3.0124, -2.9518, -2.9585,  ...,  1.7274,  2.9703,  2.8832],\n",
      "        [-2.9713, -2.8882, -3.0104,  ...,  1.5182,  2.9519,  2.7822]],\n",
      "       grad_fn=<CatBackward>)\n",
      "1.7500000000000007 9\n",
      "tensor([[-2.9151, -2.9818, -3.0779,  ...,  1.7852,  2.9556,  2.9374],\n",
      "        [-3.0589, -2.8914, -2.9175,  ...,  1.7261,  2.9782,  2.8913],\n",
      "        [-3.0285, -2.8719, -2.9073,  ...,  1.6954,  2.9842,  2.8744],\n",
      "        ...,\n",
      "        [-3.0272, -2.8875, -2.9030,  ...,  1.6637,  2.9842,  2.8538],\n",
      "        [-2.9015, -3.0294, -3.0642,  ...,  1.7769,  2.9549,  2.9266],\n",
      "        [-3.0340, -2.9757, -2.9567,  ...,  1.7636,  2.9642,  2.9141]],\n",
      "       grad_fn=<CatBackward>)\n",
      "1.8500000000000008 10\n",
      "tensor([[-3.0482, -2.9811, -2.9674,  ...,  1.7584,  2.9708,  2.9256],\n",
      "        [-2.9937, -2.9472, -2.9777,  ...,  1.5139,  2.9690,  2.7832],\n",
      "        [-3.0183, -2.9125, -3.0121,  ...,  1.5251,  2.9497,  2.8264],\n",
      "        ...,\n",
      "        [-2.9999, -2.9761, -2.9719,  ...,  1.7583,  2.9620,  2.9179],\n",
      "        [-3.0212, -2.8822, -2.9487,  ...,  1.6013,  2.9755,  2.8404],\n",
      "        [-2.8873, -3.0353, -3.0877,  ...,  1.7885,  2.9508,  2.9462]],\n",
      "       grad_fn=<CatBackward>)\n",
      "1.9500000000000008 4\n",
      "tensor([[-3.0233, -2.8956, -2.9512,  ...,  1.5915,  2.9526,  2.8707],\n",
      "        [-3.0016, -2.9693, -3.0018,  ...,  1.5491,  2.9629,  2.8367],\n",
      "        [-2.9713, -3.0520, -2.9979,  ...,  1.7935,  2.9574,  2.9557],\n",
      "        ...,\n",
      "        [-3.0236, -2.8945, -2.9659,  ...,  1.5645,  2.9611,  2.8697],\n",
      "        [-3.0169, -2.8991, -2.9648,  ...,  1.5679,  2.9630,  2.8686],\n",
      "        [-2.9853, -3.0027, -3.0424,  ...,  1.5428,  2.9628,  2.8221]],\n",
      "       grad_fn=<CatBackward>)\n",
      "2.0500000000000007 3\n",
      "tensor([[-2.9634, -3.0757, -3.0064,  ...,  1.8191,  2.9476,  2.9858],\n",
      "        [-3.0000, -2.9749, -3.0001,  ...,  1.5235,  2.9651,  2.8494],\n",
      "        [-3.0579, -3.0200, -3.0510,  ...,  1.5447,  2.9857,  2.8259],\n",
      "        ...,\n",
      "        [-3.0062, -2.9471, -3.0195,  ...,  1.5091,  2.9910,  2.8305],\n",
      "        [-3.0716, -3.0065, -2.9377,  ...,  1.7470,  2.9794,  2.9409],\n",
      "        [-3.0121, -3.0129, -2.9436,  ...,  1.7814,  2.9718,  2.9610]],\n",
      "       grad_fn=<CatBackward>)\n",
      "2.150000000000001 15\n",
      "tensor([[-2.8978, -3.1021, -3.0555,  ...,  1.7858,  2.9486,  2.9831],\n",
      "        [-3.0621, -3.0014, -2.9869,  ...,  1.5382,  2.9913,  2.8495],\n",
      "        [-3.0518, -2.9160, -2.8855,  ...,  1.6518,  2.9814,  2.9006],\n",
      "        ...,\n",
      "        [-3.0172, -2.9691, -3.0109,  ...,  1.4908,  3.0103,  2.8430],\n",
      "        [-3.0357, -3.0094, -2.9895,  ...,  1.4927,  2.9816,  2.8403],\n",
      "        [-3.0412, -3.0112, -2.9915,  ...,  1.5336,  2.9848,  2.8498]],\n",
      "       grad_fn=<CatBackward>)\n",
      "2.250000000000001 51\n",
      "tensor([[-3.0673, -2.9692, -2.9907,  ...,  1.5702,  3.0320,  2.9365],\n",
      "        [-3.1455, -3.0568, -3.0251,  ...,  1.5079,  3.0330,  2.8662],\n",
      "        [-3.0632, -2.9724, -2.9621,  ...,  1.6285,  3.0302,  2.9216],\n",
      "        ...,\n",
      "        [-3.0865, -2.9491, -2.9930,  ...,  1.6095,  3.0332,  2.9299],\n",
      "        [-3.0843, -2.9189, -2.8939,  ...,  1.5706,  3.0041,  2.8836],\n",
      "        [-3.0729, -2.9186, -2.8502,  ...,  1.6961,  3.0068,  2.9123]],\n",
      "       grad_fn=<CatBackward>)\n",
      "2.350000000000001 69\n"
     ]
    },
    {
     "data": {
      "image/png": "[encoded data removed]",
      "text/plain": [
       "<Figure size 576x288 with 1 Axes>"
      ]
     },
     "metadata": {
      "needs_background": "light"
     },
     "output_type": "display_data"
    },
    {
     "data": {
      "image/png": "[encoded data removed]",
      "text/plain": [
       "<Figure size 576x288 with 1 Axes>"
      ]
     },
     "metadata": {
      "needs_background": "light"
     },
     "output_type": "display_data"
    },
    {
     "data": {
      "image/png": "[encoded data removed]",
      "text/plain": [
       "<Figure size 576x288 with 1 Axes>"
      ]
     },
     "metadata": {
      "needs_background": "light"
     },
     "output_type": "display_data"
    },
    {
     "data": {
      "image/png": "[encoded data removed]",
      "text/plain": [
       "<Figure size 576x288 with 1 Axes>"
      ]
     },
     "metadata": {
      "needs_background": "light"
     },
     "output_type": "display_data"
    },
    {
     "data": {
      "image/png": "[encoded data removed]",
      "text/plain": [
       "<Figure size 576x288 with 1 Axes>"
      ]
     },
     "metadata": {
      "needs_background": "light"
     },
     "output_type": "display_data"
    },
    {
     "data": {
      "image/png": "[encoded data removed]",
      "text/plain": [
       "<Figure size 576x288 with 1 Axes>"
      ]
     },
     "metadata": {
      "needs_background": "light"
     },
     "output_type": "display_data"
    },
    {
     "data": {
      "image/png": "[encoded data removed]",
      "text/plain": [
       "<Figure size 576x288 with 1 Axes>"
      ]
     },
     "metadata": {
      "needs_background": "light"
     },
     "output_type": "display_data"
    },
    {
     "data": {
      "image/png": "[encoded data removed]",
      "text/plain": [
       "<Figure size 576x288 with 1 Axes>"
      ]
     },
     "metadata": {
      "needs_background": "light"
     },
     "output_type": "display_data"
    },
    {
     "data": {
      "image/png": "[encoded data removed]",
      "text/plain": [
       "<Figure size 576x288 with 1 Axes>"
      ]
     },
     "metadata": {
      "needs_background": "light"
     },
     "output_type": "display_data"
    },
    {
     "data": {
      "image/png": "[encoded data removed]",
      "text/plain": [
       "<Figure size 576x288 with 1 Axes>"
      ]
     },
     "metadata": {
      "needs_background": "light"
     },
     "output_type": "display_data"
    },
    {
     "data": {
      "image/png": "[encoded data removed]",
      "text/plain": [
       "<Figure size 576x288 with 1 Axes>"
      ]
     },
     "metadata": {
      "needs_background": "light"
     },
     "output_type": "display_data"
    },
    {
     "data": {
      "image/png": "[encoded data removed]",
      "text/plain": [
       "<Figure size 576x288 with 1 Axes>"
      ]
     },
     "metadata": {
      "needs_background": "light"
     },
     "output_type": "display_data"
    },
    {
     "data": {
      "image/png": "[encoded data removed]",
      "text/plain": [
       "<Figure size 576x288 with 1 Axes>"
      ]
     },
     "metadata": {
      "needs_background": "light"
     },
     "output_type": "display_data"
    },
    {
     "data": {
      "image/png": "[encoded data removed]",
      "text/plain": [
       "<Figure size 576x288 with 1 Axes>"
      ]
     },
     "metadata": {
      "needs_background": "light"
     },
     "output_type": "display_data"
    },
    {
     "data": {
      "image/png": "[encoded data removed]",
      "text/plain": [
       "<Figure size 576x288 with 1 Axes>"
      ]
     },
     "metadata": {
      "needs_background": "light"
     },
     "output_type": "display_data"
    },
    {
     "data": {
      "image/png": "[encoded data removed]",
      "text/plain": [
       "<Figure size 576x288 with 1 Axes>"
      ]
     },
     "metadata": {
      "needs_background": "light"
     },
     "output_type": "display_data"
    }
   ],
   "source": [
    "i= 0.95\n",
    "fig, ax = plt.subplots(figsize=(8, 4))\n",
    "while(i<= 2.4):\n",
    "    data = generateDenser(i)\n",
    "    train_loader = torch.utils.data.DataLoader(data, batch_size=1000, shuffle=False)\n",
    "    fig, ax = plt.subplots(figsize=(8, 4))\n",
    "    [PredictedConfig, RealConfig] = samplingOfMixture(model,train_loader)\n",
    "    PredictedConfigEnergy = md.energy(np.array(PredictedConfig.detach()))\n",
    "    print(i, thresholdFunction(PredictedConfigEnergy,500))\n",
    "    ax.hist(np.array(PredictedConfigEnergy), 480, cumulative = True, range= (0,500),  histtype='step')\n",
    "    ax.plot()\n",
    "    ax.set_xlabel(\"Cumulative histogram for various distance \" + str(i))\n",
    "    plt.savefig('CHistOfDist'+  '.pdf')\n",
    "    i+=0.1000000000000000000"
   ]
  },
  {
   "cell_type": "code",
   "execution_count": 62,
   "metadata": {},
   "outputs": [
    {
     "data": {
      "text/plain": [
       "54.78521964645386"
      ]
     },
     "execution_count": 62,
     "metadata": {},
     "output_type": "execute_result"
    }
   ],
   "source": [
    "md.energy(traj_open_train[10000::90]).mean()"
   ]
  },
  {
   "cell_type": "code",
   "execution_count": 166,
   "metadata": {},
   "outputs": [
    {
     "data": {
      "text/plain": [
       "(array([   0.,    0.,    0.,    0.,    0.,    0.,    0.,    0.,    0.,\n",
       "           0.,    0.,    0.,    0.,    0.,    0.,    0.,    0.,    0.,\n",
       "           0.,    0.,    0.,    0.,    0.,    0.,    0.,    0.,    0.,\n",
       "           0.,    0.,    0.,    0.,    0.,    0.,    0.,    0.,    0.,\n",
       "           0.,    0.,    0.,    0.,    0.,    0.,    0.,    0.,    0.,\n",
       "           0.,    0.,    0.,    0.,    0.,    0.,    0.,    0.,    0.,\n",
       "           0.,    0.,    0.,    0.,    0.,    0.,    0.,    0.,    0.,\n",
       "           0.,    0.,    0.,    0.,    0.,    0.,    0.,    0.,    0.,\n",
       "           0.,    0.,    0.,    0.,    0.,    0.,    0.,    0.,    0.,\n",
       "           0.,    0.,    0.,    0.,    0.,    0.,    0.,    0.,    0.,\n",
       "           0.,    0.,    0.,    0.,    0.,    0.,    0.,    0.,    0.,\n",
       "           0.,    0.,    0.,    0.,    0.,    0.,    0.,    0.,    0.,\n",
       "           0.,    0.,    0.,    0.,    0.,    0.,    0.,    0.,    0.,\n",
       "           0.,    0.,    0.,    0.,    0.,    0.,    0.,    0.,    0.,\n",
       "           0.,    0.,    0.,    0.,    0.,    0.,    0.,    0.,    0.,\n",
       "           0.,    0.,    0.,    0.,    0.,    0.,    0.,    0.,    0.,\n",
       "           0.,    0.,    0.,    0.,    0.,    0.,    0.,    0.,    0.,\n",
       "           0.,    0.,    0.,    0.,    0.,    0.,    0.,    0.,    0.,\n",
       "           0.,    0.,    0.,    0.,    0.,    0.,    0.,    0.,    0.,\n",
       "           0.,    0.,    0.,    0.,    0.,    0.,    0.,    0.,    0.,\n",
       "           0.,    0.,    0.,    0.,    0.,    0.,    0.,    0.,    0.,\n",
       "           0.,    0.,    0.,    0.,    0.,    0.,    0.,    0.,    0.,\n",
       "           1.,    2.,    2.,    4.,    4.,    4.,    4.,    5.,    5.,\n",
       "           6.,    8.,    9.,   10.,   12.,   14.,   16.,   18.,   21.,\n",
       "          24.,   27.,   32.,   34.,   37.,   40.,   43.,   53.,   56.,\n",
       "          62.,   67.,   77.,   89.,   96.,  102.,  107.,  114.,  127.,\n",
       "         137.,  149.,  162.,  169.,  176.,  186.,  203.,  216.,  234.,\n",
       "         251.,  263.,  277.,  284.,  297.,  315.,  334.,  353.,  369.,\n",
       "         384.,  393.,  408.,  421.,  436.,  452.,  469.,  479.,  496.,\n",
       "         508.,  529.,  544.,  560.,  577.,  590.,  602.,  619.,  632.,\n",
       "         646.,  660.,  671.,  691.,  698.,  708.,  718.,  728.,  739.,\n",
       "         755.,  766.,  774.,  784.,  795.,  801.,  811.,  823.,  835.,\n",
       "         843.,  851.,  862.,  867.,  873.,  883.,  890.,  894.,  897.,\n",
       "         903.,  906.,  919.,  920.,  925.,  931.,  932.,  935.,  935.,\n",
       "         938.,  942.,  946.,  950.,  952.,  955.,  955.,  957.,  960.,\n",
       "         963.,  963.,  966.,  969.,  972.,  976.,  979.,  980.,  980.,\n",
       "         984.,  984.,  986.,  986.,  988.,  990.,  991.,  992.,  993.,\n",
       "         994.,  994.,  995.,  997.,  997.,  997.,  997.,  997.,  998.,\n",
       "         999.,  999.,  999.,  999.,  999.,  999.,  999.,  999., 1000.,\n",
       "        1000., 1000., 1000., 1000., 1000., 1000., 1000., 1000., 1000.,\n",
       "        1000., 1000., 1000., 1000., 1000., 1000., 1000., 1000., 1000.,\n",
       "        1000., 1000., 1000., 1000., 1000., 1000., 1000., 1000., 1000.,\n",
       "        1000., 1000., 1000., 1000., 1000., 1000., 1000., 1000., 1000.,\n",
       "        1000., 1000., 1000., 1000., 1000., 1000., 1000., 1000., 1000.,\n",
       "        1000., 1000., 1000., 1000., 1000., 1000., 1000., 1000., 1000.,\n",
       "        1000., 1000., 1000., 1000., 1000., 1000., 1000., 1000., 1000.,\n",
       "        1000., 1000., 1000., 1000., 1000., 1000., 1000., 1000., 1000.,\n",
       "        1000., 1000., 1000., 1000., 1000., 1000., 1000., 1000., 1000.,\n",
       "        1000., 1000., 1000., 1000., 1000., 1000., 1000., 1000., 1000.,\n",
       "        1000., 1000., 1000., 1000., 1000., 1000., 1000., 1000., 1000.,\n",
       "        1000., 1000., 1000., 1000., 1000., 1000., 1000., 1000., 1000.,\n",
       "        1000., 1000., 1000., 1000., 1000., 1000., 1000., 1000., 1000.,\n",
       "        1000., 1000., 1000., 1000., 1000., 1000., 1000., 1000., 1000.,\n",
       "        1000., 1000., 1000.]),\n",
       " array([  0.        ,   0.20833333,   0.41666667,   0.625     ,\n",
       "          0.83333333,   1.04166667,   1.25      ,   1.45833333,\n",
       "          1.66666667,   1.875     ,   2.08333333,   2.29166667,\n",
       "          2.5       ,   2.70833333,   2.91666667,   3.125     ,\n",
       "          3.33333333,   3.54166667,   3.75      ,   3.95833333,\n",
       "          4.16666667,   4.375     ,   4.58333333,   4.79166667,\n",
       "          5.        ,   5.20833333,   5.41666667,   5.625     ,\n",
       "          5.83333333,   6.04166667,   6.25      ,   6.45833333,\n",
       "          6.66666667,   6.875     ,   7.08333333,   7.29166667,\n",
       "          7.5       ,   7.70833333,   7.91666667,   8.125     ,\n",
       "          8.33333333,   8.54166667,   8.75      ,   8.95833333,\n",
       "          9.16666667,   9.375     ,   9.58333333,   9.79166667,\n",
       "         10.        ,  10.20833333,  10.41666667,  10.625     ,\n",
       "         10.83333333,  11.04166667,  11.25      ,  11.45833333,\n",
       "         11.66666667,  11.875     ,  12.08333333,  12.29166667,\n",
       "         12.5       ,  12.70833333,  12.91666667,  13.125     ,\n",
       "         13.33333333,  13.54166667,  13.75      ,  13.95833333,\n",
       "         14.16666667,  14.375     ,  14.58333333,  14.79166667,\n",
       "         15.        ,  15.20833333,  15.41666667,  15.625     ,\n",
       "         15.83333333,  16.04166667,  16.25      ,  16.45833333,\n",
       "         16.66666667,  16.875     ,  17.08333333,  17.29166667,\n",
       "         17.5       ,  17.70833333,  17.91666667,  18.125     ,\n",
       "         18.33333333,  18.54166667,  18.75      ,  18.95833333,\n",
       "         19.16666667,  19.375     ,  19.58333333,  19.79166667,\n",
       "         20.        ,  20.20833333,  20.41666667,  20.625     ,\n",
       "         20.83333333,  21.04166667,  21.25      ,  21.45833333,\n",
       "         21.66666667,  21.875     ,  22.08333333,  22.29166667,\n",
       "         22.5       ,  22.70833333,  22.91666667,  23.125     ,\n",
       "         23.33333333,  23.54166667,  23.75      ,  23.95833333,\n",
       "         24.16666667,  24.375     ,  24.58333333,  24.79166667,\n",
       "         25.        ,  25.20833333,  25.41666667,  25.625     ,\n",
       "         25.83333333,  26.04166667,  26.25      ,  26.45833333,\n",
       "         26.66666667,  26.875     ,  27.08333333,  27.29166667,\n",
       "         27.5       ,  27.70833333,  27.91666667,  28.125     ,\n",
       "         28.33333333,  28.54166667,  28.75      ,  28.95833333,\n",
       "         29.16666667,  29.375     ,  29.58333333,  29.79166667,\n",
       "         30.        ,  30.20833333,  30.41666667,  30.625     ,\n",
       "         30.83333333,  31.04166667,  31.25      ,  31.45833333,\n",
       "         31.66666667,  31.875     ,  32.08333333,  32.29166667,\n",
       "         32.5       ,  32.70833333,  32.91666667,  33.125     ,\n",
       "         33.33333333,  33.54166667,  33.75      ,  33.95833333,\n",
       "         34.16666667,  34.375     ,  34.58333333,  34.79166667,\n",
       "         35.        ,  35.20833333,  35.41666667,  35.625     ,\n",
       "         35.83333333,  36.04166667,  36.25      ,  36.45833333,\n",
       "         36.66666667,  36.875     ,  37.08333333,  37.29166667,\n",
       "         37.5       ,  37.70833333,  37.91666667,  38.125     ,\n",
       "         38.33333333,  38.54166667,  38.75      ,  38.95833333,\n",
       "         39.16666667,  39.375     ,  39.58333333,  39.79166667,\n",
       "         40.        ,  40.20833333,  40.41666667,  40.625     ,\n",
       "         40.83333333,  41.04166667,  41.25      ,  41.45833333,\n",
       "         41.66666667,  41.875     ,  42.08333333,  42.29166667,\n",
       "         42.5       ,  42.70833333,  42.91666667,  43.125     ,\n",
       "         43.33333333,  43.54166667,  43.75      ,  43.95833333,\n",
       "         44.16666667,  44.375     ,  44.58333333,  44.79166667,\n",
       "         45.        ,  45.20833333,  45.41666667,  45.625     ,\n",
       "         45.83333333,  46.04166667,  46.25      ,  46.45833333,\n",
       "         46.66666667,  46.875     ,  47.08333333,  47.29166667,\n",
       "         47.5       ,  47.70833333,  47.91666667,  48.125     ,\n",
       "         48.33333333,  48.54166667,  48.75      ,  48.95833333,\n",
       "         49.16666667,  49.375     ,  49.58333333,  49.79166667,\n",
       "         50.        ,  50.20833333,  50.41666667,  50.625     ,\n",
       "         50.83333333,  51.04166667,  51.25      ,  51.45833333,\n",
       "         51.66666667,  51.875     ,  52.08333333,  52.29166667,\n",
       "         52.5       ,  52.70833333,  52.91666667,  53.125     ,\n",
       "         53.33333333,  53.54166667,  53.75      ,  53.95833333,\n",
       "         54.16666667,  54.375     ,  54.58333333,  54.79166667,\n",
       "         55.        ,  55.20833333,  55.41666667,  55.625     ,\n",
       "         55.83333333,  56.04166667,  56.25      ,  56.45833333,\n",
       "         56.66666667,  56.875     ,  57.08333333,  57.29166667,\n",
       "         57.5       ,  57.70833333,  57.91666667,  58.125     ,\n",
       "         58.33333333,  58.54166667,  58.75      ,  58.95833333,\n",
       "         59.16666667,  59.375     ,  59.58333333,  59.79166667,\n",
       "         60.        ,  60.20833333,  60.41666667,  60.625     ,\n",
       "         60.83333333,  61.04166667,  61.25      ,  61.45833333,\n",
       "         61.66666667,  61.875     ,  62.08333333,  62.29166667,\n",
       "         62.5       ,  62.70833333,  62.91666667,  63.125     ,\n",
       "         63.33333333,  63.54166667,  63.75      ,  63.95833333,\n",
       "         64.16666667,  64.375     ,  64.58333333,  64.79166667,\n",
       "         65.        ,  65.20833333,  65.41666667,  65.625     ,\n",
       "         65.83333333,  66.04166667,  66.25      ,  66.45833333,\n",
       "         66.66666667,  66.875     ,  67.08333333,  67.29166667,\n",
       "         67.5       ,  67.70833333,  67.91666667,  68.125     ,\n",
       "         68.33333333,  68.54166667,  68.75      ,  68.95833333,\n",
       "         69.16666667,  69.375     ,  69.58333333,  69.79166667,\n",
       "         70.        ,  70.20833333,  70.41666667,  70.625     ,\n",
       "         70.83333333,  71.04166667,  71.25      ,  71.45833333,\n",
       "         71.66666667,  71.875     ,  72.08333333,  72.29166667,\n",
       "         72.5       ,  72.70833333,  72.91666667,  73.125     ,\n",
       "         73.33333333,  73.54166667,  73.75      ,  73.95833333,\n",
       "         74.16666667,  74.375     ,  74.58333333,  74.79166667,\n",
       "         75.        ,  75.20833333,  75.41666667,  75.625     ,\n",
       "         75.83333333,  76.04166667,  76.25      ,  76.45833333,\n",
       "         76.66666667,  76.875     ,  77.08333333,  77.29166667,\n",
       "         77.5       ,  77.70833333,  77.91666667,  78.125     ,\n",
       "         78.33333333,  78.54166667,  78.75      ,  78.95833333,\n",
       "         79.16666667,  79.375     ,  79.58333333,  79.79166667,\n",
       "         80.        ,  80.20833333,  80.41666667,  80.625     ,\n",
       "         80.83333333,  81.04166667,  81.25      ,  81.45833333,\n",
       "         81.66666667,  81.875     ,  82.08333333,  82.29166667,\n",
       "         82.5       ,  82.70833333,  82.91666667,  83.125     ,\n",
       "         83.33333333,  83.54166667,  83.75      ,  83.95833333,\n",
       "         84.16666667,  84.375     ,  84.58333333,  84.79166667,\n",
       "         85.        ,  85.20833333,  85.41666667,  85.625     ,\n",
       "         85.83333333,  86.04166667,  86.25      ,  86.45833333,\n",
       "         86.66666667,  86.875     ,  87.08333333,  87.29166667,\n",
       "         87.5       ,  87.70833333,  87.91666667,  88.125     ,\n",
       "         88.33333333,  88.54166667,  88.75      ,  88.95833333,\n",
       "         89.16666667,  89.375     ,  89.58333333,  89.79166667,\n",
       "         90.        ,  90.20833333,  90.41666667,  90.625     ,\n",
       "         90.83333333,  91.04166667,  91.25      ,  91.45833333,\n",
       "         91.66666667,  91.875     ,  92.08333333,  92.29166667,\n",
       "         92.5       ,  92.70833333,  92.91666667,  93.125     ,\n",
       "         93.33333333,  93.54166667,  93.75      ,  93.95833333,\n",
       "         94.16666667,  94.375     ,  94.58333333,  94.79166667,\n",
       "         95.        ,  95.20833333,  95.41666667,  95.625     ,\n",
       "         95.83333333,  96.04166667,  96.25      ,  96.45833333,\n",
       "         96.66666667,  96.875     ,  97.08333333,  97.29166667,\n",
       "         97.5       ,  97.70833333,  97.91666667,  98.125     ,\n",
       "         98.33333333,  98.54166667,  98.75      ,  98.95833333,\n",
       "         99.16666667,  99.375     ,  99.58333333,  99.79166667,\n",
       "        100.        ]),\n",
       " <a list of 1 Patch objects>)"
      ]
     },
     "execution_count": 166,
     "metadata": {},
     "output_type": "execute_result"
    },
    {
     "data": {
      "image/png": "[encoded data removed]",
      "text/plain": [
       "<Figure size 432x288 with 1 Axes>"
      ]
     },
     "metadata": {
      "needs_background": "light"
     },
     "output_type": "display_data"
    }
   ],
   "source": [
    "plt.hist(md.energy(traj_open_train[10000::90]),  480, cumulative = True, range= (0,100),  histtype='step')"
   ]
  },
  {
   "cell_type": "code",
   "execution_count": 60,
   "metadata": {},
   "outputs": [],
   "source": [
    "arr = []"
   ]
  },
  {
   "cell_type": "code",
   "execution_count": 61,
   "metadata": {},
   "outputs": [],
   "source": [
    "for i in range(90):\n",
    "    j = np.random.rand() *0.1+ 0.95\n",
    "    data = generateDenser(j)\n",
    "    arr = [*arr , *data]"
   ]
  },
  {
   "cell_type": "code",
   "execution_count": 62,
   "metadata": {},
   "outputs": [
    {
     "name": "stdout",
     "output_type": "stream",
     "text": [
      "9000\n"
     ]
    }
   ],
   "source": [
    "print(len(arr))"
   ]
  },
  {
   "cell_type": "code",
   "execution_count": 68,
   "metadata": {},
   "outputs": [
    {
     "name": "stdout",
     "output_type": "stream",
     "text": [
      "tensor([[-3.0231, -2.9151, -2.9504,  ...,  1.5982,  2.9621,  2.8606],\n",
      "        [-3.0241, -2.9681, -3.0045,  ...,  1.5459,  2.9637,  2.8453],\n",
      "        [-3.0294, -2.8790, -2.9306,  ...,  1.6564,  2.9690,  2.8922],\n",
      "        ...,\n",
      "        [-3.0421, -3.0263, -2.9268,  ...,  1.7963,  2.9669,  2.9564],\n",
      "        [-3.0187, -2.9079, -2.9301,  ...,  1.6445,  2.9771,  2.8717],\n",
      "        [-3.0222, -2.9361, -2.9380,  ...,  1.6918,  2.9849,  2.8886]],\n",
      "       grad_fn=<CatBackward>)\n",
      "(9000,)\n"
     ]
    },
    {
     "data": {
      "text/plain": [
       "Text(0, 0.5, 'Number of Configurations')"
      ]
     },
     "execution_count": 68,
     "metadata": {},
     "output_type": "execute_result"
    },
    {
     "data": {
      "image/png": "[encoded data removed]",
      "text/plain": [
       "<Figure size 576x288 with 1 Axes>"
      ]
     },
     "metadata": {
      "needs_background": "light"
     },
     "output_type": "display_data"
    }
   ],
   "source": [
    "train_loader = torch.utils.data.DataLoader(np.array(arr), batch_size=9000, shuffle=False)\n",
    "fig, ax = plt.subplots(figsize=(8, 4))\n",
    "[PredictedConfig, RealConfig] = samplingOfMixture(model,train_loader)\n",
    "PredictedConfigEnergy = md.energy(np.array(PredictedConfig.detach()))\n",
    "#print(i, thresholdFunction(PredictedConfigEnergy,500))\n",
    "print(PredictedConfigEnergy.shape)\n",
    "ax.hist(np.array(PredictedConfigEnergy), 1000, cumulative = False, range= (0,300),  histtype='step')\n",
    "ax.hist(md.energy(traj_closed_train[10000::10]),  1000, cumulative = False, range= (0,300),  histtype='step')\n",
    "ax.plot()\n",
    "ax.set_xlabel(\"Energy \" )\n",
    "ax.set_ylabel(\"Number of Configurations\")"
   ]
  },
  {
   "cell_type": "code",
   "execution_count": 18,
   "metadata": {},
   "outputs": [],
   "source": [
    "arr = []\n",
    "for i in range(100):\n",
    "    j = np.random.rand() *0.1+ 2.0\n",
    "    data = generateDenser(j)\n",
    "    arr = [*arr , *data]"
   ]
  },
  {
   "cell_type": "code",
   "execution_count": 19,
   "metadata": {},
   "outputs": [
    {
     "name": "stdout",
     "output_type": "stream",
     "text": [
      "tensor([[-3.0059, -2.9489, -2.9829,  ...,  1.5532,  2.9818,  2.8144],\n",
      "        [-2.9858, -2.9660, -2.9858,  ...,  1.5441,  2.9566,  2.8204],\n",
      "        [-3.0450, -2.9702, -3.0421,  ...,  1.5281,  2.9781,  2.8031],\n",
      "        ...,\n",
      "        [-3.0440, -2.9565, -2.9946,  ...,  1.5517,  2.9749,  2.8411],\n",
      "        [-3.0241, -2.8962, -2.9102,  ...,  1.6590,  2.9846,  2.8790],\n",
      "        [-3.0842, -2.9602, -2.9630,  ...,  1.7615,  2.9793,  2.9433]],\n",
      "       grad_fn=<CatBackward>)\n",
      "99 431\n"
     ]
    },
    {
     "data": {
      "text/plain": [
       "Text(0, 0.5, 'Number of Configurations')"
      ]
     },
     "execution_count": 19,
     "metadata": {},
     "output_type": "execute_result"
    },
    {
     "data": {
      "image/png": "[encoded data removed]",
      "text/plain": [
       "<Figure size 576x288 with 1 Axes>"
      ]
     },
     "metadata": {
      "needs_background": "light"
     },
     "output_type": "display_data"
    }
   ],
   "source": [
    "train_loader = torch.utils.data.DataLoader(np.array(arr), batch_size=9000, shuffle=False)\n",
    "fig, ax = plt.subplots(figsize=(8, 4))\n",
    "[PredictedConfig, RealConfig] = samplingOfMixture(model,train_loader)\n",
    "PredictedConfigEnergy = md.energy(np.array(PredictedConfig.detach()))\n",
    "print(i, thresholdFunction(PredictedConfigEnergy,500))\n",
    "ax.hist(np.array(PredictedConfigEnergy), 480, cumulative = True, range= (0,500),  histtype='step')\n",
    "ax.hist(md.energy(traj_open_train[10000::10]),  480, cumulative = True, range= (0,500),  histtype='step')\n",
    "ax.plot()\n",
    "ax.set_xlabel(\"Energy \" )\n",
    "ax.set_ylabel(\"Number of Configurations\")"
   ]
  },
  {
   "cell_type": "code",
   "execution_count": null,
   "metadata": {},
   "outputs": [],
   "source": [
    "model.g"
   ]
  },
  {
   "cell_type": "code",
   "execution_count": 59,
   "metadata": {},
   "outputs": [
    {
     "name": "stdout",
     "output_type": "stream",
     "text": [
      "1000\n"
     ]
    }
   ],
   "source": [
    "print(len(arr))"
   ]
  },
  {
   "cell_type": "code",
   "execution_count": 29,
   "metadata": {},
   "outputs": [
    {
     "data": {
      "text/plain": [
       "(array([ 0.,  0.,  0.,  0.,  0.,  0.,  0.,  0.,  0.,  0.,  0.,  0.,  0.,\n",
       "         0.,  0.,  0.,  0.,  0.,  0.,  0.,  0.,  0.,  0.,  0.,  0.,  0.,\n",
       "         0.,  0.,  0.,  0.,  0.,  0.,  0.,  0.,  0.,  0.,  0.,  0.,  0.,\n",
       "         0.,  0.,  3.,  2.,  5., 11., 16., 24., 37., 40., 48., 74., 68.,\n",
       "        75., 69., 72., 71., 70., 45., 56., 49., 38., 27., 29., 10., 16.,\n",
       "         8., 14.,  7.,  7.,  4.,  2.,  2.,  0.,  1.,  0.,  0.,  0.,  0.,\n",
       "         0.,  0.,  0.,  0.,  0.,  0.,  0.,  0.,  0.,  0.,  0.,  0.,  0.,\n",
       "         0.,  0.,  0.,  0.,  0.,  0.,  0.,  0.,  0.]),\n",
       " array([  0.,   1.,   2.,   3.,   4.,   5.,   6.,   7.,   8.,   9.,  10.,\n",
       "         11.,  12.,  13.,  14.,  15.,  16.,  17.,  18.,  19.,  20.,  21.,\n",
       "         22.,  23.,  24.,  25.,  26.,  27.,  28.,  29.,  30.,  31.,  32.,\n",
       "         33.,  34.,  35.,  36.,  37.,  38.,  39.,  40.,  41.,  42.,  43.,\n",
       "         44.,  45.,  46.,  47.,  48.,  49.,  50.,  51.,  52.,  53.,  54.,\n",
       "         55.,  56.,  57.,  58.,  59.,  60.,  61.,  62.,  63.,  64.,  65.,\n",
       "         66.,  67.,  68.,  69.,  70.,  71.,  72.,  73.,  74.,  75.,  76.,\n",
       "         77.,  78.,  79.,  80.,  81.,  82.,  83.,  84.,  85.,  86.,  87.,\n",
       "         88.,  89.,  90.,  91.,  92.,  93.,  94.,  95.,  96.,  97.,  98.,\n",
       "         99., 100.]),\n",
       " <a list of 1 Patch objects>)"
      ]
     },
     "execution_count": 29,
     "metadata": {},
     "output_type": "execute_result"
    },
    {
     "data": {
      "image/png": "[encoded data removed]",
      "text/plain": [
       "<Figure size 432x288 with 1 Axes>"
      ]
     },
     "metadata": {
      "needs_background": "light"
     },
     "output_type": "display_data"
    }
   ],
   "source": [
    "plt.hist(md.energy(traj_open_train[10000::90]),  100, range= (0,100),  histtype='step')"
   ]
  },
  {
   "cell_type": "code",
   "execution_count": null,
   "metadata": {},
   "outputs": [],
   "source": []
  }
 ],
 "metadata": {
  "kernelspec": {
   "display_name": "Python 3",
   "language": "python",
   "name": "python3"
  },
  "language_info": {
   "codemirror_mode": {
    "name": "ipython",
    "version": 3
   },
   "file_extension": ".py",
   "mimetype": "text/x-python",
   "name": "python",
   "nbconvert_exporter": "python",
   "pygments_lexer": "ipython3",
   "version": "3.6.8"
  }
 },
 "nbformat": 4,
 "nbformat_minor": 2
}
