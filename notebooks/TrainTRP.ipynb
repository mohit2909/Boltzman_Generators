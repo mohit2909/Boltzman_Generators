{
 "cells": [
  {
   "cell_type": "code",
   "execution_count": 39,
   "metadata": {},
   "outputs": [],
   "source": [
    "import sys \n",
    "sys.path.insert(0,'/home/mohit.kumargupta/deep_boltzmann/')\n",
    "import numpy as np\n",
    "import matplotlib.pyplot as plt\n",
    "from matplotlib import rcParams\n",
    "import keras\n",
    "import tensorflow as tf"
   ]
  },
  {
   "cell_type": "code",
   "execution_count": 40,
   "metadata": {},
   "outputs": [],
   "source": [
    "from IPython.display import SVG\n",
    "from keras.utils.vis_utils import model_to_dot"
   ]
  },
  {
   "cell_type": "code",
   "execution_count": 41,
   "metadata": {},
   "outputs": [],
   "source": [
    "rcParams.update({'font.size': 16})"
   ]
  },
  {
   "cell_type": "code",
   "execution_count": 42,
   "metadata": {},
   "outputs": [
    {
     "name": "stdout",
     "output_type": "stream",
     "text": [
      "The autoreload extension is already loaded. To reload it, use:\n",
      "  %reload_ext autoreload\n"
     ]
    }
   ],
   "source": [
    "# Switch AUTORELOAD ON. Disable this when in production mode!\n",
    "%load_ext autoreload\n",
    "%autoreload 2"
   ]
  },
  {
   "cell_type": "code",
   "execution_count": 43,
   "metadata": {},
   "outputs": [],
   "source": [
    "from deep_boltzmann.models import ParticleDimer\n",
    "from deep_boltzmann.networks.invertible import invnet, EnergyInvNet, create_RealNVPNet\n",
    "from deep_boltzmann.sampling import GaussianPriorMCMC\n",
    "from deep_boltzmann.networks.plot import test_xz_projection, test_generate_x\n",
    "from deep_boltzmann.util import count_transitions\n",
    "from deep_boltzmann.sampling.analysis import free_energy_bootstrap, mean_finite, std_finite\n",
    "from deep_boltzmann.networks.training import MLTrainer, FlexibleTrainer\n",
    "from deep_boltzmann.util import save_obj, load_obj"
   ]
  },
  {
   "cell_type": "code",
   "execution_count": 6,
   "metadata": {},
   "outputs": [],
   "source": [
    "from deep_boltzmann.sampling.analysis import free_energy_bootstrap, mean_finite, std_finite"
   ]
  },
  {
   "cell_type": "code",
   "execution_count": 7,
   "metadata": {},
   "outputs": [],
   "source": [
    "from openmmtools.integrators import *"
   ]
  },
  {
   "cell_type": "code",
   "execution_count": 8,
   "metadata": {},
   "outputs": [],
   "source": [
    "from simtk import *\n",
    "from simtk.openmm import * \n",
    "from simtk.unit import *\n",
    "from simtk.openmm.app import *\n",
    "from deep_boltzmann.models.openmm import OpenMMEnergy\n",
    "from deep_boltzmann import openmmutils\n",
    "import simtk"
   ]
  },
  {
   "cell_type": "code",
   "execution_count": 9,
   "metadata": {},
   "outputs": [],
   "source": [
    "import mdtraj as md"
   ]
  },
  {
   "cell_type": "code",
   "execution_count": 10,
   "metadata": {},
   "outputs": [],
   "source": [
    "# reweighting\n",
    "def test_sample_rew(network, rcfunc, rcmin, rcmax, temperature=1.0, nsample=100000):\n",
    "    sample_z, sample_x, energy_z, energy_x, log_w = network.sample(temperature=1.0, nsample=nsample)\n",
    "    bin_means, Es = free_energy_bootstrap(rcfunc(sample_x), rcmin, rcmax, 100, sample=100, weights=np.exp(log_w))\n",
    "    fig = plt.figure(figsize=(5, 4))\n",
    "    # model.plot_dimer_energy()\n",
    "    plt.ylim(-10, 20)\n",
    "    Emean = mean_finite(Es, axis=0)-7\n",
    "    Estd = std_finite(Es, axis=0)\n",
    "    plt.errorbar(bin_means, Emean, 2*Estd)\n",
    "    # variance\n",
    "    var = mean_finite(std_finite(Es, axis=0) ** 2)\n",
    "    print('Estimator Standard Error: ', np.sqrt(var))\n",
    "    return fig, bin_means, Emean, Estd"
   ]
  },
  {
   "cell_type": "code",
   "execution_count": 11,
   "metadata": {},
   "outputs": [],
   "source": [
    "def latent_interpolation(bg, x1, x2, nstep=1000, through_origin=False):\n",
    "    lambdas = np.array([np.linspace(0, 1, num=nstep)]).T\n",
    "    x1 = np.array([x1])\n",
    "    x2 = np.array([x2])\n",
    "    z1 = bg.transform_xz(x1)\n",
    "    z2 = bg.transform_xz(x2)\n",
    "    if through_origin:\n",
    "        zpath1 = z1 * (1-lambdas[::2])\n",
    "        zpath2 = z2 * (lambdas[::2]) \n",
    "        zpath = np.vstack([zpath1, zpath2])\n",
    "    else:\n",
    "        zpath = z1 + lambdas*(z2-z1)\n",
    "    xpath = bg.transform_zx(zpath)\n",
    "    return xpath"
   ]
  },
  {
   "cell_type": "code",
   "execution_count": 12,
   "metadata": {},
   "outputs": [],
   "source": [
    "def low_energy_fraction(energies, Emax):\n",
    "    low_energy_count = [np.count_nonzero(E<Emax) for E in energies]\n",
    "    sizes = [E.size for E in energies]\n",
    "    low_energy_fraction = np.array(low_energy_count) / sizes\n",
    "    return low_energy_fraction"
   ]
  },
  {
   "cell_type": "code",
   "execution_count": 13,
   "metadata": {},
   "outputs": [],
   "source": [
    "def plot_convergence(hist_ML, hist_KL, enerx_cut, enerz_cut, MLcol=1, KLcol=2):\n",
    "    fig, axes = plt.subplots(nrows=3, ncols=1, figsize=(5, 10))\n",
    "    niter1 = len(hist_ML[0])\n",
    "    niter2 = hist_KL[1].shape[0]\n",
    "    niter = niter1 + niter2\n",
    "    # ML loss\n",
    "    losses_ML = np.concatenate([hist_ML[0], hist_KL[1][:, MLcol]])\n",
    "    xticks = np.arange(niter1 + niter2) + 1\n",
    "    axes[0].plot(xticks, losses_ML, color='black')\n",
    "    axes[0].set_xlim(0, niter + 1)\n",
    "    axes[0].set_ylabel('ML loss')\n",
    "    axes[0].axvline(x=200, color='red', linestyle='--', linewidth=3)\n",
    "    # KL loss\n",
    "    losses_KL = hist_KL[1][:, KLcol]\n",
    "    xticks = np.arange(niter1, niter1 + niter2) + 1\n",
    "    axes[1].plot(xticks, losses_KL, color='black')\n",
    "    axes[1].set_xlim(0, niter + 1)\n",
    "    axes[1].set_ylabel('KL loss')\n",
    "    axes[1].axvline(x=200, color='red', linestyle='--', linewidth=3)\n",
    "    # low energy fractions\n",
    "    enerx = hist_ML[2] + hist_KL[3]\n",
    "    enerz = hist_ML[3] + hist_KL[4]\n",
    "    lef_x = low_energy_fraction(enerx, enerx_cut)\n",
    "    lef_z = low_energy_fraction(enerz, enerz_cut)\n",
    "    axes[2].plot(lef_x, color='black', label='x')\n",
    "    axes[2].plot(lef_z, color='blue', label='z')\n",
    "    axes[2].set_xlim(0, niter + 1)\n",
    "    axes[2].set_ylim(0, 1.05)\n",
    "    axes[2].axvline(x=200, color='red', linestyle='--', linewidth=3)\n",
    "    axes[2].set_ylabel('Training iterations')\n",
    "    axes[2].set_ylabel('Low energy fraction')\n",
    "    axes[2].legend()\n",
    "    return fig, axes"
   ]
  },
  {
   "cell_type": "code",
   "execution_count": 14,
   "metadata": {},
   "outputs": [],
   "source": [
    "top = '/home/mohit.kumargupta/system.pdb'\n",
    "filename = '/home/mohit.kumargupta/FoldedTRPCage.xtc'"
   ]
  },
  {
   "cell_type": "code",
   "execution_count": 15,
   "metadata": {},
   "outputs": [],
   "source": [
    "traj = md.load(filename,top = top)\n",
    "import ast\n",
    "#params = ast.literal_eval(str(trajdict['params']))\n",
    "x = traj[:].xyz\n"
   ]
  },
  {
   "cell_type": "code",
   "execution_count": null,
   "metadata": {},
   "outputs": [],
   "source": [
    "print(x)"
   ]
  },
  {
   "cell_type": "code",
   "execution_count": 16,
   "metadata": {},
   "outputs": [],
   "source": [
    "topology = traj.topology"
   ]
  },
  {
   "cell_type": "code",
   "execution_count": 21,
   "metadata": {},
   "outputs": [
    {
     "name": "stdout",
     "output_type": "stream",
     "text": [
      "[  0   1   2   3  14  15  16  17  24  25  26  27  45  46  47  48  55  56\n",
      "  57  58  72  73  74  75  96  97  98  99 115 116 117 118 125 126 127 128\n",
      " 137 138 139 140 144 145 146 147 151 152 153 154 165 166 167 168 176 177\n",
      " 178 179 187 188 189 190 194 195 196 197 218 219 220 221 232 233 234 235\n",
      " 246 247 248 249 260 261 262 263]\n"
     ]
    }
   ],
   "source": [
    "print(topology.select('backbone'))"
   ]
  },
  {
   "cell_type": "code",
   "execution_count": 17,
   "metadata": {},
   "outputs": [],
   "source": [
    "index = topology.select('backbone')\n"
   ]
  },
  {
   "cell_type": "code",
   "execution_count": 18,
   "metadata": {},
   "outputs": [
    {
     "name": "stdout",
     "output_type": "stream",
     "text": [
      "[4, 5, 6, 7, 8, 9, 10, 11, 12, 13, 18, 19, 20, 21, 22, 23, 28, 29, 30, 31, 32, 33, 34, 35, 36, 37, 38, 39, 40, 41, 42, 43, 44, 49, 50, 51, 52, 53, 54, 59, 60, 61, 62, 63, 64, 65, 66, 67, 68, 69, 70, 71, 76, 77, 78, 79, 80, 81, 82, 83, 84, 85, 86, 87, 88, 89, 90, 91, 92, 93, 94, 95, 100, 101, 102, 103, 104, 105, 106, 107, 108, 109, 110, 111, 112, 113, 114, 119, 120, 121, 122, 123, 124, 129, 130, 131, 132, 133, 134, 135, 136, 141, 142, 143, 148, 149, 150, 155, 156, 157, 158, 159, 160, 161, 162, 163, 164, 169, 170, 171, 172, 173, 174, 175, 180, 181, 182, 183, 184, 185, 186, 191, 192, 193, 198, 199, 200, 201, 202, 203, 204, 205, 206, 207, 208, 209, 210, 211, 212, 213, 214, 215, 216, 217, 222, 223, 224, 225, 226, 227, 228, 229, 230, 231, 236, 237, 238, 239, 240, 241, 242, 243, 244, 245, 250, 251, 252, 253, 254, 255, 256, 257, 258, 259, 264, 265, 266, 267, 268, 269, 270, 271]\n"
     ]
    }
   ],
   "source": [
    "IC_Index = []\n",
    "for i in range(272):\n",
    "    if(i not in index):\n",
    "        IC_Index.append(i)\n",
    "\n",
    "print(IC_Index)"
   ]
  },
  {
   "cell_type": "code",
   "execution_count": 21,
   "metadata": {},
   "outputs": [],
   "source": [
    "batchsize_ML =  256\n",
    "batchsize_KL = 1000\n",
    "modeller = Modeller(PDBObject.topology, PDBObject.positions)"
   ]
  },
  {
   "cell_type": "code",
   "execution_count": 22,
   "metadata": {},
   "outputs": [],
   "source": [
    "integrator = LangevinIntegrator(300* kelvin,\n",
    "                   1.0/ picosecond,\n",
    "                    0.002*picoseconds)"
   ]
  },
  {
   "cell_type": "code",
   "execution_count": 23,
   "metadata": {},
   "outputs": [],
   "source": [
    "forcefield = ForceField('amber99sb.xml', 'tip3p.xml')\n",
    "# setup BPTI\n",
    "INTEGRATOR_ARGS = (300* kelvin,\n",
    "                   1.0/ picoseconds,\n",
    "                    0.002*picoseconds)"
   ]
  },
  {
   "cell_type": "code",
   "execution_count": 24,
   "metadata": {},
   "outputs": [],
   "source": [
    "PDBObject = PDBFile(top)"
   ]
  },
  {
   "cell_type": "code",
   "execution_count": 25,
   "metadata": {},
   "outputs": [],
   "source": [
    "system = forcefield.createSystem(modeller.topology, nonbondedMethod= CutoffNonPeriodic, nonbondedCutoff=1.0*nanometers, constraints= AllBonds)"
   ]
  },
  {
   "cell_type": "code",
   "execution_count": 26,
   "metadata": {},
   "outputs": [],
   "source": [
    "from deep_boltzmann.models.proteins import mdtraj2Z\n",
    "Z_ = np.array(mdtraj2Z(topology))"
   ]
  },
  {
   "cell_type": "code",
   "execution_count": 27,
   "metadata": {},
   "outputs": [
    {
     "name": "stdout",
     "output_type": "stream",
     "text": [
      "<Topology; 1 chains, 20 residues, 272 atoms, 278 bonds>\n"
     ]
    }
   ],
   "source": [
    "print(modeller.topology)"
   ]
  },
  {
   "cell_type": "code",
   "execution_count": 28,
   "metadata": {},
   "outputs": [
    {
     "name": "stdout",
     "output_type": "stream",
     "text": [
      "[[ 11   0   1   2]\n",
      " [  3   2   1   0]\n",
      " [  8   1   0   2]\n",
      " [  4   1   0   2]\n",
      " [  5   4   1   0]\n",
      " [  6   5   4   1]\n",
      " [  7   5   4   6]\n",
      " [  9   4   1   5]\n",
      " [ 10   4   1   5]\n",
      " [ 12   0   1  11]\n",
      " [ 13   0   1  12]\n",
      " [ 19  14  15  16]\n",
      " [ 17  16  15  14]\n",
      " [ 20  15  14  16]\n",
      " [ 18  15  14  16]\n",
      " [ 21  18  15  14]\n",
      " [ 22  18  15  21]\n",
      " [ 23  18  15  22]\n",
      " [ 36  24  25  26]\n",
      " [ 27  26  25  24]\n",
      " [ 37  25  24  26]\n",
      " [ 28  25  24  26]\n",
      " [ 29  28  25  24]\n",
      " [ 30  29  28  25]\n",
      " [ 31  29  28  30]\n",
      " [ 32  30  29  28]\n",
      " [ 33  31  29  30]\n",
      " [ 34  32  33  30]\n",
      " [ 35  34  32  33]\n",
      " [ 38  28  25  29]\n",
      " [ 39  28  25  29]\n",
      " [ 40  30  29  32]\n",
      " [ 41  31  29  33]\n",
      " [ 42  32  30  34]\n",
      " [ 43  33  31  34]\n",
      " [ 44  35  34  32]\n",
      " [ 50  45  46  47]\n",
      " [ 48  47  46  45]\n",
      " [ 51  46  45  47]\n",
      " [ 49  46  45  47]\n",
      " [ 52  49  46  45]\n",
      " [ 53  49  46  52]\n",
      " [ 54  49  46  53]\n",
      " [ 64  55  56  57]\n",
      " [ 58  57  56  55]\n",
      " [ 65  56  55  57]\n",
      " [ 59  56  55  57]\n",
      " [ 60  59  56  55]\n",
      " [ 61  60  59  56]\n",
      " [ 63  61  60  59]\n",
      " [ 62  61  60  63]\n",
      " [ 66  59  56  60]\n",
      " [ 67  59  56  60]\n",
      " [ 68  60  59  61]\n",
      " [ 69  60  59  61]\n",
      " [ 70  62  61  60]\n",
      " [ 71  62  61  70]\n",
      " [ 86  72  73  74]\n",
      " [ 75  74  73  72]\n",
      " [ 87  73  72  74]\n",
      " [104  96  97  98]\n",
      " [ 99  98  97  96]\n",
      " [105  97  96  98]\n",
      " [100  97  96  98]\n",
      " [101 100  97  96]\n",
      " [102 101 100  97]\n",
      " [103 101 102 100]\n",
      " [106 100  97 101]\n",
      " [107 100  97 101]\n",
      " [108 101 102 103]\n",
      " [109 102 101 100]\n",
      " [112 103 101 100]\n",
      " [110 102 101 109]\n",
      " [111 102 101 110]\n",
      " [113 103 101 112]\n",
      " [114 103 101 113]\n",
      " [120 115 116 117]\n",
      " [118 117 116 115]\n",
      " [121 116 115 117]\n",
      " [119 116 115 117]\n",
      " [122 119 116 115]\n",
      " [123 119 116 122]\n",
      " [124 119 116 123]\n",
      " [133 125 126 127]\n",
      " [128 127 126 125]\n",
      " [134 126 125 127]\n",
      " [129 126 125 127]\n",
      " [130 129 126 125]\n",
      " [131 130 129 126]\n",
      " [132 130 129 131]\n",
      " [135 129 126 130]\n",
      " [136 129 126 130]\n",
      " [141 137 138 139]\n",
      " [140 139 138 137]\n",
      " [142 138 137 139]\n",
      " [143 138 139 137]\n",
      " [148 144 145 146]\n",
      " [147 146 145 144]\n",
      " [149 145 144 146]\n",
      " [150 145 146 144]\n",
      " [154 153 152 151]\n",
      " [158 152 151 153]\n",
      " [155 152 151 153]\n",
      " [156 155 152 151]\n",
      " [157 156 155 152]\n",
      " [159 155 152 156]\n",
      " [160 155 152 156]\n",
      " [161 156 155 157]\n",
      " [162 156 155 157]\n",
      " [163 157 156 151]\n",
      " [164 157 156 151]\n",
      " [171 165 166 167]\n",
      " [168 167 166 165]\n",
      " [172 166 165 167]\n",
      " [169 166 165 167]\n",
      " [170 169 166 165]\n",
      " [173 169 166 170]\n",
      " [174 169 166 170]\n",
      " [175 170 169 166]\n",
      " [182 176 177 178]\n",
      " [179 178 177 176]\n",
      " [183 177 176 178]\n",
      " [180 177 176 178]\n",
      " [181 180 177 176]\n",
      " [184 180 177 181]\n",
      " [185 180 177 181]\n",
      " [186 181 180 177]\n",
      " [191 187 188 189]\n",
      " [190 189 188 187]\n",
      " [192 188 187 189]\n",
      " [193 188 189 187]\n",
      " [205 194 195 196]\n",
      " [197 196 195 194]\n",
      " [206 195 194 196]\n",
      " [198 195 194 196]\n",
      " [199 198 195 194]\n",
      " [200 199 198 195]\n",
      " [201 200 199 198]\n",
      " [202 201 200 199]\n",
      " [203 202 201 200]\n",
      " [204 202 201 203]\n",
      " [207 198 195 199]\n",
      " [208 198 195 199]\n",
      " [209 199 198 200]\n",
      " [210 199 198 200]\n",
      " [211 200 199 201]\n",
      " [212 200 199 201]\n",
      " [213 201 200 202]\n",
      " [214 203 202 201]\n",
      " [215 203 202 214]\n",
      " [216 204 202 201]\n",
      " [217 204 202 216]\n",
      " [221 220 219 218]\n",
      " [225 219 218 220]\n",
      " [222 219 218 220]\n",
      " [223 222 219 218]\n",
      " [224 223 222 219]\n",
      " [226 222 219 223]\n",
      " [227 222 219 223]\n",
      " [228 223 222 224]\n",
      " [229 223 222 224]\n",
      " [230 224 223 218]\n",
      " [231 224 223 218]\n",
      " [235 234 233 232]\n",
      " [239 233 232 234]\n",
      " [236 233 232 234]\n",
      " [237 236 233 232]\n",
      " [238 237 236 233]\n",
      " [240 236 233 237]\n",
      " [241 236 233 237]\n",
      " [242 237 236 238]\n",
      " [243 237 236 238]\n",
      " [244 238 237 232]\n",
      " [245 238 237 232]\n",
      " [249 248 247 246]\n",
      " [253 247 246 248]\n",
      " [250 247 246 248]\n",
      " [251 250 247 246]\n",
      " [252 251 250 247]\n",
      " [254 250 247 251]\n",
      " [255 250 247 251]\n",
      " [256 251 250 252]\n",
      " [257 251 250 252]\n",
      " [258 252 251 246]\n",
      " [259 252 251 246]\n",
      " [267 260 261 262]\n",
      " [263 262 261 260]\n",
      " [268 261 260 262]\n",
      " [264 261 260 262]\n",
      " [265 264 261 260]\n",
      " [269 264 261 265]\n",
      " [270 264 261 265]\n",
      " [271 265 264 261]\n",
      " [266 262 261 263]]\n"
     ]
    }
   ],
   "source": [
    "print (Z_)"
   ]
  },
  {
   "cell_type": "code",
   "execution_count": 29,
   "metadata": {},
   "outputs": [],
   "source": [
    "EnergyModel = OpenMMEnergy(system, LangevinIntegrator , nanometers, n_atoms= 272, openmm_integrator_args=INTEGRATOR_ARGS )"
   ]
  },
  {
   "cell_type": "code",
   "execution_count": 30,
   "metadata": {},
   "outputs": [
    {
     "name": "stdout",
     "output_type": "stream",
     "text": [
      "15\n"
     ]
    }
   ],
   "source": [
    "print(index[5])"
   ]
  },
  {
   "cell_type": "code",
   "execution_count": 31,
   "metadata": {},
   "outputs": [
    {
     "ename": "NameError",
     "evalue": "name 'new' is not defined",
     "output_type": "error",
     "traceback": [
      "\u001b[0;31m---------------------------------------------------------------------------\u001b[0m",
      "\u001b[0;31mNameError\u001b[0m                                 Traceback (most recent call last)",
      "\u001b[0;32m<ipython-input-31-9fa04082dbf1>\u001b[0m in \u001b[0;36m<module>\u001b[0;34m\u001b[0m\n\u001b[0;32m----> 1\u001b[0;31m \u001b[0mprint\u001b[0m\u001b[0;34m(\u001b[0m\u001b[0mnp\u001b[0m\u001b[0;34m.\u001b[0m\u001b[0marray\u001b[0m\u001b[0;34m(\u001b[0m\u001b[0mnew\u001b[0m\u001b[0;34m)\u001b[0m\u001b[0;34m[\u001b[0m\u001b[0;36m0\u001b[0m\u001b[0;34m,\u001b[0m\u001b[0;34m]\u001b[0m \u001b[0;34m)\u001b[0m\u001b[0;34m\u001b[0m\u001b[0;34m\u001b[0m\u001b[0m\n\u001b[0m",
      "\u001b[0;31mNameError\u001b[0m: name 'new' is not defined"
     ]
    }
   ],
   "source": [
    "print(np.array(new)[0,] )"
   ]
  },
  {
   "cell_type": "code",
   "execution_count": null,
   "metadata": {},
   "outputs": [],
   "source": [
    "data = np.array([[11, 22], [33, 44], [55, 66]])\n",
    "# index data\n",
    "print(data[0,])"
   ]
  },
  {
   "cell_type": "code",
   "execution_count": 32,
   "metadata": {},
   "outputs": [],
   "source": [
    "new=[]\n",
    "for snapshot in x:\n",
    "    new.append(snapshot.flatten('F'))"
   ]
  },
  {
   "cell_type": "code",
   "execution_count": 33,
   "metadata": {},
   "outputs": [
    {
     "name": "stdout",
     "output_type": "stream",
     "text": [
      "816\n"
     ]
    }
   ],
   "source": [
    "print(len(new[0]))"
   ]
  },
  {
   "cell_type": "code",
   "execution_count": 34,
   "metadata": {},
   "outputs": [],
   "source": []
  },
  {
   "cell_type": "code",
   "execution_count": 44,
   "metadata": {},
   "outputs": [
    {
     "name": "stdout",
     "output_type": "stream",
     "text": [
      "I<RRRRRRRR>\n",
      "I 816 0 0\n"
     ]
    },
    {
     "name": "stderr",
     "output_type": "stream",
     "text": [
      "/home/mohit.kumargupta/deep_boltzmann/deep_boltzmann/models/MM.py:20: RuntimeWarning: invalid value encountered in arccos\n",
      "  angle = np.degrees(np.arccos(cosine_angle))\n"
     ]
    },
    {
     "name": "stdout",
     "output_type": "stream",
     "text": [
      "< 810 0 6\n",
      "R 405 405 6\n",
      "R 405 405 6\n",
      "R 405 405 6\n",
      "R 405 405 6\n",
      "R 405 405 6\n",
      "R 405 405 6\n",
      "R 405 405 6\n",
      "R 405 405 6\n",
      "> 405 405 6\n"
     ]
    }
   ],
   "source": [
    "bg = invnet(3*272, 'RRRRRRRR', energy_model=EnergyModel, nl_layers=4, nl_hidden=100, #100\n",
    "            nl_activation='relu', nl_activation_scale='tanh', whiten=None, ic_cart = index, ic = Z_, ic_norm = np.array(new) )"
   ]
  },
  {
   "cell_type": "code",
   "execution_count": 45,
   "metadata": {},
   "outputs": [
    {
     "ename": "InternalError",
     "evalue": "cudaGetDevice() failed. Status: CUDA driver version is insufficient for CUDA runtime version",
     "output_type": "error",
     "traceback": [
      "\u001b[0;31m---------------------------------------------------------------------------\u001b[0m",
      "\u001b[0;31mInternalError\u001b[0m                             Traceback (most recent call last)",
      "\u001b[0;32m~/anaconda3/lib/python3.7/site-packages/tensorflow/python/keras/api/_v1/keras/models/__init__.py\u001b[0m in \u001b[0;36m<module>\u001b[0;34m\u001b[0m\n\u001b[1;32m      1\u001b[0m hist_bg_ML = bg.train_ML(np.array(new), xval = np.array(new) , epochs=200, lr=0.00001, batch_size=batchsize_ML, \n\u001b[1;32m      2\u001b[0m \u001b[0;34m\u001b[0m\u001b[0m\n\u001b[0;32m----> 3\u001b[0;31m                          std=1.0, verbose=1, return_test_energies=True)\n\u001b[0m",
      "\u001b[0;32m~/deep_boltzmann/deep_boltzmann/networks/invertible.py\u001b[0m in \u001b[0;36mtrain_ML\u001b[0;34m(self, x, xval, optimizer, lr, clipnorm, epochs, batch_size, std, reg_Jxz, verbose, return_test_energies)\u001b[0m\n\u001b[1;32m    280\u001b[0m             \u001b[0;31m# sample batch\u001b[0m\u001b[0;34m\u001b[0m\u001b[0;34m\u001b[0m\u001b[0;34m\u001b[0m\u001b[0m\n\u001b[1;32m    281\u001b[0m             \u001b[0mx_batch\u001b[0m \u001b[0;34m=\u001b[0m \u001b[0mx\u001b[0m\u001b[0;34m[\u001b[0m\u001b[0mnp\u001b[0m\u001b[0;34m.\u001b[0m\u001b[0mrandom\u001b[0m\u001b[0;34m.\u001b[0m\u001b[0mchoice\u001b[0m\u001b[0;34m(\u001b[0m\u001b[0mI\u001b[0m\u001b[0;34m,\u001b[0m \u001b[0msize\u001b[0m\u001b[0;34m=\u001b[0m\u001b[0mbatch_size\u001b[0m\u001b[0;34m,\u001b[0m \u001b[0mreplace\u001b[0m\u001b[0;34m=\u001b[0m\u001b[0;32mTrue\u001b[0m\u001b[0;34m)\u001b[0m\u001b[0;34m]\u001b[0m\u001b[0;34m\u001b[0m\u001b[0;34m\u001b[0m\u001b[0m\n\u001b[0;32m--> 282\u001b[0;31m             \u001b[0ml\u001b[0m \u001b[0;34m=\u001b[0m \u001b[0mself\u001b[0m\u001b[0;34m.\u001b[0m\u001b[0mTxz\u001b[0m\u001b[0;34m.\u001b[0m\u001b[0mtrain_on_batch\u001b[0m\u001b[0;34m(\u001b[0m\u001b[0mx\u001b[0m\u001b[0;34m=\u001b[0m\u001b[0mx_batch\u001b[0m\u001b[0;34m,\u001b[0m \u001b[0my\u001b[0m\u001b[0;34m=\u001b[0m\u001b[0my\u001b[0m\u001b[0;34m)\u001b[0m\u001b[0;34m\u001b[0m\u001b[0;34m\u001b[0m\u001b[0m\n\u001b[0m\u001b[1;32m    283\u001b[0m             \u001b[0mloss_train\u001b[0m\u001b[0;34m.\u001b[0m\u001b[0mappend\u001b[0m\u001b[0;34m(\u001b[0m\u001b[0ml\u001b[0m\u001b[0;34m)\u001b[0m\u001b[0;34m\u001b[0m\u001b[0;34m\u001b[0m\u001b[0m\n\u001b[1;32m    284\u001b[0m \u001b[0;34m\u001b[0m\u001b[0m\n",
      "\u001b[0;32m~/anaconda3/lib/python3.7/site-packages/keras/engine/training.py\u001b[0m in \u001b[0;36mtrain_on_batch\u001b[0;34m(self, x, y, sample_weight, class_weight)\u001b[0m\n\u001b[1;32m   1215\u001b[0m             \u001b[0mins\u001b[0m \u001b[0;34m=\u001b[0m \u001b[0mx\u001b[0m \u001b[0;34m+\u001b[0m \u001b[0my\u001b[0m \u001b[0;34m+\u001b[0m \u001b[0msample_weights\u001b[0m\u001b[0;34m\u001b[0m\u001b[0;34m\u001b[0m\u001b[0m\n\u001b[1;32m   1216\u001b[0m         \u001b[0mself\u001b[0m\u001b[0;34m.\u001b[0m\u001b[0m_make_train_function\u001b[0m\u001b[0;34m(\u001b[0m\u001b[0;34m)\u001b[0m\u001b[0;34m\u001b[0m\u001b[0;34m\u001b[0m\u001b[0m\n\u001b[0;32m-> 1217\u001b[0;31m         \u001b[0moutputs\u001b[0m \u001b[0;34m=\u001b[0m \u001b[0mself\u001b[0m\u001b[0;34m.\u001b[0m\u001b[0mtrain_function\u001b[0m\u001b[0;34m(\u001b[0m\u001b[0mins\u001b[0m\u001b[0;34m)\u001b[0m\u001b[0;34m\u001b[0m\u001b[0;34m\u001b[0m\u001b[0m\n\u001b[0m\u001b[1;32m   1218\u001b[0m         \u001b[0;32mreturn\u001b[0m \u001b[0munpack_singleton\u001b[0m\u001b[0;34m(\u001b[0m\u001b[0moutputs\u001b[0m\u001b[0;34m)\u001b[0m\u001b[0;34m\u001b[0m\u001b[0;34m\u001b[0m\u001b[0m\n\u001b[1;32m   1219\u001b[0m \u001b[0;34m\u001b[0m\u001b[0m\n",
      "\u001b[0;32m~/anaconda3/lib/python3.7/site-packages/keras/backend/tensorflow_backend.py\u001b[0m in \u001b[0;36m__call__\u001b[0;34m(self, inputs)\u001b[0m\n\u001b[1;32m   2695\u001b[0m \u001b[0;34m\u001b[0m\u001b[0m\n\u001b[1;32m   2696\u001b[0m     \u001b[0;32mdef\u001b[0m \u001b[0m__call__\u001b[0m\u001b[0;34m(\u001b[0m\u001b[0mself\u001b[0m\u001b[0;34m,\u001b[0m \u001b[0minputs\u001b[0m\u001b[0;34m)\u001b[0m\u001b[0;34m:\u001b[0m\u001b[0;34m\u001b[0m\u001b[0;34m\u001b[0m\u001b[0m\n\u001b[0;32m-> 2697\u001b[0;31m         \u001b[0;32mif\u001b[0m \u001b[0mhasattr\u001b[0m\u001b[0;34m(\u001b[0m\u001b[0mget_session\u001b[0m\u001b[0;34m(\u001b[0m\u001b[0;34m)\u001b[0m\u001b[0;34m,\u001b[0m \u001b[0;34m'_make_callable_from_options'\u001b[0m\u001b[0;34m)\u001b[0m\u001b[0;34m:\u001b[0m\u001b[0;34m\u001b[0m\u001b[0;34m\u001b[0m\u001b[0m\n\u001b[0m\u001b[1;32m   2698\u001b[0m             \u001b[0;32mif\u001b[0m \u001b[0mpy_any\u001b[0m\u001b[0;34m(\u001b[0m\u001b[0mis_sparse\u001b[0m\u001b[0;34m(\u001b[0m\u001b[0mx\u001b[0m\u001b[0;34m)\u001b[0m \u001b[0;32mfor\u001b[0m \u001b[0mx\u001b[0m \u001b[0;32min\u001b[0m \u001b[0mself\u001b[0m\u001b[0;34m.\u001b[0m\u001b[0minputs\u001b[0m\u001b[0;34m)\u001b[0m\u001b[0;34m:\u001b[0m\u001b[0;34m\u001b[0m\u001b[0;34m\u001b[0m\u001b[0m\n\u001b[1;32m   2699\u001b[0m                 \u001b[0;32mif\u001b[0m \u001b[0mpy_any\u001b[0m\u001b[0;34m(\u001b[0m\u001b[0mis_tensor\u001b[0m\u001b[0;34m(\u001b[0m\u001b[0mx\u001b[0m\u001b[0;34m)\u001b[0m \u001b[0;32mfor\u001b[0m \u001b[0mx\u001b[0m \u001b[0;32min\u001b[0m \u001b[0minputs\u001b[0m\u001b[0;34m)\u001b[0m\u001b[0;34m:\u001b[0m\u001b[0;34m\u001b[0m\u001b[0;34m\u001b[0m\u001b[0m\n",
      "\u001b[0;32m~/anaconda3/lib/python3.7/site-packages/keras/backend/tensorflow_backend.py\u001b[0m in \u001b[0;36mget_session\u001b[0;34m()\u001b[0m\n\u001b[1;32m    184\u001b[0m                 config = tf.ConfigProto(intra_op_parallelism_threads=num_thread,\n\u001b[1;32m    185\u001b[0m                                         allow_soft_placement=True)\n\u001b[0;32m--> 186\u001b[0;31m             \u001b[0m_SESSION\u001b[0m \u001b[0;34m=\u001b[0m \u001b[0mtf\u001b[0m\u001b[0;34m.\u001b[0m\u001b[0mSession\u001b[0m\u001b[0;34m(\u001b[0m\u001b[0mconfig\u001b[0m\u001b[0;34m=\u001b[0m\u001b[0mconfig\u001b[0m\u001b[0;34m)\u001b[0m\u001b[0;34m\u001b[0m\u001b[0;34m\u001b[0m\u001b[0m\n\u001b[0m\u001b[1;32m    187\u001b[0m         \u001b[0msession\u001b[0m \u001b[0;34m=\u001b[0m \u001b[0m_SESSION\u001b[0m\u001b[0;34m\u001b[0m\u001b[0;34m\u001b[0m\u001b[0m\n\u001b[1;32m    188\u001b[0m     \u001b[0;32mif\u001b[0m \u001b[0;32mnot\u001b[0m \u001b[0m_MANUAL_VAR_INIT\u001b[0m\u001b[0;34m:\u001b[0m\u001b[0;34m\u001b[0m\u001b[0;34m\u001b[0m\u001b[0m\n",
      "\u001b[0;32m~/anaconda3/lib/python3.7/site-packages/tensorflow/python/client/session.py\u001b[0m in \u001b[0;36m__init__\u001b[0;34m(self, target, graph, config)\u001b[0m\n\u001b[1;32m   1568\u001b[0m \u001b[0;34m\u001b[0m\u001b[0m\n\u001b[1;32m   1569\u001b[0m     \"\"\"\n\u001b[0;32m-> 1570\u001b[0;31m     \u001b[0msuper\u001b[0m\u001b[0;34m(\u001b[0m\u001b[0mSession\u001b[0m\u001b[0;34m,\u001b[0m \u001b[0mself\u001b[0m\u001b[0;34m)\u001b[0m\u001b[0;34m.\u001b[0m\u001b[0m__init__\u001b[0m\u001b[0;34m(\u001b[0m\u001b[0mtarget\u001b[0m\u001b[0;34m,\u001b[0m \u001b[0mgraph\u001b[0m\u001b[0;34m,\u001b[0m \u001b[0mconfig\u001b[0m\u001b[0;34m=\u001b[0m\u001b[0mconfig\u001b[0m\u001b[0;34m)\u001b[0m\u001b[0;34m\u001b[0m\u001b[0;34m\u001b[0m\u001b[0m\n\u001b[0m\u001b[1;32m   1571\u001b[0m     \u001b[0;31m# NOTE(mrry): Create these on first `__enter__` to avoid a reference cycle.\u001b[0m\u001b[0;34m\u001b[0m\u001b[0;34m\u001b[0m\u001b[0;34m\u001b[0m\u001b[0m\n\u001b[1;32m   1572\u001b[0m     \u001b[0mself\u001b[0m\u001b[0;34m.\u001b[0m\u001b[0m_default_graph_context_manager\u001b[0m \u001b[0;34m=\u001b[0m \u001b[0;32mNone\u001b[0m\u001b[0;34m\u001b[0m\u001b[0;34m\u001b[0m\u001b[0m\n",
      "\u001b[0;32m~/anaconda3/lib/python3.7/site-packages/tensorflow/python/client/session.py\u001b[0m in \u001b[0;36m__init__\u001b[0;34m(self, target, graph, config)\u001b[0m\n\u001b[1;32m    691\u001b[0m     \u001b[0;32mtry\u001b[0m\u001b[0;34m:\u001b[0m\u001b[0;34m\u001b[0m\u001b[0;34m\u001b[0m\u001b[0m\n\u001b[1;32m    692\u001b[0m       \u001b[0;31m# pylint: disable=protected-access\u001b[0m\u001b[0;34m\u001b[0m\u001b[0;34m\u001b[0m\u001b[0;34m\u001b[0m\u001b[0m\n\u001b[0;32m--> 693\u001b[0;31m       \u001b[0mself\u001b[0m\u001b[0;34m.\u001b[0m\u001b[0m_session\u001b[0m \u001b[0;34m=\u001b[0m \u001b[0mtf_session\u001b[0m\u001b[0;34m.\u001b[0m\u001b[0mTF_NewSessionRef\u001b[0m\u001b[0;34m(\u001b[0m\u001b[0mself\u001b[0m\u001b[0;34m.\u001b[0m\u001b[0m_graph\u001b[0m\u001b[0;34m.\u001b[0m\u001b[0m_c_graph\u001b[0m\u001b[0;34m,\u001b[0m \u001b[0mopts\u001b[0m\u001b[0;34m)\u001b[0m\u001b[0;34m\u001b[0m\u001b[0;34m\u001b[0m\u001b[0m\n\u001b[0m\u001b[1;32m    694\u001b[0m       \u001b[0;31m# pylint: enable=protected-access\u001b[0m\u001b[0;34m\u001b[0m\u001b[0;34m\u001b[0m\u001b[0;34m\u001b[0m\u001b[0m\n\u001b[1;32m    695\u001b[0m     \u001b[0;32mfinally\u001b[0m\u001b[0;34m:\u001b[0m\u001b[0;34m\u001b[0m\u001b[0;34m\u001b[0m\u001b[0m\n",
      "\u001b[0;31mInternalError\u001b[0m: cudaGetDevice() failed. Status: CUDA driver version is insufficient for CUDA runtime version"
     ]
    }
   ],
   "source": [
    "hist_bg_ML = bg.train_ML(np.array(new), xval = np.array(new) , epochs=200, lr=0.00001, batch_size=batchsize_ML, \n",
    "\n",
    "                         std=1.0, verbose=1, return_test_energies=True)"
   ]
  },
  {
   "cell_type": "code",
   "execution_count": null,
   "metadata": {},
   "outputs": [],
   "source": []
  }
 ],
 "metadata": {
  "kernelspec": {
   "display_name": "Python 3",
   "language": "python",
   "name": "python3"
  },
  "language_info": {
   "codemirror_mode": {
    "name": "ipython",
    "version": 3
   },
   "file_extension": ".py",
   "mimetype": "text/x-python",
   "name": "python",
   "nbconvert_exporter": "python",
   "pygments_lexer": "ipython3",
   "version": "3.7.5"
  }
 },
 "nbformat": 4,
 "nbformat_minor": 2
}
