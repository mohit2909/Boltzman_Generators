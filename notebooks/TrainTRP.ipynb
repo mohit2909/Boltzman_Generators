{
 "cells": [
  {
   "cell_type": "code",
   "execution_count": 3,
   "metadata": {},
   "outputs": [
    {
     "name": "stderr",
     "output_type": "stream",
     "text": [
      "Using TensorFlow backend.\n"
     ]
    }
   ],
   "source": [
    "import sys \n",
    "sys.path.insert(0,'/home/mohit/Downloads/code_notebooks/deep_boltzmann')\n",
    "sys.path.insert(0,'/home/mohit/Downloads/code_notebooks/Scripts')\n",
    "import numpy as np\n",
    "import matplotlib.pyplot as plt\n",
    "from matplotlib import rcParams\n",
    "import keras\n",
    "import tensorflow as tf"
   ]
  },
  {
   "cell_type": "code",
   "execution_count": 4,
   "metadata": {},
   "outputs": [],
   "source": [
    "from IPython.display import SVG\n",
    "from keras.utils.vis_utils import model_to_dot"
   ]
  },
  {
   "cell_type": "code",
   "execution_count": 5,
   "metadata": {},
   "outputs": [],
   "source": [
    "rcParams.update({'font.size': 16})"
   ]
  },
  {
   "cell_type": "code",
   "execution_count": 6,
   "metadata": {},
   "outputs": [],
   "source": [
    "# Switch AUTORELOAD ON. Disable this when in production mode!\n",
    "%load_ext autoreload\n",
    "%autoreload 2"
   ]
  },
  {
   "cell_type": "code",
   "execution_count": 7,
   "metadata": {},
   "outputs": [],
   "source": [
    "from deep_boltzmann.models import ParticleDimer\n",
    "from deep_boltzmann.networks.invertible import invnet, EnergyInvNet, create_RealNVPNet\n",
    "from deep_boltzmann.sampling import GaussianPriorMCMC\n",
    "from deep_boltzmann.networks.plot import test_xz_projection, test_generate_x\n",
    "from deep_boltzmann.util import count_transitions\n",
    "from deep_boltzmann.sampling.analysis import free_energy_bootstrap, mean_finite, std_finite\n",
    "from deep_boltzmann.networks.training import MLTrainer, FlexibleTrainer\n",
    "from deep_boltzmann.util import save_obj, load_obj"
   ]
  },
  {
   "cell_type": "code",
   "execution_count": 8,
   "metadata": {},
   "outputs": [],
   "source": [
    "from deep_boltzmann.sampling.analysis import free_energy_bootstrap, mean_finite, std_finite"
   ]
  },
  {
   "cell_type": "code",
   "execution_count": 9,
   "metadata": {},
   "outputs": [],
   "source": [
    "from openmmtools.integrators import *"
   ]
  },
  {
   "cell_type": "code",
   "execution_count": 10,
   "metadata": {},
   "outputs": [],
   "source": [
    "from deep_boltzmann.models.openmm import OpenMMEnergy\n",
    "from deep_boltzmann import openmmutils\n",
    "import simtk\n",
    "from simtk import *\n",
    "from simtk.openmm import * \n",
    "from simtk.unit import *\n",
    "from simtk.openmm.app import *"
   ]
  },
  {
   "cell_type": "code",
   "execution_count": 11,
   "metadata": {},
   "outputs": [],
   "source": [
    "import mdtraj as md"
   ]
  },
  {
   "cell_type": "code",
   "execution_count": 12,
   "metadata": {},
   "outputs": [],
   "source": [
    "from QScore import NativeContacts, DistMatrix"
   ]
  },
  {
   "cell_type": "code",
   "execution_count": 11,
   "metadata": {},
   "outputs": [
    {
     "ename": "KeyboardInterrupt",
     "evalue": "",
     "output_type": "error",
     "traceback": [
      "\u001b[0;31m---------------------------------------------------------------------------\u001b[0m",
      "\u001b[0;31mKeyboardInterrupt\u001b[0m                         Traceback (most recent call last)",
      "\u001b[0;32m<ipython-input-11-5d3cb58d159d>\u001b[0m in \u001b[0;36m<module>\u001b[0;34m\u001b[0m\n\u001b[1;32m      1\u001b[0m \u001b[0mfilename\u001b[0m \u001b[0;34m=\u001b[0m \u001b[0;34m'/home/mohit/JoinedLongTraj.xtc'\u001b[0m\u001b[0;34m\u001b[0m\u001b[0;34m\u001b[0m\u001b[0m\n\u001b[1;32m      2\u001b[0m \u001b[0mtop\u001b[0m \u001b[0;34m=\u001b[0m \u001b[0;34m'/home/mohit/system.pdb'\u001b[0m\u001b[0;34m\u001b[0m\u001b[0;34m\u001b[0m\u001b[0m\n\u001b[0;32m----> 3\u001b[0;31m \u001b[0mnativeContacts\u001b[0m \u001b[0;34m=\u001b[0m \u001b[0mNativeContacts\u001b[0m\u001b[0;34m(\u001b[0m\u001b[0mfilename\u001b[0m\u001b[0;34m,\u001b[0m\u001b[0mtop\u001b[0m\u001b[0;34m)\u001b[0m\u001b[0;34m\u001b[0m\u001b[0;34m\u001b[0m\u001b[0m\n\u001b[0m",
      "\u001b[0;32m~/Downloads/code_notebooks/Scripts/QScore.py\u001b[0m in \u001b[0;36mNativeContacts\u001b[0;34m(filename, topologyFile)\u001b[0m\n\u001b[1;32m      3\u001b[0m \u001b[0;34m\u001b[0m\u001b[0m\n\u001b[1;32m      4\u001b[0m \u001b[0;32mdef\u001b[0m \u001b[0mNativeContacts\u001b[0m\u001b[0;34m(\u001b[0m\u001b[0mfilename\u001b[0m\u001b[0;34m,\u001b[0m \u001b[0mtopologyFile\u001b[0m\u001b[0;34m)\u001b[0m\u001b[0;34m:\u001b[0m\u001b[0;34m\u001b[0m\u001b[0;34m\u001b[0m\u001b[0m\n\u001b[0;32m----> 5\u001b[0;31m     \u001b[0mtraj\u001b[0m \u001b[0;34m=\u001b[0m \u001b[0mmd\u001b[0m\u001b[0;34m.\u001b[0m\u001b[0mload\u001b[0m\u001b[0;34m(\u001b[0m\u001b[0mfilename\u001b[0m\u001b[0;34m,\u001b[0m\u001b[0mtop\u001b[0m \u001b[0;34m=\u001b[0m \u001b[0mtopologyFile\u001b[0m\u001b[0;34m)\u001b[0m\u001b[0;34m\u001b[0m\u001b[0;34m\u001b[0m\u001b[0m\n\u001b[0m\u001b[1;32m      6\u001b[0m     \u001b[0mCA_Index\u001b[0m\u001b[0;34m=\u001b[0m \u001b[0;34m[\u001b[0m\u001b[0matom\u001b[0m\u001b[0;34m.\u001b[0m\u001b[0mindex\u001b[0m \u001b[0;32mfor\u001b[0m \u001b[0matom\u001b[0m \u001b[0;32min\u001b[0m \u001b[0mtraj\u001b[0m\u001b[0;34m.\u001b[0m\u001b[0mtopology\u001b[0m\u001b[0;34m.\u001b[0m\u001b[0matoms\u001b[0m \u001b[0;32mif\u001b[0m \u001b[0matom\u001b[0m\u001b[0;34m.\u001b[0m\u001b[0mname\u001b[0m   \u001b[0;34m==\u001b[0m \u001b[0;34m\"CA\"\u001b[0m \u001b[0;34m]\u001b[0m\u001b[0;34m\u001b[0m\u001b[0;34m\u001b[0m\u001b[0m\n\u001b[1;32m      7\u001b[0m     \u001b[0mCAtraj\u001b[0m \u001b[0;34m=\u001b[0m \u001b[0;34m[\u001b[0m\u001b[0;34m]\u001b[0m\u001b[0;34m\u001b[0m\u001b[0;34m\u001b[0m\u001b[0m\n",
      "\u001b[0;32m~/anaconda3/lib/python3.7/site-packages/mdtraj/core/trajectory.py\u001b[0m in \u001b[0;36mload\u001b[0;34m(filename_or_filenames, discard_overlapping_frames, **kwargs)\u001b[0m\n\u001b[1;32m    428\u001b[0m         \u001b[0m_assert_files_or_dirs_exist\u001b[0m\u001b[0;34m(\u001b[0m\u001b[0mfilename_or_filenames\u001b[0m\u001b[0;34m)\u001b[0m\u001b[0;34m\u001b[0m\u001b[0;34m\u001b[0m\u001b[0m\n\u001b[1;32m    429\u001b[0m \u001b[0;34m\u001b[0m\u001b[0m\n\u001b[0;32m--> 430\u001b[0;31m     \u001b[0mvalue\u001b[0m \u001b[0;34m=\u001b[0m \u001b[0mloader\u001b[0m\u001b[0;34m(\u001b[0m\u001b[0mfilename\u001b[0m\u001b[0;34m,\u001b[0m \u001b[0;34m**\u001b[0m\u001b[0mkwargs\u001b[0m\u001b[0;34m)\u001b[0m\u001b[0;34m\u001b[0m\u001b[0;34m\u001b[0m\u001b[0m\n\u001b[0m\u001b[1;32m    431\u001b[0m     \u001b[0;32mreturn\u001b[0m \u001b[0mvalue\u001b[0m\u001b[0;34m\u001b[0m\u001b[0;34m\u001b[0m\u001b[0m\n\u001b[1;32m    432\u001b[0m \u001b[0;34m\u001b[0m\u001b[0m\n",
      "\u001b[0;32mmdtraj/formats/xtc/xtc.pyx\u001b[0m in \u001b[0;36mmdtraj.formats.xtc.load_xtc\u001b[0;34m()\u001b[0m\n",
      "\u001b[0;32mmdtraj/formats/xtc/xtc.pyx\u001b[0m in \u001b[0;36mmdtraj.formats.xtc.load_xtc\u001b[0;34m()\u001b[0m\n",
      "\u001b[0;32mmdtraj/formats/xtc/xtc.pyx\u001b[0m in \u001b[0;36mmdtraj.formats.xtc.XTCTrajectoryFile.read_as_traj\u001b[0;34m()\u001b[0m\n",
      "\u001b[0;32mmdtraj/formats/xtc/xtc.pyx\u001b[0m in \u001b[0;36mmdtraj.formats.xtc.XTCTrajectoryFile.read\u001b[0;34m()\u001b[0m\n",
      "\u001b[0;32m~/anaconda3/lib/python3.7/site-packages/numpy/core/fromnumeric.py\u001b[0m in \u001b[0;36mall\u001b[0;34m(a, axis, out, keepdims)\u001b[0m\n\u001b[1;32m   2169\u001b[0m \u001b[0;34m\u001b[0m\u001b[0m\n\u001b[1;32m   2170\u001b[0m \u001b[0;34m\u001b[0m\u001b[0m\n\u001b[0;32m-> 2171\u001b[0;31m \u001b[0;34m@\u001b[0m\u001b[0marray_function_dispatch\u001b[0m\u001b[0;34m(\u001b[0m\u001b[0m_all_dispatcher\u001b[0m\u001b[0;34m)\u001b[0m\u001b[0;34m\u001b[0m\u001b[0;34m\u001b[0m\u001b[0m\n\u001b[0m\u001b[1;32m   2172\u001b[0m \u001b[0;32mdef\u001b[0m \u001b[0mall\u001b[0m\u001b[0;34m(\u001b[0m\u001b[0ma\u001b[0m\u001b[0;34m,\u001b[0m \u001b[0maxis\u001b[0m\u001b[0;34m=\u001b[0m\u001b[0;32mNone\u001b[0m\u001b[0;34m,\u001b[0m \u001b[0mout\u001b[0m\u001b[0;34m=\u001b[0m\u001b[0;32mNone\u001b[0m\u001b[0;34m,\u001b[0m \u001b[0mkeepdims\u001b[0m\u001b[0;34m=\u001b[0m\u001b[0mnp\u001b[0m\u001b[0;34m.\u001b[0m\u001b[0m_NoValue\u001b[0m\u001b[0;34m)\u001b[0m\u001b[0;34m:\u001b[0m\u001b[0;34m\u001b[0m\u001b[0;34m\u001b[0m\u001b[0m\n\u001b[1;32m   2173\u001b[0m     \"\"\"\n",
      "\u001b[0;31mKeyboardInterrupt\u001b[0m: "
     ]
    }
   ],
   "source": [
    "filename = '/home/mohit/JoinedLongTraj.xtc'\n",
    "top = '/home/mohit/system.pdb'\n",
    "nativeContacts = NativeContacts(filename,top)"
   ]
  },
  {
   "cell_type": "code",
   "execution_count": null,
   "metadata": {},
   "outputs": [],
   "source": [
    "disMatrix = DistMatrix(filename,top)"
   ]
  },
  {
   "cell_type": "code",
   "execution_count": null,
   "metadata": {},
   "outputs": [],
   "source": [
    "np.save('DistMatrix.npz',np.array(disMatrix))\n",
    "np.save('NativeContacts.npz', np.array(nativeContacts))"
   ]
  },
  {
   "cell_type": "code",
   "execution_count": 13,
   "metadata": {},
   "outputs": [],
   "source": [
    "import pickle"
   ]
  },
  {
   "cell_type": "code",
   "execution_count": 14,
   "metadata": {},
   "outputs": [],
   "source": [
    "disMatrix = np.load(\"DistMatrix.npz.npy\", allow_pickle=True)\n",
    "nativeContacts = np.load('NativeContacts.npz.npy', allow_pickle=True)"
   ]
  },
  {
   "cell_type": "code",
   "execution_count": 15,
   "metadata": {},
   "outputs": [
    {
     "name": "stdout",
     "output_type": "stream",
     "text": [
      "[[0.         0.38086346 0.60542053 0.90447503 0.95232505 1.0177466\n",
      "  1.2289256  1.420685   1.5123984  1.6824272  1.448112   1.5830606\n",
      "  1.9427571  1.9386197  1.8275663  1.5388496  1.3021647  0.9820988\n",
      "  0.6314658  0.6654871 ]\n",
      " [0.38086346 0.         0.3874597  0.5809871  0.581768   0.72573346\n",
      "  0.9293767  1.0663382  1.1818689  1.3872931  1.2104417  1.4101723\n",
      "  1.7346625  1.7185161  1.6727897  1.3663657  1.2190145  0.9344491\n",
      "  0.6015896  0.78941375]\n",
      " [0.60542053 0.3874597  0.         0.3795695  0.54858816 0.55470175\n",
      "  0.6433273  0.8903528  1.040485   1.1462082  0.97491646 1.1126856\n",
      "  1.4522358  1.5074211  1.4874724  1.246784   1.1348854  0.81287026\n",
      "  0.62331134 0.9348867 ]\n",
      " [0.90447503 0.5809871  0.3795695  0.         0.38602072 0.55355847\n",
      "  0.48210895 0.6210741  0.8825294  1.0150951  0.9785352  1.1754633\n",
      "  1.4462414  1.5068622  1.5797055  1.3436582  1.3363286  1.079102\n",
      "  0.92339265 1.247932  ]\n",
      " [0.95232505 0.581768   0.54858816 0.38602072 0.         0.38272053\n",
      "  0.5341695  0.5135377  0.6488344  0.91068    0.86097795 1.1589038\n",
      "  1.3877716  1.3490639  1.4202793  1.1247975  1.1555787  0.9864751\n",
      "  0.81858295 1.1264449 ]\n",
      " [1.0177466  0.72573346 0.55470175 0.55355847 0.38272053 0.\n",
      "  0.39329633 0.54146653 0.52190137 0.6778149  0.5087122  0.7951811\n",
      "  1.0497357  1.0197638  1.0585831  0.7933689  0.8346599  0.68302125\n",
      "  0.6605854  1.0236958 ]\n",
      " [1.2289256  0.9293767  0.6433273  0.48210895 0.5341695  0.39329633\n",
      "  0.         0.37699074 0.5598956  0.55450433 0.56769186 0.7646404\n",
      "  0.98143315 1.0712423  1.2026323  1.0408833  1.1381235  0.96471447\n",
      "  0.98694026 1.3638985 ]\n",
      " [1.420685   1.0663382  0.8903528  0.6210741  0.5135377  0.54146653\n",
      "  0.37699074 0.         0.37886807 0.5421707  0.7165208  1.010244\n",
      "  1.1175944  1.1261058  1.3272144  1.1314726  1.3051733  1.2087837\n",
      "  1.1913526  1.5433916 ]\n",
      " [1.5123984  1.1818689  1.040485   0.8825294  0.6488344  0.52190137\n",
      "  0.5598956  0.37886807 0.         0.3919235  0.521261   0.88451797\n",
      "  0.9326393  0.8303609  1.0346184  0.8254872  1.0708959  1.0835059\n",
      "  1.1341695  1.4665362 ]\n",
      " [1.6824272  1.3872931  1.1462082  1.0150951  0.91068    0.6778149\n",
      "  0.55450433 0.5421707  0.3919235  0.         0.38872743 0.6255302\n",
      "  0.59886897 0.62855    0.8996239  0.84132344 1.1122097  1.1193521\n",
      "  1.2730782  1.6323444 ]\n",
      " [1.448112   1.2104417  0.97491646 0.9785352  0.86097795 0.5087122\n",
      "  0.56769186 0.7165208  0.521261   0.38872743 0.         0.38391274\n",
      "  0.5511633  0.5381952  0.6386345  0.53568465 0.7420573  0.7467168\n",
      "  0.9582782  1.3066343 ]\n",
      " [1.5830606  1.4101723  1.1126856  1.1754633  1.1589038  0.7951811\n",
      "  0.7646404  1.010244   0.88451797 0.6255302  0.38391274 0.\n",
      "  0.39486203 0.5938039  0.6188724  0.71049637 0.83521855 0.80331874\n",
      "  1.1020018  1.4380807 ]\n",
      " [1.9427571  1.7346625  1.4522358  1.4462414  1.3877716  1.0497357\n",
      "  0.98143315 1.1175944  0.9326393  0.59886897 0.5511633  0.39486203\n",
      "  0.         0.38410807 0.5940598  0.80822587 1.0618032  1.1377527\n",
      "  1.4391178  1.7664518 ]\n",
      " [1.9386197  1.7185161  1.5074211  1.5068622  1.3490639  1.0197638\n",
      "  1.0712423  1.1261058  0.8303609  0.62855    0.5381952  0.5938039\n",
      "  0.38410807 0.         0.38124532 0.55836374 0.90229994 1.0912993\n",
      "  1.3786237  1.6701148 ]\n",
      " [1.8275663  1.6727897  1.4874724  1.5797055  1.4202793  1.0585831\n",
      "  1.2026323  1.3272144  1.0346184  0.8996239  0.6386345  0.6188724\n",
      "  0.5940598  0.38124532 0.         0.38892418 0.6326524  0.8845892\n",
      "  1.2215741  1.4594284 ]\n",
      " [1.5388496  1.3663657  1.246784   1.3436582  1.1247975  0.7933689\n",
      "  1.0408833  1.1314726  0.8254872  0.84132344 0.53568465 0.71049637\n",
      "  0.80822587 0.55836374 0.38892418 0.         0.39008084 0.66838914\n",
      "  0.9286986  1.1607676 ]\n",
      " [1.3021647  1.2190145  1.1348854  1.3363286  1.1555787  0.8346599\n",
      "  1.1381235  1.3051733  1.0708959  1.1122097  0.7420573  0.83521855\n",
      "  1.0618032  0.90229994 0.6326524  0.39008084 0.         0.38410804\n",
      "  0.6712869  0.83842355]\n",
      " [0.9820988  0.9344491  0.81287026 1.079102   0.9864751  0.68302125\n",
      "  0.96471447 1.2087837  1.0835059  1.1193521  0.7467168  0.80331874\n",
      "  1.1377527  1.0912993  0.8845892  0.66838914 0.38410804 0.\n",
      "  0.38902575 0.64832795]\n",
      " [0.6314658  0.6015896  0.62331134 0.92339265 0.81858295 0.6605854\n",
      "  0.98694026 1.1913526  1.1341695  1.2730782  0.9582782  1.1020018\n",
      "  1.4391178  1.3786237  1.2215741  0.9286986  0.6712869  0.38902575\n",
      "  0.         0.3818953 ]\n",
      " [0.6654871  0.78941375 0.9348867  1.247932   1.1264449  1.0236958\n",
      "  1.3638985  1.5433916  1.4665362  1.6323444  1.3066343  1.4380807\n",
      "  1.7664518  1.6701148  1.4594284  1.1607676  0.83842355 0.64832795\n",
      "  0.3818953  0.        ]]\n"
     ]
    }
   ],
   "source": [
    "print(disMatrix)"
   ]
  },
  {
   "cell_type": "code",
   "execution_count": 16,
   "metadata": {},
   "outputs": [
    {
     "name": "stdout",
     "output_type": "stream",
     "text": [
      "[[0.         0.38086346 0.60542053 0.90447503 0.95232505 1.0177466\n",
      "  1.2289256  1.420685   1.5123984  1.6824272  1.448112   1.5830606\n",
      "  1.9427571  1.9386197  1.8275663  1.5388496  1.3021647  0.9820988\n",
      "  0.6314658  0.6654871 ]\n",
      " [0.38086346 0.         0.3874597  0.5809871  0.581768   0.72573346\n",
      "  0.9293767  1.0663382  1.1818689  1.3872931  1.2104417  1.4101723\n",
      "  1.7346625  1.7185161  1.6727897  1.3663657  1.2190145  0.9344491\n",
      "  0.6015896  0.78941375]\n",
      " [0.60542053 0.3874597  0.         0.3795695  0.54858816 0.55470175\n",
      "  0.6433273  0.8903528  1.040485   1.1462082  0.97491646 1.1126856\n",
      "  1.4522358  1.5074211  1.4874724  1.246784   1.1348854  0.81287026\n",
      "  0.62331134 0.9348867 ]\n",
      " [0.90447503 0.5809871  0.3795695  0.         0.38602072 0.55355847\n",
      "  0.48210895 0.6210741  0.8825294  1.0150951  0.9785352  1.1754633\n",
      "  1.4462414  1.5068622  1.5797055  1.3436582  1.3363286  1.079102\n",
      "  0.92339265 1.247932  ]\n",
      " [0.95232505 0.581768   0.54858816 0.38602072 0.         0.38272053\n",
      "  0.5341695  0.5135377  0.6488344  0.91068    0.86097795 1.1589038\n",
      "  1.3877716  1.3490639  1.4202793  1.1247975  1.1555787  0.9864751\n",
      "  0.81858295 1.1264449 ]\n",
      " [1.0177466  0.72573346 0.55470175 0.55355847 0.38272053 0.\n",
      "  0.39329633 0.54146653 0.52190137 0.6778149  0.5087122  0.7951811\n",
      "  1.0497357  1.0197638  1.0585831  0.7933689  0.8346599  0.68302125\n",
      "  0.6605854  1.0236958 ]\n",
      " [1.2289256  0.9293767  0.6433273  0.48210895 0.5341695  0.39329633\n",
      "  0.         0.37699074 0.5598956  0.55450433 0.56769186 0.7646404\n",
      "  0.98143315 1.0712423  1.2026323  1.0408833  1.1381235  0.96471447\n",
      "  0.98694026 1.3638985 ]\n",
      " [1.420685   1.0663382  0.8903528  0.6210741  0.5135377  0.54146653\n",
      "  0.37699074 0.         0.37886807 0.5421707  0.7165208  1.010244\n",
      "  1.1175944  1.1261058  1.3272144  1.1314726  1.3051733  1.2087837\n",
      "  1.1913526  1.5433916 ]\n",
      " [1.5123984  1.1818689  1.040485   0.8825294  0.6488344  0.52190137\n",
      "  0.5598956  0.37886807 0.         0.3919235  0.521261   0.88451797\n",
      "  0.9326393  0.8303609  1.0346184  0.8254872  1.0708959  1.0835059\n",
      "  1.1341695  1.4665362 ]\n",
      " [1.6824272  1.3872931  1.1462082  1.0150951  0.91068    0.6778149\n",
      "  0.55450433 0.5421707  0.3919235  0.         0.38872743 0.6255302\n",
      "  0.59886897 0.62855    0.8996239  0.84132344 1.1122097  1.1193521\n",
      "  1.2730782  1.6323444 ]\n",
      " [1.448112   1.2104417  0.97491646 0.9785352  0.86097795 0.5087122\n",
      "  0.56769186 0.7165208  0.521261   0.38872743 0.         0.38391274\n",
      "  0.5511633  0.5381952  0.6386345  0.53568465 0.7420573  0.7467168\n",
      "  0.9582782  1.3066343 ]\n",
      " [1.5830606  1.4101723  1.1126856  1.1754633  1.1589038  0.7951811\n",
      "  0.7646404  1.010244   0.88451797 0.6255302  0.38391274 0.\n",
      "  0.39486203 0.5938039  0.6188724  0.71049637 0.83521855 0.80331874\n",
      "  1.1020018  1.4380807 ]\n",
      " [1.9427571  1.7346625  1.4522358  1.4462414  1.3877716  1.0497357\n",
      "  0.98143315 1.1175944  0.9326393  0.59886897 0.5511633  0.39486203\n",
      "  0.         0.38410807 0.5940598  0.80822587 1.0618032  1.1377527\n",
      "  1.4391178  1.7664518 ]\n",
      " [1.9386197  1.7185161  1.5074211  1.5068622  1.3490639  1.0197638\n",
      "  1.0712423  1.1261058  0.8303609  0.62855    0.5381952  0.5938039\n",
      "  0.38410807 0.         0.38124532 0.55836374 0.90229994 1.0912993\n",
      "  1.3786237  1.6701148 ]\n",
      " [1.8275663  1.6727897  1.4874724  1.5797055  1.4202793  1.0585831\n",
      "  1.2026323  1.3272144  1.0346184  0.8996239  0.6386345  0.6188724\n",
      "  0.5940598  0.38124532 0.         0.38892418 0.6326524  0.8845892\n",
      "  1.2215741  1.4594284 ]\n",
      " [1.5388496  1.3663657  1.246784   1.3436582  1.1247975  0.7933689\n",
      "  1.0408833  1.1314726  0.8254872  0.84132344 0.53568465 0.71049637\n",
      "  0.80822587 0.55836374 0.38892418 0.         0.39008084 0.66838914\n",
      "  0.9286986  1.1607676 ]\n",
      " [1.3021647  1.2190145  1.1348854  1.3363286  1.1555787  0.8346599\n",
      "  1.1381235  1.3051733  1.0708959  1.1122097  0.7420573  0.83521855\n",
      "  1.0618032  0.90229994 0.6326524  0.39008084 0.         0.38410804\n",
      "  0.6712869  0.83842355]\n",
      " [0.9820988  0.9344491  0.81287026 1.079102   0.9864751  0.68302125\n",
      "  0.96471447 1.2087837  1.0835059  1.1193521  0.7467168  0.80331874\n",
      "  1.1377527  1.0912993  0.8845892  0.66838914 0.38410804 0.\n",
      "  0.38902575 0.64832795]\n",
      " [0.6314658  0.6015896  0.62331134 0.92339265 0.81858295 0.6605854\n",
      "  0.98694026 1.1913526  1.1341695  1.2730782  0.9582782  1.1020018\n",
      "  1.4391178  1.3786237  1.2215741  0.9286986  0.6712869  0.38902575\n",
      "  0.         0.3818953 ]\n",
      " [0.6654871  0.78941375 0.9348867  1.247932   1.1264449  1.0236958\n",
      "  1.3638985  1.5433916  1.4665362  1.6323444  1.3066343  1.4380807\n",
      "  1.7664518  1.6701148  1.4594284  1.1607676  0.83842355 0.64832795\n",
      "  0.3818953  0.        ]]\n"
     ]
    }
   ],
   "source": [
    "print(disMatrix)"
   ]
  },
  {
   "cell_type": "code",
   "execution_count": 17,
   "metadata": {},
   "outputs": [
    {
     "name": "stdout",
     "output_type": "stream",
     "text": [
      "[list([]) list([17, 18, 19]) list([10, 17, 18, 19]) list([10]) list([18])\n",
      " list([13, 15, 16, 17, 18]) list([13, 17]) list([]) list([15]) list([])\n",
      " list([17]) list([]) list([]) list([]) list([]) list([]) list([]) list([])\n",
      " list([]) list([])]\n"
     ]
    }
   ],
   "source": [
    "print(nativeContacts)"
   ]
  },
  {
   "cell_type": "code",
   "execution_count": 18,
   "metadata": {},
   "outputs": [],
   "source": [
    "top = '/home/mohit/system.pdb'\n",
    "filename = '/home/mohit/FoldedTRPCage.xtc'"
   ]
  },
  {
   "cell_type": "code",
   "execution_count": 19,
   "metadata": {},
   "outputs": [],
   "source": [
    "traj = md.load(filename,top = top)\n",
    "import ast\n",
    "#params = ast.literal_eval(str(trajdict['params']))\n",
    "x = traj[:].xyz\n"
   ]
  },
  {
   "cell_type": "code",
   "execution_count": 20,
   "metadata": {},
   "outputs": [],
   "source": [
    "topology = traj.topology"
   ]
  },
  {
   "cell_type": "code",
   "execution_count": 21,
   "metadata": {},
   "outputs": [
    {
     "name": "stdout",
     "output_type": "stream",
     "text": [
      "[  0   1   2   3  14  15  16  17  24  25  26  27  45  46  47  48  55  56\n",
      "  57  58  72  73  74  75  96  97  98  99 115 116 117 118 125 126 127 128\n",
      " 137 138 139 140 144 145 146 147 151 152 153 154 165 166 167 168 176 177\n",
      " 178 179 187 188 189 190 194 195 196 197 218 219 220 221 232 233 234 235\n",
      " 246 247 248 249 260 261 262 263]\n"
     ]
    }
   ],
   "source": [
    "print(topology.select('backbone'))"
   ]
  },
  {
   "cell_type": "code",
   "execution_count": 25,
   "metadata": {},
   "outputs": [],
   "source": [
    "index = topology.select('backbone')\n"
   ]
  },
  {
   "cell_type": "code",
   "execution_count": 23,
   "metadata": {},
   "outputs": [],
   "source": [
    "PDBObject = PDBFile(top)"
   ]
  },
  {
   "cell_type": "code",
   "execution_count": 23,
   "metadata": {},
   "outputs": [],
   "source": [
    "cartesian = ['CA', 'C', 'N']\n",
    "index = topology.select(' '.join([\"name \" + s for s in cartesian]))"
   ]
  },
  {
   "cell_type": "code",
   "execution_count": 26,
   "metadata": {},
   "outputs": [],
   "source": [
    "CA_Index= [atom.index for atom in topology.atoms if atom.name == \"CA\" ]"
   ]
  },
  {
   "cell_type": "code",
   "execution_count": 27,
   "metadata": {},
   "outputs": [
    {
     "name": "stdout",
     "output_type": "stream",
     "text": [
      "[4, 5, 6, 7, 8, 9, 10, 11, 12, 13, 18, 19, 20, 21, 22, 23, 28, 29, 30, 31, 32, 33, 34, 35, 36, 37, 38, 39, 40, 41, 42, 43, 44, 49, 50, 51, 52, 53, 54, 59, 60, 61, 62, 63, 64, 65, 66, 67, 68, 69, 70, 71, 76, 77, 78, 79, 80, 81, 82, 83, 84, 85, 86, 87, 88, 89, 90, 91, 92, 93, 94, 95, 100, 101, 102, 103, 104, 105, 106, 107, 108, 109, 110, 111, 112, 113, 114, 119, 120, 121, 122, 123, 124, 129, 130, 131, 132, 133, 134, 135, 136, 141, 142, 143, 148, 149, 150, 155, 156, 157, 158, 159, 160, 161, 162, 163, 164, 169, 170, 171, 172, 173, 174, 175, 180, 181, 182, 183, 184, 185, 186, 191, 192, 193, 198, 199, 200, 201, 202, 203, 204, 205, 206, 207, 208, 209, 210, 211, 212, 213, 214, 215, 216, 217, 222, 223, 224, 225, 226, 227, 228, 229, 230, 231, 236, 237, 238, 239, 240, 241, 242, 243, 244, 245, 250, 251, 252, 253, 254, 255, 256, 257, 258, 259, 264, 265, 266, 267, 268, 269, 270, 271]\n"
     ]
    }
   ],
   "source": [
    "IC_Index = []\n",
    "for i in range(272):\n",
    "    if(i not in index):\n",
    "        IC_Index.append(i)\n",
    "\n",
    "print(IC_Index)"
   ]
  },
  {
   "cell_type": "code",
   "execution_count": 28,
   "metadata": {},
   "outputs": [],
   "source": [
    "from deep_boltzmann.models.proteins import mdtraj2Z\n",
    "Z_ = np.array(mdtraj2Z(topology))"
   ]
  },
  {
   "cell_type": "code",
   "execution_count": 29,
   "metadata": {},
   "outputs": [],
   "source": [
    "batchsize_ML =  256\n",
    "batchsize_KL = 1000\n",
    "modeller = Modeller(PDBObject.topology, PDBObject.positions)"
   ]
  },
  {
   "cell_type": "code",
   "execution_count": 30,
   "metadata": {},
   "outputs": [],
   "source": [
    "integrator = LangevinIntegrator(300* kelvin,\n",
    "                   1.0/ picosecond,\n",
    "                    0.002*picoseconds)"
   ]
  },
  {
   "cell_type": "code",
   "execution_count": 31,
   "metadata": {},
   "outputs": [],
   "source": [
    "forcefield = ForceField('amber99sb.xml', 'tip3p.xml')"
   ]
  },
  {
   "cell_type": "code",
   "execution_count": 32,
   "metadata": {},
   "outputs": [],
   "source": [
    "system = forcefield.createSystem(modeller.topology, nonbondedMethod= CutoffNonPeriodic, nonbondedCutoff=1.0*nanometers, constraints= AllBonds)"
   ]
  },
  {
   "cell_type": "code",
   "execution_count": 33,
   "metadata": {},
   "outputs": [],
   "source": [
    "\n",
    "# setup BPTI\n",
    "INTEGRATOR_ARGS = (system, 300* kelvin,\n",
    "                   1.0/ picoseconds,\n",
    "                    0.002*picoseconds, 10, 5,5 )"
   ]
  },
  {
   "cell_type": "code",
   "execution_count": 34,
   "metadata": {},
   "outputs": [
    {
     "name": "stdout",
     "output_type": "stream",
     "text": [
      "<Topology; 1 chains, 20 residues, 272 atoms, 278 bonds>\n"
     ]
    }
   ],
   "source": [
    "print(modeller.topology)"
   ]
  },
  {
   "cell_type": "code",
   "execution_count": 35,
   "metadata": {},
   "outputs": [],
   "source": [
    "EnergyModel = OpenMMEnergy(system,  NoseHooverChainVelocityVerletIntegrator , nanometers, n_atoms= 272, openmm_integrator_args=INTEGRATOR_ARGS )"
   ]
  },
  {
   "cell_type": "code",
   "execution_count": 36,
   "metadata": {},
   "outputs": [],
   "source": [
    "new=[]\n",
    "for snapshot in x:\n",
    "    new.append(snapshot.flatten('F'))"
   ]
  },
  {
   "cell_type": "code",
   "execution_count": 37,
   "metadata": {},
   "outputs": [
    {
     "name": "stdout",
     "output_type": "stream",
     "text": [
      "816\n"
     ]
    }
   ],
   "source": [
    "print(len(new[0]))"
   ]
  },
  {
   "cell_type": "code",
   "execution_count": 38,
   "metadata": {},
   "outputs": [],
   "source": [
    "from deep_boltzmann.networks.training import MLTrainer, FlexibleTrainer"
   ]
  },
  {
   "cell_type": "code",
   "execution_count": 39,
   "metadata": {},
   "outputs": [
    {
     "name": "stdout",
     "output_type": "stream",
     "text": [
      "<RRRRRRRR>\n",
      "< 816 0 0\n",
      "R 408 408 0\n",
      "WARNING:tensorflow:From /home/mohit/anaconda3/lib/python3.7/site-packages/keras/backend/tensorflow_backend.py:74: The name tf.get_default_graph is deprecated. Please use tf.compat.v1.get_default_graph instead.\n",
      "\n",
      "R 408 408 0\n",
      "R 408 408 0\n",
      "R 408 408 0\n",
      "R 408 408 0\n",
      "R 408 408 0\n",
      "R 408 408 0\n",
      "R 408 408 0\n",
      "> 408 408 0\n",
      "WARNING:tensorflow:From /home/mohit/anaconda3/lib/python3.7/site-packages/keras/backend/tensorflow_backend.py:517: The name tf.placeholder is deprecated. Please use tf.compat.v1.placeholder instead.\n",
      "\n",
      "WARNING:tensorflow:From /home/mohit/anaconda3/lib/python3.7/site-packages/keras/backend/tensorflow_backend.py:4138: The name tf.random_uniform is deprecated. Please use tf.random.uniform instead.\n",
      "\n"
     ]
    }
   ],
   "source": [
    "bg = invnet(3*272, 'RRRRRRRR', energy_model=EnergyModel, nl_layers=4, nl_hidden=20, #100\n",
    "            nl_activation='relu', nl_activation_scale= 'tanh' )"
   ]
  },
  {
   "cell_type": "code",
   "execution_count": 40,
   "metadata": {},
   "outputs": [
    {
     "name": "stdout",
     "output_type": "stream",
     "text": [
      "WARNING:tensorflow:From /home/mohit/anaconda3/lib/python3.7/site-packages/keras/optimizers.py:790: The name tf.train.Optimizer is deprecated. Please use tf.compat.v1.train.Optimizer instead.\n",
      "\n",
      "WARNING:tensorflow:From /home/mohit/anaconda3/lib/python3.7/site-packages/tensorflow/python/ops/math_grad.py:1205: add_dispatch_support.<locals>.wrapper (from tensorflow.python.ops.array_ops) is deprecated and will be removed in a future version.\n",
      "Instructions for updating:\n",
      "Use tf.where in 2.0, which has the same broadcast rule as np.where\n",
      "WARNING:tensorflow:From /home/mohit/anaconda3/lib/python3.7/site-packages/keras/backend/tensorflow_backend.py:986: The name tf.assign_add is deprecated. Please use tf.compat.v1.assign_add instead.\n",
      "\n",
      "WARNING:tensorflow:From /home/mohit/anaconda3/lib/python3.7/site-packages/keras/backend/tensorflow_backend.py:973: The name tf.assign is deprecated. Please use tf.compat.v1.assign instead.\n",
      "\n",
      "Epoch 0/100 loss 652.4189 603.1243 \n",
      "Epoch 1/100 loss 607.6733 606.6914 \n",
      "Epoch 2/100 loss 618.3316 606.4542 \n",
      "Epoch 3/100 loss 604.8930 597.7886 \n",
      "Epoch 4/100 loss 622.6312 571.9998 \n",
      "Epoch 5/100 loss 593.2639 611.1188 \n",
      "Epoch 6/100 loss 563.6006 581.7639 \n",
      "Epoch 7/100 loss 587.0953 562.4672 \n",
      "Epoch 8/100 loss 574.9230 561.5126 \n",
      "Epoch 9/100 loss 588.8680 582.0129 \n",
      "Epoch 10/100 loss 550.5572 586.1688 \n",
      "Epoch 11/100 loss 557.3645 561.9416 \n",
      "Epoch 12/100 loss 569.6899 572.2557 \n",
      "Epoch 13/100 loss 567.7869 545.3152 \n",
      "Epoch 14/100 loss 552.6112 541.1235 \n",
      "Epoch 15/100 loss 573.7082 549.2619 \n",
      "Epoch 16/100 loss 567.3612 558.1554 \n",
      "Epoch 17/100 loss 539.1887 510.7411 \n",
      "Epoch 18/100 loss 525.6948 551.0397 \n",
      "Epoch 19/100 loss 546.0637 554.1915 \n",
      "Epoch 20/100 loss 546.9009 535.7112 \n",
      "Epoch 21/100 loss 532.7266 515.7582 \n",
      "Epoch 22/100 loss 536.2907 520.9271 \n",
      "Epoch 23/100 loss 522.1696 517.5333 \n",
      "Epoch 24/100 loss 500.0286 523.7837 \n",
      "Epoch 25/100 loss 547.5844 523.1531 \n",
      "Epoch 26/100 loss 529.6215 527.5829 \n",
      "Epoch 27/100 loss 528.6718 514.0825 \n",
      "Epoch 28/100 loss 519.8798 514.1207 \n",
      "Epoch 29/100 loss 532.7490 519.8475 \n",
      "Epoch 30/100 loss 526.3776 510.5429 \n",
      "Epoch 31/100 loss 522.0173 502.0438 \n",
      "Epoch 32/100 loss 488.8547 484.7250 \n",
      "Epoch 33/100 loss 518.4674 513.5995 \n",
      "Epoch 34/100 loss 512.1276 509.8613 \n",
      "Epoch 35/100 loss 477.5288 511.7280 \n",
      "Epoch 36/100 loss 509.6183 483.1754 \n",
      "Epoch 37/100 loss 510.7019 485.0406 \n",
      "Epoch 38/100 loss 503.0158 501.0664 \n",
      "Epoch 39/100 loss 467.8857 485.3816 \n",
      "Epoch 40/100 loss 481.8796 480.5242 \n",
      "Epoch 41/100 loss 523.5430 498.3772 \n",
      "Epoch 42/100 loss 464.5013 502.0194 \n",
      "Epoch 43/100 loss 510.6785 474.6068 \n",
      "Epoch 44/100 loss 485.2345 493.3751 \n",
      "Epoch 45/100 loss 477.0597 487.8810 \n",
      "Epoch 46/100 loss 477.2142 460.8470 \n",
      "Epoch 47/100 loss 484.5203 467.5135 \n",
      "Epoch 48/100 loss 477.7738 468.5449 \n",
      "Epoch 49/100 loss 474.1016 478.1953 \n",
      "Epoch 50/100 loss 469.2631 461.3416 \n",
      "Epoch 51/100 loss 461.6013 473.2655 \n",
      "Epoch 52/100 loss 467.8568 466.0641 \n",
      "Epoch 53/100 loss 497.1836 465.8130 \n",
      "Epoch 54/100 loss 471.4394 444.2412 \n",
      "Epoch 55/100 loss 466.3557 440.1943 \n",
      "Epoch 56/100 loss 448.5779 459.2160 \n",
      "Epoch 57/100 loss 457.0464 457.0807 \n",
      "Epoch 58/100 loss 462.1118 454.1042 \n",
      "Epoch 59/100 loss 448.1876 448.6524 \n",
      "Epoch 60/100 loss 452.9355 429.2387 \n",
      "Epoch 61/100 loss 457.3804 434.2463 \n",
      "Epoch 62/100 loss 430.6790 424.9171 \n",
      "Epoch 63/100 loss 463.5064 447.0801 \n",
      "Epoch 64/100 loss 449.0795 423.8701 \n",
      "Epoch 65/100 loss 456.3705 450.6963 \n",
      "Epoch 66/100 loss 447.9145 429.7776 \n",
      "Epoch 67/100 loss 442.1403 427.7233 \n",
      "Epoch 68/100 loss 423.9543 427.1255 \n",
      "Epoch 69/100 loss 436.3688 431.3833 \n",
      "Epoch 70/100 loss 428.2116 413.2179 \n",
      "Epoch 71/100 loss 418.5522 451.2681 \n",
      "Epoch 72/100 loss 417.4542 400.5970 \n",
      "Epoch 73/100 loss 416.7774 419.4890 \n",
      "Epoch 74/100 loss 404.1482 411.3926 \n",
      "Epoch 75/100 loss 420.4364 418.0586 \n",
      "Epoch 76/100 loss 406.4125 400.2121 \n",
      "Epoch 77/100 loss 398.9223 411.6159 \n",
      "Epoch 78/100 loss 402.1067 403.0286 \n",
      "Epoch 79/100 loss 403.1372 410.7762 \n",
      "Epoch 80/100 loss 402.6895 394.9996 \n",
      "Epoch 81/100 loss 383.6873 413.5494 \n",
      "Epoch 82/100 loss 403.7227 379.9839 \n",
      "Epoch 83/100 loss 381.6709 377.7829 \n",
      "Epoch 84/100 loss 386.5778 379.7183 \n",
      "Epoch 85/100 loss 376.4388 395.2280 \n",
      "Epoch 86/100 loss 377.9265 376.5723 \n",
      "Epoch 87/100 loss 365.1386 377.1073 \n",
      "Epoch 88/100 loss 376.1606 386.5229 \n",
      "Epoch 89/100 loss 355.7652 351.1549 \n",
      "Epoch 90/100 loss 371.3565 365.8358 \n",
      "Epoch 91/100 loss 371.8057 363.2603 \n",
      "Epoch 92/100 loss 358.1790 365.9282 \n",
      "Epoch 93/100 loss 362.1935 363.2641 \n",
      "Epoch 94/100 loss 361.8165 346.0759 \n",
      "Epoch 95/100 loss 358.6424 337.1147 \n",
      "Epoch 96/100 loss 338.7308 346.8796 \n",
      "Epoch 97/100 loss 333.9814 342.4382 \n",
      "Epoch 98/100 loss 351.1526 341.2625 \n",
      "Epoch 99/100 loss 326.9981 329.8880 \n"
     ]
    }
   ],
   "source": [
    "hist_bg_ML = bg.train_ML(np.array(new), xval = np.array(new) , epochs=100, lr=0.0001, batch_size=batchsize_ML, \n",
    "\n",
    "                         std=1.0, verbose=1, return_test_energies=True)"
   ]
  },
  {
   "cell_type": "code",
   "execution_count": 55,
   "metadata": {},
   "outputs": [],
   "source": [
    "Eschedule = [[200,  0.00001, 1e6, 1e3,  0.0, 20.0],\n",
    "             [100,  0.0001, 1e6,  300,  0.0, 20.0],\n",
    "             [100,  0.0001, 1e5,  100,  0.0, 20.0],\n",
    "             [100,  0.0001, 5e4,   50,  0.0, 20.0],\n",
    "             [100,  0.0001, 5e4,   20,  0.0, 20.0],\n",
    "             [200,  0.0001, 5e4,    5,  0.0, 20.0]]"
   ]
  },
  {
   "cell_type": "code",
   "execution_count": 56,
   "metadata": {},
   "outputs": [],
   "source": [
    "temperature=1.0"
   ]
  },
  {
   "cell_type": "code",
   "execution_count": null,
   "metadata": {},
   "outputs": [
    {
     "name": "stdout",
     "output_type": "stream",
     "text": [
      "[200, 1e-05, 1000000.0, 1000.0, 0.0, 20.0]\n",
      "[1000.0, 1.0, 20.0]\n",
      "WARNING:tensorflow:From /home/mohit/Downloads/code_notebooks/deep_boltzmann/deep_boltzmann/models/openmm.py:156: py_func (from tensorflow.python.ops.script_ops) is deprecated and will be removed in a future version.\n",
      "Instructions for updating:\n",
      "tf.py_func is deprecated in TF V2. Instead, there are two\n",
      "    options available in V2.\n",
      "    - tf.py_function takes a python function which manipulates tf eager\n",
      "    tensors instead of numpy arrays. It's easy to convert a tf eager tensor to\n",
      "    an ndarray (just call tensor.numpy()) but having access to eager tensors\n",
      "    means `tf.py_function`s can use accelerators such as GPUs as well as\n",
      "    being differentiable using a gradient tape.\n",
      "    - tf.numpy_function maintains the semantics of the deprecated tf.py_func\n",
      "    (it is not differentiable, and manipulates numpy arrays). It drops the\n",
      "    stateful argument making all functions stateful.\n",
      "    \n",
      "Tensor(\"index_layer_6/GatherV2:0\", shape=(?, 816), dtype=float32)\n",
      "<class 'tensorflow.python.framework.ops.Tensor'>\n"
     ]
    }
   ],
   "source": [
    "hists_bg_KL = []\n",
    "#FlTrainer = FlexibleTrainer(bg, lr=0.0001, batch_size=batchsize_KL, high_energy=s[2], w_ML=1.0, w_KL=1.0, \n",
    "#                              temperature=temperature, weigh_ML=False)\n",
    "for i, s in enumerate(Eschedule):\n",
    "    print(s)#'high_energy =', s[0], 'weight_ML =', s[1], 'epochs =', s[2])\n",
    "    sys.stdout.flush()\n",
    "   \n",
    "    \n",
    "    #hist_bg_KL = bg.train_KL(high_energy = s[2])\n",
    "    \n",
    "    hist_bg_KL = bg.train_flexible(np.array(new) , epochs=s[0], lr=s[1], batch_size=batchsize_KL,\n",
    "                                   verbose=1, high_energy=s[2], max_energy=1e10,\n",
    "                                   weight_ML=s[3], weight_KL=1.0, temperature=temperature, weight_MC=0.0, weight_W2=s[4],\n",
    "                                   weight_RCEnt=s[5], rc_func=rc_coordinates, rc_min=0.0, rc_max=1.2,\n",
    "                                   std=1.0, reg_Jxz=0.0, return_test_energies=True)\n",
    "    \n",
    "    hists_bg_KL.append(hist_bg_KL)"
   ]
  },
  {
   "cell_type": "code",
   "execution_count": 41,
   "metadata": {},
   "outputs": [],
   "source": [
    "contactMap = []"
   ]
  },
  {
   "cell_type": "code",
   "execution_count": 42,
   "metadata": {},
   "outputs": [],
   "source": [
    "for row in nativeContacts:\n",
    "    contactMap.append(row)"
   ]
  },
  {
   "cell_type": "code",
   "execution_count": 43,
   "metadata": {},
   "outputs": [],
   "source": [
    "NumberOfContacts =0"
   ]
  },
  {
   "cell_type": "code",
   "execution_count": 44,
   "metadata": {},
   "outputs": [],
   "source": [
    "for row in contactMap:\n",
    "    NumberOfContacts +=len(row)"
   ]
  },
  {
   "cell_type": "code",
   "execution_count": 45,
   "metadata": {},
   "outputs": [
    {
     "name": "stdout",
     "output_type": "stream",
     "text": [
      "[1, 15, 25, 46, 56, 73, 97, 116, 126, 138, 145, 152, 166, 177, 188, 195, 219, 233, 247, 261]\n"
     ]
    }
   ],
   "source": [
    "print(CA_Index)"
   ]
  },
  {
   "cell_type": "code",
   "execution_count": 46,
   "metadata": {},
   "outputs": [],
   "source": [
    "def rc_coordinates(inputSnapshot):\n",
    "    return inputSnapshot[:, 0]\n",
    "    global contactMap\n",
    "    global disMatrix\n",
    "    global NumberOfContacts\n",
    "    global CA_Index\n",
    "    import numpy as np\n",
    "    from math import sqrt\n",
    "    # print(CA_Index)\n",
    "    #print(inputSnapshot[0])\n",
    "    return inputSnapshot[:, 0]\n",
    "    tf.print(inputSnapshot,[inputSnapshot])\n",
    "    atoms = []\n",
    "    for index in CA_Index:\n",
    "        atoms.append(inputSnapshot[0][index])\n",
    "    atoms = np.array(atoms)\n",
    "    print(type(inputSnapshot))\n",
    "    Q_score = tf.zeros( (inputSnapshot.shape[0],1),  dtype=tf.dtypes.float32 )\n",
    "    Q=[]\n",
    "    for atom_ind in range(len(CA_Index)):\n",
    "            for second_atom in range(atom_ind+7, len(CA_Index)):\n",
    "                if(second_atom in contactMap[atom_ind]):\n",
    "                        dist = tf.linalg.norm(inputSnapshot[:,atom_ind*3:atom_ind*3+3] - inputSnapshot[:, second_atom*3+3],1)\n",
    "                        #Q_score = tf.add(Q_score, tf.math.sigmoid( -1 *(dist- (disMatrix[atom_ind][second_atom]+0.1) )*100) )\n",
    "                        Q_score = tf.add( Q_score , 1/(1+tf.math.exp( (dist- (disMatrix[atom_ind][second_atom]+0.1) )*100 ) ) )\n",
    "    return Q_score\n",
    "    '''\n",
    "    for eachSnapshot in inputSnapshot:\n",
    "        Q_scrore = 0 \n",
    "        t1=0\n",
    "        for atom_ind in range(len(CA_Index)):\n",
    "            for second_atom in range(atom_ind+7, len(CA_Index)):\n",
    "                if(second_atom in contactMap[atom_ind]):\n",
    "                    print(atom_ind,second_atom,contactMap[atom_ind])\n",
    "                    dif = eachSnapshot[: ,atom_ind*3:atom_ind*3+3]- eachSnapshot[second_atom*3: second_atom*3+3]\n",
    "                    dist = dif[0]*dif[0] + dif[1]* dif[1] + dif[2] * dif[2]\n",
    "                    dist = sqrt(dist)\n",
    "                    #dist = np.linalg.norm(atoms[atom_ind]- atoms[second_atom])\n",
    "                    Q_score += 1/(1+np.exp( (dist- (disMatrix[atom_ind][second_atom]+0.1) )*100 ) ) \n",
    "                    t1+=1\n",
    "        Q_score /= t1\n",
    "        Q.append(Q_score)\n",
    "        print(Q_score)\n",
    "    '''\n",
    "    print(Q_score)\n",
    "    return  np.asarray(Q)\n",
    "    "
   ]
  },
  {
   "cell_type": "code",
   "execution_count": 53,
   "metadata": {},
   "outputs": [
    {
     "name": "stdout",
     "output_type": "stream",
     "text": [
      "[-0.555       0.71000004  0.43800002 ... -0.739      -0.87600005\n",
      "  0.086     ]\n"
     ]
    }
   ],
   "source": [
    "print(rc_coordinates(np.array(new)))"
   ]
  },
  {
   "cell_type": "code",
   "execution_count": 51,
   "metadata": {},
   "outputs": [
    {
     "name": "stdout",
     "output_type": "stream",
     "text": [
      "22339\n"
     ]
    }
   ],
   "source": [
    "print(len(new))"
   ]
  },
  {
   "cell_type": "code",
   "execution_count": null,
   "metadata": {},
   "outputs": [],
   "source": []
  },
  {
   "cell_type": "code",
   "execution_count": null,
   "metadata": {},
   "outputs": [],
   "source": []
  },
  {
   "cell_type": "code",
   "execution_count": null,
   "metadata": {},
   "outputs": [],
   "source": []
  }
 ],
 "metadata": {
  "kernelspec": {
   "display_name": "Python 3",
   "language": "python",
   "name": "python3"
  },
  "language_info": {
   "codemirror_mode": {
    "name": "ipython",
    "version": 3
   },
   "file_extension": ".py",
   "mimetype": "text/x-python",
   "name": "python",
   "nbconvert_exporter": "python",
   "pygments_lexer": "ipython3",
   "version": "3.7.3"
  }
 },
 "nbformat": 4,
 "nbformat_minor": 2
}
