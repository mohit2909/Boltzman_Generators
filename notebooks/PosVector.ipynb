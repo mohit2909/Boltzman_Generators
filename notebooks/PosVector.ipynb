{
 "cells": [
  {
   "cell_type": "code",
   "execution_count": 1,
   "metadata": {},
   "outputs": [],
   "source": [
    "import torch\n",
    "import torch.nn as nn\n",
    "from pathlib import Path\n",
    "import torchvision.transforms as transforms\n",
    "import torch.optim as optim\n",
    "import numpy as np\n",
    "from math import *\n",
    "from random import gauss,seed\n",
    "import torch.nn.functional as F\n",
    "import math\n",
    "import matplotlib.pyplot as plt\n",
    "import seaborn"
   ]
  },
  {
   "cell_type": "code",
   "execution_count": 2,
   "metadata": {},
   "outputs": [],
   "source": [
    "from PythonModules.RESNET import RESNET, DensityEstimator"
   ]
  },
  {
   "cell_type": "code",
   "execution_count": 3,
   "metadata": {},
   "outputs": [
    {
     "name": "stderr",
     "output_type": "stream",
     "text": [
      "Using TensorFlow backend.\n",
      "/home/mohit.kumargupta/.local/lib/python3.6/site-packages/tensorflow/python/framework/dtypes.py:516: FutureWarning: Passing (type, 1) or '1type' as a synonym of type is deprecated; in a future version of numpy, it will be understood as (type, (1,)) / '(1,)type'.\n",
      "  _np_qint8 = np.dtype([(\"qint8\", np.int8, 1)])\n",
      "/home/mohit.kumargupta/.local/lib/python3.6/site-packages/tensorflow/python/framework/dtypes.py:517: FutureWarning: Passing (type, 1) or '1type' as a synonym of type is deprecated; in a future version of numpy, it will be understood as (type, (1,)) / '(1,)type'.\n",
      "  _np_quint8 = np.dtype([(\"quint8\", np.uint8, 1)])\n",
      "/home/mohit.kumargupta/.local/lib/python3.6/site-packages/tensorflow/python/framework/dtypes.py:518: FutureWarning: Passing (type, 1) or '1type' as a synonym of type is deprecated; in a future version of numpy, it will be understood as (type, (1,)) / '(1,)type'.\n",
      "  _np_qint16 = np.dtype([(\"qint16\", np.int16, 1)])\n",
      "/home/mohit.kumargupta/.local/lib/python3.6/site-packages/tensorflow/python/framework/dtypes.py:519: FutureWarning: Passing (type, 1) or '1type' as a synonym of type is deprecated; in a future version of numpy, it will be understood as (type, (1,)) / '(1,)type'.\n",
      "  _np_quint16 = np.dtype([(\"quint16\", np.uint16, 1)])\n",
      "/home/mohit.kumargupta/.local/lib/python3.6/site-packages/tensorflow/python/framework/dtypes.py:520: FutureWarning: Passing (type, 1) or '1type' as a synonym of type is deprecated; in a future version of numpy, it will be understood as (type, (1,)) / '(1,)type'.\n",
      "  _np_qint32 = np.dtype([(\"qint32\", np.int32, 1)])\n",
      "/home/mohit.kumargupta/.local/lib/python3.6/site-packages/tensorflow/python/framework/dtypes.py:525: FutureWarning: Passing (type, 1) or '1type' as a synonym of type is deprecated; in a future version of numpy, it will be understood as (type, (1,)) / '(1,)type'.\n",
      "  np_resource = np.dtype([(\"resource\", np.ubyte, 1)])\n",
      "/home/mohit.kumargupta/.local/lib/python3.6/site-packages/tensorboard/compat/tensorflow_stub/dtypes.py:541: FutureWarning: Passing (type, 1) or '1type' as a synonym of type is deprecated; in a future version of numpy, it will be understood as (type, (1,)) / '(1,)type'.\n",
      "  _np_qint8 = np.dtype([(\"qint8\", np.int8, 1)])\n",
      "/home/mohit.kumargupta/.local/lib/python3.6/site-packages/tensorboard/compat/tensorflow_stub/dtypes.py:542: FutureWarning: Passing (type, 1) or '1type' as a synonym of type is deprecated; in a future version of numpy, it will be understood as (type, (1,)) / '(1,)type'.\n",
      "  _np_quint8 = np.dtype([(\"quint8\", np.uint8, 1)])\n",
      "/home/mohit.kumargupta/.local/lib/python3.6/site-packages/tensorboard/compat/tensorflow_stub/dtypes.py:543: FutureWarning: Passing (type, 1) or '1type' as a synonym of type is deprecated; in a future version of numpy, it will be understood as (type, (1,)) / '(1,)type'.\n",
      "  _np_qint16 = np.dtype([(\"qint16\", np.int16, 1)])\n",
      "/home/mohit.kumargupta/.local/lib/python3.6/site-packages/tensorboard/compat/tensorflow_stub/dtypes.py:544: FutureWarning: Passing (type, 1) or '1type' as a synonym of type is deprecated; in a future version of numpy, it will be understood as (type, (1,)) / '(1,)type'.\n",
      "  _np_quint16 = np.dtype([(\"quint16\", np.uint16, 1)])\n",
      "/home/mohit.kumargupta/.local/lib/python3.6/site-packages/tensorboard/compat/tensorflow_stub/dtypes.py:545: FutureWarning: Passing (type, 1) or '1type' as a synonym of type is deprecated; in a future version of numpy, it will be understood as (type, (1,)) / '(1,)type'.\n",
      "  _np_qint32 = np.dtype([(\"qint32\", np.int32, 1)])\n",
      "/home/mohit.kumargupta/.local/lib/python3.6/site-packages/tensorboard/compat/tensorflow_stub/dtypes.py:550: FutureWarning: Passing (type, 1) or '1type' as a synonym of type is deprecated; in a future version of numpy, it will be understood as (type, (1,)) / '(1,)type'.\n",
      "  np_resource = np.dtype([(\"resource\", np.ubyte, 1)])\n"
     ]
    }
   ],
   "source": [
    "import sys \n",
    "sys.path.insert(0,'/home/mohit.kumargupta/deep_boltzmann')\n",
    "from matplotlib import rcParams\n",
    "import keras\n",
    "import tensorflow as tf\n",
    "from deep_boltzmann.models import ParticleDimer\n",
    "from deep_boltzmann.networks.invertible import invnet, EnergyInvNet, create_RealNVPNet\n",
    "from deep_boltzmann.sampling import GaussianPriorMCMC\n",
    "from deep_boltzmann.sampling.latent_sampling import BiasedModel\n",
    "from deep_boltzmann.sampling.permutation import HungarianMapper\n",
    "from deep_boltzmann.util import load_obj, save_obj\n",
    "from deep_boltzmann.sampling.analysis import free_energy_bootstrap, mean_finite, std_finite"
   ]
  },
  {
   "cell_type": "code",
   "execution_count": null,
   "metadata": {},
   "outputs": [],
   "source": []
  },
  {
   "cell_type": "code",
   "execution_count": 4,
   "metadata": {},
   "outputs": [],
   "source": [
    "trajdict = np.load('output.npz')\n",
    "import ast\n",
    "#params = ast.literal_eval(str(trajdict['params']))\n",
    "traj_closed_train = trajdict['traj_closed_train_hungarian']\n",
    "traj_open_train = trajdict['traj_open_train_hungarian']\n",
    "traj_closed_test = trajdict['traj_closed_test_hungarian']\n",
    "traj_open_test = trajdict['traj_open_test_hungarian']\n",
    "x = np.vstack([traj_closed_train, traj_open_train])\n",
    "xval = np.vstack([traj_closed_test, traj_open_test])"
   ]
  },
  {
   "cell_type": "code",
   "execution_count": 5,
   "metadata": {},
   "outputs": [],
   "source": [
    "class combineModel(nn.Module):\n",
    "    def __init__(self,model1,model2,model3):\n",
    "        super(combineModel,self).__init__()\n",
    "        self.model1 = model1\n",
    "        self.model2 = model2\n",
    "        self.model3 = model3\n",
    "    \n",
    "    def forward(self,inp):\n",
    "        out = self.model1(inp)\n",
    "        out = torch.reshape(out,(out.shape[0],1,8,8))\n",
    "        #print(out)\n",
    "        o1 = out\n",
    "        out = self.model2(out)\n",
    "        o2 = out\n",
    "        #out = 36*torch.softmax( torch.reshape(out,(out.shape[0],16*16)), 1)\n",
    "        #print(out.shape[0])\n",
    "        #out = torch.reshape(out,(out.shape[0],1,16,16))\n",
    "        \n",
    "        #print(out)\n",
    "        out = self.model3(out)\n",
    "        #out = 36*torch.softmax( torch.reshape(out,(out.shape[0],32*32)), 1)\n",
    "        #out = torch.reshape(out,(out.shape[0],1,32,32))\n",
    "        \n",
    "        return out"
   ]
  },
  {
   "cell_type": "code",
   "execution_count": 6,
   "metadata": {},
   "outputs": [],
   "source": [
    "class ConfigurationModel(nn.Module):\n",
    "    \n",
    "    def __init__(self,model1):\n",
    "        super(ConfigurationModel,self).__init__()\n",
    "        self.model1 = model1\n",
    "        self.hidden_dim = 32*16\n",
    "        self.out_dim = 72\n",
    "        self.relu = nn.LeakyReLU(0.2, inplace=True)\n",
    "        self.fc1 = nn.Linear(32*32, self.hidden_dim)\n",
    "        self.fc2 = nn.Linear(self.hidden_dim, 32*16)\n",
    "        self.fc3 = nn.Linear(32*16, 16*16)\n",
    "        #self.lstm = nn.LSTM(hidden_dim, output_dim)\n",
    "        #self.fc3 = nn.Linear(self.hidden_dim*4*4, hidden_dim*4)\n",
    "        self.fc4 = nn.Linear(16*16, self.out_dim)\n",
    "    \n",
    "    def forward(self,inp):\n",
    "        out = self.model1(inp)\n",
    "        out = out.reshape((inp.shape[0],32*32))\n",
    "        out = self.relu(self.fc1(out))\n",
    "        out = self.relu(self.fc2(out))\n",
    "        out = self.relu(self.fc3(out))\n",
    "        out = self.fc4(out)\n",
    "        return out"
   ]
  },
  {
   "cell_type": "code",
   "execution_count": 8,
   "metadata": {},
   "outputs": [],
   "source": [
    "batch_size = 500\n",
    "train_set = np.vstack([traj_open_train[1000:81000 :2], traj_closed_train[1000:81000 :2] ] )"
   ]
  },
  {
   "cell_type": "code",
   "execution_count": 10,
   "metadata": {},
   "outputs": [],
   "source": [
    "OpenTest_set = torch.from_numpy( traj_open_train[81000: :2] ).type('torch.FloatTensor')\n",
    "OpenTestSet32 = torch.from_numpy( np.load('NewDataSet32.npy')[40000:49500] ).type('torch.FloatTensor')\n",
    "OpenTestDset = torch.cat( (OpenTest_set[:,:4], OpenTestSet32.reshape( (OpenTestSet32.shape[0], 32*32) ) ),1)"
   ]
  },
  {
   "cell_type": "code",
   "execution_count": 11,
   "metadata": {},
   "outputs": [],
   "source": [
    "OpenTest_set = torch.from_numpy( traj_closed_train[81000: :2] ).type('torch.FloatTensor')\n",
    "OpenTestSet32 = torch.from_numpy( np.load('NewDataSet32.npy')[89500:] ).type('torch.FloatTensor')\n",
    "OpenTestDset = torch.cat( (OpenTest_set[:,:4], OpenTestSet32.reshape( (OpenTestSet32.shape[0], 32*32) ) ),1)"
   ]
  },
  {
   "cell_type": "code",
   "execution_count": 12,
   "metadata": {},
   "outputs": [],
   "source": [
    "test_set = torch.from_numpy( np.vstack([traj_open_train[81000: :2], traj_closed_train[81000::2]]) ).type('torch.FloatTensor')\n",
    "testSet32 = torch.from_numpy( np.vstack([np.load('NewDataSet32.npy')[40000:49500], np.load('NewDataSet32.npy')[89500:] ] )  ).type('torch.FloatTensor')"
   ]
  },
  {
   "cell_type": "code",
   "execution_count": 13,
   "metadata": {},
   "outputs": [],
   "source": [
    "testDset = torch.cat( (test_set[:,:4], testSet32.reshape( (testSet32.shape[0], 32*32) ) ),1)"
   ]
  },
  {
   "cell_type": "code",
   "execution_count": 14,
   "metadata": {},
   "outputs": [],
   "source": [
    "inputData = torch.from_numpy(train_set[:80000,:4]).type('torch.FloatTensor')\n",
    "dataSet32 = torch.from_numpy( np.concatenate( (np.load('NewDataSet32.npy')[:40000], np.load('NewDataSet32.npy')[49500:89500] )) ).type('torch.FloatTensor')"
   ]
  },
  {
   "cell_type": "code",
   "execution_count": 42,
   "metadata": {},
   "outputs": [],
   "source": [
    "test_loader =   torch.utils.data.DataLoader(OpenTestDset.type('torch.FloatTensor').to('cuda'), batch_size=batch_size)"
   ]
  },
  {
   "cell_type": "code",
   "execution_count": 15,
   "metadata": {},
   "outputs": [],
   "source": [
    "dset = torch.cat((inputData,torch.reshape(dataSet32,(dataSet32.shape[0],32*32))),1 )"
   ]
  },
  {
   "cell_type": "code",
   "execution_count": 16,
   "metadata": {},
   "outputs": [],
   "source": [
    "train_loader = torch.utils.data.DataLoader(dset.type('torch.FloatTensor').to('cuda'), batch_size=batch_size,shuffle= True)"
   ]
  },
  {
   "cell_type": "code",
   "execution_count": 17,
   "metadata": {},
   "outputs": [],
   "source": [
    "model1 = DensityEstimator(4,64)\n",
    "model2 = RESNET(18)\n",
    "model3 = RESNET(18)"
   ]
  },
  {
   "cell_type": "code",
   "execution_count": 18,
   "metadata": {},
   "outputs": [],
   "source": [
    "CombineModel = combineModel(model1,model2,model3)"
   ]
  },
  {
   "cell_type": "code",
   "execution_count": 19,
   "metadata": {},
   "outputs": [
    {
     "data": {
      "text/plain": [
       "<All keys matched successfully>"
      ]
     },
     "execution_count": 19,
     "metadata": {},
     "output_type": "execute_result"
    }
   ],
   "source": [
    "CombineModel.load_state_dict(torch.load('NewCombineDensityEstimator4-64'))"
   ]
  },
  {
   "cell_type": "code",
   "execution_count": 20,
   "metadata": {},
   "outputs": [
    {
     "data": {
      "text/plain": [
       "combineModel(\n",
       "  (model1): DensityEstimator(\n",
       "    (relu): LeakyReLU(negative_slope=0.2, inplace=True)\n",
       "    (fc1): Linear(in_features=4, out_features=16, bias=True)\n",
       "    (fc2): Linear(in_features=16, out_features=64, bias=True)\n",
       "    (fc3): Linear(in_features=64, out_features=256, bias=True)\n",
       "    (fc4): Linear(in_features=256, out_features=64, bias=True)\n",
       "  )\n",
       "  (model2): RESNET(\n",
       "    (conv_input): Conv2d(1, 64, kernel_size=(5, 5), stride=(1, 1), padding=(2, 2), bias=False)\n",
       "    (relu): LeakyReLU(negative_slope=0.2, inplace=True)\n",
       "    (residual): Sequential(\n",
       "      (0): Residual_Block(\n",
       "        (conv1): Conv2d(64, 64, kernel_size=(3, 3), stride=(1, 1), padding=(1, 1), bias=False)\n",
       "        (in1): InstanceNorm2d(64, eps=1e-05, momentum=0.1, affine=True, track_running_stats=False)\n",
       "        (relu): LeakyReLU(negative_slope=0.2, inplace=True)\n",
       "        (conv2): Conv2d(64, 64, kernel_size=(3, 3), stride=(1, 1), padding=(1, 1), bias=False)\n",
       "        (in2): InstanceNorm2d(64, eps=1e-05, momentum=0.1, affine=True, track_running_stats=False)\n",
       "      )\n",
       "      (1): Residual_Block(\n",
       "        (conv1): Conv2d(64, 64, kernel_size=(3, 3), stride=(1, 1), padding=(1, 1), bias=False)\n",
       "        (in1): InstanceNorm2d(64, eps=1e-05, momentum=0.1, affine=True, track_running_stats=False)\n",
       "        (relu): LeakyReLU(negative_slope=0.2, inplace=True)\n",
       "        (conv2): Conv2d(64, 64, kernel_size=(3, 3), stride=(1, 1), padding=(1, 1), bias=False)\n",
       "        (in2): InstanceNorm2d(64, eps=1e-05, momentum=0.1, affine=True, track_running_stats=False)\n",
       "      )\n",
       "      (2): Residual_Block(\n",
       "        (conv1): Conv2d(64, 64, kernel_size=(3, 3), stride=(1, 1), padding=(1, 1), bias=False)\n",
       "        (in1): InstanceNorm2d(64, eps=1e-05, momentum=0.1, affine=True, track_running_stats=False)\n",
       "        (relu): LeakyReLU(negative_slope=0.2, inplace=True)\n",
       "        (conv2): Conv2d(64, 64, kernel_size=(3, 3), stride=(1, 1), padding=(1, 1), bias=False)\n",
       "        (in2): InstanceNorm2d(64, eps=1e-05, momentum=0.1, affine=True, track_running_stats=False)\n",
       "      )\n",
       "      (3): Residual_Block(\n",
       "        (conv1): Conv2d(64, 64, kernel_size=(3, 3), stride=(1, 1), padding=(1, 1), bias=False)\n",
       "        (in1): InstanceNorm2d(64, eps=1e-05, momentum=0.1, affine=True, track_running_stats=False)\n",
       "        (relu): LeakyReLU(negative_slope=0.2, inplace=True)\n",
       "        (conv2): Conv2d(64, 64, kernel_size=(3, 3), stride=(1, 1), padding=(1, 1), bias=False)\n",
       "        (in2): InstanceNorm2d(64, eps=1e-05, momentum=0.1, affine=True, track_running_stats=False)\n",
       "      )\n",
       "      (4): Residual_Block(\n",
       "        (conv1): Conv2d(64, 64, kernel_size=(3, 3), stride=(1, 1), padding=(1, 1), bias=False)\n",
       "        (in1): InstanceNorm2d(64, eps=1e-05, momentum=0.1, affine=True, track_running_stats=False)\n",
       "        (relu): LeakyReLU(negative_slope=0.2, inplace=True)\n",
       "        (conv2): Conv2d(64, 64, kernel_size=(3, 3), stride=(1, 1), padding=(1, 1), bias=False)\n",
       "        (in2): InstanceNorm2d(64, eps=1e-05, momentum=0.1, affine=True, track_running_stats=False)\n",
       "      )\n",
       "      (5): Residual_Block(\n",
       "        (conv1): Conv2d(64, 64, kernel_size=(3, 3), stride=(1, 1), padding=(1, 1), bias=False)\n",
       "        (in1): InstanceNorm2d(64, eps=1e-05, momentum=0.1, affine=True, track_running_stats=False)\n",
       "        (relu): LeakyReLU(negative_slope=0.2, inplace=True)\n",
       "        (conv2): Conv2d(64, 64, kernel_size=(3, 3), stride=(1, 1), padding=(1, 1), bias=False)\n",
       "        (in2): InstanceNorm2d(64, eps=1e-05, momentum=0.1, affine=True, track_running_stats=False)\n",
       "      )\n",
       "      (6): Residual_Block(\n",
       "        (conv1): Conv2d(64, 64, kernel_size=(3, 3), stride=(1, 1), padding=(1, 1), bias=False)\n",
       "        (in1): InstanceNorm2d(64, eps=1e-05, momentum=0.1, affine=True, track_running_stats=False)\n",
       "        (relu): LeakyReLU(negative_slope=0.2, inplace=True)\n",
       "        (conv2): Conv2d(64, 64, kernel_size=(3, 3), stride=(1, 1), padding=(1, 1), bias=False)\n",
       "        (in2): InstanceNorm2d(64, eps=1e-05, momentum=0.1, affine=True, track_running_stats=False)\n",
       "      )\n",
       "      (7): Residual_Block(\n",
       "        (conv1): Conv2d(64, 64, kernel_size=(3, 3), stride=(1, 1), padding=(1, 1), bias=False)\n",
       "        (in1): InstanceNorm2d(64, eps=1e-05, momentum=0.1, affine=True, track_running_stats=False)\n",
       "        (relu): LeakyReLU(negative_slope=0.2, inplace=True)\n",
       "        (conv2): Conv2d(64, 64, kernel_size=(3, 3), stride=(1, 1), padding=(1, 1), bias=False)\n",
       "        (in2): InstanceNorm2d(64, eps=1e-05, momentum=0.1, affine=True, track_running_stats=False)\n",
       "      )\n",
       "      (8): Residual_Block(\n",
       "        (conv1): Conv2d(64, 64, kernel_size=(3, 3), stride=(1, 1), padding=(1, 1), bias=False)\n",
       "        (in1): InstanceNorm2d(64, eps=1e-05, momentum=0.1, affine=True, track_running_stats=False)\n",
       "        (relu): LeakyReLU(negative_slope=0.2, inplace=True)\n",
       "        (conv2): Conv2d(64, 64, kernel_size=(3, 3), stride=(1, 1), padding=(1, 1), bias=False)\n",
       "        (in2): InstanceNorm2d(64, eps=1e-05, momentum=0.1, affine=True, track_running_stats=False)\n",
       "      )\n",
       "      (9): Residual_Block(\n",
       "        (conv1): Conv2d(64, 64, kernel_size=(3, 3), stride=(1, 1), padding=(1, 1), bias=False)\n",
       "        (in1): InstanceNorm2d(64, eps=1e-05, momentum=0.1, affine=True, track_running_stats=False)\n",
       "        (relu): LeakyReLU(negative_slope=0.2, inplace=True)\n",
       "        (conv2): Conv2d(64, 64, kernel_size=(3, 3), stride=(1, 1), padding=(1, 1), bias=False)\n",
       "        (in2): InstanceNorm2d(64, eps=1e-05, momentum=0.1, affine=True, track_running_stats=False)\n",
       "      )\n",
       "      (10): Residual_Block(\n",
       "        (conv1): Conv2d(64, 64, kernel_size=(3, 3), stride=(1, 1), padding=(1, 1), bias=False)\n",
       "        (in1): InstanceNorm2d(64, eps=1e-05, momentum=0.1, affine=True, track_running_stats=False)\n",
       "        (relu): LeakyReLU(negative_slope=0.2, inplace=True)\n",
       "        (conv2): Conv2d(64, 64, kernel_size=(3, 3), stride=(1, 1), padding=(1, 1), bias=False)\n",
       "        (in2): InstanceNorm2d(64, eps=1e-05, momentum=0.1, affine=True, track_running_stats=False)\n",
       "      )\n",
       "      (11): Residual_Block(\n",
       "        (conv1): Conv2d(64, 64, kernel_size=(3, 3), stride=(1, 1), padding=(1, 1), bias=False)\n",
       "        (in1): InstanceNorm2d(64, eps=1e-05, momentum=0.1, affine=True, track_running_stats=False)\n",
       "        (relu): LeakyReLU(negative_slope=0.2, inplace=True)\n",
       "        (conv2): Conv2d(64, 64, kernel_size=(3, 3), stride=(1, 1), padding=(1, 1), bias=False)\n",
       "        (in2): InstanceNorm2d(64, eps=1e-05, momentum=0.1, affine=True, track_running_stats=False)\n",
       "      )\n",
       "      (12): Residual_Block(\n",
       "        (conv1): Conv2d(64, 64, kernel_size=(3, 3), stride=(1, 1), padding=(1, 1), bias=False)\n",
       "        (in1): InstanceNorm2d(64, eps=1e-05, momentum=0.1, affine=True, track_running_stats=False)\n",
       "        (relu): LeakyReLU(negative_slope=0.2, inplace=True)\n",
       "        (conv2): Conv2d(64, 64, kernel_size=(3, 3), stride=(1, 1), padding=(1, 1), bias=False)\n",
       "        (in2): InstanceNorm2d(64, eps=1e-05, momentum=0.1, affine=True, track_running_stats=False)\n",
       "      )\n",
       "      (13): Residual_Block(\n",
       "        (conv1): Conv2d(64, 64, kernel_size=(3, 3), stride=(1, 1), padding=(1, 1), bias=False)\n",
       "        (in1): InstanceNorm2d(64, eps=1e-05, momentum=0.1, affine=True, track_running_stats=False)\n",
       "        (relu): LeakyReLU(negative_slope=0.2, inplace=True)\n",
       "        (conv2): Conv2d(64, 64, kernel_size=(3, 3), stride=(1, 1), padding=(1, 1), bias=False)\n",
       "        (in2): InstanceNorm2d(64, eps=1e-05, momentum=0.1, affine=True, track_running_stats=False)\n",
       "      )\n",
       "      (14): Residual_Block(\n",
       "        (conv1): Conv2d(64, 64, kernel_size=(3, 3), stride=(1, 1), padding=(1, 1), bias=False)\n",
       "        (in1): InstanceNorm2d(64, eps=1e-05, momentum=0.1, affine=True, track_running_stats=False)\n",
       "        (relu): LeakyReLU(negative_slope=0.2, inplace=True)\n",
       "        (conv2): Conv2d(64, 64, kernel_size=(3, 3), stride=(1, 1), padding=(1, 1), bias=False)\n",
       "        (in2): InstanceNorm2d(64, eps=1e-05, momentum=0.1, affine=True, track_running_stats=False)\n",
       "      )\n",
       "      (15): Residual_Block(\n",
       "        (conv1): Conv2d(64, 64, kernel_size=(3, 3), stride=(1, 1), padding=(1, 1), bias=False)\n",
       "        (in1): InstanceNorm2d(64, eps=1e-05, momentum=0.1, affine=True, track_running_stats=False)\n",
       "        (relu): LeakyReLU(negative_slope=0.2, inplace=True)\n",
       "        (conv2): Conv2d(64, 64, kernel_size=(3, 3), stride=(1, 1), padding=(1, 1), bias=False)\n",
       "        (in2): InstanceNorm2d(64, eps=1e-05, momentum=0.1, affine=True, track_running_stats=False)\n",
       "      )\n",
       "      (16): Residual_Block(\n",
       "        (conv1): Conv2d(64, 64, kernel_size=(3, 3), stride=(1, 1), padding=(1, 1), bias=False)\n",
       "        (in1): InstanceNorm2d(64, eps=1e-05, momentum=0.1, affine=True, track_running_stats=False)\n",
       "        (relu): LeakyReLU(negative_slope=0.2, inplace=True)\n",
       "        (conv2): Conv2d(64, 64, kernel_size=(3, 3), stride=(1, 1), padding=(1, 1), bias=False)\n",
       "        (in2): InstanceNorm2d(64, eps=1e-05, momentum=0.1, affine=True, track_running_stats=False)\n",
       "      )\n",
       "      (17): Residual_Block(\n",
       "        (conv1): Conv2d(64, 64, kernel_size=(3, 3), stride=(1, 1), padding=(1, 1), bias=False)\n",
       "        (in1): InstanceNorm2d(64, eps=1e-05, momentum=0.1, affine=True, track_running_stats=False)\n",
       "        (relu): LeakyReLU(negative_slope=0.2, inplace=True)\n",
       "        (conv2): Conv2d(64, 64, kernel_size=(3, 3), stride=(1, 1), padding=(1, 1), bias=False)\n",
       "        (in2): InstanceNorm2d(64, eps=1e-05, momentum=0.1, affine=True, track_running_stats=False)\n",
       "      )\n",
       "    )\n",
       "    (conv_mid): Conv2d(64, 64, kernel_size=(3, 3), stride=(1, 1), padding=(1, 1), bias=False)\n",
       "    (bn_mid): InstanceNorm2d(64, eps=1e-05, momentum=0.1, affine=True, track_running_stats=False)\n",
       "    (upscale2x): Sequential(\n",
       "      (0): Conv2d(64, 256, kernel_size=(3, 3), stride=(1, 1), padding=(1, 1), bias=False)\n",
       "      (1): PixelShuffle(upscale_factor=2)\n",
       "      (2): LeakyReLU(negative_slope=0.2, inplace=True)\n",
       "    )\n",
       "    (conv_output): Conv2d(64, 1, kernel_size=(5, 5), stride=(1, 1), padding=(2, 2), bias=False)\n",
       "  )\n",
       "  (model3): RESNET(\n",
       "    (conv_input): Conv2d(1, 64, kernel_size=(5, 5), stride=(1, 1), padding=(2, 2), bias=False)\n",
       "    (relu): LeakyReLU(negative_slope=0.2, inplace=True)\n",
       "    (residual): Sequential(\n",
       "      (0): Residual_Block(\n",
       "        (conv1): Conv2d(64, 64, kernel_size=(3, 3), stride=(1, 1), padding=(1, 1), bias=False)\n",
       "        (in1): InstanceNorm2d(64, eps=1e-05, momentum=0.1, affine=True, track_running_stats=False)\n",
       "        (relu): LeakyReLU(negative_slope=0.2, inplace=True)\n",
       "        (conv2): Conv2d(64, 64, kernel_size=(3, 3), stride=(1, 1), padding=(1, 1), bias=False)\n",
       "        (in2): InstanceNorm2d(64, eps=1e-05, momentum=0.1, affine=True, track_running_stats=False)\n",
       "      )\n",
       "      (1): Residual_Block(\n",
       "        (conv1): Conv2d(64, 64, kernel_size=(3, 3), stride=(1, 1), padding=(1, 1), bias=False)\n",
       "        (in1): InstanceNorm2d(64, eps=1e-05, momentum=0.1, affine=True, track_running_stats=False)\n",
       "        (relu): LeakyReLU(negative_slope=0.2, inplace=True)\n",
       "        (conv2): Conv2d(64, 64, kernel_size=(3, 3), stride=(1, 1), padding=(1, 1), bias=False)\n",
       "        (in2): InstanceNorm2d(64, eps=1e-05, momentum=0.1, affine=True, track_running_stats=False)\n",
       "      )\n",
       "      (2): Residual_Block(\n",
       "        (conv1): Conv2d(64, 64, kernel_size=(3, 3), stride=(1, 1), padding=(1, 1), bias=False)\n",
       "        (in1): InstanceNorm2d(64, eps=1e-05, momentum=0.1, affine=True, track_running_stats=False)\n",
       "        (relu): LeakyReLU(negative_slope=0.2, inplace=True)\n",
       "        (conv2): Conv2d(64, 64, kernel_size=(3, 3), stride=(1, 1), padding=(1, 1), bias=False)\n",
       "        (in2): InstanceNorm2d(64, eps=1e-05, momentum=0.1, affine=True, track_running_stats=False)\n",
       "      )\n",
       "      (3): Residual_Block(\n",
       "        (conv1): Conv2d(64, 64, kernel_size=(3, 3), stride=(1, 1), padding=(1, 1), bias=False)\n",
       "        (in1): InstanceNorm2d(64, eps=1e-05, momentum=0.1, affine=True, track_running_stats=False)\n",
       "        (relu): LeakyReLU(negative_slope=0.2, inplace=True)\n",
       "        (conv2): Conv2d(64, 64, kernel_size=(3, 3), stride=(1, 1), padding=(1, 1), bias=False)\n",
       "        (in2): InstanceNorm2d(64, eps=1e-05, momentum=0.1, affine=True, track_running_stats=False)\n",
       "      )\n",
       "      (4): Residual_Block(\n",
       "        (conv1): Conv2d(64, 64, kernel_size=(3, 3), stride=(1, 1), padding=(1, 1), bias=False)\n",
       "        (in1): InstanceNorm2d(64, eps=1e-05, momentum=0.1, affine=True, track_running_stats=False)\n",
       "        (relu): LeakyReLU(negative_slope=0.2, inplace=True)\n",
       "        (conv2): Conv2d(64, 64, kernel_size=(3, 3), stride=(1, 1), padding=(1, 1), bias=False)\n",
       "        (in2): InstanceNorm2d(64, eps=1e-05, momentum=0.1, affine=True, track_running_stats=False)\n",
       "      )\n",
       "      (5): Residual_Block(\n",
       "        (conv1): Conv2d(64, 64, kernel_size=(3, 3), stride=(1, 1), padding=(1, 1), bias=False)\n",
       "        (in1): InstanceNorm2d(64, eps=1e-05, momentum=0.1, affine=True, track_running_stats=False)\n",
       "        (relu): LeakyReLU(negative_slope=0.2, inplace=True)\n",
       "        (conv2): Conv2d(64, 64, kernel_size=(3, 3), stride=(1, 1), padding=(1, 1), bias=False)\n",
       "        (in2): InstanceNorm2d(64, eps=1e-05, momentum=0.1, affine=True, track_running_stats=False)\n",
       "      )\n",
       "      (6): Residual_Block(\n",
       "        (conv1): Conv2d(64, 64, kernel_size=(3, 3), stride=(1, 1), padding=(1, 1), bias=False)\n",
       "        (in1): InstanceNorm2d(64, eps=1e-05, momentum=0.1, affine=True, track_running_stats=False)\n",
       "        (relu): LeakyReLU(negative_slope=0.2, inplace=True)\n",
       "        (conv2): Conv2d(64, 64, kernel_size=(3, 3), stride=(1, 1), padding=(1, 1), bias=False)\n",
       "        (in2): InstanceNorm2d(64, eps=1e-05, momentum=0.1, affine=True, track_running_stats=False)\n",
       "      )\n",
       "      (7): Residual_Block(\n",
       "        (conv1): Conv2d(64, 64, kernel_size=(3, 3), stride=(1, 1), padding=(1, 1), bias=False)\n",
       "        (in1): InstanceNorm2d(64, eps=1e-05, momentum=0.1, affine=True, track_running_stats=False)\n",
       "        (relu): LeakyReLU(negative_slope=0.2, inplace=True)\n",
       "        (conv2): Conv2d(64, 64, kernel_size=(3, 3), stride=(1, 1), padding=(1, 1), bias=False)\n",
       "        (in2): InstanceNorm2d(64, eps=1e-05, momentum=0.1, affine=True, track_running_stats=False)\n",
       "      )\n",
       "      (8): Residual_Block(\n",
       "        (conv1): Conv2d(64, 64, kernel_size=(3, 3), stride=(1, 1), padding=(1, 1), bias=False)\n",
       "        (in1): InstanceNorm2d(64, eps=1e-05, momentum=0.1, affine=True, track_running_stats=False)\n",
       "        (relu): LeakyReLU(negative_slope=0.2, inplace=True)\n",
       "        (conv2): Conv2d(64, 64, kernel_size=(3, 3), stride=(1, 1), padding=(1, 1), bias=False)\n",
       "        (in2): InstanceNorm2d(64, eps=1e-05, momentum=0.1, affine=True, track_running_stats=False)\n",
       "      )\n",
       "      (9): Residual_Block(\n",
       "        (conv1): Conv2d(64, 64, kernel_size=(3, 3), stride=(1, 1), padding=(1, 1), bias=False)\n",
       "        (in1): InstanceNorm2d(64, eps=1e-05, momentum=0.1, affine=True, track_running_stats=False)\n",
       "        (relu): LeakyReLU(negative_slope=0.2, inplace=True)\n",
       "        (conv2): Conv2d(64, 64, kernel_size=(3, 3), stride=(1, 1), padding=(1, 1), bias=False)\n",
       "        (in2): InstanceNorm2d(64, eps=1e-05, momentum=0.1, affine=True, track_running_stats=False)\n",
       "      )\n",
       "      (10): Residual_Block(\n",
       "        (conv1): Conv2d(64, 64, kernel_size=(3, 3), stride=(1, 1), padding=(1, 1), bias=False)\n",
       "        (in1): InstanceNorm2d(64, eps=1e-05, momentum=0.1, affine=True, track_running_stats=False)\n",
       "        (relu): LeakyReLU(negative_slope=0.2, inplace=True)\n",
       "        (conv2): Conv2d(64, 64, kernel_size=(3, 3), stride=(1, 1), padding=(1, 1), bias=False)\n",
       "        (in2): InstanceNorm2d(64, eps=1e-05, momentum=0.1, affine=True, track_running_stats=False)\n",
       "      )\n",
       "      (11): Residual_Block(\n",
       "        (conv1): Conv2d(64, 64, kernel_size=(3, 3), stride=(1, 1), padding=(1, 1), bias=False)\n",
       "        (in1): InstanceNorm2d(64, eps=1e-05, momentum=0.1, affine=True, track_running_stats=False)\n",
       "        (relu): LeakyReLU(negative_slope=0.2, inplace=True)\n",
       "        (conv2): Conv2d(64, 64, kernel_size=(3, 3), stride=(1, 1), padding=(1, 1), bias=False)\n",
       "        (in2): InstanceNorm2d(64, eps=1e-05, momentum=0.1, affine=True, track_running_stats=False)\n",
       "      )\n",
       "      (12): Residual_Block(\n",
       "        (conv1): Conv2d(64, 64, kernel_size=(3, 3), stride=(1, 1), padding=(1, 1), bias=False)\n",
       "        (in1): InstanceNorm2d(64, eps=1e-05, momentum=0.1, affine=True, track_running_stats=False)\n",
       "        (relu): LeakyReLU(negative_slope=0.2, inplace=True)\n",
       "        (conv2): Conv2d(64, 64, kernel_size=(3, 3), stride=(1, 1), padding=(1, 1), bias=False)\n",
       "        (in2): InstanceNorm2d(64, eps=1e-05, momentum=0.1, affine=True, track_running_stats=False)\n",
       "      )\n",
       "      (13): Residual_Block(\n",
       "        (conv1): Conv2d(64, 64, kernel_size=(3, 3), stride=(1, 1), padding=(1, 1), bias=False)\n",
       "        (in1): InstanceNorm2d(64, eps=1e-05, momentum=0.1, affine=True, track_running_stats=False)\n",
       "        (relu): LeakyReLU(negative_slope=0.2, inplace=True)\n",
       "        (conv2): Conv2d(64, 64, kernel_size=(3, 3), stride=(1, 1), padding=(1, 1), bias=False)\n",
       "        (in2): InstanceNorm2d(64, eps=1e-05, momentum=0.1, affine=True, track_running_stats=False)\n",
       "      )\n",
       "      (14): Residual_Block(\n",
       "        (conv1): Conv2d(64, 64, kernel_size=(3, 3), stride=(1, 1), padding=(1, 1), bias=False)\n",
       "        (in1): InstanceNorm2d(64, eps=1e-05, momentum=0.1, affine=True, track_running_stats=False)\n",
       "        (relu): LeakyReLU(negative_slope=0.2, inplace=True)\n",
       "        (conv2): Conv2d(64, 64, kernel_size=(3, 3), stride=(1, 1), padding=(1, 1), bias=False)\n",
       "        (in2): InstanceNorm2d(64, eps=1e-05, momentum=0.1, affine=True, track_running_stats=False)\n",
       "      )\n",
       "      (15): Residual_Block(\n",
       "        (conv1): Conv2d(64, 64, kernel_size=(3, 3), stride=(1, 1), padding=(1, 1), bias=False)\n",
       "        (in1): InstanceNorm2d(64, eps=1e-05, momentum=0.1, affine=True, track_running_stats=False)\n",
       "        (relu): LeakyReLU(negative_slope=0.2, inplace=True)\n",
       "        (conv2): Conv2d(64, 64, kernel_size=(3, 3), stride=(1, 1), padding=(1, 1), bias=False)\n",
       "        (in2): InstanceNorm2d(64, eps=1e-05, momentum=0.1, affine=True, track_running_stats=False)\n",
       "      )\n",
       "      (16): Residual_Block(\n",
       "        (conv1): Conv2d(64, 64, kernel_size=(3, 3), stride=(1, 1), padding=(1, 1), bias=False)\n",
       "        (in1): InstanceNorm2d(64, eps=1e-05, momentum=0.1, affine=True, track_running_stats=False)\n",
       "        (relu): LeakyReLU(negative_slope=0.2, inplace=True)\n",
       "        (conv2): Conv2d(64, 64, kernel_size=(3, 3), stride=(1, 1), padding=(1, 1), bias=False)\n",
       "        (in2): InstanceNorm2d(64, eps=1e-05, momentum=0.1, affine=True, track_running_stats=False)\n",
       "      )\n",
       "      (17): Residual_Block(\n",
       "        (conv1): Conv2d(64, 64, kernel_size=(3, 3), stride=(1, 1), padding=(1, 1), bias=False)\n",
       "        (in1): InstanceNorm2d(64, eps=1e-05, momentum=0.1, affine=True, track_running_stats=False)\n",
       "        (relu): LeakyReLU(negative_slope=0.2, inplace=True)\n",
       "        (conv2): Conv2d(64, 64, kernel_size=(3, 3), stride=(1, 1), padding=(1, 1), bias=False)\n",
       "        (in2): InstanceNorm2d(64, eps=1e-05, momentum=0.1, affine=True, track_running_stats=False)\n",
       "      )\n",
       "    )\n",
       "    (conv_mid): Conv2d(64, 64, kernel_size=(3, 3), stride=(1, 1), padding=(1, 1), bias=False)\n",
       "    (bn_mid): InstanceNorm2d(64, eps=1e-05, momentum=0.1, affine=True, track_running_stats=False)\n",
       "    (upscale2x): Sequential(\n",
       "      (0): Conv2d(64, 256, kernel_size=(3, 3), stride=(1, 1), padding=(1, 1), bias=False)\n",
       "      (1): PixelShuffle(upscale_factor=2)\n",
       "      (2): LeakyReLU(negative_slope=0.2, inplace=True)\n",
       "    )\n",
       "    (conv_output): Conv2d(64, 1, kernel_size=(5, 5), stride=(1, 1), padding=(2, 2), bias=False)\n",
       "  )\n",
       ")"
      ]
     },
     "execution_count": 20,
     "metadata": {},
     "output_type": "execute_result"
    }
   ],
   "source": [
    "CombineModel.eval()"
   ]
  },
  {
   "cell_type": "code",
   "execution_count": 21,
   "metadata": {},
   "outputs": [],
   "source": [
    "conModel = ConfigurationModel(CombineModel.to('cuda')).to('cuda')"
   ]
  },
  {
   "cell_type": "code",
   "execution_count": 37,
   "metadata": {},
   "outputs": [],
   "source": [
    "adOptimizer = optim.Adam(conModel.parameters(),lr =0.00001)"
   ]
  },
  {
   "cell_type": "code",
   "execution_count": 23,
   "metadata": {},
   "outputs": [],
   "source": [
    "boxes = []\n",
    "sz =32\n",
    "x = -3.25\n",
    "while x< 3.25:\n",
    "        y = -3.25\n",
    "        while(y<3.25):\n",
    "            boxes.append([x+3.25/sz, y +3.25/sz])\n",
    "            y+= (3.25*2)/sz   \n",
    "        x += (3.25*2)/sz\n",
    "boxes = np.array(boxes)\n",
    "boxes = np.tile(boxes,(36,1,1))"
   ]
  },
  {
   "cell_type": "code",
   "execution_count": 24,
   "metadata": {},
   "outputs": [],
   "source": [
    "boxes = torch.from_numpy(boxes).type('torch.FloatTensor').to('cuda')"
   ]
  },
  {
   "cell_type": "code",
   "execution_count": 25,
   "metadata": {},
   "outputs": [
    {
     "name": "stdout",
     "output_type": "stream",
     "text": [
      "torch.Size([36, 1024, 2])\n"
     ]
    }
   ],
   "source": [
    "print(boxes.shape)"
   ]
  },
  {
   "cell_type": "code",
   "execution_count": 35,
   "metadata": {},
   "outputs": [],
   "source": [
    "def myFunc(output,data32):\n",
    "    global boxes\n",
    "    boxing = boxes.unsqueeze(0).expand((output.shape[0],-1,-1,-1))\n",
    "    sz = 32\n",
    "    vol = (3.25*2/sz)**2\n",
    "    #print( torch.reshape(output,(output.shape[0],36,2)).unsqueeze(2).shape)\n",
    "    snap =  torch.reshape(output,(output.shape[0],36,2)).unsqueeze(2).expand( (-1,-1,1024,-1))\n",
    "    dist = torch.norm(snap-boxing,dim = 3)\n",
    "    #print(dist.shape)\n",
    "    val =  vol * torch.exp(-0.5*torch.mul((dist/0.4), (dist/0.4)) )/ (2*3.14 * 0.16)\n",
    "    #print(val.sum(axis=1).shape)\n",
    "    dataSet32 = val.sum(axis=1).reshape(val.shape[0],32,32)\n",
    "    #print(dataSet32.shape)\n",
    "    #dataSet32 = torch.reshape(torch.from_numpy(dataSet32), (len(dataSet32),sz,sz) )\n",
    "    return (torch.abs(dataSet32-data32)/data32).mean()"
   ]
  },
  {
   "cell_type": "code",
   "execution_count": 27,
   "metadata": {},
   "outputs": [],
   "source": [
    "sampleBox = []"
   ]
  },
  {
   "cell_type": "code",
   "execution_count": 28,
   "metadata": {},
   "outputs": [],
   "source": [
    "for i in range(6):\n",
    "    for j in range(6):\n",
    "        sampleBox.append(i-2.5)\n",
    "        sampleBox.append(j-2.5)"
   ]
  },
  {
   "cell_type": "code",
   "execution_count": 29,
   "metadata": {},
   "outputs": [],
   "source": [
    "sampleBox = torch.from_numpy(np.array(sampleBox)).type('torch.FloatTensor').to('cuda')"
   ]
  },
  {
   "cell_type": "code",
   "execution_count": 30,
   "metadata": {},
   "outputs": [
    {
     "name": "stdout",
     "output_type": "stream",
     "text": [
      "torch.Size([72])\n"
     ]
    }
   ],
   "source": [
    "print(sampleBox.size())"
   ]
  },
  {
   "cell_type": "code",
   "execution_count": 31,
   "metadata": {},
   "outputs": [
    {
     "name": "stdout",
     "output_type": "stream",
     "text": [
      "torch.Size([80000, 32, 32])\n"
     ]
    }
   ],
   "source": [
    "print(dataSet32.shape)"
   ]
  },
  {
   "cell_type": "code",
   "execution_count": 32,
   "metadata": {},
   "outputs": [
    {
     "data": {
      "text/plain": [
       "torch.Size([36, 1024, 2])"
      ]
     },
     "execution_count": 32,
     "metadata": {},
     "output_type": "execute_result"
    }
   ],
   "source": [
    "boxes.shape"
   ]
  },
  {
   "cell_type": "code",
   "execution_count": 33,
   "metadata": {},
   "outputs": [],
   "source": [
    "Epochs = 100"
   ]
  },
  {
   "cell_type": "code",
   "execution_count": 60,
   "metadata": {},
   "outputs": [
    {
     "data": {
      "text/plain": [
       "ConfigurationModel(\n",
       "  (model1): combineModel(\n",
       "    (model1): DensityEstimator(\n",
       "      (relu): LeakyReLU(negative_slope=0.2, inplace=True)\n",
       "      (fc1): Linear(in_features=4, out_features=16, bias=True)\n",
       "      (fc2): Linear(in_features=16, out_features=64, bias=True)\n",
       "      (fc3): Linear(in_features=64, out_features=256, bias=True)\n",
       "      (fc4): Linear(in_features=256, out_features=64, bias=True)\n",
       "    )\n",
       "    (model2): RESNET(\n",
       "      (conv_input): Conv2d(1, 64, kernel_size=(5, 5), stride=(1, 1), padding=(2, 2), bias=False)\n",
       "      (relu): LeakyReLU(negative_slope=0.2, inplace=True)\n",
       "      (residual): Sequential(\n",
       "        (0): Residual_Block(\n",
       "          (conv1): Conv2d(64, 64, kernel_size=(3, 3), stride=(1, 1), padding=(1, 1), bias=False)\n",
       "          (in1): InstanceNorm2d(64, eps=1e-05, momentum=0.1, affine=True, track_running_stats=False)\n",
       "          (relu): LeakyReLU(negative_slope=0.2, inplace=True)\n",
       "          (conv2): Conv2d(64, 64, kernel_size=(3, 3), stride=(1, 1), padding=(1, 1), bias=False)\n",
       "          (in2): InstanceNorm2d(64, eps=1e-05, momentum=0.1, affine=True, track_running_stats=False)\n",
       "        )\n",
       "        (1): Residual_Block(\n",
       "          (conv1): Conv2d(64, 64, kernel_size=(3, 3), stride=(1, 1), padding=(1, 1), bias=False)\n",
       "          (in1): InstanceNorm2d(64, eps=1e-05, momentum=0.1, affine=True, track_running_stats=False)\n",
       "          (relu): LeakyReLU(negative_slope=0.2, inplace=True)\n",
       "          (conv2): Conv2d(64, 64, kernel_size=(3, 3), stride=(1, 1), padding=(1, 1), bias=False)\n",
       "          (in2): InstanceNorm2d(64, eps=1e-05, momentum=0.1, affine=True, track_running_stats=False)\n",
       "        )\n",
       "        (2): Residual_Block(\n",
       "          (conv1): Conv2d(64, 64, kernel_size=(3, 3), stride=(1, 1), padding=(1, 1), bias=False)\n",
       "          (in1): InstanceNorm2d(64, eps=1e-05, momentum=0.1, affine=True, track_running_stats=False)\n",
       "          (relu): LeakyReLU(negative_slope=0.2, inplace=True)\n",
       "          (conv2): Conv2d(64, 64, kernel_size=(3, 3), stride=(1, 1), padding=(1, 1), bias=False)\n",
       "          (in2): InstanceNorm2d(64, eps=1e-05, momentum=0.1, affine=True, track_running_stats=False)\n",
       "        )\n",
       "        (3): Residual_Block(\n",
       "          (conv1): Conv2d(64, 64, kernel_size=(3, 3), stride=(1, 1), padding=(1, 1), bias=False)\n",
       "          (in1): InstanceNorm2d(64, eps=1e-05, momentum=0.1, affine=True, track_running_stats=False)\n",
       "          (relu): LeakyReLU(negative_slope=0.2, inplace=True)\n",
       "          (conv2): Conv2d(64, 64, kernel_size=(3, 3), stride=(1, 1), padding=(1, 1), bias=False)\n",
       "          (in2): InstanceNorm2d(64, eps=1e-05, momentum=0.1, affine=True, track_running_stats=False)\n",
       "        )\n",
       "        (4): Residual_Block(\n",
       "          (conv1): Conv2d(64, 64, kernel_size=(3, 3), stride=(1, 1), padding=(1, 1), bias=False)\n",
       "          (in1): InstanceNorm2d(64, eps=1e-05, momentum=0.1, affine=True, track_running_stats=False)\n",
       "          (relu): LeakyReLU(negative_slope=0.2, inplace=True)\n",
       "          (conv2): Conv2d(64, 64, kernel_size=(3, 3), stride=(1, 1), padding=(1, 1), bias=False)\n",
       "          (in2): InstanceNorm2d(64, eps=1e-05, momentum=0.1, affine=True, track_running_stats=False)\n",
       "        )\n",
       "        (5): Residual_Block(\n",
       "          (conv1): Conv2d(64, 64, kernel_size=(3, 3), stride=(1, 1), padding=(1, 1), bias=False)\n",
       "          (in1): InstanceNorm2d(64, eps=1e-05, momentum=0.1, affine=True, track_running_stats=False)\n",
       "          (relu): LeakyReLU(negative_slope=0.2, inplace=True)\n",
       "          (conv2): Conv2d(64, 64, kernel_size=(3, 3), stride=(1, 1), padding=(1, 1), bias=False)\n",
       "          (in2): InstanceNorm2d(64, eps=1e-05, momentum=0.1, affine=True, track_running_stats=False)\n",
       "        )\n",
       "        (6): Residual_Block(\n",
       "          (conv1): Conv2d(64, 64, kernel_size=(3, 3), stride=(1, 1), padding=(1, 1), bias=False)\n",
       "          (in1): InstanceNorm2d(64, eps=1e-05, momentum=0.1, affine=True, track_running_stats=False)\n",
       "          (relu): LeakyReLU(negative_slope=0.2, inplace=True)\n",
       "          (conv2): Conv2d(64, 64, kernel_size=(3, 3), stride=(1, 1), padding=(1, 1), bias=False)\n",
       "          (in2): InstanceNorm2d(64, eps=1e-05, momentum=0.1, affine=True, track_running_stats=False)\n",
       "        )\n",
       "        (7): Residual_Block(\n",
       "          (conv1): Conv2d(64, 64, kernel_size=(3, 3), stride=(1, 1), padding=(1, 1), bias=False)\n",
       "          (in1): InstanceNorm2d(64, eps=1e-05, momentum=0.1, affine=True, track_running_stats=False)\n",
       "          (relu): LeakyReLU(negative_slope=0.2, inplace=True)\n",
       "          (conv2): Conv2d(64, 64, kernel_size=(3, 3), stride=(1, 1), padding=(1, 1), bias=False)\n",
       "          (in2): InstanceNorm2d(64, eps=1e-05, momentum=0.1, affine=True, track_running_stats=False)\n",
       "        )\n",
       "        (8): Residual_Block(\n",
       "          (conv1): Conv2d(64, 64, kernel_size=(3, 3), stride=(1, 1), padding=(1, 1), bias=False)\n",
       "          (in1): InstanceNorm2d(64, eps=1e-05, momentum=0.1, affine=True, track_running_stats=False)\n",
       "          (relu): LeakyReLU(negative_slope=0.2, inplace=True)\n",
       "          (conv2): Conv2d(64, 64, kernel_size=(3, 3), stride=(1, 1), padding=(1, 1), bias=False)\n",
       "          (in2): InstanceNorm2d(64, eps=1e-05, momentum=0.1, affine=True, track_running_stats=False)\n",
       "        )\n",
       "        (9): Residual_Block(\n",
       "          (conv1): Conv2d(64, 64, kernel_size=(3, 3), stride=(1, 1), padding=(1, 1), bias=False)\n",
       "          (in1): InstanceNorm2d(64, eps=1e-05, momentum=0.1, affine=True, track_running_stats=False)\n",
       "          (relu): LeakyReLU(negative_slope=0.2, inplace=True)\n",
       "          (conv2): Conv2d(64, 64, kernel_size=(3, 3), stride=(1, 1), padding=(1, 1), bias=False)\n",
       "          (in2): InstanceNorm2d(64, eps=1e-05, momentum=0.1, affine=True, track_running_stats=False)\n",
       "        )\n",
       "        (10): Residual_Block(\n",
       "          (conv1): Conv2d(64, 64, kernel_size=(3, 3), stride=(1, 1), padding=(1, 1), bias=False)\n",
       "          (in1): InstanceNorm2d(64, eps=1e-05, momentum=0.1, affine=True, track_running_stats=False)\n",
       "          (relu): LeakyReLU(negative_slope=0.2, inplace=True)\n",
       "          (conv2): Conv2d(64, 64, kernel_size=(3, 3), stride=(1, 1), padding=(1, 1), bias=False)\n",
       "          (in2): InstanceNorm2d(64, eps=1e-05, momentum=0.1, affine=True, track_running_stats=False)\n",
       "        )\n",
       "        (11): Residual_Block(\n",
       "          (conv1): Conv2d(64, 64, kernel_size=(3, 3), stride=(1, 1), padding=(1, 1), bias=False)\n",
       "          (in1): InstanceNorm2d(64, eps=1e-05, momentum=0.1, affine=True, track_running_stats=False)\n",
       "          (relu): LeakyReLU(negative_slope=0.2, inplace=True)\n",
       "          (conv2): Conv2d(64, 64, kernel_size=(3, 3), stride=(1, 1), padding=(1, 1), bias=False)\n",
       "          (in2): InstanceNorm2d(64, eps=1e-05, momentum=0.1, affine=True, track_running_stats=False)\n",
       "        )\n",
       "        (12): Residual_Block(\n",
       "          (conv1): Conv2d(64, 64, kernel_size=(3, 3), stride=(1, 1), padding=(1, 1), bias=False)\n",
       "          (in1): InstanceNorm2d(64, eps=1e-05, momentum=0.1, affine=True, track_running_stats=False)\n",
       "          (relu): LeakyReLU(negative_slope=0.2, inplace=True)\n",
       "          (conv2): Conv2d(64, 64, kernel_size=(3, 3), stride=(1, 1), padding=(1, 1), bias=False)\n",
       "          (in2): InstanceNorm2d(64, eps=1e-05, momentum=0.1, affine=True, track_running_stats=False)\n",
       "        )\n",
       "        (13): Residual_Block(\n",
       "          (conv1): Conv2d(64, 64, kernel_size=(3, 3), stride=(1, 1), padding=(1, 1), bias=False)\n",
       "          (in1): InstanceNorm2d(64, eps=1e-05, momentum=0.1, affine=True, track_running_stats=False)\n",
       "          (relu): LeakyReLU(negative_slope=0.2, inplace=True)\n",
       "          (conv2): Conv2d(64, 64, kernel_size=(3, 3), stride=(1, 1), padding=(1, 1), bias=False)\n",
       "          (in2): InstanceNorm2d(64, eps=1e-05, momentum=0.1, affine=True, track_running_stats=False)\n",
       "        )\n",
       "        (14): Residual_Block(\n",
       "          (conv1): Conv2d(64, 64, kernel_size=(3, 3), stride=(1, 1), padding=(1, 1), bias=False)\n",
       "          (in1): InstanceNorm2d(64, eps=1e-05, momentum=0.1, affine=True, track_running_stats=False)\n",
       "          (relu): LeakyReLU(negative_slope=0.2, inplace=True)\n",
       "          (conv2): Conv2d(64, 64, kernel_size=(3, 3), stride=(1, 1), padding=(1, 1), bias=False)\n",
       "          (in2): InstanceNorm2d(64, eps=1e-05, momentum=0.1, affine=True, track_running_stats=False)\n",
       "        )\n",
       "        (15): Residual_Block(\n",
       "          (conv1): Conv2d(64, 64, kernel_size=(3, 3), stride=(1, 1), padding=(1, 1), bias=False)\n",
       "          (in1): InstanceNorm2d(64, eps=1e-05, momentum=0.1, affine=True, track_running_stats=False)\n",
       "          (relu): LeakyReLU(negative_slope=0.2, inplace=True)\n",
       "          (conv2): Conv2d(64, 64, kernel_size=(3, 3), stride=(1, 1), padding=(1, 1), bias=False)\n",
       "          (in2): InstanceNorm2d(64, eps=1e-05, momentum=0.1, affine=True, track_running_stats=False)\n",
       "        )\n",
       "        (16): Residual_Block(\n",
       "          (conv1): Conv2d(64, 64, kernel_size=(3, 3), stride=(1, 1), padding=(1, 1), bias=False)\n",
       "          (in1): InstanceNorm2d(64, eps=1e-05, momentum=0.1, affine=True, track_running_stats=False)\n",
       "          (relu): LeakyReLU(negative_slope=0.2, inplace=True)\n",
       "          (conv2): Conv2d(64, 64, kernel_size=(3, 3), stride=(1, 1), padding=(1, 1), bias=False)\n",
       "          (in2): InstanceNorm2d(64, eps=1e-05, momentum=0.1, affine=True, track_running_stats=False)\n",
       "        )\n",
       "        (17): Residual_Block(\n",
       "          (conv1): Conv2d(64, 64, kernel_size=(3, 3), stride=(1, 1), padding=(1, 1), bias=False)\n",
       "          (in1): InstanceNorm2d(64, eps=1e-05, momentum=0.1, affine=True, track_running_stats=False)\n",
       "          (relu): LeakyReLU(negative_slope=0.2, inplace=True)\n",
       "          (conv2): Conv2d(64, 64, kernel_size=(3, 3), stride=(1, 1), padding=(1, 1), bias=False)\n",
       "          (in2): InstanceNorm2d(64, eps=1e-05, momentum=0.1, affine=True, track_running_stats=False)\n",
       "        )\n",
       "      )\n",
       "      (conv_mid): Conv2d(64, 64, kernel_size=(3, 3), stride=(1, 1), padding=(1, 1), bias=False)\n",
       "      (bn_mid): InstanceNorm2d(64, eps=1e-05, momentum=0.1, affine=True, track_running_stats=False)\n",
       "      (upscale2x): Sequential(\n",
       "        (0): Conv2d(64, 256, kernel_size=(3, 3), stride=(1, 1), padding=(1, 1), bias=False)\n",
       "        (1): PixelShuffle(upscale_factor=2)\n",
       "        (2): LeakyReLU(negative_slope=0.2, inplace=True)\n",
       "      )\n",
       "      (conv_output): Conv2d(64, 1, kernel_size=(5, 5), stride=(1, 1), padding=(2, 2), bias=False)\n",
       "    )\n",
       "    (model3): RESNET(\n",
       "      (conv_input): Conv2d(1, 64, kernel_size=(5, 5), stride=(1, 1), padding=(2, 2), bias=False)\n",
       "      (relu): LeakyReLU(negative_slope=0.2, inplace=True)\n",
       "      (residual): Sequential(\n",
       "        (0): Residual_Block(\n",
       "          (conv1): Conv2d(64, 64, kernel_size=(3, 3), stride=(1, 1), padding=(1, 1), bias=False)\n",
       "          (in1): InstanceNorm2d(64, eps=1e-05, momentum=0.1, affine=True, track_running_stats=False)\n",
       "          (relu): LeakyReLU(negative_slope=0.2, inplace=True)\n",
       "          (conv2): Conv2d(64, 64, kernel_size=(3, 3), stride=(1, 1), padding=(1, 1), bias=False)\n",
       "          (in2): InstanceNorm2d(64, eps=1e-05, momentum=0.1, affine=True, track_running_stats=False)\n",
       "        )\n",
       "        (1): Residual_Block(\n",
       "          (conv1): Conv2d(64, 64, kernel_size=(3, 3), stride=(1, 1), padding=(1, 1), bias=False)\n",
       "          (in1): InstanceNorm2d(64, eps=1e-05, momentum=0.1, affine=True, track_running_stats=False)\n",
       "          (relu): LeakyReLU(negative_slope=0.2, inplace=True)\n",
       "          (conv2): Conv2d(64, 64, kernel_size=(3, 3), stride=(1, 1), padding=(1, 1), bias=False)\n",
       "          (in2): InstanceNorm2d(64, eps=1e-05, momentum=0.1, affine=True, track_running_stats=False)\n",
       "        )\n",
       "        (2): Residual_Block(\n",
       "          (conv1): Conv2d(64, 64, kernel_size=(3, 3), stride=(1, 1), padding=(1, 1), bias=False)\n",
       "          (in1): InstanceNorm2d(64, eps=1e-05, momentum=0.1, affine=True, track_running_stats=False)\n",
       "          (relu): LeakyReLU(negative_slope=0.2, inplace=True)\n",
       "          (conv2): Conv2d(64, 64, kernel_size=(3, 3), stride=(1, 1), padding=(1, 1), bias=False)\n",
       "          (in2): InstanceNorm2d(64, eps=1e-05, momentum=0.1, affine=True, track_running_stats=False)\n",
       "        )\n",
       "        (3): Residual_Block(\n",
       "          (conv1): Conv2d(64, 64, kernel_size=(3, 3), stride=(1, 1), padding=(1, 1), bias=False)\n",
       "          (in1): InstanceNorm2d(64, eps=1e-05, momentum=0.1, affine=True, track_running_stats=False)\n",
       "          (relu): LeakyReLU(negative_slope=0.2, inplace=True)\n",
       "          (conv2): Conv2d(64, 64, kernel_size=(3, 3), stride=(1, 1), padding=(1, 1), bias=False)\n",
       "          (in2): InstanceNorm2d(64, eps=1e-05, momentum=0.1, affine=True, track_running_stats=False)\n",
       "        )\n",
       "        (4): Residual_Block(\n",
       "          (conv1): Conv2d(64, 64, kernel_size=(3, 3), stride=(1, 1), padding=(1, 1), bias=False)\n",
       "          (in1): InstanceNorm2d(64, eps=1e-05, momentum=0.1, affine=True, track_running_stats=False)\n",
       "          (relu): LeakyReLU(negative_slope=0.2, inplace=True)\n",
       "          (conv2): Conv2d(64, 64, kernel_size=(3, 3), stride=(1, 1), padding=(1, 1), bias=False)\n",
       "          (in2): InstanceNorm2d(64, eps=1e-05, momentum=0.1, affine=True, track_running_stats=False)\n",
       "        )\n",
       "        (5): Residual_Block(\n",
       "          (conv1): Conv2d(64, 64, kernel_size=(3, 3), stride=(1, 1), padding=(1, 1), bias=False)\n",
       "          (in1): InstanceNorm2d(64, eps=1e-05, momentum=0.1, affine=True, track_running_stats=False)\n",
       "          (relu): LeakyReLU(negative_slope=0.2, inplace=True)\n",
       "          (conv2): Conv2d(64, 64, kernel_size=(3, 3), stride=(1, 1), padding=(1, 1), bias=False)\n",
       "          (in2): InstanceNorm2d(64, eps=1e-05, momentum=0.1, affine=True, track_running_stats=False)\n",
       "        )\n",
       "        (6): Residual_Block(\n",
       "          (conv1): Conv2d(64, 64, kernel_size=(3, 3), stride=(1, 1), padding=(1, 1), bias=False)\n",
       "          (in1): InstanceNorm2d(64, eps=1e-05, momentum=0.1, affine=True, track_running_stats=False)\n",
       "          (relu): LeakyReLU(negative_slope=0.2, inplace=True)\n",
       "          (conv2): Conv2d(64, 64, kernel_size=(3, 3), stride=(1, 1), padding=(1, 1), bias=False)\n",
       "          (in2): InstanceNorm2d(64, eps=1e-05, momentum=0.1, affine=True, track_running_stats=False)\n",
       "        )\n",
       "        (7): Residual_Block(\n",
       "          (conv1): Conv2d(64, 64, kernel_size=(3, 3), stride=(1, 1), padding=(1, 1), bias=False)\n",
       "          (in1): InstanceNorm2d(64, eps=1e-05, momentum=0.1, affine=True, track_running_stats=False)\n",
       "          (relu): LeakyReLU(negative_slope=0.2, inplace=True)\n",
       "          (conv2): Conv2d(64, 64, kernel_size=(3, 3), stride=(1, 1), padding=(1, 1), bias=False)\n",
       "          (in2): InstanceNorm2d(64, eps=1e-05, momentum=0.1, affine=True, track_running_stats=False)\n",
       "        )\n",
       "        (8): Residual_Block(\n",
       "          (conv1): Conv2d(64, 64, kernel_size=(3, 3), stride=(1, 1), padding=(1, 1), bias=False)\n",
       "          (in1): InstanceNorm2d(64, eps=1e-05, momentum=0.1, affine=True, track_running_stats=False)\n",
       "          (relu): LeakyReLU(negative_slope=0.2, inplace=True)\n",
       "          (conv2): Conv2d(64, 64, kernel_size=(3, 3), stride=(1, 1), padding=(1, 1), bias=False)\n",
       "          (in2): InstanceNorm2d(64, eps=1e-05, momentum=0.1, affine=True, track_running_stats=False)\n",
       "        )\n",
       "        (9): Residual_Block(\n",
       "          (conv1): Conv2d(64, 64, kernel_size=(3, 3), stride=(1, 1), padding=(1, 1), bias=False)\n",
       "          (in1): InstanceNorm2d(64, eps=1e-05, momentum=0.1, affine=True, track_running_stats=False)\n",
       "          (relu): LeakyReLU(negative_slope=0.2, inplace=True)\n",
       "          (conv2): Conv2d(64, 64, kernel_size=(3, 3), stride=(1, 1), padding=(1, 1), bias=False)\n",
       "          (in2): InstanceNorm2d(64, eps=1e-05, momentum=0.1, affine=True, track_running_stats=False)\n",
       "        )\n",
       "        (10): Residual_Block(\n",
       "          (conv1): Conv2d(64, 64, kernel_size=(3, 3), stride=(1, 1), padding=(1, 1), bias=False)\n",
       "          (in1): InstanceNorm2d(64, eps=1e-05, momentum=0.1, affine=True, track_running_stats=False)\n",
       "          (relu): LeakyReLU(negative_slope=0.2, inplace=True)\n",
       "          (conv2): Conv2d(64, 64, kernel_size=(3, 3), stride=(1, 1), padding=(1, 1), bias=False)\n",
       "          (in2): InstanceNorm2d(64, eps=1e-05, momentum=0.1, affine=True, track_running_stats=False)\n",
       "        )\n",
       "        (11): Residual_Block(\n",
       "          (conv1): Conv2d(64, 64, kernel_size=(3, 3), stride=(1, 1), padding=(1, 1), bias=False)\n",
       "          (in1): InstanceNorm2d(64, eps=1e-05, momentum=0.1, affine=True, track_running_stats=False)\n",
       "          (relu): LeakyReLU(negative_slope=0.2, inplace=True)\n",
       "          (conv2): Conv2d(64, 64, kernel_size=(3, 3), stride=(1, 1), padding=(1, 1), bias=False)\n",
       "          (in2): InstanceNorm2d(64, eps=1e-05, momentum=0.1, affine=True, track_running_stats=False)\n",
       "        )\n",
       "        (12): Residual_Block(\n",
       "          (conv1): Conv2d(64, 64, kernel_size=(3, 3), stride=(1, 1), padding=(1, 1), bias=False)\n",
       "          (in1): InstanceNorm2d(64, eps=1e-05, momentum=0.1, affine=True, track_running_stats=False)\n",
       "          (relu): LeakyReLU(negative_slope=0.2, inplace=True)\n",
       "          (conv2): Conv2d(64, 64, kernel_size=(3, 3), stride=(1, 1), padding=(1, 1), bias=False)\n",
       "          (in2): InstanceNorm2d(64, eps=1e-05, momentum=0.1, affine=True, track_running_stats=False)\n",
       "        )\n",
       "        (13): Residual_Block(\n",
       "          (conv1): Conv2d(64, 64, kernel_size=(3, 3), stride=(1, 1), padding=(1, 1), bias=False)\n",
       "          (in1): InstanceNorm2d(64, eps=1e-05, momentum=0.1, affine=True, track_running_stats=False)\n",
       "          (relu): LeakyReLU(negative_slope=0.2, inplace=True)\n",
       "          (conv2): Conv2d(64, 64, kernel_size=(3, 3), stride=(1, 1), padding=(1, 1), bias=False)\n",
       "          (in2): InstanceNorm2d(64, eps=1e-05, momentum=0.1, affine=True, track_running_stats=False)\n",
       "        )\n",
       "        (14): Residual_Block(\n",
       "          (conv1): Conv2d(64, 64, kernel_size=(3, 3), stride=(1, 1), padding=(1, 1), bias=False)\n",
       "          (in1): InstanceNorm2d(64, eps=1e-05, momentum=0.1, affine=True, track_running_stats=False)\n",
       "          (relu): LeakyReLU(negative_slope=0.2, inplace=True)\n",
       "          (conv2): Conv2d(64, 64, kernel_size=(3, 3), stride=(1, 1), padding=(1, 1), bias=False)\n",
       "          (in2): InstanceNorm2d(64, eps=1e-05, momentum=0.1, affine=True, track_running_stats=False)\n",
       "        )\n",
       "        (15): Residual_Block(\n",
       "          (conv1): Conv2d(64, 64, kernel_size=(3, 3), stride=(1, 1), padding=(1, 1), bias=False)\n",
       "          (in1): InstanceNorm2d(64, eps=1e-05, momentum=0.1, affine=True, track_running_stats=False)\n",
       "          (relu): LeakyReLU(negative_slope=0.2, inplace=True)\n",
       "          (conv2): Conv2d(64, 64, kernel_size=(3, 3), stride=(1, 1), padding=(1, 1), bias=False)\n",
       "          (in2): InstanceNorm2d(64, eps=1e-05, momentum=0.1, affine=True, track_running_stats=False)\n",
       "        )\n",
       "        (16): Residual_Block(\n",
       "          (conv1): Conv2d(64, 64, kernel_size=(3, 3), stride=(1, 1), padding=(1, 1), bias=False)\n",
       "          (in1): InstanceNorm2d(64, eps=1e-05, momentum=0.1, affine=True, track_running_stats=False)\n",
       "          (relu): LeakyReLU(negative_slope=0.2, inplace=True)\n",
       "          (conv2): Conv2d(64, 64, kernel_size=(3, 3), stride=(1, 1), padding=(1, 1), bias=False)\n",
       "          (in2): InstanceNorm2d(64, eps=1e-05, momentum=0.1, affine=True, track_running_stats=False)\n",
       "        )\n",
       "        (17): Residual_Block(\n",
       "          (conv1): Conv2d(64, 64, kernel_size=(3, 3), stride=(1, 1), padding=(1, 1), bias=False)\n",
       "          (in1): InstanceNorm2d(64, eps=1e-05, momentum=0.1, affine=True, track_running_stats=False)\n",
       "          (relu): LeakyReLU(negative_slope=0.2, inplace=True)\n",
       "          (conv2): Conv2d(64, 64, kernel_size=(3, 3), stride=(1, 1), padding=(1, 1), bias=False)\n",
       "          (in2): InstanceNorm2d(64, eps=1e-05, momentum=0.1, affine=True, track_running_stats=False)\n",
       "        )\n",
       "      )\n",
       "      (conv_mid): Conv2d(64, 64, kernel_size=(3, 3), stride=(1, 1), padding=(1, 1), bias=False)\n",
       "      (bn_mid): InstanceNorm2d(64, eps=1e-05, momentum=0.1, affine=True, track_running_stats=False)\n",
       "      (upscale2x): Sequential(\n",
       "        (0): Conv2d(64, 256, kernel_size=(3, 3), stride=(1, 1), padding=(1, 1), bias=False)\n",
       "        (1): PixelShuffle(upscale_factor=2)\n",
       "        (2): LeakyReLU(negative_slope=0.2, inplace=True)\n",
       "      )\n",
       "      (conv_output): Conv2d(64, 1, kernel_size=(5, 5), stride=(1, 1), padding=(2, 2), bias=False)\n",
       "    )\n",
       "  )\n",
       "  (relu): LeakyReLU(negative_slope=0.2, inplace=True)\n",
       "  (fc1): Linear(in_features=1024, out_features=512, bias=True)\n",
       "  (fc2): Linear(in_features=512, out_features=512, bias=True)\n",
       "  (fc3): Linear(in_features=512, out_features=256, bias=True)\n",
       "  (fc4): Linear(in_features=256, out_features=72, bias=True)\n",
       ")"
      ]
     },
     "execution_count": 60,
     "metadata": {},
     "output_type": "execute_result"
    }
   ],
   "source": [
    "conModel.load_state_dict(torch.load('conModel34'))\n",
    "conModel.eval()"
   ]
  },
  {
   "cell_type": "code",
   "execution_count": null,
   "metadata": {},
   "outputs": [],
   "source": []
  },
  {
   "cell_type": "code",
   "execution_count": 38,
   "metadata": {
    "scrolled": true
   },
   "outputs": [
    {
     "name": "stdout",
     "output_type": "stream",
     "text": [
      "0\n",
      "1 0.18538318574428558\n",
      "2 0.18683357536792755\n",
      "3 0.18822108209133148\n",
      "4 0.18721991777420044\n",
      "5 0.1865224391222\n",
      "6 0.18763448297977448\n",
      "7 0.1894112080335617\n",
      "8 0.1884744018316269\n",
      "9 0.18678180873394012\n",
      "10 0.18883644044399261\n",
      "11 0.18761390447616577\n",
      "12 0.18674613535404205\n",
      "13 0.18978603184223175\n",
      "14 0.18815134465694427\n",
      "15 0.1880926936864853\n",
      "16 0.18836592137813568\n",
      "17 0.18949949741363525\n",
      "18 0.18815924227237701\n",
      "19 0.18805941939353943\n",
      "20 0.1869836151599884\n",
      "21 0.1897040158510208\n",
      "22 0.18791095912456512\n",
      "23 0.18483637273311615\n",
      "24 0.18806128203868866\n",
      "25 0.19081710278987885\n",
      "26 0.18663114309310913\n",
      "27 0.1860053539276123\n",
      "28 0.19005420804023743\n",
      "29 0.189752995967865\n",
      "30 0.18406440317630768\n",
      "31 0.18886807560920715\n",
      "32 0.18871253728866577\n",
      "33 0.187834694981575\n",
      "34 0.1848287433385849\n",
      "35 0.19026419520378113\n",
      "36 0.18781332671642303\n",
      "37 0.18750129640102386\n",
      "38 0.18749700486660004\n",
      "39 0.1844610869884491\n",
      "40 0.18357034027576447\n",
      "41 0.18548449873924255\n",
      "42 0.18769900500774384\n",
      "43 0.18903830647468567\n",
      "44 0.1876230686903\n",
      "45 0.18752740323543549\n",
      "46 0.18856211006641388\n",
      "47 0.18722940981388092\n",
      "48 0.18857143819332123\n",
      "49 0.18648621439933777\n",
      "50 0.18820175528526306\n",
      "51 0.18849419057369232\n",
      "52 0.18796232342720032\n",
      "53 0.18568767607212067\n",
      "54 0.18750904500484467\n",
      "55 0.18532612919807434\n",
      "56 0.18749864399433136\n",
      "57 0.18771503865718842\n",
      "58 0.1883849948644638\n",
      "59 0.18587015569210052\n",
      "60 0.1869329959154129\n",
      "61 0.18773934245109558\n",
      "62 0.18687704205513\n",
      "63 0.18722474575042725\n",
      "64 0.18877296149730682\n",
      "65 0.18899103999137878\n",
      "66 0.19039151072502136\n",
      "67 0.1889171153306961\n",
      "68 0.18743424117565155\n",
      "69 0.18696057796478271\n",
      "70 0.1855633705854416\n",
      "71 0.1862451732158661\n",
      "72 0.18586976826190948\n",
      "73 0.18537785112857819\n",
      "74 0.18234854936599731\n",
      "75 0.18798358738422394\n",
      "76 0.186904639005661\n",
      "77 0.18575452268123627\n",
      "78 0.1863875389099121\n",
      "79 0.18376930058002472\n",
      "80 0.18517419695854187\n",
      "81 0.18771204352378845\n",
      "82 0.18846474587917328\n",
      "83 0.1835646778345108\n",
      "84 0.1854429394006729\n",
      "85 0.18735291063785553\n",
      "86 0.19016142189502716\n",
      "87 0.18498598039150238\n",
      "88 0.1864301860332489\n",
      "89 0.1852017641067505\n",
      "90 0.1854398399591446\n",
      "91 0.18676675856113434\n",
      "92 0.18796834349632263\n",
      "93 0.1834467053413391\n",
      "94 0.18814216554164886\n",
      "95 0.19030362367630005\n",
      "96 0.1894998550415039\n",
      "97 0.18608994781970978\n",
      "98 0.18644662201404572\n",
      "99 0.18980200588703156\n",
      "100 0.19128169119358063\n",
      "101 0.18657922744750977\n",
      "102 0.18589088320732117\n",
      "103 0.18594232201576233\n",
      "104 0.1819768100976944\n",
      "105 0.1869245171546936\n",
      "106 0.1857151836156845\n",
      "107 0.1874847561120987\n",
      "108 0.18828243017196655\n",
      "109 0.18897558748722076\n",
      "110 0.18498334288597107\n",
      "111 0.18845078349113464\n",
      "112 0.18805210292339325\n",
      "113 0.18634571135044098\n",
      "114 0.1872306615114212\n",
      "115 0.18309296667575836\n",
      "116 0.18382754921913147\n",
      "117 0.18428777158260345\n",
      "118 0.1887923926115036\n",
      "119 0.18716025352478027\n",
      "120 0.184274360537529\n",
      "121 0.18931715190410614\n",
      "122 0.18288587033748627\n",
      "123 0.18632619082927704\n",
      "124 0.18643349409103394\n",
      "125 0.18572105467319489\n",
      "126 0.18759271502494812\n",
      "127 0.188862144947052\n",
      "128 0.18617798388004303\n",
      "129 0.1872255802154541\n",
      "130 0.18749096989631653\n",
      "131 0.18609574437141418\n",
      "132 0.18604770302772522\n",
      "133 0.18707792460918427\n",
      "134 0.18565058708190918\n",
      "135 0.18630269169807434\n",
      "136 0.1860084980726242\n",
      "137 0.1862696260213852\n",
      "138 0.18443650007247925\n",
      "139 0.1875353306531906\n",
      "140 0.188394695520401\n",
      "141 0.18673443794250488\n",
      "142 0.18471668660640717\n",
      "143 0.18768641352653503\n",
      "144 0.1844109743833542\n",
      "145 0.18463163077831268\n",
      "146 0.18647092580795288\n",
      "147 0.18887104094028473\n",
      "148 0.1863545924425125\n",
      "149 0.18773214519023895\n",
      "150 0.18754008412361145\n",
      "151 0.1885436624288559\n",
      "152 0.18634454905986786\n",
      "153 0.18495188653469086\n",
      "154 0.18564386665821075\n",
      "155 0.18688972294330597\n",
      "156 0.18719181418418884\n",
      "157 0.18405485153198242\n",
      "158 0.18562138080596924\n",
      "159 0.18674297630786896\n",
      "160 0.1866416335105896\n",
      "29.916858538985252\n",
      "1\n",
      "1 0.1867772340774536\n",
      "2 0.18565376102924347\n",
      "3 0.18582136929035187\n",
      "4 0.1851760894060135\n",
      "5 0.18872655928134918\n",
      "6 0.18746982514858246\n",
      "7 0.18776419758796692\n",
      "8 0.18636752665042877\n",
      "9 0.18853525817394257\n",
      "10 0.18888120353221893\n",
      "11 0.18484658002853394\n",
      "12 0.18658149242401123\n",
      "13 0.18764759600162506\n",
      "14 0.18540245294570923\n",
      "15 0.19103623926639557\n",
      "16 0.18588854372501373\n",
      "17 0.18540051579475403\n",
      "18 0.18877741694450378\n",
      "19 0.1845538169145584\n",
      "20 0.18834030628204346\n",
      "21 0.18538619577884674\n",
      "22 0.18594777584075928\n",
      "23 0.1866128146648407\n",
      "24 0.18712380528450012\n",
      "25 0.18629510700702667\n",
      "26 0.1894332319498062\n",
      "27 0.18542972207069397\n",
      "28 0.19019366800785065\n",
      "29 0.1871991604566574\n",
      "30 0.1884600967168808\n",
      "31 0.18637709319591522\n",
      "32 0.18980136513710022\n",
      "33 0.18346741795539856\n",
      "34 0.1865784078836441\n",
      "35 0.18894928693771362\n",
      "36 0.191725954413414\n",
      "37 0.18574848771095276\n",
      "38 0.18605664372444153\n",
      "39 0.19009065628051758\n",
      "40 0.1883014291524887\n",
      "41 0.18584589660167694\n",
      "42 0.1866217404603958\n",
      "43 0.1880287230014801\n",
      "44 0.18227618932724\n",
      "45 0.18414188921451569\n",
      "46 0.18481400609016418\n",
      "47 0.1854872703552246\n",
      "48 0.18815350532531738\n",
      "49 0.19041354954242706\n",
      "50 0.18781107664108276\n",
      "51 0.18715570867061615\n",
      "52 0.18613506853580475\n",
      "53 0.18659824132919312\n",
      "54 0.18509013950824738\n",
      "55 0.18837666511535645\n",
      "56 0.18838220834732056\n",
      "57 0.187051922082901\n",
      "58 0.18447062373161316\n",
      "59 0.18305906653404236\n",
      "60 0.1859222948551178\n",
      "61 0.18647055327892303\n",
      "62 0.1867084950208664\n",
      "63 0.1865665316581726\n",
      "64 0.1866639405488968\n",
      "65 0.1853153109550476\n",
      "66 0.18383625149726868\n",
      "67 0.18604201078414917\n",
      "68 0.18778373301029205\n",
      "69 0.19033071398735046\n",
      "70 0.18565520644187927\n",
      "71 0.18454504013061523\n",
      "72 0.1856926679611206\n",
      "73 0.18468883633613586\n",
      "74 0.18799632787704468\n",
      "75 0.18759813904762268\n",
      "76 0.18729472160339355\n",
      "77 0.18473343551158905\n",
      "78 0.18920783698558807\n",
      "79 0.18750208616256714\n",
      "80 0.18544675409793854\n",
      "81 0.18771836161613464\n",
      "82 0.1859164834022522\n",
      "83 0.18893522024154663\n",
      "84 0.1878349483013153\n",
      "85 0.18751661479473114\n",
      "86 0.184895858168602\n",
      "87 0.19054561853408813\n",
      "88 0.18639342486858368\n",
      "89 0.18753963708877563\n",
      "90 0.18705786764621735\n",
      "91 0.18567179143428802\n",
      "92 0.18285606801509857\n",
      "93 0.18604466319084167\n",
      "94 0.18576651811599731\n",
      "95 0.18478520214557648\n",
      "96 0.1858546882867813\n",
      "97 0.1879812777042389\n",
      "98 0.18732886016368866\n",
      "99 0.18526969850063324\n",
      "100 0.18771576881408691\n",
      "101 0.18305493891239166\n",
      "102 0.18280883133411407\n",
      "103 0.18874792754650116\n",
      "104 0.1842297613620758\n",
      "105 0.18802589178085327\n",
      "106 0.19146466255187988\n",
      "107 0.1853223294019699\n",
      "108 0.1874755322933197\n",
      "109 0.18493017554283142\n",
      "110 0.18737348914146423\n",
      "111 0.1841406226158142\n",
      "112 0.1834440976381302\n",
      "113 0.1870013177394867\n",
      "114 0.18640945851802826\n",
      "115 0.18579944968223572\n",
      "116 0.184794083237648\n",
      "117 0.1830354630947113\n",
      "118 0.1858161836862564\n",
      "119 0.18698588013648987\n",
      "120 0.18622726202011108\n",
      "121 0.18294236063957214\n",
      "122 0.1821051687002182\n",
      "123 0.187552809715271\n",
      "124 0.18709613382816315\n",
      "125 0.18380896747112274\n",
      "126 0.1881323605775833\n",
      "127 0.18858326971530914\n",
      "128 0.18576858937740326\n",
      "129 0.1872372180223465\n",
      "130 0.18711097538471222\n",
      "131 0.18529023230075836\n",
      "132 0.18652504682540894\n",
      "133 0.1871740221977234\n",
      "134 0.18486157059669495\n",
      "135 0.18546415865421295\n",
      "136 0.18880708515644073\n",
      "137 0.18543709814548492\n",
      "138 0.18695253133773804\n",
      "139 0.18893469870090485\n",
      "140 0.18620099127292633\n",
      "141 0.18717654049396515\n",
      "142 0.1813594102859497\n",
      "143 0.18635258078575134\n",
      "144 0.18796366453170776\n",
      "145 0.18707077205181122\n",
      "146 0.18932802975177765\n",
      "147 0.18634730577468872\n",
      "148 0.18495267629623413\n",
      "149 0.18874160945415497\n",
      "150 0.18502461910247803\n",
      "151 0.1864953488111496\n",
      "152 0.19108372926712036\n",
      "153 0.18911966681480408\n",
      "154 0.18574583530426025\n",
      "155 0.18653862178325653\n",
      "156 0.18665190041065216\n",
      "157 0.1881801187992096\n",
      "158 0.18621133267879486\n",
      "159 0.18635262548923492\n",
      "160 0.18728335201740265\n",
      "29.859421640634537\n",
      "2\n",
      "1 0.18606586754322052\n",
      "2 0.18714793026447296\n",
      "3 0.18530748784542084\n",
      "4 0.18392401933670044\n",
      "5 0.18716514110565186\n",
      "6 0.18772831559181213\n",
      "7 0.18619006872177124\n",
      "8 0.18762952089309692\n",
      "9 0.18928544223308563\n",
      "10 0.18648168444633484\n",
      "11 0.1862269639968872\n",
      "12 0.18717245757579803\n",
      "13 0.18899832665920258\n",
      "14 0.18689942359924316\n",
      "15 0.18783079087734222\n",
      "16 0.18577983975410461\n",
      "17 0.18415723741054535\n",
      "18 0.18412627279758453\n",
      "19 0.18741200864315033\n",
      "20 0.18365876376628876\n",
      "21 0.18632829189300537\n",
      "22 0.18698561191558838\n",
      "23 0.18529722094535828\n",
      "24 0.18537703156471252\n",
      "25 0.1869761198759079\n",
      "26 0.1869385689496994\n",
      "27 0.18768583238124847\n",
      "28 0.18610383570194244\n",
      "29 0.1852160096168518\n",
      "30 0.18589484691619873\n",
      "31 0.18875309824943542\n",
      "32 0.18549054861068726\n",
      "33 0.18809965252876282\n",
      "34 0.18596458435058594\n",
      "35 0.18533185124397278\n",
      "36 0.18850068747997284\n"
     ]
    },
    {
     "name": "stdout",
     "output_type": "stream",
     "text": [
      "37 0.1884051263332367\n",
      "38 0.18531249463558197\n",
      "39 0.1848534643650055\n",
      "40 0.18532694876194\n",
      "41 0.18724070489406586\n",
      "42 0.189069002866745\n",
      "43 0.18453378975391388\n",
      "44 0.19102133810520172\n",
      "45 0.1865418702363968\n",
      "46 0.18839332461357117\n",
      "47 0.18534696102142334\n",
      "48 0.18477670848369598\n",
      "49 0.1856861263513565\n",
      "50 0.18767870962619781\n",
      "51 0.18784011900424957\n",
      "52 0.18521258234977722\n",
      "53 0.1864032745361328\n",
      "54 0.18239884078502655\n",
      "55 0.1854550689458847\n",
      "56 0.18626777827739716\n",
      "57 0.18768824636936188\n",
      "58 0.1905776709318161\n",
      "59 0.1843724548816681\n",
      "60 0.1873003989458084\n",
      "61 0.18646694719791412\n",
      "62 0.18909209966659546\n",
      "63 0.18934275209903717\n",
      "64 0.1868981420993805\n",
      "65 0.18649497628211975\n",
      "66 0.18685071170330048\n",
      "67 0.18697217106819153\n",
      "68 0.18608611822128296\n",
      "69 0.18460218608379364\n",
      "70 0.1880199909210205\n",
      "71 0.1880684196949005\n",
      "72 0.18842822313308716\n",
      "73 0.18737226724624634\n",
      "74 0.18717285990715027\n",
      "75 0.18603359162807465\n",
      "76 0.18847410380840302\n",
      "77 0.18492314219474792\n",
      "78 0.1834917962551117\n",
      "79 0.18105541169643402\n",
      "80 0.1874266415834427\n",
      "81 0.18596939742565155\n",
      "82 0.1899213343858719\n",
      "83 0.18508294224739075\n",
      "84 0.18764731287956238\n",
      "85 0.185153067111969\n",
      "86 0.18657872080802917\n",
      "87 0.1878560334444046\n",
      "88 0.18892255425453186\n",
      "89 0.18647974729537964\n",
      "90 0.1867041140794754\n",
      "91 0.18726077675819397\n",
      "92 0.18354816734790802\n",
      "93 0.1848859041929245\n",
      "94 0.1875855177640915\n",
      "95 0.18522341549396515\n",
      "96 0.1860644817352295\n",
      "97 0.1870136857032776\n",
      "98 0.18824346363544464\n",
      "99 0.18767835199832916\n",
      "100 0.19076816737651825\n",
      "101 0.1849622279405594\n",
      "102 0.1860441118478775\n",
      "103 0.18598589301109314\n",
      "104 0.18710944056510925\n",
      "105 0.1881105750799179\n",
      "106 0.18775348365306854\n",
      "107 0.18442173302173615\n",
      "108 0.18672600388526917\n",
      "109 0.18393293023109436\n",
      "110 0.18665418028831482\n",
      "111 0.18811839818954468\n",
      "112 0.1835407167673111\n",
      "113 0.18985608220100403\n",
      "114 0.18602268397808075\n",
      "115 0.1847737431526184\n",
      "116 0.18487170338630676\n",
      "117 0.18876929581165314\n",
      "118 0.18315225839614868\n",
      "119 0.1866081953048706\n",
      "120 0.1888325959444046\n",
      "121 0.1869819462299347\n",
      "122 0.18691925704479218\n",
      "123 0.18584388494491577\n",
      "124 0.18623918294906616\n",
      "125 0.18599484860897064\n",
      "126 0.18842379748821259\n",
      "127 0.18483692407608032\n",
      "128 0.18188874423503876\n",
      "129 0.18404346704483032\n",
      "130 0.18396255373954773\n",
      "131 0.18573826551437378\n",
      "132 0.18448548018932343\n",
      "133 0.1860547661781311\n",
      "134 0.1877620667219162\n",
      "135 0.18804782629013062\n",
      "136 0.18924188613891602\n",
      "137 0.18371370434761047\n",
      "138 0.18961872160434723\n",
      "139 0.1871206909418106\n",
      "140 0.18576867878437042\n",
      "141 0.1871262937784195\n",
      "142 0.18911190330982208\n",
      "143 0.18597319722175598\n",
      "144 0.1885911077260971\n",
      "145 0.18120655417442322\n",
      "146 0.1849208027124405\n",
      "147 0.1863357424736023\n",
      "148 0.1877315640449524\n",
      "149 0.18838916718959808\n",
      "150 0.18674130737781525\n",
      "151 0.18472187221050262\n",
      "152 0.18763403594493866\n",
      "153 0.18282602727413177\n",
      "154 0.18400180339813232\n",
      "155 0.18359564244747162\n",
      "156 0.18588918447494507\n",
      "157 0.18668510019779205\n",
      "158 0.1863567978143692\n",
      "159 0.1883276402950287\n",
      "160 0.18683885037899017\n",
      "29.835631608963013\n",
      "3\n",
      "1 0.1838996708393097\n",
      "2 0.18590259552001953\n",
      "3 0.18537363409996033\n",
      "4 0.18803955614566803\n",
      "5 0.18483878672122955\n",
      "6 0.1885773092508316\n",
      "7 0.18626531958580017\n",
      "8 0.18726782500743866\n",
      "9 0.18748846650123596\n",
      "10 0.18576541543006897\n",
      "11 0.18824778497219086\n",
      "12 0.18880246579647064\n",
      "13 0.18722660839557648\n",
      "14 0.18747149407863617\n",
      "15 0.1863679587841034\n",
      "16 0.19011224806308746\n",
      "17 0.18451133370399475\n",
      "18 0.18886585533618927\n",
      "19 0.18510916829109192\n",
      "20 0.18372131884098053\n",
      "21 0.18432439863681793\n",
      "22 0.1847056746482849\n",
      "23 0.18113379180431366\n",
      "24 0.18616725504398346\n",
      "25 0.1835336685180664\n",
      "26 0.18800270557403564\n",
      "27 0.18714182078838348\n",
      "28 0.1828976571559906\n",
      "29 0.18762406706809998\n",
      "30 0.18557214736938477\n",
      "31 0.18196307122707367\n",
      "32 0.18354257941246033\n",
      "33 0.18764320015907288\n",
      "34 0.18458716571331024\n",
      "35 0.1868324726819992\n",
      "36 0.18661263585090637\n",
      "37 0.1872604787349701\n",
      "38 0.1886763870716095\n",
      "39 0.18420559167861938\n",
      "40 0.19049492478370667\n",
      "41 0.18591611087322235\n",
      "42 0.18695540726184845\n",
      "43 0.18510626256465912\n",
      "44 0.18716269731521606\n",
      "45 0.18818220496177673\n",
      "46 0.188913032412529\n",
      "47 0.18528470396995544\n",
      "48 0.18615037202835083\n",
      "49 0.1843579262495041\n",
      "50 0.18901902437210083\n",
      "51 0.18681654334068298\n",
      "52 0.1864357441663742\n",
      "53 0.1827256977558136\n",
      "54 0.18515217304229736\n",
      "55 0.18569907546043396\n",
      "56 0.18245771527290344\n",
      "57 0.18844525516033173\n",
      "58 0.18501779437065125\n",
      "59 0.18591195344924927\n",
      "60 0.18775883316993713\n",
      "61 0.18528036773204803\n",
      "62 0.18634018301963806\n",
      "63 0.18491807579994202\n",
      "64 0.186918705701828\n",
      "65 0.18582883477210999\n",
      "66 0.19096256792545319\n",
      "67 0.18541516363620758\n",
      "68 0.18857882916927338\n",
      "69 0.18469269573688507\n",
      "70 0.18610501289367676\n",
      "71 0.1909107118844986\n",
      "72 0.18732717633247375\n",
      "73 0.18564139306545258\n",
      "74 0.18636365234851837\n",
      "75 0.18348853290081024\n",
      "76 0.18574805557727814\n",
      "77 0.18636585772037506\n",
      "78 0.18486812710762024\n",
      "79 0.18639452755451202\n",
      "80 0.18905307352542877\n",
      "81 0.18746308982372284\n",
      "82 0.18354688584804535\n",
      "83 0.18681687116622925\n",
      "84 0.18761830031871796\n",
      "85 0.18865454196929932\n",
      "86 0.187480166554451\n",
      "87 0.1866765022277832\n",
      "88 0.18771645426750183\n",
      "89 0.18716242909431458\n",
      "90 0.1868009865283966\n",
      "91 0.18820413947105408\n",
      "92 0.1876947432756424\n",
      "93 0.18548153340816498\n",
      "94 0.18615174293518066\n",
      "95 0.1858779788017273\n",
      "96 0.18571358919143677\n"
     ]
    },
    {
     "ename": "KeyboardInterrupt",
     "evalue": "",
     "output_type": "error",
     "traceback": [
      "\u001b[0;31m---------------------------------------------------------------------------\u001b[0m",
      "\u001b[0;31mKeyboardInterrupt\u001b[0m                         Traceback (most recent call last)",
      "\u001b[0;32m<ipython-input-38-65be3e500449>\u001b[0m in \u001b[0;36m<module>\u001b[0;34m\u001b[0m\n\u001b[1;32m     12\u001b[0m         \u001b[0ml2\u001b[0m \u001b[0;34m=\u001b[0m \u001b[0mmyFunc\u001b[0m\u001b[0;34m(\u001b[0m\u001b[0mout\u001b[0m\u001b[0;34m,\u001b[0m \u001b[0mdata\u001b[0m\u001b[0;34m[\u001b[0m\u001b[0;34m:\u001b[0m\u001b[0;34m,\u001b[0m\u001b[0;36m4\u001b[0m\u001b[0;34m:\u001b[0m\u001b[0;34m]\u001b[0m\u001b[0;34m.\u001b[0m\u001b[0mreshape\u001b[0m\u001b[0;34m(\u001b[0m\u001b[0;34m(\u001b[0m\u001b[0mdata\u001b[0m\u001b[0;34m.\u001b[0m\u001b[0mshape\u001b[0m\u001b[0;34m[\u001b[0m\u001b[0;36m0\u001b[0m\u001b[0;34m]\u001b[0m\u001b[0;34m,\u001b[0m\u001b[0;36m32\u001b[0m\u001b[0;34m,\u001b[0m\u001b[0;36m32\u001b[0m\u001b[0;34m)\u001b[0m\u001b[0;34m)\u001b[0m\u001b[0;34m)\u001b[0m\u001b[0;34m\u001b[0m\u001b[0;34m\u001b[0m\u001b[0m\n\u001b[1;32m     13\u001b[0m         \u001b[0mloss\u001b[0m \u001b[0;34m=\u001b[0m \u001b[0ml2\u001b[0m\u001b[0;34m\u001b[0m\u001b[0;34m\u001b[0m\u001b[0m\n\u001b[0;32m---> 14\u001b[0;31m         \u001b[0mloss\u001b[0m\u001b[0;34m.\u001b[0m\u001b[0mbackward\u001b[0m\u001b[0;34m(\u001b[0m\u001b[0;34m)\u001b[0m\u001b[0;34m\u001b[0m\u001b[0;34m\u001b[0m\u001b[0m\n\u001b[0m\u001b[1;32m     15\u001b[0m         \u001b[0mprint\u001b[0m\u001b[0;34m(\u001b[0m\u001b[0mi\u001b[0m\u001b[0;34m,\u001b[0m\u001b[0mloss\u001b[0m\u001b[0;34m.\u001b[0m\u001b[0mitem\u001b[0m\u001b[0;34m(\u001b[0m\u001b[0;34m)\u001b[0m\u001b[0;34m)\u001b[0m\u001b[0;34m\u001b[0m\u001b[0;34m\u001b[0m\u001b[0m\n\u001b[1;32m     16\u001b[0m         \u001b[0mtotalLoss\u001b[0m \u001b[0;34m+=\u001b[0m \u001b[0mloss\u001b[0m\u001b[0;34m.\u001b[0m\u001b[0mitem\u001b[0m\u001b[0;34m(\u001b[0m\u001b[0;34m)\u001b[0m\u001b[0;34m\u001b[0m\u001b[0;34m\u001b[0m\u001b[0m\n",
      "\u001b[0;32m~/.local/lib/python3.6/site-packages/torch/tensor.py\u001b[0m in \u001b[0;36mbackward\u001b[0;34m(self, gradient, retain_graph, create_graph)\u001b[0m\n\u001b[1;32m    193\u001b[0m                 \u001b[0mproducts\u001b[0m\u001b[0;34m.\u001b[0m \u001b[0mDefaults\u001b[0m \u001b[0mto\u001b[0m\u001b[0;31m \u001b[0m\u001b[0;31m`\u001b[0m\u001b[0;31m`\u001b[0m\u001b[0;32mFalse\u001b[0m\u001b[0;31m`\u001b[0m\u001b[0;31m`\u001b[0m\u001b[0;34m.\u001b[0m\u001b[0;34m\u001b[0m\u001b[0;34m\u001b[0m\u001b[0m\n\u001b[1;32m    194\u001b[0m         \"\"\"\n\u001b[0;32m--> 195\u001b[0;31m         \u001b[0mtorch\u001b[0m\u001b[0;34m.\u001b[0m\u001b[0mautograd\u001b[0m\u001b[0;34m.\u001b[0m\u001b[0mbackward\u001b[0m\u001b[0;34m(\u001b[0m\u001b[0mself\u001b[0m\u001b[0;34m,\u001b[0m \u001b[0mgradient\u001b[0m\u001b[0;34m,\u001b[0m \u001b[0mretain_graph\u001b[0m\u001b[0;34m,\u001b[0m \u001b[0mcreate_graph\u001b[0m\u001b[0;34m)\u001b[0m\u001b[0;34m\u001b[0m\u001b[0;34m\u001b[0m\u001b[0m\n\u001b[0m\u001b[1;32m    196\u001b[0m \u001b[0;34m\u001b[0m\u001b[0m\n\u001b[1;32m    197\u001b[0m     \u001b[0;32mdef\u001b[0m \u001b[0mregister_hook\u001b[0m\u001b[0;34m(\u001b[0m\u001b[0mself\u001b[0m\u001b[0;34m,\u001b[0m \u001b[0mhook\u001b[0m\u001b[0;34m)\u001b[0m\u001b[0;34m:\u001b[0m\u001b[0;34m\u001b[0m\u001b[0;34m\u001b[0m\u001b[0m\n",
      "\u001b[0;32m~/.local/lib/python3.6/site-packages/torch/autograd/__init__.py\u001b[0m in \u001b[0;36mbackward\u001b[0;34m(tensors, grad_tensors, retain_graph, create_graph, grad_variables)\u001b[0m\n\u001b[1;32m     97\u001b[0m     Variable._execution_engine.run_backward(\n\u001b[1;32m     98\u001b[0m         \u001b[0mtensors\u001b[0m\u001b[0;34m,\u001b[0m \u001b[0mgrad_tensors\u001b[0m\u001b[0;34m,\u001b[0m \u001b[0mretain_graph\u001b[0m\u001b[0;34m,\u001b[0m \u001b[0mcreate_graph\u001b[0m\u001b[0;34m,\u001b[0m\u001b[0;34m\u001b[0m\u001b[0;34m\u001b[0m\u001b[0m\n\u001b[0;32m---> 99\u001b[0;31m         allow_unreachable=True)  # allow_unreachable flag\n\u001b[0m\u001b[1;32m    100\u001b[0m \u001b[0;34m\u001b[0m\u001b[0m\n\u001b[1;32m    101\u001b[0m \u001b[0;34m\u001b[0m\u001b[0m\n",
      "\u001b[0;31mKeyboardInterrupt\u001b[0m: "
     ]
    }
   ],
   "source": [
    "for epoch in range(Epochs):\n",
    "    totalLoss = 0.0\n",
    "    print(epoch)\n",
    "    #if((epoch+1)%2 == 0):\n",
    "    #    torch.save(conModel.state_dict(), 'conModel4-72')\n",
    "    for i,data in enumerate(train_loader,1):\n",
    "        adOptimizer.zero_grad()\n",
    "        out = conModel(data[:,:4])\n",
    "        #print(out)\n",
    "        #l1 = torch.sqrt( nn.MSELoss()(out,sampleBox.unsqueeze(0).expand(out.shape[0],-1)))\n",
    "        #print(data.type(),out.type())\n",
    "        l2 = myFunc(out, data[:,4:].reshape((data.shape[0],32,32)))\n",
    "        loss = l2\n",
    "        loss.backward()\n",
    "        print(i,loss.item())\n",
    "        totalLoss += loss.item()\n",
    "        if(math.isnan(loss.item()) or math.isinf(loss.item())):\n",
    "            break\n",
    "        adOptimizer.step()\n",
    "    print(totalLoss)"
   ]
  },
  {
   "cell_type": "code",
   "execution_count": 134,
   "metadata": {},
   "outputs": [],
   "source": [
    "torch.save( conModel.state_dict(), 'conModel34')"
   ]
  },
  {
   "cell_type": "code",
   "execution_count": 135,
   "metadata": {},
   "outputs": [],
   "source": [
    "torch.save( conModel.state_dict(), 'conModel4-72')"
   ]
  },
  {
   "cell_type": "code",
   "execution_count": 39,
   "metadata": {},
   "outputs": [],
   "source": [
    "model = ParticleDimer()"
   ]
  },
  {
   "cell_type": "code",
   "execution_count": 40,
   "metadata": {},
   "outputs": [],
   "source": [
    "Energy = None\n",
    "Final = None"
   ]
  },
  {
   "cell_type": "code",
   "execution_count": 43,
   "metadata": {},
   "outputs": [
    {
     "name": "stdout",
     "output_type": "stream",
     "text": [
      "CPU times: user 2.89 s, sys: 462 ms, total: 3.35 s\n",
      "Wall time: 3.35 s\n"
     ]
    }
   ],
   "source": [
    "%%time\n",
    "for i,data in enumerate(test_loader,1):\n",
    "        out = conModel(data[:,:4])\n",
    "        final = torch.cat( (data[:,:4],out),1).to('cpu')\n",
    "        if(Final is not None):\n",
    "            Final = np.concatenate((Final,final.detach().numpy()) )\n",
    "        else:\n",
    "            Final = final.detach().numpy()\n",
    "        #print(final[10])\n",
    "        \n",
    "        if(Energy is None):\n",
    "            Energy = model.energy(final.to('cpu').detach().numpy() )\n",
    "        else: \n",
    "            Energy = np.concatenate((Energy, model.energy(final.to('cpu').detach().numpy())) )\n",
    "        #print(model.energy(final.to('cpu').detach().numpy()) )\n",
    "        #break"
   ]
  },
  {
   "cell_type": "code",
   "execution_count": 43,
   "metadata": {},
   "outputs": [],
   "source": [
    "ind = np.argwhere(Energy>200)"
   ]
  },
  {
   "cell_type": "code",
   "execution_count": 45,
   "metadata": {},
   "outputs": [
    {
     "name": "stdout",
     "output_type": "stream",
     "text": [
      "[6231] [6241] [6251] [6261]\n"
     ]
    }
   ],
   "source": [
    "print(ind[50],ind[60],ind[70],ind[80])"
   ]
  },
  {
   "cell_type": "code",
   "execution_count": 44,
   "metadata": {},
   "outputs": [
    {
     "name": "stdout",
     "output_type": "stream",
     "text": [
      "(556, 1)\n"
     ]
    }
   ],
   "source": [
    "print(ind.shape)"
   ]
  },
  {
   "cell_type": "code",
   "execution_count": 55,
   "metadata": {},
   "outputs": [
    {
     "name": "stdout",
     "output_type": "stream",
     "text": [
      "None\n"
     ]
    },
    {
     "data": {
      "image/png": "[encoded data removed]",
      "text/plain": [
       "<Figure size 360x360 with 1 Axes>"
      ]
     },
     "metadata": {},
     "output_type": "display_data"
    }
   ],
   "source": [
    "print(model.draw_config(Final[ind[150]]) )"
   ]
  },
  {
   "cell_type": "code",
   "execution_count": 56,
   "metadata": {},
   "outputs": [
    {
     "data": {
      "image/png": "[encoded data removed]",
      "text/plain": [
       "<Figure size 360x360 with 1 Axes>"
      ]
     },
     "metadata": {},
     "output_type": "display_data"
    }
   ],
   "source": [
    "model.draw_config(traj_open_train[81000: :2][ind[150]])"
   ]
  },
  {
   "cell_type": "code",
   "execution_count": 49,
   "metadata": {},
   "outputs": [],
   "source": [
    "Energy2 = model.energy(traj_closed_train[81000: :2] )"
   ]
  },
  {
   "cell_type": "code",
   "execution_count": 46,
   "metadata": {},
   "outputs": [
    {
     "data": {
      "text/plain": [
       "<matplotlib.axes._subplots.AxesSubplot at 0x150fbc11bc18>"
      ]
     },
     "execution_count": 46,
     "metadata": {},
     "output_type": "execute_result"
    },
    {
     "data": {
      "image/png": "[encoded data removed]",
      "text/plain": [
       "<Figure size 432x288 with 1 Axes>"
      ]
     },
     "metadata": {
      "needs_background": "light"
     },
     "output_type": "display_data"
    }
   ],
   "source": [
    "plt.xlabel('Energy')\n",
    "plt.ylabel('Number Of Samples')\n",
    "seaborn.kdeplot(Energy )\n",
    "#plt.hist(Energy2, bins=200, histtype= 'step', range=(20,350), label = \"MC sim\" )\n",
    "#plt.savefig('ClosedHistogram')"
   ]
  },
  {
   "cell_type": "code",
   "execution_count": null,
   "metadata": {},
   "outputs": [],
   "source": []
  },
  {
   "cell_type": "code",
   "execution_count": 60,
   "metadata": {},
   "outputs": [
    {
     "data": {
      "image/png": "[encoded data removed]",
      "text/plain": [
       "<Figure size 432x288 with 1 Axes>"
      ]
     },
     "metadata": {
      "needs_background": "light"
     },
     "output_type": "display_data"
    }
   ],
   "source": [
    "plt.xlabel('Energy')\n",
    "plt.ylabel('Number Of Samples')\n",
    "plt.hist(Energy, bins=500,cumulative= True, histtype= 'step',range=(20,350))\n",
    "plt.hist(Energy2, bins=500,cumulative= True, histtype= 'step',range=(20,350))\n",
    "plt.savefig('ClosedCumulativeHistogram')"
   ]
  },
  {
   "cell_type": "code",
   "execution_count": 57,
   "metadata": {},
   "outputs": [
    {
     "data": {
      "text/plain": [
       "<matplotlib.axes._subplots.AxesSubplot at 0x150fba134cc0>"
      ]
     },
     "execution_count": 57,
     "metadata": {},
     "output_type": "execute_result"
    },
    {
     "data": {
      "image/png": "[encoded data removed]",
      "text/plain": [
       "<Figure size 432x288 with 1 Axes>"
      ]
     },
     "metadata": {
      "needs_background": "light"
     },
     "output_type": "display_data"
    }
   ],
   "source": [
    "seaborn.distplot(Energy)"
   ]
  },
  {
   "cell_type": "code",
   "execution_count": 42,
   "metadata": {},
   "outputs": [
    {
     "data": {
      "text/plain": [
       "<matplotlib.axes._subplots.AxesSubplot at 0x14ae2a767ba8>"
      ]
     },
     "execution_count": 42,
     "metadata": {},
     "output_type": "execute_result"
    },
    {
     "data": {
      "image/png": "[encoded data removed]",
      "text/plain": [
       "<Figure size 432x288 with 1 Axes>"
      ]
     },
     "metadata": {
      "needs_background": "light"
     },
     "output_type": "display_data"
    }
   ],
   "source": [
    "seaborn.distplot(Energy2)"
   ]
  },
  {
   "cell_type": "code",
   "execution_count": 48,
   "metadata": {},
   "outputs": [],
   "source": [
    "def DensityDistribution(train_set):\n",
    "    sz = 32\n",
    "    boxes = []\n",
    "    x = -3.25\n",
    "    while x< 3.25:\n",
    "            y = -3.25\n",
    "            while(y<3.25):\n",
    "                boxes.append([x+3.25/sz, y +3.25/sz])\n",
    "                y+= (3.25*2)/sz   \n",
    "            x += (3.25*2)/sz\n",
    "    dataSet32 = []\n",
    "    vol = (3.25*2/sz) **2\n",
    "    for Snapshot in train_set:\n",
    "        snap = np.transpose( np.tile(np.reshape(Snapshot[4:],(36,2) ), (1024,1,1)), (1,0,2))\n",
    "        dist = np.linalg.norm(snap-boxes,axis = 2)\n",
    "        val =  vol * np.exp(-0.5*np.square(dist/0.5))/ (2*np.pi * 0.25)\n",
    "        dataSet32.append(val.sum(axis=0))\n",
    "    dataSet32 = np.reshape(np.array(dataSet32), (len(dataSet32),sz,sz) )\n",
    "    return dataSet32"
   ]
  },
  {
   "cell_type": "code",
   "execution_count": 71,
   "metadata": {},
   "outputs": [],
   "source": [
    "def generateDenser(dist):\n",
    "    nSamples =500\n",
    "    pi = 3.14\n",
    "    x1 =  np.random.rand(nSamples) *0.1 - dist/2\n",
    "    y1 = np.random.rand(nSamples) * 0.2 - 0.1\n",
    "    angle = np.random.rand(nSamples) * np.pi/6 - np.pi/12\n",
    "    #dist = dist - np.random.rand(nSamples)*0.4\n",
    "    x2= x1 + dist *np.cos(angle)\n",
    "    y2 = y1 + dist*np.sin(angle)\n",
    "    return np.array(x1), np.array(y1), np.array(x2),np.array(y2) "
   ]
  },
  {
   "cell_type": "code",
   "execution_count": 160,
   "metadata": {},
   "outputs": [],
   "source": [
    "Samples = generateDenser(2.1)"
   ]
  },
  {
   "cell_type": "code",
   "execution_count": 161,
   "metadata": {},
   "outputs": [],
   "source": [
    "Samples = np.transpose( np.array(Samples) )"
   ]
  },
  {
   "cell_type": "code",
   "execution_count": 162,
   "metadata": {},
   "outputs": [],
   "source": [
    "out = conModel(torch.from_numpy(Samples).type('torch.FloatTensor').to('cuda'))"
   ]
  },
  {
   "cell_type": "code",
   "execution_count": 163,
   "metadata": {},
   "outputs": [
    {
     "name": "stdout",
     "output_type": "stream",
     "text": [
      "[-1.02468798 -0.02539009  1.02127049 -0.49873342]\n"
     ]
    }
   ],
   "source": [
    "print(Samples[0])"
   ]
  },
  {
   "cell_type": "code",
   "execution_count": 164,
   "metadata": {},
   "outputs": [],
   "source": [
    "final = torch.cat( (torch.from_numpy(Samples).type('torch.FloatTensor').to('cuda') ,out),1).to('cpu')\n",
    "Energy = model.energy(final.to('cpu').detach().numpy() )"
   ]
  },
  {
   "cell_type": "code",
   "execution_count": 165,
   "metadata": {},
   "outputs": [],
   "source": [
    "ind = np.argwhere(Energy>150)"
   ]
  },
  {
   "cell_type": "code",
   "execution_count": 166,
   "metadata": {},
   "outputs": [
    {
     "name": "stdout",
     "output_type": "stream",
     "text": [
      "(206, 1)\n"
     ]
    }
   ],
   "source": [
    "print(ind.shape)"
   ]
  },
  {
   "cell_type": "code",
   "execution_count": 94,
   "metadata": {},
   "outputs": [
    {
     "ename": "IndexError",
     "evalue": "index 20 is out of bounds for axis 0 with size 19",
     "output_type": "error",
     "traceback": [
      "\u001b[0;31m---------------------------------------------------------------------------\u001b[0m",
      "\u001b[0;31mIndexError\u001b[0m                                Traceback (most recent call last)",
      "\u001b[0;32m<ipython-input-94-6bd89ea3f4ba>\u001b[0m in \u001b[0;36m<module>\u001b[0;34m\u001b[0m\n\u001b[0;32m----> 1\u001b[0;31m \u001b[0mprint\u001b[0m\u001b[0;34m(\u001b[0m\u001b[0mmodel\u001b[0m\u001b[0;34m.\u001b[0m\u001b[0mdraw_config\u001b[0m\u001b[0;34m(\u001b[0m\u001b[0mfinal\u001b[0m\u001b[0;34m[\u001b[0m\u001b[0mind\u001b[0m\u001b[0;34m[\u001b[0m\u001b[0;36m20\u001b[0m\u001b[0;34m]\u001b[0m\u001b[0;34m]\u001b[0m\u001b[0;34m)\u001b[0m \u001b[0;34m)\u001b[0m\u001b[0;34m\u001b[0m\u001b[0;34m\u001b[0m\u001b[0m\n\u001b[0m",
      "\u001b[0;31mIndexError\u001b[0m: index 20 is out of bounds for axis 0 with size 19"
     ]
    }
   ],
   "source": [
    "print(model.draw_config(final[ind[20]]) )"
   ]
  },
  {
   "cell_type": "code",
   "execution_count": 76,
   "metadata": {},
   "outputs": [
    {
     "name": "stdout",
     "output_type": "stream",
     "text": [
      "None\n"
     ]
    },
    {
     "data": {
      "image/png": "[encoded data removed]",
      "text/plain": [
       "<Figure size 360x360 with 1 Axes>"
      ]
     },
     "metadata": {},
     "output_type": "display_data"
    }
   ],
   "source": [
    "print(model.draw_config(final[ind[10]]) )"
   ]
  },
  {
   "cell_type": "code",
   "execution_count": null,
   "metadata": {},
   "outputs": [],
   "source": []
  }
 ],
 "metadata": {
  "kernelspec": {
   "display_name": "Python 3",
   "language": "python",
   "name": "python3"
  },
  "language_info": {
   "codemirror_mode": {
    "name": "ipython",
    "version": 3
   },
   "file_extension": ".py",
   "mimetype": "text/x-python",
   "name": "python",
   "nbconvert_exporter": "python",
   "pygments_lexer": "ipython3",
   "version": "3.6.8"
  }
 },
 "nbformat": 4,
 "nbformat_minor": 2
}
