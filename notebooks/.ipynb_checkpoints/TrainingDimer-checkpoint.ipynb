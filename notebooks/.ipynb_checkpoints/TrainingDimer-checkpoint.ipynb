{
 "cells": [
  {
   "cell_type": "code",
   "execution_count": 1,
   "metadata": {},
   "outputs": [
    {
     "name": "stderr",
     "output_type": "stream",
     "text": [
      "Using TensorFlow backend.\n"
     ]
    }
   ],
   "source": [
    "import sys \n",
    "sys.path.insert(0,'/home/mohit/Downloads/code_notebooks/deep_boltzmann')\n",
    "import numpy as np\n",
    "import matplotlib.pyplot as plt\n",
    "from matplotlib import rcParams\n",
    "import keras\n",
    "import tensorflow as tf"
   ]
  },
  {
   "cell_type": "code",
   "execution_count": 2,
   "metadata": {},
   "outputs": [],
   "source": [
    "from IPython.display import SVG\n",
    "from keras.utils.vis_utils import model_to_dot"
   ]
  },
  {
   "cell_type": "code",
   "execution_count": 3,
   "metadata": {},
   "outputs": [],
   "source": [
    "rcParams.update({'font.size': 16})"
   ]
  },
  {
   "cell_type": "code",
   "execution_count": 4,
   "metadata": {},
   "outputs": [],
   "source": [
    "# Switch AUTORELOAD ON. Disable this when in production mode!\n",
    "%load_ext autoreload\n",
    "%autoreload 2"
   ]
  },
  {
   "cell_type": "code",
   "execution_count": 5,
   "metadata": {},
   "outputs": [],
   "source": [
    "from deep_boltzmann.models import ParticleDimer\n",
    "from deep_boltzmann.networks.invertible import invnet, EnergyInvNet, create_RealNVPNet\n",
    "from deep_boltzmann.sampling import GaussianPriorMCMC\n",
    "from deep_boltzmann.sampling.latent_sampling import BiasedModel\n",
    "from deep_boltzmann.sampling.permutation import HungarianMapper\n",
    "from deep_boltzmann.util import load_obj, save_obj"
   ]
  },
  {
   "cell_type": "code",
   "execution_count": 6,
   "metadata": {},
   "outputs": [],
   "source": [
    "from deep_boltzmann.sampling.analysis import free_energy_bootstrap, mean_finite, std_finite"
   ]
  },
  {
   "cell_type": "code",
   "execution_count": 7,
   "metadata": {},
   "outputs": [],
   "source": [
    "# reweighting\n",
    "def test_sample_rew(network, rcfunc, rcmin, rcmax, temperature=1.0, nsample=100000):\n",
    "    sample_z, sample_x, energy_z, energy_x, log_w = network.sample(temperature=1.0, nsample=nsample)\n",
    "    bin_means, Es = free_energy_bootstrap(rcfunc(sample_x), rcmin, rcmax, 100, sample=100, weights=np.exp(log_w))\n",
    "    fig = plt.figure(figsize=(5, 4))\n",
    "    # model.plot_dimer_energy()\n",
    "    plt.ylim(-10, 20)\n",
    "    Emean = mean_finite(Es, axis=0)-7\n",
    "    Estd = std_finite(Es, axis=0)\n",
    "    plt.errorbar(bin_means, Emean, 2*Estd)\n",
    "    # variance\n",
    "    var = mean_finite(std_finite(Es, axis=0) ** 2)\n",
    "    print('Estimator Standard Error: ', np.sqrt(var))\n",
    "    return fig, bin_means, Emean, Estd"
   ]
  },
  {
   "cell_type": "code",
   "execution_count": 8,
   "metadata": {},
   "outputs": [],
   "source": [
    "def latent_interpolation(bg, x1, x2, nstep=1000, through_origin=False):\n",
    "    lambdas = np.array([np.linspace(0, 1, num=nstep)]).T\n",
    "    x1 = np.array([x1])\n",
    "    x2 = np.array([x2])\n",
    "    z1 = bg.transform_xz(x1)\n",
    "    z2 = bg.transform_xz(x2)\n",
    "    if through_origin:\n",
    "        zpath1 = z1 * (1-lambdas[::2])\n",
    "        zpath2 = z2 * (lambdas[::2]) \n",
    "        zpath = np.vstack([zpath1, zpath2])\n",
    "    else:\n",
    "        zpath = z1 + lambdas*(z2-z1)\n",
    "    xpath = bg.transform_zx(zpath)\n",
    "    return xpath"
   ]
  },
  {
   "cell_type": "code",
   "execution_count": 9,
   "metadata": {},
   "outputs": [],
   "source": [
    "def low_energy_fraction(energies, Emax):\n",
    "    low_energy_count = [np.count_nonzero(E<Emax) for E in energies]\n",
    "    sizes = [E.size for E in energies]\n",
    "    low_energy_fraction = np.array(low_energy_count) / sizes\n",
    "    return low_energy_fraction"
   ]
  },
  {
   "cell_type": "code",
   "execution_count": 10,
   "metadata": {},
   "outputs": [],
   "source": [
    "def plot_convergence(hist_ML, hist_KL, enerx_cut, enerz_cut, MLcol=1, KLcol=2):\n",
    "    fig, axes = plt.subplots(nrows=3, ncols=1, figsize=(5, 10))\n",
    "    niter1 = len(hist_ML[0])\n",
    "    niter2 = hist_KL[1].shape[0]\n",
    "    niter = niter1 + niter2\n",
    "    # ML loss\n",
    "    losses_ML = np.concatenate([hist_ML[0], hist_KL[1][:, MLcol]])\n",
    "    xticks = np.arange(niter1 + niter2) + 1\n",
    "    axes[0].plot(xticks, losses_ML, color='black')\n",
    "    axes[0].set_xlim(0, niter + 1)\n",
    "    axes[0].set_ylabel('ML loss')\n",
    "    axes[0].axvline(x=200, color='red', linestyle='--', linewidth=3)\n",
    "    # KL loss\n",
    "    losses_KL = hist_KL[1][:, KLcol]\n",
    "    xticks = np.arange(niter1, niter1 + niter2) + 1\n",
    "    axes[1].plot(xticks, losses_KL, color='black')\n",
    "    axes[1].set_xlim(0, niter + 1)\n",
    "    axes[1].set_ylabel('KL loss')\n",
    "    axes[1].axvline(x=200, color='red', linestyle='--', linewidth=3)\n",
    "    # low energy fractions\n",
    "    enerx = hist_ML[2] + hist_KL[3]\n",
    "    enerz = hist_ML[3] + hist_KL[4]\n",
    "    lef_x = low_energy_fraction(enerx, enerx_cut)\n",
    "    lef_z = low_energy_fraction(enerz, enerz_cut)\n",
    "    axes[2].plot(lef_x, color='black', label='x')\n",
    "    axes[2].plot(lef_z, color='blue', label='z')\n",
    "    axes[2].set_xlim(0, niter + 1)\n",
    "    axes[2].set_ylim(0, 1.05)\n",
    "    axes[2].axvline(x=200, color='red', linestyle='--', linewidth=3)\n",
    "    axes[2].set_ylabel('Training iterations')\n",
    "    axes[2].set_ylabel('Low energy fraction')\n",
    "    axes[2].legend()\n",
    "    return fig, axes"
   ]
  },
  {
   "cell_type": "code",
   "execution_count": null,
   "metadata": {},
   "outputs": [],
   "source": [
    "paper_dir = '/Users/noe/data/papers/NoeEtAl_BoltzmannGeneratorsRev/'"
   ]
  },
  {
   "cell_type": "markdown",
   "metadata": {},
   "source": [
    "Particle model\n",
    "---\n",
    "Run notebook \"Particles_Simulation_Data\" to generate data"
   ]
  },
  {
   "cell_type": "code",
   "execution_count": 11,
   "metadata": {},
   "outputs": [],
   "source": [
    "# load trajectory data\n",
    "trajdict = np.load('output.npz')\n",
    "import ast\n",
    "#params = ast.literal_eval(str(trajdict['params']))\n",
    "traj_closed_train = trajdict['traj_closed_train_hungarian']\n",
    "traj_open_train = trajdict['traj_open_train_hungarian']\n",
    "traj_closed_test = trajdict['traj_closed_test_hungarian']\n",
    "traj_open_test = trajdict['traj_open_test_hungarian']\n",
    "x = np.vstack([traj_closed_train, traj_open_train])\n",
    "xval = np.vstack([traj_closed_test, traj_open_test])"
   ]
  },
  {
   "cell_type": "code",
   "execution_count": 12,
   "metadata": {},
   "outputs": [],
   "source": [
    "# create model\n",
    "#params['grid_k'] = 0.0\n",
    "model = ParticleDimer()"
   ]
  },
  {
   "cell_type": "code",
   "execution_count": 13,
   "metadata": {},
   "outputs": [
    {
     "data": {
      "text/plain": [
       "Text(0, 0.5, 'Energy / $kT_0$')"
      ]
     },
     "execution_count": 13,
     "metadata": {},
     "output_type": "execute_result"
    },
    {
     "data": {
      "image/png": "[encoded data removed]",
      "text/plain": [
       "<Figure size 432x288 with 1 Axes>"
      ]
     },
     "metadata": {
      "needs_background": "light"
     },
     "output_type": "display_data"
    },
    {
     "data": {
      "image/png": "[encoded data removed]",
      "text/plain": [
       "<Figure size 360x144 with 1 Axes>"
      ]
     },
     "metadata": {
      "needs_background": "light"
     },
     "output_type": "display_data"
    }
   ],
   "source": [
    "xx, xE = model.plot_dimer_energy();\n",
    "plt.figure(figsize=(5, 2))\n",
    "plt.plot(xx, xE, linewidth=2)\n",
    "plt.ylim(-3, 22)\n",
    "plt.xlabel('Dimer distance / nm')\n",
    "plt.ylabel('Energy / $kT_0$')\n",
    "#plt.savefig(paper_dir + 'figs/particles/particle_dimer_potential.pdf', bbox_inches='tight')"
   ]
  },
  {
   "cell_type": "code",
   "execution_count": 14,
   "metadata": {},
   "outputs": [
    {
     "data": {
      "text/plain": [
       "1.1036920414270517"
      ]
     },
     "execution_count": 14,
     "metadata": {},
     "output_type": "execute_result"
    }
   ],
   "source": [
    "W = np.exp(-xE)\n",
    "-np.log(np.sum(W[xx < 1.5]) / np.sum(W[xx >= 1.5]))"
   ]
  },
  {
   "cell_type": "code",
   "execution_count": 15,
   "metadata": {},
   "outputs": [],
   "source": [
    "# hyperparameters\n",
    "hyperparams = {'layer_types' : 'RRRRRRRR',\n",
    "               'nl_layers' : 3,\n",
    "               'nl_hidden' : 200,\n",
    "               'nl_activation' : 'tanh',\n",
    "               'zstd' : 1.0,\n",
    "               'reg_Jxz' : 0.0,\n",
    "               'temperature' : [0.1, 0.25, 0.5, 0.75, 1.0, 1.5, 2.0, 3.0, 4.0],\n",
    "               'weight_ML' : 0.1,\n",
    "               'weight_W2' : 0.0,\n",
    "               'weight_RC' : 10.0,\n",
    "               }"
   ]
  },
  {
   "cell_type": "markdown",
   "metadata": {},
   "source": [
    "Umbrella sampling reference\n",
    "-------"
   ]
  },
  {
   "cell_type": "code",
   "execution_count": null,
   "metadata": {},
   "outputs": [],
   "source": [
    "from deep_boltzmann.sampling.umbrella_sampling import UmbrellaSampling\n",
    "from deep_boltzmann.sampling.metropolis import MetropolisGauss"
   ]
  },
  {
   "cell_type": "code",
   "execution_count": null,
   "metadata": {},
   "outputs": [],
   "source": [
    "## Either run Umbrella Sampling here....\n",
    "#sampler = MetropolisGauss(model, model.init_positions(1.0), noise=0.02, stride=10)\n",
    "#sampler.run(nsteps=10000)\n",
    "#us = UmbrellaSampling(model, sampler, model.dimer_distance, sampler.traj[-1], 30, 250, 0.7, 2.3, forward_backward=True)\n",
    "#us.run(nsteps=20000, verbose=True)"
   ]
  },
  {
   "cell_type": "code",
   "execution_count": null,
   "metadata": {},
   "outputs": [],
   "source": [
    "## ... or load saved Umbrella Sampling data.\n",
    "npzfile = np.load('./particles/US_data.npz')\n",
    "colors = ['black', 'purple', 'blue', 'orange', 'red']\n",
    "x = npzfile['umbrella_positions']\n",
    "temperatures_US = npzfile['temperatures']\n",
    "dF_closed_open_US = []\n",
    "for i, dF in enumerate(npzfile['umbrella_free_energies']):\n",
    "    icolor = i // 3\n",
    "    plt.plot(x, dF, color=colors[icolor])\n",
    "    W = np.exp(-dF)\n",
    "    dF_at_kT0 = -np.log(np.sum(W[x < 1.5]) / np.sum(W[x >= 1.5]))\n",
    "    dF_closed_open_US.append(dF_at_kT0)\n",
    "    print(temperatures_US[i], dF_at_kT0)    "
   ]
  },
  {
   "cell_type": "code",
   "execution_count": null,
   "metadata": {
    "scrolled": true
   },
   "outputs": [],
   "source": [
    "# Estimate free energy profile and errors at kT=1 \n",
    "umbrella_positions = npzfile['umbrella_positions']\n",
    "# split in two halves because we ran forward and backward\n",
    "umbrella_positions = umbrella_positions[:umbrella_positions.size//2]\n",
    "umbrella_free_energies = [npzfile['umbrella_free_energies'][i][:umbrella_positions.size] for i in range(9, 12)] \\\n",
    "                       + [npzfile['umbrella_free_energies'][i][umbrella_positions.size:][::-1] for i in range(9, 12)] \n",
    "# align values\n",
    "umbrella_free_energies = [F-F.mean() for F in umbrella_free_energies]"
   ]
  },
  {
   "cell_type": "markdown",
   "metadata": {},
   "source": [
    "Boltzmann Generator\n",
    "-------"
   ]
  },
  {
   "cell_type": "code",
   "execution_count": 16,
   "metadata": {},
   "outputs": [],
   "source": [
    "batchsize_ML =  500\n",
    "batchsize_KL = 1000\n",
    "noise_intensity = 0.0"
   ]
  },
  {
   "cell_type": "code",
   "execution_count": 17,
   "metadata": {},
   "outputs": [],
   "source": [
    "X0 = np.vstack([traj_closed_train, traj_open_train])"
   ]
  },
  {
   "cell_type": "code",
   "execution_count": 18,
   "metadata": {},
   "outputs": [],
   "source": [
    "Nnoise = xval.shape[0]\n",
    "X0noise = X0[np.random.choice(X0.shape[0], Nnoise)] + noise_intensity * np.random.randn(Nnoise, X0.shape[1])\n",
    "X0noise = X0noise.astype(np.float32)"
   ]
  },
  {
   "cell_type": "code",
   "execution_count": 19,
   "metadata": {},
   "outputs": [],
   "source": [
    "#X0 = np.vstack([traj_closed_train[::100], traj_open_train[::100]])"
   ]
  },
  {
   "cell_type": "code",
   "execution_count": 20,
   "metadata": {},
   "outputs": [
    {
     "data": {
      "image/png": "[encoded data removed]",
      "text/plain": [
       "<Figure size 360x360 with 1 Axes>"
      ]
     },
     "metadata": {},
     "output_type": "display_data"
    }
   ],
   "source": [
    "model.draw_config(X0noise[1001], dimercolor='blue', alpha=0.8);"
   ]
  },
  {
   "cell_type": "code",
   "execution_count": 21,
   "metadata": {},
   "outputs": [
    {
     "name": "stdout",
     "output_type": "stream",
     "text": [
      "W<RRRRRRRR>\n",
      "W 76 0 0\n",
      "< 76 0 0\n",
      "R 38 38 0\n",
      "WARNING:tensorflow:From /home/mohit/anaconda3/lib/python3.7/site-packages/keras/backend/tensorflow_backend.py:74: The name tf.get_default_graph is deprecated. Please use tf.compat.v1.get_default_graph instead.\n",
      "\n",
      "R 38 38 0\n",
      "R 38 38 0\n",
      "R 38 38 0\n",
      "R 38 38 0\n",
      "R 38 38 0\n",
      "R 38 38 0\n",
      "R 38 38 0\n",
      "> 38 38 0\n",
      "WARNING:tensorflow:From /home/mohit/anaconda3/lib/python3.7/site-packages/keras/backend/tensorflow_backend.py:517: The name tf.placeholder is deprecated. Please use tf.compat.v1.placeholder instead.\n",
      "\n",
      "WARNING:tensorflow:From /home/mohit/anaconda3/lib/python3.7/site-packages/keras/backend/tensorflow_backend.py:4138: The name tf.random_uniform is deprecated. Please use tf.random.uniform instead.\n",
      "\n"
     ]
    }
   ],
   "source": [
    "bg = invnet(model.dim, 'RRRRRRRR', energy_model=model, nl_layers=4, nl_hidden=200, #100\n",
    "            nl_activation='relu', nl_activation_scale='tanh', whiten=X0noise)"
   ]
  },
  {
   "cell_type": "code",
   "execution_count": null,
   "metadata": {},
   "outputs": [],
   "source": []
  },
  {
   "cell_type": "code",
   "execution_count": 22,
   "metadata": {},
   "outputs": [
    {
     "name": "stdout",
     "output_type": "stream",
     "text": [
      "WARNING:tensorflow:From /home/mohit/anaconda3/lib/python3.7/site-packages/keras/optimizers.py:790: The name tf.train.Optimizer is deprecated. Please use tf.compat.v1.train.Optimizer instead.\n",
      "\n",
      "WARNING:tensorflow:From /home/mohit/anaconda3/lib/python3.7/site-packages/tensorflow/python/ops/math_grad.py:1205: add_dispatch_support.<locals>.wrapper (from tensorflow.python.ops.array_ops) is deprecated and will be removed in a future version.\n",
      "Instructions for updating:\n",
      "Use tf.where in 2.0, which has the same broadcast rule as np.where\n",
      "WARNING:tensorflow:From /home/mohit/anaconda3/lib/python3.7/site-packages/keras/backend/tensorflow_backend.py:986: The name tf.assign_add is deprecated. Please use tf.compat.v1.assign_add instead.\n",
      "\n",
      "WARNING:tensorflow:From /home/mohit/anaconda3/lib/python3.7/site-packages/keras/backend/tensorflow_backend.py:973: The name tf.assign is deprecated. Please use tf.compat.v1.assign instead.\n",
      "\n",
      "Epoch 0/20 loss -82.4674 -7.5123 \n",
      "Epoch 1/20 loss -99.9464 -9.7022 \n",
      "Epoch 2/20 loss -100.4211 -37.4576 \n",
      "Epoch 3/20 loss -102.9522 -50.5814 \n",
      "Epoch 4/20 loss -105.8784 -51.2939 \n",
      "Epoch 5/20 loss -107.8894 -49.7231 \n",
      "Epoch 6/20 loss -110.0865 -42.4944 \n",
      "Epoch 7/20 loss -110.9072 -36.8787 \n",
      "Epoch 8/20 loss -112.6052 -33.3896 \n",
      "Epoch 9/20 loss -111.6352 -31.5377 \n",
      "Epoch 10/20 loss -112.5767 -31.9561 \n",
      "Epoch 11/20 loss -113.4821 -25.7681 \n",
      "Epoch 12/20 loss -113.9088 -25.9044 \n",
      "Epoch 13/20 loss -114.9196 -23.8076 \n",
      "Epoch 14/20 loss -115.7217 -28.7403 \n",
      "Epoch 15/20 loss -116.8747 -25.9832 \n",
      "Epoch 16/20 loss -117.0840 -22.7150 \n",
      "Epoch 17/20 loss -118.1900 -21.5796 \n",
      "Epoch 18/20 loss -119.1534 -25.2048 \n",
      "Epoch 19/20 loss -118.7354 -20.0252 \n"
     ]
    }
   ],
   "source": [
    "hist_bg_ML = bg.train_ML(X0noise, xval=xval, epochs=20, lr=0.001, batch_size=batchsize_ML, \n",
    "\n",
    "                         std=1.0, verbose=1, return_test_energies=True)"
   ]
  },
  {
   "cell_type": "code",
   "execution_count": null,
   "metadata": {},
   "outputs": [],
   "source": [
    "bg.save('temp.pkl')"
   ]
  },
  {
   "cell_type": "code",
   "execution_count": null,
   "metadata": {},
   "outputs": [],
   "source": [
    "anotherModel = invnet(model.dim, 'RRRRRRRR', energy_model=model, nl_layers=4, nl_hidden=200, #100\n",
    "            nl_activation='relu', nl_activation_scale='tanh', whiten=X0noise)\n",
    "anotherModel = anotherModel.load('temp.pkl',ParticleDimer())"
   ]
  },
  {
   "cell_type": "code",
   "execution_count": null,
   "metadata": {},
   "outputs": [],
   "source": [
    "print(anotherModel.transform_xz(np.array(traj_closed_train[100])))"
   ]
  },
  {
   "cell_type": "code",
   "execution_count": 23,
   "metadata": {},
   "outputs": [],
   "source": [
    "temp = bg.transform_xz(np.array([traj_closed_train[100]]) )"
   ]
  },
  {
   "cell_type": "code",
   "execution_count": 24,
   "metadata": {},
   "outputs": [
    {
     "name": "stdout",
     "output_type": "stream",
     "text": [
      "[[-1.9136439e-01 -3.6295795e-01  1.8929347e+00 -1.4372662e+00\n",
      "   2.7687925e-01  1.7916262e-03  4.6686423e-01 -3.2669994e-01\n",
      "  -5.2496338e-01 -2.5015134e-01 -2.8035492e-02  1.4898741e-01\n",
      "  -9.0807700e-01  5.8850288e-01  2.7847543e-01 -6.3165259e-03\n",
      "  -1.1091335e+00 -4.1420981e-01  4.4259635e-01  1.1057134e+00\n",
      "  -2.2017452e-01  8.1724918e-01 -5.0585765e-01  4.3263382e-01\n",
      "  -7.7619261e-01  1.7215818e-01  4.8601732e-02  4.9729952e-01\n",
      "   2.7362162e-01  1.6791856e+00 -1.6750438e+00 -1.0113072e+00\n",
      "  -5.2381718e-01 -1.0840417e+00 -1.2208850e+00  6.0217315e-01\n",
      "   3.0833071e-01 -5.2147818e-01  2.5104113e+00 -1.5491956e-01\n",
      "   5.9782779e-01 -1.8786120e+00  1.1599196e-01  1.2679806e+00\n",
      "   1.4910948e+00 -5.0013375e-01  1.1120783e+00  7.4351251e-02\n",
      "  -1.5049066e-01  1.4079745e+00 -2.0047607e+00 -4.9618670e-01\n",
      "   2.3945968e+00 -8.4831417e-01  1.8398296e+00 -2.1329029e+00\n",
      "   2.6318485e-01  2.1053953e+00 -5.9011269e-01 -9.4296098e-02\n",
      "  -2.3220289e+00  7.7804273e-01  9.2890543e-01  4.4993427e-01\n",
      "   3.8606322e-01  8.7919319e-01  1.0194000e+00  1.9998045e+00\n",
      "  -1.8831701e+00 -3.5312536e+00 -4.3209997e-01 -2.7425528e+00\n",
      "  -1.1840904e+00 -8.3531553e-01 -1.9091278e+00  1.6848639e-01]]\n"
     ]
    }
   ],
   "source": [
    "print(temp)"
   ]
  },
  {
   "cell_type": "code",
   "execution_count": null,
   "metadata": {},
   "outputs": [],
   "source": [
    "plt.plot(hist_bg_ML[0])\n",
    "plt.plot(hist_bg_ML[1])\n",
    "#plt.ylim(0, 100)"
   ]
  },
  {
   "cell_type": "code",
   "execution_count": null,
   "metadata": {},
   "outputs": [],
   "source": [
    "_, sample_x, _, energies_x, _ = bg.sample(nsample=20000)\n",
    "sample_d = model.dimer_distance(sample_x)\n",
    "plt.hist(sample_d[sample_d < 3], 100, log=True)\n",
    "plt.xlim(0, 3)"
   ]
  },
  {
   "cell_type": "markdown",
   "metadata": {},
   "source": [
    "Regular training\n",
    "-----"
   ]
  },
  {
   "cell_type": "code",
   "execution_count": 25,
   "metadata": {},
   "outputs": [],
   "source": [
    "temperature=1.0"
   ]
  },
  {
   "cell_type": "code",
   "execution_count": 26,
   "metadata": {},
   "outputs": [],
   "source": [
    "# initial training\n",
    "Eschedule = [[20,  0.00001, 1e6, 1e3,  0.0, 10.0],\n",
    "             [10,  0.0001, 1e6,  300,  0.0, 10.0],\n",
    "             [10,  0.0001, 1e5,  100,  0.0, 10.0],\n",
    "             [10,  0.0001, 5e4,   50,  0.0, 10.0],\n",
    "             [10,  0.0001, 5e4,   20,  0.0, 10.0],\n",
    "             [20,  0.0001, 5e4,    5,  0.0, 10.0]]"
   ]
  },
  {
   "cell_type": "code",
   "execution_count": 27,
   "metadata": {
    "scrolled": true
   },
   "outputs": [
    {
     "name": "stdout",
     "output_type": "stream",
     "text": [
      "[20, 1e-05, 1000000.0, 1000.0, 0.0, 10.0]\n",
      "Epoch 0/20 loss 58175.4180 144119.7031 index_layer_3_loss -119.7678 -20.1678 lambda_51_loss 177667.0312 164009.2812 lambda_51_loss 27.6190 27.8267 \n",
      "Epoch 1/20 loss 60706.8477 148692.4375 index_layer_3_loss -119.6655 -21.4350 lambda_51_loss 180094.1719 169852.3906 lambda_51_loss 27.8191 27.5058 \n",
      "Epoch 2/20 loss 35107.9688 136432.2031 index_layer_3_loss -119.9962 -21.4298 lambda_51_loss 154824.7344 157586.0000 lambda_51_loss 27.9429 27.5982 \n",
      "Epoch 3/20 loss 60887.4102 161308.1094 index_layer_3_loss -119.4926 -21.9765 lambda_51_loss 180099.2656 183005.3906 lambda_51_loss 28.0708 27.9232 \n",
      "Epoch 4/20 loss 49786.4609 135663.0781 index_layer_3_loss -120.1215 -22.0761 lambda_51_loss 169632.2812 157459.5000 lambda_51_loss 27.5710 27.9701 \n",
      "Epoch 5/20 loss 27403.2441 134694.4219 index_layer_3_loss -119.3244 -17.1967 lambda_51_loss 146449.9219 151615.4688 lambda_51_loss 27.7713 27.5609 \n",
      "Epoch 6/20 loss 41117.4805 158054.8125 index_layer_3_loss -120.1041 -19.9411 lambda_51_loss 160941.0625 177722.0156 lambda_51_loss 28.0474 27.3913 \n",
      "Epoch 7/20 loss 38521.0312 147171.6562 index_layer_3_loss -119.6749 -19.2670 lambda_51_loss 157917.6562 166160.9219 lambda_51_loss 27.8329 27.7720 \n",
      "Epoch 8/20 loss 42555.4414 126482.0234 index_layer_3_loss -120.2368 -21.4427 lambda_51_loss 162514.1250 147646.0312 lambda_51_loss 27.8097 27.8667 \n",
      "Epoch 9/20 loss 19233.2969 130569.1641 index_layer_3_loss -120.3762 -21.0346 lambda_51_loss 139334.4688 151323.8281 lambda_51_loss 27.5038 27.9913 \n",
      "Epoch 10/20 loss 33692.1484 152031.0312 index_layer_3_loss -119.3729 -18.6823 lambda_51_loss 152787.2656 170435.0469 lambda_51_loss 27.7779 27.8251 \n",
      "Epoch 11/20 loss 10564.3672 122010.5312 index_layer_3_loss -119.4805 -20.5335 lambda_51_loss 129770.0391 142266.6094 lambda_51_loss 27.4860 27.7425 \n",
      "Epoch 12/20 loss 25531.0059 116797.4609 index_layer_3_loss -119.8923 -20.5417 lambda_51_loss 145146.3906 137058.0312 lambda_51_loss 27.6881 28.1113 \n",
      "Epoch 13/20 loss 39369.5664 120198.9531 index_layer_3_loss -119.2373 -20.3460 lambda_51_loss 158327.0312 140269.0781 lambda_51_loss 27.9863 27.5913 \n",
      "Epoch 14/20 loss 30715.3301 133188.0625 index_layer_3_loss -119.5631 -20.9325 lambda_51_loss 149997.2969 153839.2500 lambda_51_loss 28.1088 28.1280 \n",
      "Epoch 15/20 loss 3877.2834 121546.2578 index_layer_3_loss -119.7425 -20.9672 lambda_51_loss 123342.2422 142236.9844 lambda_51_loss 27.7565 27.6444 \n",
      "Epoch 16/20 loss -199.0236 90639.6562 index_layer_3_loss -119.3291 -19.1760 lambda_51_loss 118851.4688 109534.3281 lambda_51_loss 27.8609 28.1294 \n",
      "Epoch 17/20 loss 17346.8535 103416.2422 index_layer_3_loss -119.4720 -20.5317 lambda_51_loss 136536.7031 123668.6328 lambda_51_loss 28.2158 27.9324 \n",
      "Epoch 18/20 loss -4388.1709 100146.2891 index_layer_3_loss -119.3642 -22.3500 lambda_51_loss 114697.6953 122217.3281 lambda_51_loss 27.8305 27.8929 \n",
      "Epoch 19/20 loss 8669.6631 99296.0781 index_layer_3_loss -119.1350 -19.3974 lambda_51_loss 127525.2500 118415.2734 lambda_51_loss 27.9397 27.8184 \n",
      "[10, 0.0001, 1000000.0, 300, 0.0, 10.0]\n",
      "Epoch 0/10 loss 96168.3906 118297.5000 index_layer_3_loss -119.7394 -20.0990 lambda_51_loss 131810.4219 124050.2188 lambda_51_loss 27.9793 27.6971 \n",
      "Epoch 1/10 loss 78706.3125 95065.9062 index_layer_3_loss -119.4409 -20.1401 lambda_51_loss 114260.9141 100825.3125 lambda_51_loss 27.7675 28.2626 \n",
      "Epoch 2/10 loss 69956.5938 101921.5938 index_layer_3_loss -118.7867 -20.4533 lambda_51_loss 105309.0312 107769.5938 lambda_51_loss 28.3575 28.7992 \n",
      "Epoch 3/10 loss 80286.2500 78833.1719 index_layer_3_loss -119.2229 -18.0215 lambda_51_loss 115768.1406 83949.4062 lambda_51_loss 28.4971 29.0209 \n",
      "Epoch 4/10 loss 40138.1367 75870.2109 index_layer_3_loss -118.7068 -19.1202 lambda_51_loss 75460.3047 81312.9453 lambda_51_loss 28.9869 29.3324 \n",
      "Epoch 5/10 loss 53241.3125 68564.7109 index_layer_3_loss -119.1830 -17.6964 lambda_51_loss 88701.9297 73580.0703 lambda_51_loss 29.4271 29.3556 \n",
      "Epoch 6/10 loss 32388.4590 52172.1641 index_layer_3_loss -118.0422 -16.7146 lambda_51_loss 67508.1953 56891.0469 lambda_51_loss 29.2916 29.5488 \n",
      "Epoch 7/10 loss 33284.9336 49130.5430 index_layer_3_loss -117.8719 -16.9015 lambda_51_loss 68347.8125 53905.3828 lambda_51_loss 29.8682 29.5619 \n",
      "Epoch 8/10 loss 25565.9766 43841.4727 index_layer_3_loss -117.2898 -14.1270 lambda_51_loss 60453.6953 47777.7734 lambda_51_loss 29.9219 30.1808 \n",
      "Epoch 9/10 loss 9432.4336 40238.1094 index_layer_3_loss -117.0809 -11.3994 lambda_51_loss 44249.1914 43346.0039 lambda_51_loss 30.7519 31.1929 \n",
      "[10, 0.0001, 100000.0, 100, 0.0, 10.0]\n",
      "Epoch 0/10 loss -2599.1367 7966.5503 index_layer_3_loss -117.2010 -8.9078 lambda_51_loss 8817.3145 8546.7178 lambda_51_loss 30.3652 31.0612 \n",
      "Epoch 1/10 loss -4276.7271 6830.3169 index_layer_3_loss -116.3114 -10.2746 lambda_51_loss 7039.1733 7540.1450 lambda_51_loss 31.5244 31.7630 \n",
      "Epoch 2/10 loss -4888.8037 6458.4443 index_layer_3_loss -116.3177 -7.2758 lambda_51_loss 6428.6792 6864.3750 lambda_51_loss 31.4290 32.1645 \n",
      "Epoch 3/10 loss -4525.5635 5025.6870 index_layer_3_loss -115.6164 -3.8698 lambda_51_loss 6712.5273 5096.9536 lambda_51_loss 32.3547 31.5718 \n",
      "Epoch 4/10 loss -6986.0425 3306.4160 index_layer_3_loss -114.9494 -2.5771 lambda_51_loss 4184.8745 3235.6829 lambda_51_loss 32.4025 32.8448 \n",
      "Epoch 5/10 loss -7200.7080 2553.0000 index_layer_3_loss -114.6334 -3.7252 lambda_51_loss 3932.6973 2584.7944 lambda_51_loss 32.9936 34.0724 \n",
      "Epoch 6/10 loss -7383.1821 3197.2734 index_layer_3_loss -113.4521 3.7609 lambda_51_loss 3625.9263 2491.0627 lambda_51_loss 33.6106 33.0118 \n",
      "Epoch 7/10 loss -8475.4805 2561.7427 index_layer_3_loss -113.1077 0.2462 lambda_51_loss 2491.9302 2196.7002 lambda_51_loss 34.3361 34.0423 \n",
      "Epoch 8/10 loss -9004.4932 2538.2488 index_layer_3_loss -111.7278 5.7305 lambda_51_loss 1813.7892 1618.4729 lambda_51_loss 35.4500 34.6721 \n",
      "Epoch 9/10 loss -9144.4932 2411.8521 index_layer_3_loss -110.6218 7.2051 lambda_51_loss 1568.0303 1336.3510 lambda_51_loss 34.9655 35.4996 \n",
      "[10, 0.0001, 50000.0, 50, 0.0, 10.0]\n",
      "Epoch 0/10 loss -3983.9290 1945.7057 index_layer_3_loss -110.8417 8.1442 lambda_51_loss 1205.2476 1184.2753 lambda_51_loss 35.2908 35.4219 \n",
      "Epoch 1/10 loss -4234.0322 1888.2928 index_layer_3_loss -109.4213 11.5004 lambda_51_loss 885.4584 956.5812 lambda_51_loss 35.1576 35.6693 \n",
      "Epoch 2/10 loss -3990.6904 1694.4348 index_layer_3_loss -110.0568 10.6636 lambda_51_loss 1157.6962 801.9197 lambda_51_loss 35.4455 35.9335 \n",
      "Epoch 3/10 loss -4457.1040 1845.5132 index_layer_3_loss -108.3366 15.3664 lambda_51_loss 579.2588 701.2896 lambda_51_loss 38.0466 37.5906 \n",
      "Epoch 4/10 loss -4378.6006 1524.7628 index_layer_3_loss -108.8165 8.0881 lambda_51_loss 687.1224 759.0206 lambda_51_loss 37.5100 36.1340 \n",
      "Epoch 5/10 loss -4320.8433 1798.7111 index_layer_3_loss -108.5186 13.1957 lambda_51_loss 731.6506 751.6113 lambda_51_loss 37.3438 38.7317 \n",
      "Epoch 6/10 loss -4362.9805 1495.6018 index_layer_3_loss -109.0364 10.6366 lambda_51_loss 708.5170 585.7081 lambda_51_loss 38.0323 37.8063 \n",
      "Epoch 7/10 loss -4503.5933 1406.1459 index_layer_3_loss -108.1254 10.9731 lambda_51_loss 519.7732 470.0260 lambda_51_loss 38.2903 38.7463 \n",
      "Epoch 8/10 loss -4408.7383 1411.9110 index_layer_3_loss -108.0573 9.4532 lambda_51_loss 605.2771 508.8460 lambda_51_loss 38.8851 43.0403 \n",
      "Epoch 9/10 loss -4500.6592 1290.8997 index_layer_3_loss -107.4002 8.9230 lambda_51_loss 461.2553 476.3446 lambda_51_loss 40.8097 36.8407 \n",
      "[10, 0.0001, 50000.0, 20, 0.0, 10.0]\n",
      "Epoch 0/10 loss -1305.5614 1122.1864 index_layer_3_loss -108.6029 7.1920 lambda_51_loss 463.5476 614.3636 lambda_51_loss 40.2949 36.3982 \n",
      "Epoch 1/10 loss -1337.6899 980.9530 index_layer_3_loss -108.6018 4.4646 lambda_51_loss 448.9005 523.2754 lambda_51_loss 38.5446 36.8385 \n",
      "Epoch 2/10 loss -1313.0330 1027.7468 index_layer_3_loss -109.4165 0.0681 lambda_51_loss 510.2645 679.2369 lambda_51_loss 36.5033 34.7147 \n",
      "Epoch 3/10 loss -1175.8939 841.6558 index_layer_3_loss -110.1818 3.6386 lambda_51_loss 670.2025 414.8982 lambda_51_loss 35.7539 35.3987 \n",
      "Epoch 4/10 loss -1300.3384 867.3350 index_layer_3_loss -109.8577 4.4511 lambda_51_loss 536.1959 428.8526 lambda_51_loss 36.0619 34.9461 \n",
      "Epoch 5/10 loss -1169.8568 861.7281 index_layer_3_loss -110.4777 2.2246 lambda_51_loss 684.3135 463.7498 lambda_51_loss 35.5384 35.3486 \n"
     ]
    },
    {
     "name": "stdout",
     "output_type": "stream",
     "text": [
      "Epoch 6/10 loss -1464.0081 799.4935 index_layer_3_loss -109.7688 0.4608 lambda_51_loss 370.1990 439.1989 lambda_51_loss 36.1170 35.1078 \n",
      "Epoch 7/10 loss -1411.5057 816.3973 index_layer_3_loss -110.5192 -0.5784 lambda_51_loss 427.4542 477.1869 lambda_51_loss 37.1424 35.0779 \n",
      "Epoch 8/10 loss -1481.2102 772.1036 index_layer_3_loss -110.4420 -0.6782 lambda_51_loss 364.2728 424.4203 lambda_51_loss 36.3356 36.1247 \n",
      "Epoch 9/10 loss -1416.6802 845.3282 index_layer_3_loss -110.2968 3.8827 lambda_51_loss 431.1597 406.0526 lambda_51_loss 35.8095 36.1622 \n",
      "[20, 0.0001, 50000.0, 5, 0.0, 10.0]\n",
      "Epoch 0/20 loss 184.6994 776.9471 index_layer_3_loss -109.5014 1.2984 lambda_51_loss 380.5737 399.8875 lambda_51_loss 35.1633 37.0568 \n",
      "Epoch 1/20 loss 178.7809 749.8170 index_layer_3_loss -109.4541 4.1598 lambda_51_loss 370.2903 360.7564 lambda_51_loss 35.5761 36.8262 \n",
      "Epoch 2/20 loss 160.1628 756.4822 index_layer_3_loss -109.5059 4.9627 lambda_51_loss 339.8303 382.0163 lambda_51_loss 36.7862 34.9652 \n",
      "Epoch 3/20 loss 163.8914 802.4164 index_layer_3_loss -108.7075 6.5427 lambda_51_loss 344.9839 424.1054 lambda_51_loss 36.2445 34.5597 \n",
      "Epoch 4/20 loss 148.5627 723.6365 index_layer_3_loss -108.2688 4.8142 lambda_51_loss 343.2625 363.3476 lambda_51_loss 34.6644 33.6218 \n",
      "Epoch 5/20 loss 239.8770 685.4069 index_layer_3_loss -107.9265 2.0891 lambda_51_loss 431.8322 333.6657 lambda_51_loss 34.7677 34.1296 \n",
      "Epoch 6/20 loss 170.8450 702.9924 index_layer_3_loss -107.7110 8.0982 lambda_51_loss 369.8738 322.7564 lambda_51_loss 33.9526 33.9745 \n",
      "Epoch 7/20 loss 139.2251 701.7160 index_layer_3_loss -106.3994 7.8423 lambda_51_loss 333.8301 326.2328 lambda_51_loss 33.7392 33.6272 \n",
      "Epoch 8/20 loss 136.9699 696.8484 index_layer_3_loss -106.8326 7.4123 lambda_51_loss 326.2010 319.1611 lambda_51_loss 34.4932 34.0626 \n",
      "Epoch 9/20 loss 182.9802 795.0239 index_layer_3_loss -107.6339 8.2219 lambda_51_loss 390.6926 429.0333 lambda_51_loss 33.0457 32.4881 \n",
      "Epoch 10/20 loss 179.2515 705.4502 index_layer_3_loss -105.4951 9.2098 lambda_51_loss 379.2974 323.9236 lambda_51_loss 32.7430 33.5477 \n",
      "Epoch 11/20 loss 122.8830 707.4482 index_layer_3_loss -106.1613 10.3738 lambda_51_loss 325.4100 322.2533 lambda_51_loss 32.8279 33.3326 \n",
      "Epoch 12/20 loss 125.8396 775.5911 index_layer_3_loss -104.7156 8.6649 lambda_51_loss 319.3733 406.6791 lambda_51_loss 33.0044 32.5587 \n",
      "Epoch 13/20 loss 167.4846 689.7256 index_layer_3_loss -105.1728 7.9254 lambda_51_loss 371.6343 327.6694 lambda_51_loss 32.1714 32.2429 \n",
      "Epoch 14/20 loss 114.5641 662.5731 index_layer_3_loss -105.4771 4.1408 lambda_51_loss 318.4397 323.9682 lambda_51_loss 32.3510 31.7901 \n",
      "Epoch 15/20 loss 129.8558 674.5531 index_layer_3_loss -104.7881 5.6188 lambda_51_loss 331.6298 331.0884 lambda_51_loss 32.2166 31.5371 \n",
      "Epoch 16/20 loss 125.4787 760.6741 index_layer_3_loss -105.4606 5.5770 lambda_51_loss 339.8743 421.5723 lambda_51_loss 31.2908 31.1217 \n",
      "Epoch 17/20 loss 105.7111 704.0528 index_layer_3_loss -105.6559 8.1296 lambda_51_loss 321.1698 350.2904 lambda_51_loss 31.2821 31.3115 \n",
      "Epoch 18/20 loss 112.4113 643.6110 index_layer_3_loss -105.9146 2.8614 lambda_51_loss 334.8129 320.6358 lambda_51_loss 30.7171 30.8668 \n",
      "Epoch 19/20 loss 147.4087 660.9681 index_layer_3_loss -106.4426 6.3822 lambda_51_loss 371.9987 318.3572 lambda_51_loss 30.7623 31.0700 \n"
     ]
    }
   ],
   "source": [
    "hists_bg_KL = []\n",
    "for i, s in enumerate(Eschedule):\n",
    "    print(s)#'high_energy =', s[0], 'weight_ML =', s[1], 'epochs =', s[2])\n",
    "    sys.stdout.flush()\n",
    "    hist_bg_KL = bg.train_flexible(X0noise, xval=xval, epochs=s[0], lr=s[1], batch_size=batchsize_KL,\n",
    "                                   verbose=1, high_energy=s[2], max_energy=1e10,\n",
    "                                   weight_ML=s[3], weight_KL=1.0, temperature=temperature, weight_MC=0.0, weight_W2=s[4],\n",
    "                                   weight_RCEnt=s[5], rc_func=model.dimer_distance_tf, rc_min=0.5, rc_max=2.5,\n",
    "                                   std=1.0, reg_Jxz=0.0, return_test_energies=True)\n",
    "    hists_bg_KL.append(hist_bg_KL)"
   ]
  },
  {
   "cell_type": "code",
   "execution_count": 28,
   "metadata": {},
   "outputs": [],
   "source": [
    "bg.save('temp.pkl')"
   ]
  },
  {
   "cell_type": "code",
   "execution_count": 29,
   "metadata": {},
   "outputs": [
    {
     "name": "stdout",
     "output_type": "stream",
     "text": [
      "W<RRRRRRRR>\n",
      "W 76 0 0\n",
      "< 76 0 0\n",
      "R 38 38 0\n",
      "R 38 38 0\n",
      "R 38 38 0\n",
      "R 38 38 0\n",
      "R 38 38 0\n",
      "R 38 38 0\n",
      "R 38 38 0\n",
      "R 38 38 0\n",
      "> 38 38 0\n"
     ]
    }
   ],
   "source": [
    "anotherModel = invnet(model.dim, 'RRRRRRRR', energy_model=model, nl_layers=4, nl_hidden=200, #100\n",
    "            nl_activation='relu', nl_activation_scale='tanh', whiten=X0noise)\n",
    "anotherModel = anotherModel.load('temp.pkl',ParticleDimer())"
   ]
  },
  {
   "cell_type": "code",
   "execution_count": 32,
   "metadata": {},
   "outputs": [
    {
     "name": "stdout",
     "output_type": "stream",
     "text": [
      "[[ 0.7790488  -1.3591068   1.655799   -0.40573907  0.3060337   1.1430752\n",
      "   1.7911785   0.04392639  0.09652224 -0.50464374  0.19326428 -0.8176754\n",
      "  -0.07836138  0.4919043   0.38416487  0.7287319  -1.597898   -0.23729922\n",
      "   0.08269466  1.2897888  -0.8365321   0.43377507 -1.0636588   0.86989963\n",
      "  -1.2108635   0.8200016  -0.19022602  0.8788456   0.69238824  2.4186203\n",
      "  -1.6040635  -1.4203387  -1.1950686  -0.76688117 -1.8120315  -0.0245631\n",
      "  -0.01708126 -0.53406847  2.4908009   0.07432495  0.54746497 -2.044306\n",
      "   0.09633934  0.3655213   1.477061   -0.26735663  0.94472474 -0.01530582\n",
      "  -0.8485823   1.5948198  -2.0162346   0.28656644  2.0371249   0.20915644\n",
      "   1.8650852  -2.6227934   0.18871173  1.3419803  -0.9031436   0.30066228\n",
      "  -2.2032633   0.3172659   1.4275602  -0.06255475  0.22241658  0.35159236\n",
      "   0.80505496  1.8448981  -1.4323196  -3.6096961  -0.46368212 -2.0166883\n",
      "  -0.5156255  -0.79101515 -1.8035215   0.05649963]]\n",
      "(200002, 76)\n"
     ]
    }
   ],
   "source": [
    "print(anotherModel.transform_xz(np.array(traj_closed_train[100])))\n"
   ]
  },
  {
   "cell_type": "code",
   "execution_count": null,
   "metadata": {},
   "outputs": [],
   "source": [
    "xeners = []\n",
    "zeners = []\n",
    "for h in hists_bg_KL:\n",
    "    xeners += h[3]\n",
    "    zeners += h[4]\n",
    "hist_bg_KL_combined = [hists_bg_KL[0][0], \n",
    "                       np.vstack([h[1] for h in hists_bg_KL]),\n",
    "                       np.vstack([h[2] for h in hists_bg_KL]),\n",
    "                       xeners, zeners]"
   ]
  },
  {
   "cell_type": "code",
   "execution_count": null,
   "metadata": {},
   "outputs": [],
   "source": [
    "def plot_convergence(hist_ML, hist_KL, enerx_cut, enerz_cut, MLcol=1, KLcol=2):\n",
    "    fig, axes = plt.subplots(nrows=3, ncols=1, figsize=(5, 10))\n",
    "    niter1 = len(hist_ML[0])\n",
    "    niter2 = hist_KL[1].shape[0]\n",
    "    niter = niter1 + niter2\n",
    "    # ML loss\n",
    "    losses_ML = np.concatenate([hist_ML[0], hist_KL[1][:, MLcol]])\n",
    "    xticks = np.arange(niter1 + niter2) + 1\n",
    "    axes[0].plot(xticks, losses_ML, color='black')\n",
    "    axes[0].set_xlim(0, niter + 1)\n",
    "    axes[0].set_ylabel('ML loss')\n",
    "    axes[0].axvline(x=200, color='red', linestyle='--', linewidth=3)\n",
    "    # KL loss\n",
    "    losses_KL = hist_KL[1][:, KLcol]\n",
    "    xticks = np.arange(niter1, niter1 + niter2) + 1\n",
    "    axes[1].plot(xticks, losses_KL, color='black')\n",
    "    axes[1].set_xlim(0, niter + 1)\n",
    "    axes[1].set_ylabel('KL loss')\n",
    "    axes[1].axvline(x=200, color='red', linestyle='--', linewidth=3)\n",
    "    # low energy fractions\n",
    "    enerx = hist_ML[2] + hist_KL[3]\n",
    "    enerz = hist_ML[3] + hist_KL[4]\n",
    "    lef_x = low_energy_fraction(enerx, enerx_cut)\n",
    "    lef_z = low_energy_fraction(enerz, enerz_cut)\n",
    "    axes[2].plot(lef_x, color='black', label='x')\n",
    "    axes[2].plot(lef_z, color='blue', label='z')\n",
    "    axes[2].set_xlim(0, niter + 1)\n",
    "    axes[2].set_ylim(0, 1.05)\n",
    "    axes[2].axvline(x=200, color='red', linestyle='--', linewidth=3)\n",
    "    axes[2].set_ylabel('Training iterations')\n",
    "    axes[2].set_ylabel('Low energy fraction')\n",
    "    axes[2].legend()\n",
    "    return fig, axes"
   ]
  },
  {
   "cell_type": "code",
   "execution_count": null,
   "metadata": {},
   "outputs": [],
   "source": [
    "def energy_cut_z(ndim, nstd=3):\n",
    "    z = np.random.randn(10000, ndim)\n",
    "    zener = 0.5 * np.sum(z**2, axis=1)\n",
    "    #return zener\n",
    "    std = np.sqrt(np.mean((zener - zener.mean())**2))\n",
    "    return zener.mean() + nstd*std"
   ]
  },
  {
   "cell_type": "code",
   "execution_count": null,
   "metadata": {},
   "outputs": [],
   "source": [
    "zener = energy_cut_z(model.dim, nstd=3)\n",
    "#plt.hist(zener, 100);"
   ]
  },
  {
   "cell_type": "code",
   "execution_count": null,
   "metadata": {},
   "outputs": [],
   "source": [
    "xcut = 80\n",
    "zcut = energy_cut_z(model.dim, nstd=3)\n",
    "print('zcut = ', zcut)\n",
    "#hist_bg_KL_arr = np.vstack([hist_bg_KL[1] for hist_bg_KL in hists_bg_KL])\n",
    "fig, axes = plot_convergence(hist_bg_ML, hist_bg_KL_combined, xcut, zcut, MLcol=1, KLcol=2);\n",
    "axes[1].semilogy()\n",
    "#plt.savefig(paper_dir + 'figs/particles/training_convergence.pdf', bbox_inches='tight', transparent=True)"
   ]
  },
  {
   "cell_type": "code",
   "execution_count": null,
   "metadata": {},
   "outputs": [],
   "source": [
    "_, sample_x, _, energies_x, _ = bg.sample(nsample=20000)\n",
    "sample_d = model.dimer_distance(sample_x)\n",
    "plt.hist(sample_d[sample_d < 3], 100, log=True)\n",
    "plt.xlim(0, 3)"
   ]
  },
  {
   "cell_type": "code",
   "execution_count": null,
   "metadata": {},
   "outputs": [],
   "source": [
    "plt.hist(energies_x[np.bitwise_and(energies_x<100, sample_d<1.5)], 100, color='yellow', density=True);\n",
    "plt.hist(energies_x[np.bitwise_and(energies_x<100, sample_d>1.5)], 100, color='green', density=True);\n",
    "plt.hist(model.energy(traj_open_train), 100, color='blue', alpha=0.5, density=True);\n",
    "plt.hist(model.energy(traj_closed_train), 100, color='red', alpha=0.5, density=True);"
   ]
  },
  {
   "cell_type": "code",
   "execution_count": null,
   "metadata": {},
   "outputs": [],
   "source": [
    "model.draw_config(sample_x[1], dimercolor='blue', alpha=0.8);"
   ]
  },
  {
   "cell_type": "code",
   "execution_count": null,
   "metadata": {
    "scrolled": true
   },
   "outputs": [],
   "source": [
    "# show minimum energy path\n",
    "Emin = 1e9\n",
    "bestpath = None\n",
    "for i in range(90):\n",
    "    for j in range(90):\n",
    "        path = latent_interpolation(bg, traj_closed_train[i*100], traj_open_train[j*100], nstep=9)\n",
    "        E = model.energy(path).max()\n",
    "        if E < Emin:\n",
    "            Emin = E\n",
    "            bestpath = path"
   ]
  },
  {
   "cell_type": "code",
   "execution_count": null,
   "metadata": {},
   "outputs": [],
   "source": [
    "# Compressed version for paper\n",
    "fig, axes = plt.subplots(nrows=3, ncols=2, figsize=(6.5, 10))\n",
    "model.draw_config(bestpath[0], axis=axes[0, 0], dimercolor='blue', alpha=0.8);\n",
    "model.draw_config(bestpath[2], axis=axes[1, 0], dimercolor='blue', alpha=0.8);\n",
    "model.draw_config(bestpath[3], axis=axes[2, 0], dimercolor='orange', alpha=0.8);\n",
    "model.draw_config(bestpath[4], axis=axes[2, 1], dimercolor='orange', alpha=0.8);\n",
    "model.draw_config(bestpath[5], axis=axes[1, 1], dimercolor='red', alpha=0.8);\n",
    "model.draw_config(bestpath[7], axis=axes[0, 1], dimercolor='red', alpha=0.8);\n",
    "plt.subplots_adjust(wspace=0.03, hspace=0.03)\n",
    "plt.savefig('interpolate.pdf', bbox_inches='tight')"
   ]
  },
  {
   "cell_type": "code",
   "execution_count": null,
   "metadata": {},
   "outputs": [],
   "source": [
    "bg.save('ParticleModel.pkl')"
   ]
  },
  {
   "cell_type": "code",
   "execution_count": null,
   "metadata": {},
   "outputs": [],
   "source": []
  }
 ],
 "metadata": {
  "anaconda-cloud": {},
  "kernelspec": {
   "display_name": "Python 3",
   "language": "python",
   "name": "python3"
  },
  "language_info": {
   "codemirror_mode": {
    "name": "ipython",
    "version": 3
   },
   "file_extension": ".py",
   "mimetype": "text/x-python",
   "name": "python",
   "nbconvert_exporter": "python",
   "pygments_lexer": "ipython3",
   "version": "3.7.3"
  }
 },
 "nbformat": 4,
 "nbformat_minor": 2
}
