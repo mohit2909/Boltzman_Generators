{
 "cells": [
  {
   "cell_type": "code",
   "execution_count": 1,
   "metadata": {},
   "outputs": [
    {
     "name": "stderr",
     "output_type": "stream",
     "text": [
      "Using TensorFlow backend.\n"
     ]
    }
   ],
   "source": [
    "import sys \n",
    "sys.path.insert(0,'/home/mohit/Downloads/code_notebooks/deep_boltzmann')\n",
    "import numpy as np\n",
    "import matplotlib.pyplot as plt\n",
    "from matplotlib import rcParams\n",
    "import keras\n",
    "import tensorflow as tf"
   ]
  },
  {
   "cell_type": "code",
   "execution_count": 2,
   "metadata": {},
   "outputs": [],
   "source": [
    "from IPython.display import SVG\n",
    "from keras.utils.vis_utils import model_to_dot"
   ]
  },
  {
   "cell_type": "code",
   "execution_count": 3,
   "metadata": {},
   "outputs": [],
   "source": [
    "rcParams.update({'font.size': 16})"
   ]
  },
  {
   "cell_type": "code",
   "execution_count": 4,
   "metadata": {},
   "outputs": [],
   "source": [
    "# Switch AUTORELOAD ON. Disable this when in production mode!\n",
    "%load_ext autoreload\n",
    "%autoreload 2"
   ]
  },
  {
   "cell_type": "code",
   "execution_count": 5,
   "metadata": {},
   "outputs": [],
   "source": [
    "from deep_boltzmann.models import ParticleDimer\n",
    "from deep_boltzmann.networks.invertible import invnet, EnergyInvNet, create_RealNVPNet\n",
    "from deep_boltzmann.sampling import GaussianPriorMCMC\n",
    "from deep_boltzmann.sampling.latent_sampling import BiasedModel\n",
    "from deep_boltzmann.sampling.permutation import HungarianMapper\n",
    "from deep_boltzmann.util import load_obj, save_obj"
   ]
  },
  {
   "cell_type": "code",
   "execution_count": 6,
   "metadata": {},
   "outputs": [],
   "source": [
    "from deep_boltzmann.sampling.analysis import free_energy_bootstrap, mean_finite, std_finite"
   ]
  },
  {
   "cell_type": "code",
   "execution_count": 7,
   "metadata": {},
   "outputs": [],
   "source": [
    "# reweighting\n",
    "def test_sample_rew(network, rcfunc, rcmin, rcmax, temperature=1.0, nsample=100000):\n",
    "    sample_z, sample_x, energy_z, energy_x, log_w = network.sample(temperature=1.0, nsample=nsample)\n",
    "    bin_means, Es = free_energy_bootstrap(rcfunc(sample_x), rcmin, rcmax, 100, sample=100, weights=np.exp(log_w))\n",
    "    fig = plt.figure(figsize=(5, 4))\n",
    "    # model.plot_dimer_energy()\n",
    "    plt.ylim(-10, 20)\n",
    "    Emean = mean_finite(Es, axis=0)-7\n",
    "    Estd = std_finite(Es, axis=0)\n",
    "    plt.errorbar(bin_means, Emean, 2*Estd)\n",
    "    # variance\n",
    "    var = mean_finite(std_finite(Es, axis=0) ** 2)\n",
    "    print('Estimator Standard Error: ', np.sqrt(var))\n",
    "    return fig, bin_means, Emean, Estd"
   ]
  },
  {
   "cell_type": "code",
   "execution_count": 8,
   "metadata": {},
   "outputs": [],
   "source": [
    "def latent_interpolation(bg, x1, x2, nstep=1000, through_origin=False):\n",
    "    lambdas = np.array([np.linspace(0, 1, num=nstep)]).T\n",
    "    x1 = np.array([x1])\n",
    "    x2 = np.array([x2])\n",
    "    z1 = bg.transform_xz(x1)\n",
    "    z2 = bg.transform_xz(x2)\n",
    "    if through_origin:\n",
    "        zpath1 = z1 * (1-lambdas[::2])\n",
    "        zpath2 = z2 * (lambdas[::2]) \n",
    "        zpath = np.vstack([zpath1, zpath2])\n",
    "    else:\n",
    "        zpath = z1 + lambdas*(z2-z1)\n",
    "    xpath = bg.transform_zx(zpath)\n",
    "    return xpath"
   ]
  },
  {
   "cell_type": "code",
   "execution_count": 9,
   "metadata": {},
   "outputs": [],
   "source": [
    "def low_energy_fraction(energies, Emax):\n",
    "    low_energy_count = [np.count_nonzero(E<Emax) for E in energies]\n",
    "    sizes = [E.size for E in energies]\n",
    "    low_energy_fraction = np.array(low_energy_count) / sizes\n",
    "    return low_energy_fraction"
   ]
  },
  {
   "cell_type": "code",
   "execution_count": 10,
   "metadata": {},
   "outputs": [],
   "source": [
    "def plot_convergence(hist_ML, hist_KL, enerx_cut, enerz_cut, MLcol=1, KLcol=2):\n",
    "    fig, axes = plt.subplots(nrows=3, ncols=1, figsize=(5, 10))\n",
    "    niter1 = len(hist_ML[0])\n",
    "    niter2 = hist_KL[1].shape[0]\n",
    "    niter = niter1 + niter2\n",
    "    # ML loss\n",
    "    losses_ML = np.concatenate([hist_ML[0], hist_KL[1][:, MLcol]])\n",
    "    xticks = np.arange(niter1 + niter2) + 1\n",
    "    axes[0].plot(xticks, losses_ML, color='black')\n",
    "    axes[0].set_xlim(0, niter + 1)\n",
    "    axes[0].set_ylabel('ML loss')\n",
    "    axes[0].axvline(x=200, color='red', linestyle='--', linewidth=3)\n",
    "    # KL loss\n",
    "    losses_KL = hist_KL[1][:, KLcol]\n",
    "    xticks = np.arange(niter1, niter1 + niter2) + 1\n",
    "    axes[1].plot(xticks, losses_KL, color='black')\n",
    "    axes[1].set_xlim(0, niter + 1)\n",
    "    axes[1].set_ylabel('KL loss')\n",
    "    axes[1].axvline(x=200, color='red', linestyle='--', linewidth=3)\n",
    "    # low energy fractions\n",
    "    enerx = hist_ML[2] + hist_KL[3]\n",
    "    enerz = hist_ML[3] + hist_KL[4]\n",
    "    lef_x = low_energy_fraction(enerx, enerx_cut)\n",
    "    lef_z = low_energy_fraction(enerz, enerz_cut)\n",
    "    axes[2].plot(lef_x, color='black', label='x')\n",
    "    axes[2].plot(lef_z, color='blue', label='z')\n",
    "    axes[2].set_xlim(0, niter + 1)\n",
    "    axes[2].set_ylim(0, 1.05)\n",
    "    axes[2].axvline(x=200, color='red', linestyle='--', linewidth=3)\n",
    "    axes[2].set_ylabel('Training iterations')\n",
    "    axes[2].set_ylabel('Low energy fraction')\n",
    "    axes[2].legend()\n",
    "    return fig, axes"
   ]
  },
  {
   "cell_type": "code",
   "execution_count": 11,
   "metadata": {},
   "outputs": [],
   "source": [
    "paper_dir = '/Users/noe/data/papers/NoeEtAl_BoltzmannGeneratorsRev/'"
   ]
  },
  {
   "cell_type": "markdown",
   "metadata": {},
   "source": [
    "Particle model\n",
    "---\n",
    "Run notebook \"Particles_Simulation_Data\" to generate data"
   ]
  },
  {
   "cell_type": "code",
   "execution_count": 12,
   "metadata": {},
   "outputs": [],
   "source": [
    "# load trajectory data\n",
    "trajdict = np.load('output.npz')\n",
    "import ast\n",
    "#params = ast.literal_eval(str(trajdict['params']))\n",
    "traj_closed_train = trajdict['traj_closed_train_hungarian']\n",
    "traj_open_train = trajdict['traj_open_train_hungarian']\n",
    "traj_closed_test = trajdict['traj_closed_test_hungarian']\n",
    "traj_open_test = trajdict['traj_open_test_hungarian']\n",
    "x = np.vstack([traj_closed_train, traj_open_train])\n",
    "xval = np.vstack([traj_closed_test, traj_open_test])"
   ]
  },
  {
   "cell_type": "code",
   "execution_count": 13,
   "metadata": {},
   "outputs": [],
   "source": [
    "# create model\n",
    "#params['grid_k'] = 0.0\n",
    "model = ParticleDimer()"
   ]
  },
  {
   "cell_type": "code",
   "execution_count": 14,
   "metadata": {},
   "outputs": [
    {
     "data": {
      "text/plain": [
       "Text(0, 0.5, 'Energy / $kT_0$')"
      ]
     },
     "execution_count": 14,
     "metadata": {},
     "output_type": "execute_result"
    },
    {
     "data": {
      "image/png": "[encoded data removed]",
      "text/plain": [
       "<Figure size 432x288 with 1 Axes>"
      ]
     },
     "metadata": {
      "needs_background": "light"
     },
     "output_type": "display_data"
    },
    {
     "data": {
      "image/png": "[encoded data removed]",
      "text/plain": [
       "<Figure size 360x144 with 1 Axes>"
      ]
     },
     "metadata": {
      "needs_background": "light"
     },
     "output_type": "display_data"
    }
   ],
   "source": [
    "xx, xE = model.plot_dimer_energy();\n",
    "plt.figure(figsize=(5, 2))\n",
    "plt.plot(xx, xE, linewidth=2)\n",
    "plt.ylim(-3, 22)\n",
    "plt.xlabel('Dimer distance / nm')\n",
    "plt.ylabel('Energy / $kT_0$')\n",
    "#plt.savefig(paper_dir + 'figs/particles/particle_dimer_potential.pdf', bbox_inches='tight')"
   ]
  },
  {
   "cell_type": "code",
   "execution_count": 15,
   "metadata": {},
   "outputs": [
    {
     "data": {
      "text/plain": [
       "1.1036920414270517"
      ]
     },
     "execution_count": 15,
     "metadata": {},
     "output_type": "execute_result"
    }
   ],
   "source": [
    "W = np.exp(-xE)\n",
    "-np.log(np.sum(W[xx < 1.5]) / np.sum(W[xx >= 1.5]))"
   ]
  },
  {
   "cell_type": "code",
   "execution_count": 16,
   "metadata": {},
   "outputs": [],
   "source": [
    "# hyperparameters\n",
    "hyperparams = {'layer_types' : 'RRRRRRRR',\n",
    "               'nl_layers' : 3,\n",
    "               'nl_hidden' : 200,\n",
    "               'nl_activation' : 'tanh',\n",
    "               'zstd' : 1.0,\n",
    "               'reg_Jxz' : 0.0,\n",
    "               'temperature' : [0.1, 0.25, 0.5, 0.75, 1.0, 1.5, 2.0, 3.0, 4.0],\n",
    "               'weight_ML' : 0.1,\n",
    "               'weight_W2' : 0.0,\n",
    "               'weight_RC' : 10.0,\n",
    "               }"
   ]
  },
  {
   "cell_type": "markdown",
   "metadata": {},
   "source": [
    "Umbrella sampling reference\n",
    "-------"
   ]
  },
  {
   "cell_type": "code",
   "execution_count": null,
   "metadata": {},
   "outputs": [],
   "source": [
    "from deep_boltzmann.sampling.umbrella_sampling import UmbrellaSampling\n",
    "from deep_boltzmann.sampling.metropolis import MetropolisGauss"
   ]
  },
  {
   "cell_type": "code",
   "execution_count": null,
   "metadata": {},
   "outputs": [],
   "source": [
    "## Either run Umbrella Sampling here....\n",
    "#sampler = MetropolisGauss(model, model.init_positions(1.0), noise=0.02, stride=10)\n",
    "#sampler.run(nsteps=10000)\n",
    "#us = UmbrellaSampling(model, sampler, model.dimer_distance, sampler.traj[-1], 30, 250, 0.7, 2.3, forward_backward=True)\n",
    "#us.run(nsteps=20000, verbose=True)"
   ]
  },
  {
   "cell_type": "code",
   "execution_count": null,
   "metadata": {},
   "outputs": [],
   "source": [
    "## ... or load saved Umbrella Sampling data.\n",
    "npzfile = np.load('./particles/US_data.npz')\n",
    "colors = ['black', 'purple', 'blue', 'orange', 'red']\n",
    "x = npzfile['umbrella_positions']\n",
    "temperatures_US = npzfile['temperatures']\n",
    "dF_closed_open_US = []\n",
    "for i, dF in enumerate(npzfile['umbrella_free_energies']):\n",
    "    icolor = i // 3\n",
    "    plt.plot(x, dF, color=colors[icolor])\n",
    "    W = np.exp(-dF)\n",
    "    dF_at_kT0 = -np.log(np.sum(W[x < 1.5]) / np.sum(W[x >= 1.5]))\n",
    "    dF_closed_open_US.append(dF_at_kT0)\n",
    "    print(temperatures_US[i], dF_at_kT0)    "
   ]
  },
  {
   "cell_type": "code",
   "execution_count": null,
   "metadata": {
    "scrolled": true
   },
   "outputs": [],
   "source": [
    "# Estimate free energy profile and errors at kT=1 \n",
    "umbrella_positions = npzfile['umbrella_positions']\n",
    "# split in two halves because we ran forward and backward\n",
    "umbrella_positions = umbrella_positions[:umbrella_positions.size//2]\n",
    "umbrella_free_energies = [npzfile['umbrella_free_energies'][i][:umbrella_positions.size] for i in range(9, 12)] \\\n",
    "                       + [npzfile['umbrella_free_energies'][i][umbrella_positions.size:][::-1] for i in range(9, 12)] \n",
    "# align values\n",
    "umbrella_free_energies = [F-F.mean() for F in umbrella_free_energies]"
   ]
  },
  {
   "cell_type": "markdown",
   "metadata": {},
   "source": [
    "Boltzmann Generator\n",
    "-------"
   ]
  },
  {
   "cell_type": "code",
   "execution_count": 17,
   "metadata": {},
   "outputs": [],
   "source": [
    "batchsize_ML =  500\n",
    "batchsize_KL = 1000\n",
    "noise_intensity = 0.0"
   ]
  },
  {
   "cell_type": "code",
   "execution_count": 18,
   "metadata": {},
   "outputs": [],
   "source": [
    "X0 = np.vstack([traj_closed_train, traj_open_train])"
   ]
  },
  {
   "cell_type": "code",
   "execution_count": 19,
   "metadata": {},
   "outputs": [],
   "source": [
    "Nnoise = xval.shape[0]\n",
    "X0noise = X0[np.random.choice(X0.shape[0], Nnoise)] + noise_intensity * np.random.randn(Nnoise, X0.shape[1])\n",
    "X0noise = X0noise.astype(np.float32)"
   ]
  },
  {
   "cell_type": "code",
   "execution_count": 20,
   "metadata": {},
   "outputs": [],
   "source": [
    "#X0 = np.vstack([traj_closed_train[::100], traj_open_train[::100]])"
   ]
  },
  {
   "cell_type": "code",
   "execution_count": 21,
   "metadata": {},
   "outputs": [
    {
     "data": {
      "image/png": "[encoded data removed]",
      "text/plain": [
       "<Figure size 360x360 with 1 Axes>"
      ]
     },
     "metadata": {},
     "output_type": "display_data"
    }
   ],
   "source": [
    "model.draw_config(X0noise[1001], dimercolor='blue', alpha=0.8);"
   ]
  },
  {
   "cell_type": "code",
   "execution_count": 22,
   "metadata": {},
   "outputs": [
    {
     "name": "stdout",
     "output_type": "stream",
     "text": [
      "W<RRRRRRRR>\n",
      "W 76 0 0\n",
      "[-0.7456308   0.02890704  0.7352728   0.06617156 -2.958536   -2.9468257\n",
      " -2.9555938  -1.7585074  -2.9380012  -0.5442599  -2.851464    0.639205\n",
      " -2.8662364   1.7213658  -2.9467554   2.936795   -1.8220327  -2.9904003\n",
      " -1.7505659  -1.849385   -1.8564408  -0.5530126  -1.7424378   0.66612697\n",
      " -1.7622586   1.8484799  -1.7352917   2.9813397  -0.6455118  -2.9334493\n",
      " -0.4299171  -1.864402   -0.74493986 -0.95181304 -0.42262542  0.8521011\n",
      " -0.7019735   1.8786297  -0.50217086  2.9877791   0.55515    -3.0073266\n",
      "  0.7303069  -1.9300213   0.5341091  -0.9518351   0.71120596  0.8209976\n",
      "  0.47473788  1.8242422   0.7041298   2.92242     1.7812415  -2.9411082\n",
      "  1.8182154  -1.7318726   1.8171495  -0.5534589   1.9461914   0.63902104\n",
      "  1.8142737   1.8708845   1.8053107   2.9449823   2.9350383  -2.9868882\n",
      "  2.9246497  -1.8642368   2.9631615  -0.7166937   2.9985628   0.50459623\n",
      "  2.9641056   1.721194    2.95839     2.916644  ]\n",
      "< 76 0 0\n",
      "R 38 38 0\n",
      "WARNING:tensorflow:From /home/mohit/anaconda3/lib/python3.7/site-packages/keras/backend/tensorflow_backend.py:74: The name tf.get_default_graph is deprecated. Please use tf.compat.v1.get_default_graph instead.\n",
      "\n",
      "R 38 38 0\n",
      "R 38 38 0\n",
      "R 38 38 0\n",
      "R 38 38 0\n",
      "R 38 38 0\n",
      "R 38 38 0\n",
      "R 38 38 0\n",
      "> 38 38 0\n",
      "WARNING:tensorflow:From /home/mohit/anaconda3/lib/python3.7/site-packages/keras/backend/tensorflow_backend.py:517: The name tf.placeholder is deprecated. Please use tf.compat.v1.placeholder instead.\n",
      "\n",
      "WARNING:tensorflow:From /home/mohit/anaconda3/lib/python3.7/site-packages/keras/backend/tensorflow_backend.py:4138: The name tf.random_uniform is deprecated. Please use tf.random.uniform instead.\n",
      "\n"
     ]
    }
   ],
   "source": [
    "bg = invnet(model.dim, 'RRRRRRRR', energy_model=model, nl_layers=4, nl_hidden=128, #100\n",
    "            nl_activation='relu', nl_activation_scale='tanh', whiten=X0)"
   ]
  },
  {
   "cell_type": "code",
   "execution_count": null,
   "metadata": {},
   "outputs": [],
   "source": []
  },
  {
   "cell_type": "code",
   "execution_count": null,
   "metadata": {},
   "outputs": [
    {
     "name": "stdout",
     "output_type": "stream",
     "text": [
      "WARNING:tensorflow:From /home/mohit/anaconda3/lib/python3.7/site-packages/keras/optimizers.py:790: The name tf.train.Optimizer is deprecated. Please use tf.compat.v1.train.Optimizer instead.\n",
      "\n",
      "WARNING:tensorflow:From /home/mohit/anaconda3/lib/python3.7/site-packages/tensorflow/python/ops/math_grad.py:1205: add_dispatch_support.<locals>.wrapper (from tensorflow.python.ops.array_ops) is deprecated and will be removed in a future version.\n",
      "Instructions for updating:\n",
      "Use tf.where in 2.0, which has the same broadcast rule as np.where\n",
      "WARNING:tensorflow:From /home/mohit/anaconda3/lib/python3.7/site-packages/keras/backend/tensorflow_backend.py:986: The name tf.assign_add is deprecated. Please use tf.compat.v1.assign_add instead.\n",
      "\n",
      "WARNING:tensorflow:From /home/mohit/anaconda3/lib/python3.7/site-packages/keras/backend/tensorflow_backend.py:973: The name tf.assign is deprecated. Please use tf.compat.v1.assign instead.\n",
      "\n",
      "Epoch 0/200 loss -61.9116 -13.8932 \n",
      "Epoch 1/200 loss -95.7769 -16.3721 \n",
      "Epoch 2/200 loss -100.1408 -15.3343 \n",
      "Epoch 3/200 loss -100.3036 -17.4584 \n",
      "Epoch 4/200 loss -101.3468 -30.1616 \n",
      "Epoch 5/200 loss -102.3717 -33.4566 \n",
      "Epoch 6/200 loss -103.9212 -37.0281 \n",
      "Epoch 7/200 loss -105.9026 -39.3411 \n",
      "Epoch 8/200 loss -107.7540 -39.4959 \n",
      "Epoch 9/200 loss -108.9035 -36.0832 \n",
      "Epoch 10/200 loss -109.0079 -30.7770 \n",
      "Epoch 11/200 loss -111.4164 -31.9402 \n",
      "Epoch 12/200 loss -111.1360 -33.8890 \n",
      "Epoch 13/200 loss -111.8823 -30.2191 \n",
      "Epoch 14/200 loss -112.4899 -32.2875 \n",
      "Epoch 15/200 loss -113.9713 -29.0635 \n",
      "Epoch 16/200 loss -113.6761 -27.9576 \n",
      "Epoch 17/200 loss -113.5009 -27.6590 \n",
      "Epoch 18/200 loss -114.3781 -29.2758 \n",
      "Epoch 19/200 loss -114.6787 -26.4765 \n",
      "Epoch 20/200 loss -114.2667 -27.1979 \n",
      "Epoch 21/200 loss -115.1903 -28.0424 \n",
      "Epoch 22/200 loss -117.2650 -24.0288 \n",
      "Epoch 23/200 loss -116.2972 -20.7542 \n",
      "Epoch 24/200 loss -116.5912 -20.5936 \n",
      "Epoch 25/200 loss -117.3797 -19.4393 \n",
      "Epoch 26/200 loss -117.9951 -17.2420 \n",
      "Epoch 27/200 loss -118.2334 -19.5702 \n",
      "Epoch 28/200 loss -117.7073 -18.0005 \n",
      "Epoch 29/200 loss -118.5901 -16.9660 \n",
      "Epoch 30/200 loss -119.3158 -22.3984 \n",
      "Epoch 31/200 loss -119.9267 -20.7233 \n",
      "Epoch 32/200 loss -118.8187 -22.6379 \n",
      "Epoch 33/200 loss -120.4504 -21.0974 \n",
      "Epoch 34/200 loss -120.6284 -23.1631 \n",
      "Epoch 35/200 loss -121.3811 -24.9680 \n",
      "Epoch 36/200 loss -120.8137 -26.4109 \n",
      "Epoch 37/200 loss -121.6847 -20.9490 \n",
      "Epoch 38/200 loss -121.8313 -21.3960 \n",
      "Epoch 39/200 loss -122.4482 -23.8281 \n",
      "Epoch 40/200 loss -123.4311 -22.9475 \n",
      "Epoch 41/200 loss -122.4264 -22.4518 \n",
      "Epoch 42/200 loss -123.3652 -17.2590 \n",
      "Epoch 43/200 loss -124.0749 -16.5646 \n",
      "Epoch 44/200 loss -124.4041 -8.7731 \n",
      "Epoch 45/200 loss -125.0695 -12.3275 \n",
      "Epoch 46/200 loss -125.1434 -7.8125 \n",
      "Epoch 47/200 loss -125.3552 -12.6925 \n",
      "Epoch 48/200 loss -126.7488 -11.3755 \n",
      "Epoch 49/200 loss -126.5053 -10.5912 \n",
      "Epoch 50/200 loss -126.6490 -6.5347 \n",
      "Epoch 51/200 loss -127.5609 -2.8794 \n",
      "Epoch 52/200 loss -127.2914 -3.7482 \n",
      "Epoch 53/200 loss -127.3610 -7.1838 \n",
      "Epoch 54/200 loss -127.9727 -4.3431 \n",
      "Epoch 55/200 loss -128.6944 -4.7283 \n",
      "Epoch 56/200 loss -127.9269 -6.8087 \n",
      "Epoch 57/200 loss -129.3278 1.1764 \n",
      "Epoch 58/200 loss -129.8584 0.9529 \n",
      "Epoch 59/200 loss -130.5958 5.1686 \n",
      "Epoch 60/200 loss -129.7192 3.4255 \n",
      "Epoch 61/200 loss -130.4990 9.2567 \n",
      "Epoch 62/200 loss -131.4381 14.8987 \n",
      "Epoch 63/200 loss -130.9032 9.5267 \n",
      "Epoch 64/200 loss -132.5865 19.3256 \n",
      "Epoch 65/200 loss -131.8150 11.5895 \n",
      "Epoch 66/200 loss -132.0286 10.0901 \n",
      "Epoch 67/200 loss -131.7868 12.4395 \n",
      "Epoch 68/200 loss -133.3907 12.9656 \n",
      "Epoch 69/200 loss -133.4878 25.2226 \n",
      "Epoch 70/200 loss -133.2399 22.6906 \n",
      "Epoch 71/200 loss -133.9231 19.2765 \n",
      "Epoch 72/200 loss -133.7416 24.0694 \n",
      "Epoch 73/200 loss -134.5647 22.8975 \n",
      "Epoch 74/200 loss -134.9151 23.1224 \n",
      "Epoch 75/200 loss -135.6512 22.6877 \n",
      "Epoch 76/200 loss -135.9278 33.9695 \n",
      "Epoch 77/200 loss -136.3950 39.6066 \n",
      "Epoch 78/200 loss -135.8509 40.5372 \n",
      "Epoch 79/200 loss -136.3889 32.7413 \n",
      "Epoch 80/200 loss -136.9182 36.0940 \n",
      "Epoch 81/200 loss -138.2361 41.1765 \n",
      "Epoch 82/200 loss -136.7746 44.0925 \n",
      "Epoch 83/200 loss -138.4783 39.7266 \n",
      "Epoch 84/200 loss -138.2153 39.4935 \n",
      "Epoch 85/200 loss -138.4958 39.4263 \n",
      "Epoch 86/200 loss -139.2854 43.4982 \n",
      "Epoch 87/200 loss -139.7676 42.3135 \n",
      "Epoch 88/200 loss -139.4096 45.1500 \n",
      "Epoch 89/200 loss -140.3095 43.1801 \n",
      "Epoch 90/200 loss -140.1122 48.2986 \n",
      "Epoch 91/200 loss -140.4631 50.8963 \n",
      "Epoch 92/200 loss -140.5647 44.5327 \n",
      "Epoch 93/200 loss -140.2770 41.4951 \n",
      "Epoch 94/200 loss -140.8804 41.9087 \n",
      "Epoch 95/200 loss -141.5653 37.4983 \n",
      "Epoch 96/200 loss -141.9191 39.8179 \n",
      "Epoch 97/200 loss -141.6186 56.8186 \n",
      "Epoch 98/200 loss -142.8001 67.8691 \n",
      "Epoch 99/200 loss -142.1633 67.9251 \n",
      "Epoch 100/200 loss -142.2292 64.0489 \n",
      "Epoch 101/200 loss -142.6954 52.9921 \n",
      "Epoch 102/200 loss -143.8976 54.4901 \n",
      "Epoch 103/200 loss -143.8361 55.9742 \n",
      "Epoch 104/200 loss -142.5915 68.9299 \n",
      "Epoch 105/200 loss -143.5350 75.3641 \n",
      "Epoch 106/200 loss -144.1743 66.8186 \n",
      "Epoch 107/200 loss -144.1907 60.8341 \n",
      "Epoch 108/200 loss -145.1668 66.6368 \n",
      "Epoch 109/200 loss -145.3310 68.6216 \n",
      "Epoch 110/200 loss -144.3608 66.3395 \n",
      "Epoch 111/200 loss -145.5473 62.9507 \n",
      "Epoch 112/200 loss -145.9194 68.7675 \n",
      "Epoch 113/200 loss -146.9346 74.3672 \n",
      "Epoch 114/200 loss -146.8284 69.1606 \n",
      "Epoch 115/200 loss -146.6451 71.0186 \n"
     ]
    }
   ],
   "source": [
    "hist_bg_ML = bg.train_ML(X0noise, xval=xval, epochs=200, lr=0.001, batch_size=batchsize_ML, \n",
    "\n",
    "                         std=1.0, verbose=1, return_test_energies=True)"
   ]
  },
  {
   "cell_type": "code",
   "execution_count": null,
   "metadata": {},
   "outputs": [],
   "source": [
    "bg.save('temp.pkl')"
   ]
  },
  {
   "cell_type": "code",
   "execution_count": null,
   "metadata": {},
   "outputs": [],
   "source": [
    "anotherModel = invnet(model.dim, 'RRRRRRRR', energy_model=model, nl_layers=4, nl_hidden=200, #100\n",
    "            nl_activation='relu', nl_activation_scale='tanh', whiten=X0)\n",
    "anotherModel = anotherModel.load('temp.pkl',ParticleDimer())"
   ]
  },
  {
   "cell_type": "code",
   "execution_count": null,
   "metadata": {},
   "outputs": [],
   "source": [
    "print(anotherModel.transform_xz(np.array(traj_closed_train[100])))"
   ]
  },
  {
   "cell_type": "code",
   "execution_count": 31,
   "metadata": {},
   "outputs": [],
   "source": [
    "temp = bg.transform_xz(np.array([traj_closed_train[100]]) )"
   ]
  },
  {
   "cell_type": "code",
   "execution_count": 32,
   "metadata": {},
   "outputs": [
    {
     "name": "stdout",
     "output_type": "stream",
     "text": [
      "[[ 1.9572867   0.4004053   0.5223278   1.7814726   0.18984634  1.4211472\n",
      "   1.4091517   0.32418895  0.47014764  0.27301234  0.05660823  1.5759207\n",
      "   0.9411641   0.11529212 -0.36492872 -1.402907    2.4879348  -0.19491237\n",
      "  -2.4307237  -1.2326376   1.0743597  -0.34663197  2.1743052  -1.3172942\n",
      "   0.08816755  0.8033407  -1.3519748  -1.1594783  -1.9806067  -1.3263488\n",
      "   1.1516556  -0.03824997 -0.78479624  0.73889923  1.2666298  -0.848596\n",
      "   1.4399124   0.62048113  1.9062109   1.1174085  -0.5345824   1.6808629\n",
      "  -1.4555032   0.79905266 -0.44156712 -0.05199707 -2.3669388   1.9275584\n",
      "  -0.08194138 -0.8850204   1.0034802  -0.62691885 -3.093033    0.27217257\n",
      "  -1.8111604   1.2449572  -1.0462887  -1.09285     0.01245205 -1.4201572\n",
      "   0.01730055 -0.5653697   0.35124308  1.7833525   1.0483669  -1.619142\n",
      "  -1.3836769  -1.6323123  -0.62473965  1.7005557   1.138487    0.5154848\n",
      "  -2.2754796  -1.5632753   0.48130587  0.24134487]]\n"
     ]
    }
   ],
   "source": [
    "print(temp)"
   ]
  },
  {
   "cell_type": "code",
   "execution_count": 25,
   "metadata": {},
   "outputs": [
    {
     "data": {
      "text/plain": [
       "[<matplotlib.lines.Line2D at 0x7f5951a78940>]"
      ]
     },
     "execution_count": 25,
     "metadata": {},
     "output_type": "execute_result"
    },
    {
     "data": {
      "image/png": "[encoded data removed]",
      "text/plain": [
       "<Figure size 432x288 with 1 Axes>"
      ]
     },
     "metadata": {
      "needs_background": "light"
     },
     "output_type": "display_data"
    }
   ],
   "source": [
    "plt.plot(hist_bg_ML[0])\n",
    "plt.plot(hist_bg_ML[1])\n",
    "#plt.ylim(0, 100)"
   ]
  },
  {
   "cell_type": "code",
   "execution_count": 26,
   "metadata": {},
   "outputs": [
    {
     "data": {
      "text/plain": [
       "(0, 3)"
      ]
     },
     "execution_count": 26,
     "metadata": {},
     "output_type": "execute_result"
    },
    {
     "data": {
      "image/png": "[encoded data removed]",
      "text/plain": [
       "<Figure size 432x288 with 1 Axes>"
      ]
     },
     "metadata": {
      "needs_background": "light"
     },
     "output_type": "display_data"
    }
   ],
   "source": [
    "_, sample_x, _, energies_x, _ = bg.sample(nsample=20000)\n",
    "sample_d = model.dimer_distance(sample_x)\n",
    "plt.hist(sample_d[sample_d < 3], 100, log=True)\n",
    "plt.xlim(0, 3)"
   ]
  },
  {
   "cell_type": "markdown",
   "metadata": {},
   "source": [
    "Regular training\n",
    "-----"
   ]
  },
  {
   "cell_type": "code",
   "execution_count": null,
   "metadata": {},
   "outputs": [],
   "source": [
    "temperature=1.0"
   ]
  },
  {
   "cell_type": "code",
   "execution_count": null,
   "metadata": {},
   "outputs": [],
   "source": [
    "# initial training\n",
    "Eschedule = [[20,  0.00001, 1e6, 1e3,  0.0, 10.0],\n",
    "             [10,  0.0001, 1e6,  300,  0.0, 10.0],\n",
    "             [10,  0.0001, 1e5,  100,  0.0, 10.0],\n",
    "             [10,  0.0001, 5e4,   50,  0.0, 10.0],\n",
    "             [10,  0.0001, 5e4,   20,  0.0, 10.0],\n",
    "             [20,  0.0001, 5e4,    5,  0.0, 10.0]]"
   ]
  },
  {
   "cell_type": "code",
   "execution_count": 29,
   "metadata": {
    "scrolled": true
   },
   "outputs": [
    {
     "name": "stdout",
     "output_type": "stream",
     "text": [
      "[200, 1e-05, 1000000.0, 1000.0, 0.0, 10.0]\n",
      "Epoch 0/200 loss -119070.5469 205691.5312 index_layer_3_loss -167.4573 150.7822 lambda_51_loss 48059.2578 54574.5039 lambda_51_loss 32.7511 33.4844 \n",
      "Epoch 1/200 loss -119413.7656 190727.6406 index_layer_3_loss -167.9080 155.0254 lambda_51_loss 48164.6641 35362.7031 lambda_51_loss 32.9558 33.9495 \n",
      "Epoch 2/200 loss -123258.6406 184487.1875 index_layer_3_loss -167.9851 150.4303 lambda_51_loss 44397.4297 33721.7930 lambda_51_loss 32.9056 33.5126 \n",
      "Epoch 3/200 loss -131232.8125 196173.4531 index_layer_3_loss -167.2457 155.9181 lambda_51_loss 35674.3984 39921.2812 lambda_51_loss 33.8539 33.4030 \n",
      "Epoch 4/200 loss -133023.0000 182070.9844 index_layer_3_loss -167.8242 146.4105 lambda_51_loss 34467.7422 35333.5195 lambda_51_loss 33.3406 32.6999 \n",
      "Epoch 5/200 loss -137440.8594 178616.4844 index_layer_3_loss -168.1022 143.3550 lambda_51_loss 30320.9258 34933.6797 lambda_51_loss 34.0475 32.7834 \n",
      "Epoch 6/200 loss -134558.0312 179286.8281 index_layer_3_loss -167.8796 148.2391 lambda_51_loss 32993.2461 30714.1523 lambda_51_loss 32.8366 33.3609 \n",
      "Epoch 7/200 loss -130449.5156 175572.5000 index_layer_3_loss -167.4167 149.3175 lambda_51_loss 36634.5859 25923.3613 lambda_51_loss 33.2585 33.1603 \n",
      "Epoch 8/200 loss -131555.9375 188425.8281 index_layer_3_loss -167.0997 155.3680 lambda_51_loss 35206.0469 32731.0723 lambda_51_loss 33.7679 32.6803 \n",
      "Epoch 9/200 loss -137886.4375 179035.8594 index_layer_3_loss -166.7630 151.7269 lambda_51_loss 28542.4766 26977.6172 lambda_51_loss 33.4123 33.1396 \n",
      "Epoch 10/200 loss -136700.8281 188082.6562 index_layer_3_loss -168.0559 154.3026 lambda_51_loss 31022.9766 33448.2383 lambda_51_loss 33.2076 33.1807 \n",
      "Epoch 11/200 loss -141317.5625 176243.7656 index_layer_3_loss -166.8298 152.3353 lambda_51_loss 25181.3711 23560.4707 lambda_51_loss 33.0847 34.7950 \n",
      "Epoch 12/200 loss -141733.9062 169319.0781 index_layer_3_loss -167.9356 148.8022 lambda_51_loss 25870.5645 20191.3633 lambda_51_loss 33.1119 32.5497 \n",
      "Epoch 13/200 loss -141128.8594 180634.0156 index_layer_3_loss -168.1622 155.2585 lambda_51_loss 26698.4902 25044.9355 lambda_51_loss 33.4904 33.0527 \n",
      "Epoch 14/200 loss -144858.1719 171985.2500 index_layer_3_loss -167.9023 146.5803 lambda_51_loss 22698.3594 25074.4160 lambda_51_loss 34.5797 33.0513 \n",
      "Epoch 15/200 loss -143643.2969 173969.6562 index_layer_3_loss -168.0214 157.0002 lambda_51_loss 24047.9473 16640.0781 lambda_51_loss 33.0142 32.9394 \n",
      "Epoch 16/200 loss -147006.4844 176959.8906 index_layer_3_loss -166.8490 156.1835 lambda_51_loss 19506.5000 20438.5840 lambda_51_loss 33.6046 33.7776 \n",
      "Epoch 17/200 loss -143663.2188 173070.2188 index_layer_3_loss -167.5112 159.6028 lambda_51_loss 23514.0352 13119.0195 lambda_51_loss 33.3993 34.8429 \n",
      "Epoch 18/200 loss -146297.0312 182040.1562 index_layer_3_loss -167.7351 157.5734 lambda_51_loss 21098.7012 24127.9316 lambda_51_loss 33.9323 33.8843 \n",
      "Epoch 19/200 loss -149795.8750 179357.2500 index_layer_3_loss -167.4807 154.0576 lambda_51_loss 17345.2363 24964.6953 lambda_51_loss 33.9573 33.4931 \n",
      "Epoch 20/200 loss -143999.8906 161721.5938 index_layer_3_loss -167.2532 152.4620 lambda_51_loss 22904.7617 8922.8115 lambda_51_loss 34.8506 33.6787 \n",
      "Epoch 21/200 loss -153609.0156 169944.9062 index_layer_3_loss -167.8648 149.2626 lambda_51_loss 13914.8838 20342.6211 lambda_51_loss 34.0873 33.9720 \n",
      "Epoch 22/200 loss -152374.4375 164445.1562 index_layer_3_loss -166.6409 145.9237 lambda_51_loss 13937.1777 18187.2246 lambda_51_loss 32.9327 33.4210 \n",
      "Epoch 23/200 loss -146776.0312 169500.3281 index_layer_3_loss -166.9581 148.7673 lambda_51_loss 19837.8242 20388.5371 lambda_51_loss 34.4216 34.4455 \n",
      "Epoch 24/200 loss -153785.1250 169815.1094 index_layer_3_loss -167.1796 149.1893 lambda_51_loss 13060.6582 20275.5859 lambda_51_loss 33.3826 35.0271 \n",
      "Epoch 25/200 loss -158481.7500 166910.8438 index_layer_3_loss -165.8757 153.7924 lambda_51_loss 7038.4238 12776.1123 lambda_51_loss 35.5564 34.2346 \n",
      "Epoch 26/200 loss -141891.9844 169554.4531 index_layer_3_loss -166.5015 156.0877 lambda_51_loss 24269.8203 13114.5137 lambda_51_loss 33.9676 35.2271 \n",
      "Epoch 27/200 loss -154133.0938 179509.2500 index_layer_3_loss -166.8692 163.0951 lambda_51_loss 12392.2979 16062.3193 lambda_51_loss 34.3827 35.1879 \n",
      "Epoch 28/200 loss -151201.4688 175850.2656 index_layer_3_loss -166.1436 159.0841 lambda_51_loss 14602.3164 16423.3320 lambda_51_loss 33.9819 34.2809 \n",
      "Epoch 29/200 loss -145747.3594 178050.8125 index_layer_3_loss -166.7029 158.9480 lambda_51_loss 20619.5879 18764.0762 lambda_51_loss 33.5960 33.8747 \n",
      "Epoch 30/200 loss -150946.3438 182300.6719 index_layer_3_loss -166.7677 163.9696 lambda_51_loss 15476.9775 17992.2578 lambda_51_loss 34.4427 33.8802 \n",
      "Epoch 31/200 loss -157931.3438 166087.5625 index_layer_3_loss -166.6475 154.5455 lambda_51_loss 8374.1416 11198.0410 lambda_51_loss 34.2024 34.4060 \n",
      "Epoch 32/200 loss -153054.9219 177073.3750 index_layer_3_loss -166.8725 166.9896 lambda_51_loss 13473.4541 9737.5967 lambda_51_loss 34.4168 34.6142 \n",
      "Epoch 33/200 loss -154096.5156 171977.3438 index_layer_3_loss -167.5318 158.2005 lambda_51_loss 13086.5527 13429.6465 lambda_51_loss 34.8739 34.7227 \n",
      "Epoch 34/200 loss -150552.6406 175691.2656 index_layer_3_loss -166.8051 163.2527 lambda_51_loss 15905.3887 12096.1846 lambda_51_loss 34.7095 34.2337 \n",
      "Epoch 35/200 loss -150727.5469 172495.0469 index_layer_3_loss -167.0226 160.3150 lambda_51_loss 15956.0820 11829.1416 lambda_51_loss 33.8949 35.0934 \n",
      "Epoch 36/200 loss -156805.8438 168379.3438 index_layer_3_loss -167.1352 160.4076 lambda_51_loss 9983.1406 7616.5913 lambda_51_loss 34.6184 35.5140 \n",
      "Epoch 37/200 loss -152925.5156 174498.2656 index_layer_3_loss -166.3053 164.7330 lambda_51_loss 13020.5195 9421.6328 lambda_51_loss 35.9218 34.3678 \n",
      "Epoch 38/200 loss -155293.9062 178761.7656 index_layer_3_loss -166.4783 160.1325 lambda_51_loss 10835.5088 18283.3145 lambda_51_loss 34.8873 34.5917 \n",
      "Epoch 39/200 loss -150120.2969 167073.7969 index_layer_3_loss -166.1304 158.9598 lambda_51_loss 15662.3838 7761.2432 lambda_51_loss 34.7741 35.2756 \n",
      "Epoch 40/200 loss -155654.1250 171378.8125 index_layer_3_loss -166.3385 161.4309 lambda_51_loss 10340.3271 9600.7217 lambda_51_loss 34.4057 34.7194 \n",
      "Epoch 41/200 loss -157732.9688 166843.4844 index_layer_3_loss -166.8222 156.7356 lambda_51_loss 8727.3613 9778.0957 lambda_51_loss 36.1881 32.9770 \n",
      "Epoch 42/200 loss -159324.7031 178057.1719 index_layer_3_loss -166.1111 170.1701 lambda_51_loss 6433.7314 7541.0264 lambda_51_loss 35.2703 34.6030 \n",
      "Epoch 43/200 loss -158308.7812 176308.1875 index_layer_3_loss -165.7135 166.8699 lambda_51_loss 7059.3521 9086.3438 lambda_51_loss 34.5381 35.1898 \n",
      "Epoch 44/200 loss -155576.7812 168890.9844 index_layer_3_loss -165.9006 159.5624 lambda_51_loss 9972.3398 8968.5977 lambda_51_loss 35.1471 36.0033 \n",
      "Epoch 45/200 loss -155847.2188 176686.1719 index_layer_3_loss -166.6199 167.0999 lambda_51_loss 10425.3818 9238.6436 lambda_51_loss 34.7339 34.7591 \n",
      "Epoch 46/200 loss -154051.6562 170355.7188 index_layer_3_loss -165.4362 158.9397 lambda_51_loss 11046.9150 11074.2764 lambda_51_loss 33.7643 34.1687 \n",
      "Epoch 47/200 loss -157084.9688 172263.5000 index_layer_3_loss -166.5772 163.3088 lambda_51_loss 9148.1641 8602.7900 lambda_51_loss 34.4098 35.1892 \n",
      "Epoch 48/200 loss -159817.1875 172717.6406 index_layer_3_loss -166.3989 165.2849 lambda_51_loss 6235.4458 7084.1660 lambda_51_loss 34.6285 34.8625 \n",
      "Epoch 49/200 loss -160282.8594 166023.9688 index_layer_3_loss -166.3725 159.8489 lambda_51_loss 5745.9956 5818.4922 lambda_51_loss 34.3676 35.6620 \n",
      "Epoch 50/200 loss -155455.7969 163687.3750 index_layer_3_loss -166.4824 157.5674 lambda_51_loss 10680.8115 5775.9756 lambda_51_loss 34.5791 34.4003 \n",
      "Epoch 51/200 loss -152378.4531 171353.6562 index_layer_3_loss -166.4896 162.7664 lambda_51_loss 13767.5879 8242.0342 lambda_51_loss 34.3577 34.5252 \n",
      "Epoch 52/200 loss -156452.5938 168826.7188 index_layer_3_loss -166.6702 163.4130 lambda_51_loss 9870.6836 5059.4253 lambda_51_loss 34.6953 35.4306 \n",
      "Epoch 53/200 loss -155355.3750 174874.4688 index_layer_3_loss -166.1998 165.0551 lambda_51_loss 10493.6543 9472.8877 lambda_51_loss 35.0816 34.6512 \n",
      "Epoch 54/200 loss -155641.3438 177655.0156 index_layer_3_loss -166.0600 170.0612 lambda_51_loss 10073.1572 7233.6719 lambda_51_loss 34.5493 36.0103 \n"
     ]
    },
    {
     "name": "stdout",
     "output_type": "stream",
     "text": [
      "Epoch 55/200 loss -159708.2344 174583.8750 index_layer_3_loss -166.8538 166.6912 lambda_51_loss 6800.4438 7539.6699 lambda_51_loss 34.5145 35.3042 \n",
      "Epoch 56/200 loss -161005.7969 172994.1562 index_layer_3_loss -166.4562 166.9233 lambda_51_loss 5090.5264 5724.3882 lambda_51_loss 35.9914 34.6491 \n",
      "Epoch 57/200 loss -160935.2656 166793.3281 index_layer_3_loss -166.7301 160.6785 lambda_51_loss 5446.4365 5769.5356 lambda_51_loss 34.8376 34.5342 \n",
      "Epoch 58/200 loss -158142.1406 171975.5781 index_layer_3_loss -167.1351 164.4724 lambda_51_loss 8648.4268 7167.8608 lambda_51_loss 34.4561 33.5320 \n",
      "Epoch 59/200 loss -162174.1094 169813.5469 index_layer_3_loss -166.9138 166.6012 lambda_51_loss 4389.4678 2861.4270 lambda_51_loss 35.0267 35.0967 \n",
      "Epoch 60/200 loss -156843.9844 172958.0156 index_layer_3_loss -166.3211 163.3772 lambda_51_loss 9116.2178 9231.7920 lambda_51_loss 36.0915 34.9039 \n",
      "Epoch 61/200 loss -154032.9531 171481.9531 index_layer_3_loss -166.6772 162.5644 lambda_51_loss 12282.9258 8564.8613 lambda_51_loss 36.1285 35.2673 \n",
      "Epoch 62/200 loss -160048.8750 172579.1719 index_layer_3_loss -166.4290 163.4718 lambda_51_loss 6026.7632 8756.6357 lambda_51_loss 35.3390 35.0754 \n",
      "Epoch 63/200 loss -160498.3281 176075.2656 index_layer_3_loss -166.5338 169.0275 lambda_51_loss 5686.7524 6695.7036 lambda_51_loss 34.8666 35.2021 \n",
      "Epoch 64/200 loss -157209.2812 174391.2812 index_layer_3_loss -167.2511 169.5686 lambda_51_loss 9694.1289 4477.7021 lambda_51_loss 34.7667 34.4954 \n",
      "Epoch 65/200 loss -158046.4844 169020.8438 index_layer_3_loss -167.0259 164.7308 lambda_51_loss 8630.5078 3942.3481 lambda_51_loss 34.8924 34.7693 \n",
      "Epoch 66/200 loss -160587.3125 183596.3125 index_layer_3_loss -166.2258 174.6268 lambda_51_loss 5285.4268 8620.7617 lambda_51_loss 35.3113 34.8735 \n",
      "Epoch 67/200 loss -161001.7812 172794.5312 index_layer_3_loss -167.2374 168.9428 lambda_51_loss 5889.9111 3494.9036 lambda_51_loss 34.5697 35.6841 \n",
      "Epoch 68/200 loss -163389.9531 161369.8438 index_layer_3_loss -167.4010 158.0915 lambda_51_loss 3656.1465 2926.6838 lambda_51_loss 35.4895 35.1652 \n",
      "Epoch 69/200 loss -161822.6406 174666.2969 index_layer_3_loss -167.7126 165.8783 lambda_51_loss 5534.2876 8437.9014 lambda_51_loss 35.5649 35.0143 \n",
      "Epoch 70/200 loss -158479.3906 170545.6875 index_layer_3_loss -166.7727 164.3986 lambda_51_loss 7944.6846 5797.3750 lambda_51_loss 34.8622 34.9707 \n",
      "Epoch 71/200 loss -159435.6094 171881.4062 index_layer_3_loss -166.8333 166.0953 lambda_51_loss 7044.5264 5437.9072 lambda_51_loss 35.3122 34.8179 \n",
      "Epoch 72/200 loss -163079.1094 172412.6094 index_layer_3_loss -167.0323 166.4675 lambda_51_loss 3603.1826 5597.7002 lambda_51_loss 34.9988 34.7450 \n",
      "Epoch 73/200 loss -160646.4219 162509.5312 index_layer_3_loss -166.4790 153.2230 lambda_51_loss 5481.5605 8932.7920 lambda_51_loss 35.0998 35.3714 \n",
      "Epoch 74/200 loss -157318.5156 178492.2188 index_layer_3_loss -166.8158 173.3903 lambda_51_loss 9148.3252 4752.6362 lambda_51_loss 34.8934 34.9284 \n",
      "Epoch 75/200 loss -161470.5000 186848.2656 index_layer_3_loss -167.2387 181.4467 lambda_51_loss 5428.9316 5044.7290 lambda_51_loss 33.9262 35.6861 \n",
      "Epoch 76/200 loss -161036.1719 178779.0469 index_layer_3_loss -167.0465 167.4021 lambda_51_loss 5658.2637 11024.1055 lambda_51_loss 35.2040 35.2830 \n",
      "Epoch 77/200 loss -159132.3906 174068.3438 index_layer_3_loss -166.6673 166.4472 lambda_51_loss 7187.3052 7272.5283 lambda_51_loss 34.7573 34.8661 \n",
      "Epoch 78/200 loss -161849.0625 167314.6719 index_layer_3_loss -167.1382 162.0930 lambda_51_loss 4940.7710 4871.1040 lambda_51_loss 34.8323 35.0536 \n",
      "Epoch 79/200 loss -159225.5156 176999.6094 index_layer_3_loss -167.6961 167.6468 lambda_51_loss 8117.4902 9004.4619 lambda_51_loss 35.3125 34.8364 \n",
      "Epoch 80/200 loss -159752.6250 172635.3281 index_layer_3_loss -166.5520 167.7046 lambda_51_loss 6440.7544 4581.1597 lambda_51_loss 35.8638 34.9573 \n",
      "Epoch 81/200 loss -160192.1250 168662.6562 index_layer_3_loss -167.0512 161.6277 lambda_51_loss 6510.0049 6682.4487 lambda_51_loss 34.9059 35.2518 \n",
      "Epoch 82/200 loss -160287.2031 173960.6094 index_layer_3_loss -167.2766 170.2233 lambda_51_loss 6638.9199 3393.1143 lambda_51_loss 35.0495 34.4226 \n",
      "Epoch 83/200 loss -158997.6562 177740.2188 index_layer_3_loss -167.5219 165.7379 lambda_51_loss 8183.4746 11646.1533 lambda_51_loss 34.0789 35.6148 \n",
      "Epoch 84/200 loss -158767.2500 189936.9531 index_layer_3_loss -167.1564 176.7504 lambda_51_loss 8038.1274 12831.2939 lambda_51_loss 35.1052 35.5292 \n",
      "Epoch 85/200 loss -158137.3281 169737.3906 index_layer_3_loss -166.8951 164.4503 lambda_51_loss 8402.5762 4934.4966 lambda_51_loss 35.5197 35.2625 \n",
      "Epoch 86/200 loss -161265.9219 177214.5938 index_layer_3_loss -166.4424 170.3400 lambda_51_loss 4823.8232 6522.3135 lambda_51_loss 35.2653 35.2257 \n",
      "Epoch 87/200 loss -160042.3906 175692.9688 index_layer_3_loss -167.5320 170.4032 lambda_51_loss 7143.2690 4928.5767 lambda_51_loss 34.6341 36.1226 \n",
      "Epoch 88/200 loss -158386.1406 160057.5156 index_layer_3_loss -167.4153 155.6697 lambda_51_loss 8667.3750 4038.2749 lambda_51_loss 36.1804 34.9509 \n",
      "Epoch 89/200 loss -163009.7031 174309.7031 index_layer_3_loss -167.2381 169.4115 lambda_51_loss 3876.9321 4545.1631 lambda_51_loss 35.1485 35.3032 \n",
      "Epoch 90/200 loss -162346.0469 181636.1875 index_layer_3_loss -166.9924 173.9645 lambda_51_loss 4295.8574 7321.8149 lambda_51_loss 35.0524 34.9910 \n",
      "Epoch 91/200 loss -157020.1875 169753.4531 index_layer_3_loss -167.2213 165.9971 lambda_51_loss 9850.4941 3402.9839 lambda_51_loss 35.0623 35.3371 \n",
      "Epoch 92/200 loss -162301.4688 173354.6719 index_layer_3_loss -167.6814 170.4120 lambda_51_loss 5033.1724 2596.6899 lambda_51_loss 34.6755 34.5988 \n",
      "Epoch 93/200 loss -163936.8594 173630.3281 index_layer_3_loss -167.7328 169.6499 lambda_51_loss 3433.3208 3623.8350 lambda_51_loss 36.2659 35.6625 \n",
      "Epoch 94/200 loss -164011.7031 172148.6719 index_layer_3_loss -167.9150 163.4322 lambda_51_loss 3556.7600 8365.3213 lambda_51_loss 34.6521 35.1124 \n",
      "Epoch 95/200 loss -162485.5312 167360.0312 index_layer_3_loss -168.0453 163.7447 lambda_51_loss 5202.9180 3267.3389 lambda_51_loss 35.6885 34.8011 \n",
      "Epoch 96/200 loss -162097.8750 176289.8750 index_layer_3_loss -167.5950 171.2782 lambda_51_loss 5148.0869 4658.6812 lambda_51_loss 34.9067 35.3005 \n",
      "Epoch 97/200 loss -156985.4531 172964.0938 index_layer_3_loss -167.8832 167.7298 lambda_51_loss 10545.6670 4881.3472 lambda_51_loss 35.2087 35.2974 \n",
      "Epoch 98/200 loss -164117.2031 177116.0469 index_layer_3_loss -168.1456 172.3974 lambda_51_loss 3672.7009 4365.3877 lambda_51_loss 35.5671 35.3299 \n",
      "Epoch 99/200 loss -162492.4844 182335.8125 index_layer_3_loss -168.1713 176.1785 lambda_51_loss 5325.8213 5802.5107 lambda_51_loss 35.3014 35.4792 \n",
      "Epoch 100/200 loss -157831.5469 175060.2344 index_layer_3_loss -166.9483 167.6017 lambda_51_loss 8763.9893 7104.9873 lambda_51_loss 35.2738 35.3506 \n",
      "Epoch 101/200 loss -158682.2656 177006.5156 index_layer_3_loss -167.5313 168.3516 lambda_51_loss 8500.2373 8302.7803 lambda_51_loss 34.8775 35.2090 \n",
      "Epoch 102/200 loss -162952.1875 163392.2031 index_layer_3_loss -167.4724 158.8945 lambda_51_loss 4168.6338 4149.4185 lambda_51_loss 35.1512 34.8260 \n",
      "Epoch 103/200 loss -160854.8750 186895.9062 index_layer_3_loss -168.6320 178.6075 lambda_51_loss 7421.4268 7935.0635 lambda_51_loss 35.5656 35.3305 \n",
      "Epoch 104/200 loss -164533.4062 171003.8594 index_layer_3_loss -167.8452 164.5944 lambda_51_loss 2953.6262 6056.1035 lambda_51_loss 35.8225 35.3394 \n",
      "Epoch 105/200 loss -161289.8125 166676.0000 index_layer_3_loss -167.2561 159.0030 lambda_51_loss 5607.8618 7329.4287 lambda_51_loss 35.8448 34.3540 \n",
      "Epoch 106/200 loss -162093.2188 171940.2500 index_layer_3_loss -167.8667 167.8273 lambda_51_loss 5421.1172 3753.6208 lambda_51_loss 35.2373 35.9307 \n",
      "Epoch 107/200 loss -157952.8906 170133.2656 index_layer_3_loss -168.1071 165.5493 lambda_51_loss 9805.8486 4223.0713 lambda_51_loss 34.8345 36.0927 \n",
      "Epoch 108/200 loss -163365.0469 181091.8281 index_layer_3_loss -167.2036 173.5953 lambda_51_loss 3473.9670 7131.1094 lambda_51_loss 36.4594 36.5421 \n",
      "Epoch 109/200 loss -158189.2188 171093.5000 index_layer_3_loss -167.6771 165.8986 lambda_51_loss 9134.9678 4833.7729 lambda_51_loss 35.2953 36.1161 \n",
      "Epoch 110/200 loss -163520.1094 169054.4844 index_layer_3_loss -166.5431 166.4347 lambda_51_loss 2665.8130 2271.3289 lambda_51_loss 35.7171 34.8462 \n"
     ]
    },
    {
     "name": "stdout",
     "output_type": "stream",
     "text": [
      "Epoch 111/200 loss -164358.3125 178569.8281 index_layer_3_loss -167.9655 173.0910 lambda_51_loss 3244.7839 5128.6396 lambda_51_loss 36.2408 35.0202 \n",
      "Epoch 112/200 loss -164226.9219 179891.2656 index_layer_3_loss -167.4109 174.2097 lambda_51_loss 2822.0002 5337.9614 lambda_51_loss 36.1943 34.3648 \n",
      "Epoch 113/200 loss -161559.1094 178848.5625 index_layer_3_loss -167.4840 173.7218 lambda_51_loss 5570.3315 4765.6260 lambda_51_loss 35.4525 36.1178 \n",
      "Epoch 114/200 loss -160294.0156 172219.8125 index_layer_3_loss -167.8660 164.6225 lambda_51_loss 7215.3965 7232.1699 lambda_51_loss 35.6599 36.5163 \n",
      "Epoch 115/200 loss -163332.1094 169194.7031 index_layer_3_loss -167.8466 165.1555 lambda_51_loss 4165.9390 3693.7935 lambda_51_loss 34.8593 34.5390 \n",
      "Epoch 116/200 loss -163029.6719 175547.8438 index_layer_3_loss -167.3091 171.0626 lambda_51_loss 3926.7051 4129.4517 lambda_51_loss 35.2758 35.5764 \n",
      "Epoch 117/200 loss -161748.3750 175223.3750 index_layer_3_loss -167.7494 172.7082 lambda_51_loss 5651.8926 2160.2954 lambda_51_loss 34.9106 35.4878 \n",
      "Epoch 118/200 loss -160250.3750 174075.2344 index_layer_3_loss -167.7930 172.2234 lambda_51_loss 7190.9868 1500.6388 lambda_51_loss 35.1666 35.1237 \n",
      "Epoch 119/200 loss -161330.9531 170423.7500 index_layer_3_loss -167.9523 165.6357 lambda_51_loss 6266.9033 4423.6001 lambda_51_loss 35.4478 36.4429 \n",
      "Epoch 120/200 loss -161365.1094 182762.9844 index_layer_3_loss -167.9891 178.1245 lambda_51_loss 6278.3579 4277.3271 lambda_51_loss 34.5677 36.1185 \n",
      "Epoch 121/200 loss -164960.6562 171315.7812 index_layer_3_loss -167.7346 167.6542 lambda_51_loss 2418.7122 3310.8022 lambda_51_loss 35.5261 35.0831 \n",
      "Epoch 122/200 loss -162687.6719 173906.2344 index_layer_3_loss -167.1464 172.3627 lambda_51_loss 4113.9150 1181.1177 lambda_51_loss 34.4811 36.2355 \n",
      "Epoch 123/200 loss -161851.6094 176430.9375 index_layer_3_loss -168.1299 170.6798 lambda_51_loss 5927.0215 5392.6758 lambda_51_loss 35.1270 35.8476 \n",
      "Epoch 124/200 loss -162978.8906 170742.8906 index_layer_3_loss -168.2574 165.5086 lambda_51_loss 4917.3784 4874.1274 lambda_51_loss 36.1144 36.0176 \n",
      "Epoch 125/200 loss -161948.4062 169115.3125 index_layer_3_loss -167.6936 165.6358 lambda_51_loss 5393.5273 3118.7773 lambda_51_loss 35.1634 36.0784 \n",
      "Epoch 126/200 loss -164162.0469 170023.7812 index_layer_3_loss -168.2417 168.7133 lambda_51_loss 3727.3149 946.9346 lambda_51_loss 35.2305 36.3568 \n",
      "Epoch 127/200 loss -162282.2500 169449.2344 index_layer_3_loss -168.5733 164.4403 lambda_51_loss 5936.8628 4652.8452 lambda_51_loss 35.4218 35.6091 \n",
      "Epoch 128/200 loss -165086.4219 181864.5469 index_layer_3_loss -167.8993 177.4550 lambda_51_loss 2461.4268 4049.7148 lambda_51_loss 35.1430 35.9824 \n",
      "Epoch 129/200 loss -158315.3750 181156.0469 index_layer_3_loss -168.1777 178.2716 lambda_51_loss 9512.4023 2525.8020 lambda_51_loss 34.9964 35.8692 \n",
      "Epoch 130/200 loss -164220.6250 184077.8906 index_layer_3_loss -168.0312 178.1507 lambda_51_loss 3450.2930 5567.4238 lambda_51_loss 36.0263 35.9787 \n",
      "Epoch 131/200 loss -162920.4062 175997.1875 index_layer_3_loss -167.5450 173.8010 lambda_51_loss 4263.2012 1849.4077 lambda_51_loss 36.1423 34.6751 \n",
      "Epoch 132/200 loss -159902.5625 169593.5938 index_layer_3_loss -168.0874 166.7336 lambda_51_loss 7825.5010 2501.8728 lambda_51_loss 35.9321 35.8104 \n",
      "Epoch 133/200 loss -163810.3594 172472.0938 index_layer_3_loss -168.0714 165.7577 lambda_51_loss 3909.7900 6357.8726 lambda_51_loss 35.1221 35.6568 \n",
      "Epoch 134/200 loss -163344.3750 173328.9375 index_layer_3_loss -168.5607 168.5348 lambda_51_loss 4857.5859 4433.0000 lambda_51_loss 35.8692 36.1111 \n",
      "Epoch 135/200 loss -162362.2188 181508.1562 index_layer_3_loss -168.2945 178.6456 lambda_51_loss 5572.9121 2507.7249 lambda_51_loss 35.9366 35.4820 \n",
      "Epoch 136/200 loss -161390.3594 180033.4531 index_layer_3_loss -168.3000 174.5659 lambda_51_loss 6549.1079 5112.1494 lambda_51_loss 36.0553 35.5360 \n",
      "Epoch 137/200 loss -163761.7812 173689.9531 index_layer_3_loss -168.5267 169.2054 lambda_51_loss 4404.4111 4128.7661 lambda_51_loss 36.0489 35.5825 \n",
      "Epoch 138/200 loss -162887.9219 178762.4531 index_layer_3_loss -168.3023 174.5471 lambda_51_loss 5055.5483 3854.3218 lambda_51_loss 35.8821 36.1027 \n",
      "Epoch 139/200 loss -165173.5781 170036.8438 index_layer_3_loss -168.6598 165.5753 lambda_51_loss 3130.0098 4116.3047 lambda_51_loss 35.6239 34.5215 \n",
      "Epoch 140/200 loss -165200.0781 179384.7500 index_layer_3_loss -168.2869 176.1235 lambda_51_loss 2733.3979 2901.3779 lambda_51_loss 35.3454 35.9902 \n",
      "Epoch 141/200 loss -161347.8594 175402.0156 index_layer_3_loss -168.2383 170.3047 lambda_51_loss 6522.1948 4737.9512 lambda_51_loss 36.8261 35.9409 \n",
      "Epoch 142/200 loss -162700.8438 175815.6250 index_layer_3_loss -168.3075 169.3827 lambda_51_loss 5250.4116 6062.8120 lambda_51_loss 35.6298 37.0081 \n",
      "Epoch 143/200 loss -163731.7344 180241.6094 index_layer_3_loss -168.3227 177.8780 lambda_51_loss 4237.8940 1993.3265 lambda_51_loss 35.3100 37.0317 \n",
      "Epoch 144/200 loss -163610.5938 182416.7188 index_layer_3_loss -168.7038 177.5744 lambda_51_loss 4750.8730 4487.0615 lambda_51_loss 34.2301 35.5277 \n",
      "Epoch 145/200 loss -163608.8750 179818.2500 index_layer_3_loss -168.3870 178.1786 lambda_51_loss 4422.6880 1291.2216 lambda_51_loss 35.5459 34.8369 \n",
      "Epoch 146/200 loss -164501.3594 190867.7500 index_layer_3_loss -168.2729 182.4527 lambda_51_loss 3400.9060 8060.8257 lambda_51_loss 37.0610 35.4233 \n",
      "Epoch 147/200 loss -164951.2031 182733.6094 index_layer_3_loss -169.2817 178.3700 lambda_51_loss 3974.0525 4006.9514 lambda_51_loss 35.6416 35.6658 \n",
      "Epoch 148/200 loss -164710.0000 181317.5938 index_layer_3_loss -167.7424 177.0894 lambda_51_loss 2670.4585 3880.8086 lambda_51_loss 36.1945 34.7337 \n",
      "Epoch 149/200 loss -165651.7969 177865.8281 index_layer_3_loss -167.7899 173.1900 lambda_51_loss 1778.5284 4313.2993 lambda_51_loss 35.9529 36.2514 \n",
      "Epoch 150/200 loss -166600.1719 182516.5469 index_layer_3_loss -168.9128 178.0709 lambda_51_loss 1958.7589 4083.5461 lambda_51_loss 35.3871 36.2065 \n",
      "Epoch 151/200 loss -162787.8750 180465.3125 index_layer_3_loss -168.5677 177.0089 lambda_51_loss 5423.1782 3097.5728 lambda_51_loss 35.6629 35.8861 \n",
      "Epoch 152/200 loss -162940.3438 184283.4844 index_layer_3_loss -168.3718 180.1990 lambda_51_loss 5070.8755 3721.8506 lambda_51_loss 36.0606 36.2669 \n",
      "Epoch 153/200 loss -166174.9219 178109.9688 index_layer_3_loss -168.6200 173.5139 lambda_51_loss 2076.7998 4232.3281 lambda_51_loss 36.8289 36.3703 \n",
      "Epoch 154/200 loss -164414.8438 173289.0469 index_layer_3_loss -168.9970 169.2269 lambda_51_loss 4222.8169 3699.0273 lambda_51_loss 35.9308 36.3148 \n",
      "Epoch 155/200 loss -163440.7969 169331.6250 index_layer_3_loss -168.4303 167.0735 lambda_51_loss 4637.5586 1901.8225 lambda_51_loss 35.1957 35.6260 \n",
      "Epoch 156/200 loss -165775.4688 175255.1094 index_layer_3_loss -169.4527 171.8635 lambda_51_loss 3321.9475 3031.0005 lambda_51_loss 35.5266 36.0608 \n",
      "Epoch 157/200 loss -163476.1562 180565.3906 index_layer_3_loss -168.7428 177.4313 lambda_51_loss 4909.5024 2776.3589 lambda_51_loss 35.7182 35.7705 \n",
      "Epoch 158/200 loss -163842.1250 184286.9688 index_layer_3_loss -168.1229 180.7858 lambda_51_loss 3917.9241 3145.2825 lambda_51_loss 36.2872 35.5927 \n",
      "Epoch 159/200 loss -162833.1562 179410.5781 index_layer_3_loss -167.6692 175.4946 lambda_51_loss 4482.7275 3557.7563 lambda_51_loss 35.3262 35.8257 \n",
      "Epoch 160/200 loss -165279.4062 185426.6562 index_layer_3_loss -168.5199 180.4875 lambda_51_loss 2879.3323 4582.9146 lambda_51_loss 36.1156 35.6193 \n",
      "Epoch 161/200 loss -164508.3438 183055.2188 index_layer_3_loss -169.1699 180.9625 lambda_51_loss 4301.8369 1722.5901 lambda_51_loss 35.9693 37.0094 \n",
      "Epoch 162/200 loss -162130.3438 181030.4062 index_layer_3_loss -168.5243 178.1972 lambda_51_loss 6035.5215 2473.0581 lambda_51_loss 35.8456 36.0125 \n",
      "Epoch 163/200 loss -165052.2969 179767.7188 index_layer_3_loss -169.2203 177.0126 lambda_51_loss 3811.3096 2399.3384 lambda_51_loss 35.6739 35.5774 \n",
      "Epoch 164/200 loss -167248.9062 180991.2969 index_layer_3_loss -168.7396 177.0146 lambda_51_loss 1123.2866 3613.8240 lambda_51_loss 36.7460 36.2831 \n",
      "Epoch 165/200 loss -164164.6250 184233.8281 index_layer_3_loss -168.4801 178.0007 lambda_51_loss 3963.7576 5872.2598 lambda_51_loss 35.1701 36.0873 \n"
     ]
    },
    {
     "name": "stdout",
     "output_type": "stream",
     "text": [
      "Epoch 166/200 loss -167963.3281 179320.7812 index_layer_3_loss -169.0862 173.9403 lambda_51_loss 762.3093 5025.8164 lambda_51_loss 36.0516 35.4651 \n",
      "Epoch 167/200 loss -162542.9062 176119.2188 index_layer_3_loss -168.5345 172.4451 lambda_51_loss 5632.1733 3321.4539 lambda_51_loss 35.9418 35.2682 \n",
      "Epoch 168/200 loss -165787.0781 173542.9375 index_layer_3_loss -168.6812 170.1142 lambda_51_loss 2520.1135 3056.2029 lambda_51_loss 37.3993 37.2542 \n",
      "Epoch 169/200 loss -163627.2188 176340.5000 index_layer_3_loss -168.4941 173.9967 lambda_51_loss 4498.9971 1983.6046 lambda_51_loss 36.7919 36.0226 \n",
      "Epoch 170/200 loss -165978.4375 180303.2188 index_layer_3_loss -169.5715 178.0770 lambda_51_loss 3232.3335 1877.0470 lambda_51_loss 36.0681 34.9166 \n",
      "Epoch 171/200 loss -166584.8438 183751.1875 index_layer_3_loss -169.1970 179.9877 lambda_51_loss 2248.2720 3406.8870 lambda_51_loss 36.3891 35.6633 \n",
      "Epoch 172/200 loss -163015.6094 178363.8750 index_layer_3_loss -168.8881 175.4252 lambda_51_loss 5510.4937 2572.8274 lambda_51_loss 36.1983 36.5863 \n",
      "Epoch 173/200 loss -163582.0938 182656.6094 index_layer_3_loss -168.6668 176.1929 lambda_51_loss 4713.4604 6101.8789 lambda_51_loss 37.1232 36.1816 \n",
      "Epoch 174/200 loss -162870.9219 174639.5156 index_layer_3_loss -168.7517 170.5015 lambda_51_loss 5512.8774 3773.0166 lambda_51_loss 36.7896 36.5033 \n",
      "Epoch 175/200 loss -163561.9531 185354.2812 index_layer_3_loss -168.8354 178.4772 lambda_51_loss 4909.3789 6525.0698 lambda_51_loss 36.4060 35.2009 \n",
      "Epoch 176/200 loss -164887.4062 186616.7188 index_layer_3_loss -169.4306 183.6064 lambda_51_loss 4180.2559 2653.3206 lambda_51_loss 36.2939 35.6955 \n",
      "Epoch 177/200 loss -165593.3281 184425.2500 index_layer_3_loss -169.2005 181.0661 lambda_51_loss 3253.1082 2995.7122 lambda_51_loss 35.4011 36.3472 \n",
      "Epoch 178/200 loss -164306.8281 170649.6562 index_layer_3_loss -168.9373 167.8124 lambda_51_loss 4266.5869 2486.3430 lambda_51_loss 36.3894 35.0938 \n",
      "Epoch 179/200 loss -167204.3438 182182.0469 index_layer_3_loss -168.4276 178.9912 lambda_51_loss 848.7364 2825.0896 lambda_51_loss 37.4568 36.5724 \n",
      "Epoch 180/200 loss -165371.8594 186549.4688 index_layer_3_loss -168.0976 183.9679 lambda_51_loss 2365.8220 2221.9937 lambda_51_loss 35.9902 35.9598 \n",
      "Epoch 181/200 loss -165757.3750 184385.5469 index_layer_3_loss -169.5504 182.2927 lambda_51_loss 3425.6506 1729.9386 lambda_51_loss 36.7367 36.2923 \n",
      "Epoch 182/200 loss -162104.0000 179560.2656 index_layer_3_loss -169.0688 177.4133 lambda_51_loss 6603.8848 1792.5887 lambda_51_loss 36.0857 35.4405 \n",
      "Epoch 183/200 loss -166769.0781 182012.5781 index_layer_3_loss -169.8000 178.7485 lambda_51_loss 2667.8013 2899.5867 lambda_51_loss 36.3104 36.4511 \n",
      "Epoch 184/200 loss -166483.0469 179181.5312 index_layer_3_loss -168.6698 176.9474 lambda_51_loss 1839.9340 1877.5698 lambda_51_loss 34.6759 35.6573 \n",
      "Epoch 185/200 loss -167380.2812 175424.5156 index_layer_3_loss -169.0100 171.1483 lambda_51_loss 1274.3324 3917.6807 lambda_51_loss 35.5362 35.8507 \n",
      "Epoch 186/200 loss -166875.1562 167536.6719 index_layer_3_loss -168.9726 165.2900 lambda_51_loss 1728.4230 1875.3358 lambda_51_loss 36.9012 37.1373 \n",
      "Epoch 187/200 loss -167728.5781 178764.6406 index_layer_3_loss -169.3914 174.9761 lambda_51_loss 1299.8643 3423.0696 lambda_51_loss 36.2990 36.5515 \n",
      "Epoch 188/200 loss -165669.7188 185126.2656 index_layer_3_loss -169.2403 180.9472 lambda_51_loss 3209.2754 3821.6885 lambda_51_loss 36.1317 35.7429 \n",
      "Epoch 189/200 loss -166963.5156 177273.5781 index_layer_3_loss -168.7529 175.0481 lambda_51_loss 1417.8834 1875.3204 lambda_51_loss 37.1475 35.0190 \n",
      "Epoch 190/200 loss -166798.9375 176013.4375 index_layer_3_loss -169.0621 174.7772 lambda_51_loss 1893.3197 857.0571 lambda_51_loss 36.9882 37.9217 \n",
      "Epoch 191/200 loss -163226.0469 177668.8594 index_layer_3_loss -168.7394 176.1957 lambda_51_loss 5156.4429 1119.8771 lambda_51_loss 35.6956 35.3334 \n",
      "Epoch 192/200 loss -166529.6250 187500.1562 index_layer_3_loss -169.1194 185.8306 lambda_51_loss 2222.2056 1307.3462 lambda_51_loss 36.7553 36.2190 \n",
      "Epoch 193/200 loss -166452.4219 183668.0156 index_layer_3_loss -169.0428 179.2221 lambda_51_loss 2223.6548 4086.9314 lambda_51_loss 36.6755 35.8983 \n",
      "Epoch 194/200 loss -166162.7500 183669.8438 index_layer_3_loss -168.4061 180.6409 lambda_51_loss 1885.0398 2664.3782 lambda_51_loss 35.8265 36.4539 \n",
      "Epoch 195/200 loss -166776.8281 178318.2812 index_layer_3_loss -169.0680 175.8692 lambda_51_loss 1929.2095 2082.1648 lambda_51_loss 36.2005 36.6908 \n",
      "Epoch 196/200 loss -165200.4844 190426.1875 index_layer_3_loss -169.6132 186.0099 lambda_51_loss 4042.7866 4059.9370 lambda_51_loss 36.9919 35.6336 \n",
      "Epoch 197/200 loss -166838.8125 179161.6250 index_layer_3_loss -168.8692 174.7469 lambda_51_loss 1670.9005 4051.5979 lambda_51_loss 35.9433 36.3137 \n",
      "Epoch 198/200 loss -167662.3750 181171.5938 index_layer_3_loss -169.3567 178.6390 lambda_51_loss 1331.3387 2166.7119 lambda_51_loss 36.2982 36.5908 \n",
      "Epoch 199/200 loss -164210.7812 182023.1406 index_layer_3_loss -169.1942 177.7184 lambda_51_loss 4622.3701 3947.9785 lambda_51_loss 36.1084 35.6758 \n",
      "[100, 0.0001, 1000000.0, 300, 0.0, 10.0]\n",
      "Epoch 0/100 loss -47333.7891 59982.6211 index_layer_3_loss -169.1134 188.8588 lambda_51_loss 3039.2673 2968.4976 lambda_51_loss 36.0962 35.6488 \n",
      "Epoch 1/100 loss -49794.1289 58255.6172 index_layer_3_loss -169.5075 187.3943 lambda_51_loss 697.2861 1666.2972 lambda_51_loss 36.0848 37.1015 \n",
      "Epoch 2/100 loss -48188.8555 61023.9414 index_layer_3_loss -169.1699 193.3762 lambda_51_loss 2201.9651 2653.9463 lambda_51_loss 36.0135 35.7141 \n",
      "Epoch 3/100 loss -48084.2930 60429.9219 index_layer_3_loss -168.5572 191.3850 lambda_51_loss 2126.0349 2644.4075 lambda_51_loss 35.6843 37.0015 \n",
      "Epoch 4/100 loss -48464.4883 57840.3984 index_layer_3_loss -169.0648 188.4477 lambda_51_loss 1880.3621 954.7998 lambda_51_loss 37.4591 35.1291 \n",
      "Epoch 5/100 loss -46323.3633 60705.6211 index_layer_3_loss -169.0075 199.3020 lambda_51_loss 4004.5015 550.2457 lambda_51_loss 37.4374 36.4779 \n",
      "Epoch 6/100 loss -49254.4531 61289.2969 index_layer_3_loss -167.7966 200.2939 lambda_51_loss 723.7406 843.9796 lambda_51_loss 36.0794 35.7157 \n",
      "Epoch 7/100 loss -47583.7031 59847.8555 index_layer_3_loss -167.9234 195.2327 lambda_51_loss 2419.7632 920.8173 lambda_51_loss 37.3546 35.7227 \n",
      "Epoch 8/100 loss -49499.1055 64085.1172 index_layer_3_loss -167.8266 201.3356 lambda_51_loss 492.1420 3313.5208 lambda_51_loss 35.6738 37.0922 \n",
      "Epoch 9/100 loss -49746.5898 58801.1680 index_layer_3_loss -168.7953 189.1178 lambda_51_loss 533.5712 1694.0466 lambda_51_loss 35.8446 37.1778 \n",
      "Epoch 10/100 loss -49212.9805 62827.1094 index_layer_3_loss -168.8261 199.0350 lambda_51_loss 1078.2495 2761.4795 lambda_51_loss 35.6603 35.5114 \n",
      "Epoch 11/100 loss -48842.2031 60860.4805 index_layer_3_loss -169.0516 199.7031 lambda_51_loss 1517.2748 591.3276 lambda_51_loss 35.5998 35.8231 \n",
      "Epoch 12/100 loss -49221.7383 64111.8047 index_layer_3_loss -168.8838 203.2164 lambda_51_loss 1083.4972 2780.6995 lambda_51_loss 35.9916 36.6200 \n",
      "Epoch 13/100 loss -48445.2773 61514.4570 index_layer_3_loss -168.1551 198.7418 lambda_51_loss 1624.6620 1522.4176 lambda_51_loss 37.6603 36.9495 \n",
      "Epoch 14/100 loss -49071.2891 65102.1172 index_layer_3_loss -169.9145 209.6888 lambda_51_loss 1512.3997 1825.0448 lambda_51_loss 39.0668 37.0421 \n",
      "Epoch 15/100 loss -50010.3828 61173.0898 index_layer_3_loss -169.7403 196.8615 lambda_51_loss 549.2072 1753.3560 lambda_51_loss 36.2510 36.1274 \n",
      "Epoch 16/100 loss -49625.8789 60824.7734 index_layer_3_loss -168.4897 199.8682 lambda_51_loss 554.1009 498.9010 lambda_51_loss 36.6921 36.5415 \n",
      "Epoch 17/100 loss -49791.3945 62914.2812 index_layer_3_loss -169.6757 206.5536 lambda_51_loss 752.3676 579.0931 lambda_51_loss 35.8948 36.9123 \n",
      "Epoch 18/100 loss -47163.8438 64812.9844 index_layer_3_loss -168.9639 206.3231 lambda_51_loss 3158.0774 2536.1274 lambda_51_loss 36.7241 37.9939 \n",
      "Epoch 19/100 loss -49806.1719 62671.5039 index_layer_3_loss -168.6852 206.3838 lambda_51_loss 436.8489 387.3375 lambda_51_loss 36.2537 36.9037 \n",
      "Epoch 20/100 loss -49709.5352 63548.3242 index_layer_3_loss -168.5426 205.0502 lambda_51_loss 493.9676 1670.4163 lambda_51_loss 35.9263 36.2850 \n",
      "Epoch 21/100 loss -49701.6367 65609.8906 index_layer_3_loss -168.8649 215.9127 lambda_51_loss 580.3104 468.0998 lambda_51_loss 37.7520 36.7982 \n"
     ]
    },
    {
     "name": "stdout",
     "output_type": "stream",
     "text": [
      "Epoch 22/100 loss -49870.4492 66208.0391 index_layer_3_loss -168.9161 218.0545 lambda_51_loss 413.0718 422.4775 lambda_51_loss 39.1311 36.9204 \n",
      "Epoch 23/100 loss -49400.8594 64359.9375 index_layer_3_loss -168.6454 211.8510 lambda_51_loss 826.4311 446.5070 lambda_51_loss 36.6340 35.8136 \n",
      "Epoch 24/100 loss -48953.0625 61684.5430 index_layer_3_loss -169.0006 203.1447 lambda_51_loss 1378.6421 365.9942 lambda_51_loss 36.8463 37.5152 \n",
      "Epoch 25/100 loss -50010.1797 62856.5352 index_layer_3_loss -169.6740 206.5868 lambda_51_loss 518.1067 520.8607 lambda_51_loss 37.3907 35.9639 \n",
      "Epoch 26/100 loss -49857.1719 62834.3555 index_layer_3_loss -169.0306 205.1218 lambda_51_loss 493.1407 923.0391 lambda_51_loss 35.8873 37.4766 \n",
      "Epoch 27/100 loss -50335.5859 62345.9570 index_layer_3_loss -170.4200 205.1774 lambda_51_loss 420.0804 420.7399 lambda_51_loss 37.0344 37.2001 \n",
      "Epoch 28/100 loss -49073.4492 63115.1953 index_layer_3_loss -169.2574 204.5276 lambda_51_loss 1340.7101 1390.5690 lambda_51_loss 36.3066 36.6342 \n",
      "Epoch 29/100 loss -50194.1641 62052.3672 index_layer_3_loss -169.7391 204.1598 lambda_51_loss 358.9726 437.0331 lambda_51_loss 36.8587 36.7391 \n",
      "Epoch 30/100 loss -50231.1328 61869.8008 index_layer_3_loss -170.2468 203.5825 lambda_51_loss 473.5718 430.4683 lambda_51_loss 36.9329 36.4584 \n",
      "Epoch 31/100 loss -49987.1953 64347.9062 index_layer_3_loss -169.1569 206.8847 lambda_51_loss 396.3523 1903.9559 lambda_51_loss 36.3524 37.8543 \n",
      "Epoch 32/100 loss -50143.0547 61013.5430 index_layer_3_loss -169.8856 199.3968 lambda_51_loss 453.8569 813.8957 lambda_51_loss 36.8757 38.0617 \n",
      "Epoch 33/100 loss -49959.1992 60450.8008 index_layer_3_loss -169.3290 195.2813 lambda_51_loss 471.3306 1505.8518 lambda_51_loss 36.8175 36.0556 \n",
      "Epoch 34/100 loss -49022.4609 61720.0508 index_layer_3_loss -169.5128 201.7221 lambda_51_loss 1458.3218 840.8069 lambda_51_loss 37.3054 36.2605 \n",
      "Epoch 35/100 loss -50180.7383 58549.7305 index_layer_3_loss -169.9043 192.2330 lambda_51_loss 431.9480 496.8069 lambda_51_loss 35.8606 38.3008 \n",
      "Epoch 36/100 loss -50133.5586 58873.5586 index_layer_3_loss -169.6577 193.2146 lambda_51_loss 400.2907 547.5242 lambda_51_loss 36.3461 36.1639 \n",
      "Epoch 37/100 loss -50237.5586 60760.6445 index_layer_3_loss -170.1327 199.9658 lambda_51_loss 432.9283 403.8806 lambda_51_loss 36.9319 36.7027 \n",
      "Epoch 38/100 loss -48390.1055 60188.4961 index_layer_3_loss -170.5033 196.9685 lambda_51_loss 2390.5674 738.9570 lambda_51_loss 37.0305 35.8994 \n",
      "Epoch 39/100 loss -49373.7969 61228.9922 index_layer_3_loss -170.3097 201.1017 lambda_51_loss 1346.4290 535.0157 lambda_51_loss 37.2681 36.3455 \n",
      "Epoch 40/100 loss -50181.9102 59986.5703 index_layer_3_loss -170.0540 194.1630 lambda_51_loss 465.8836 1374.6598 lambda_51_loss 36.8416 36.3009 \n",
      "Epoch 41/100 loss -50391.4414 59400.2852 index_layer_3_loss -170.3985 191.6095 lambda_51_loss 376.0784 1548.9900 lambda_51_loss 35.2041 36.8440 \n",
      "Epoch 42/100 loss -50198.2500 60915.9648 index_layer_3_loss -169.8717 198.3279 lambda_51_loss 404.2614 1050.1694 lambda_51_loss 35.9014 36.7423 \n",
      "Epoch 43/100 loss -50315.5078 60046.1484 index_layer_3_loss -170.4223 195.8502 lambda_51_loss 434.0991 920.4308 lambda_51_loss 37.7092 37.0659 \n",
      "Epoch 44/100 loss -50101.8516 61041.4609 index_layer_3_loss -170.1549 197.5760 lambda_51_loss 586.6409 1415.4369 lambda_51_loss 35.7973 35.3209 \n",
      "Epoch 45/100 loss -50461.9883 65344.0117 index_layer_3_loss -170.8397 208.2345 lambda_51_loss 421.2735 2516.9919 lambda_51_loss 36.8655 35.6657 \n",
      "Epoch 46/100 loss -50369.0430 60812.5234 index_layer_3_loss -170.4044 199.7977 lambda_51_loss 387.4581 504.7223 lambda_51_loss 36.4836 36.8488 \n",
      "Epoch 47/100 loss -50257.3594 61106.2344 index_layer_3_loss -171.8022 200.7957 lambda_51_loss 932.3907 496.6399 lambda_51_loss 35.0908 37.0889 \n",
      "Epoch 48/100 loss -49623.9023 60313.5391 index_layer_3_loss -171.0807 197.2294 lambda_51_loss 1331.0840 774.5030 lambda_51_loss 36.9213 37.0207 \n",
      "Epoch 49/100 loss -50520.9570 64286.3984 index_layer_3_loss -170.8772 211.5731 lambda_51_loss 381.2959 442.0113 lambda_51_loss 36.0902 37.2469 \n",
      "Epoch 50/100 loss -50472.5117 62674.5156 index_layer_3_loss -171.1038 204.9770 lambda_51_loss 492.5665 807.0471 lambda_51_loss 36.6060 37.4383 \n",
      "Epoch 51/100 loss -50324.7148 63639.2969 index_layer_3_loss -170.3969 209.1105 lambda_51_loss 415.5434 522.9188 lambda_51_loss 37.8796 38.3216 \n",
      "Epoch 52/100 loss -50107.3789 63431.3984 index_layer_3_loss -170.2832 208.6907 lambda_51_loss 600.4462 438.1060 lambda_51_loss 37.7141 38.6072 \n",
      "Epoch 53/100 loss -50287.3711 62991.0039 index_layer_3_loss -170.1995 203.4699 lambda_51_loss 398.3414 1567.0999 lambda_51_loss 37.4134 38.2936 \n",
      "Epoch 54/100 loss -50387.1523 61572.2578 index_layer_3_loss -170.5098 202.7030 lambda_51_loss 387.1425 378.9580 lambda_51_loss 37.8640 38.2385 \n",
      "Epoch 55/100 loss -50123.5508 61730.2539 index_layer_3_loss -169.7762 203.1290 lambda_51_loss 422.8318 408.6334 lambda_51_loss 38.6480 38.2905 \n",
      "Epoch 56/100 loss -50070.3359 59944.7344 index_layer_3_loss -170.8552 196.8354 lambda_51_loss 797.5189 515.3720 lambda_51_loss 38.8712 37.8743 \n",
      "Epoch 57/100 loss -50143.6484 59574.3359 index_layer_3_loss -170.8414 195.9187 lambda_51_loss 723.6131 418.4047 lambda_51_loss 38.5143 38.0332 \n",
      "Epoch 58/100 loss -49611.5391 59624.6680 index_layer_3_loss -169.5296 195.7983 lambda_51_loss 859.4418 502.4547 lambda_51_loss 38.7915 38.2715 \n",
      "Epoch 59/100 loss -50404.9062 61685.0664 index_layer_3_loss -170.5597 201.5497 lambda_51_loss 375.4808 846.3062 lambda_51_loss 38.7532 37.3838 \n",
      "Epoch 60/100 loss -49325.2500 59773.9961 index_layer_3_loss -170.2555 196.6684 lambda_51_loss 1368.6249 385.3176 lambda_51_loss 38.2767 38.8151 \n",
      "Epoch 61/100 loss -50272.9414 61952.5234 index_layer_3_loss -170.4105 203.4772 lambda_51_loss 472.2390 517.3463 lambda_51_loss 37.7958 39.2021 \n",
      "Epoch 62/100 loss -49726.5039 60611.8164 index_layer_3_loss -169.4866 199.5151 lambda_51_loss 742.7560 370.0937 lambda_51_loss 37.6723 38.7184 \n",
      "Epoch 63/100 loss -50387.1133 60300.9258 index_layer_3_loss -170.9106 198.4548 lambda_51_loss 494.7498 392.1180 lambda_51_loss 39.1319 37.2369 \n",
      "Epoch 64/100 loss -50024.9727 61927.3320 index_layer_3_loss -169.7470 203.4315 lambda_51_loss 520.1586 524.0244 lambda_51_loss 37.8968 37.3858 \n",
      "Epoch 65/100 loss -50109.4180 62818.5977 index_layer_3_loss -169.6802 206.1320 lambda_51_loss 411.1005 610.9757 lambda_51_loss 38.3548 36.8018 \n",
      "Epoch 66/100 loss -50327.4062 61450.8008 index_layer_3_loss -170.3163 201.5472 lambda_51_loss 396.7386 612.9693 lambda_51_loss 37.0753 37.3661 \n",
      "Epoch 67/100 loss -50183.3164 60585.8125 index_layer_3_loss -169.8566 199.3359 lambda_51_loss 407.0262 409.8441 lambda_51_loss 36.6623 37.5195 \n",
      "Epoch 68/100 loss -50165.0195 58270.8164 index_layer_3_loss -170.0370 191.3755 lambda_51_loss 479.3984 485.7805 lambda_51_loss 36.6691 37.2388 \n",
      "Epoch 69/100 loss -49264.2656 60489.3828 index_layer_3_loss -169.9402 199.2414 lambda_51_loss 1342.0913 358.2266 lambda_51_loss 37.5699 35.8735 \n",
      "Epoch 70/100 loss -50133.6211 61134.5898 index_layer_3_loss -170.1243 201.2238 lambda_51_loss 524.5161 393.3972 lambda_51_loss 37.9150 37.4049 \n",
      "Epoch 71/100 loss -50540.6602 60797.8047 index_layer_3_loss -171.0199 199.1250 lambda_51_loss 395.9424 693.6485 lambda_51_loss 36.9372 36.6661 \n",
      "Epoch 72/100 loss -50425.5742 58392.4805 index_layer_3_loss -170.5261 191.7815 lambda_51_loss 361.0095 486.2430 lambda_51_loss 37.1239 37.1778 \n",
      "Epoch 73/100 loss -49607.4102 61283.2344 index_layer_3_loss -170.3177 201.6841 lambda_51_loss 1107.5144 404.0657 lambda_51_loss 38.0380 37.3938 \n",
      "Epoch 74/100 loss -50409.9414 59994.8320 index_layer_3_loss -170.5307 197.5257 lambda_51_loss 381.8855 367.3272 lambda_51_loss 36.7379 36.9804 \n",
      "Epoch 75/100 loss -49185.9688 62015.2266 index_layer_3_loss -169.7476 204.2402 lambda_51_loss 1360.0543 369.0056 lambda_51_loss 37.8260 37.4162 \n",
      "Epoch 76/100 loss -50387.6445 59988.3164 index_layer_3_loss -170.5139 195.3307 lambda_51_loss 397.5324 1027.6825 lambda_51_loss 36.8980 36.1413 \n",
      "Epoch 77/100 loss -50213.2266 59299.3906 index_layer_3_loss -170.0552 191.8553 lambda_51_loss 437.0308 1376.8668 lambda_51_loss 36.6296 36.5917 \n",
      "Epoch 78/100 loss -50114.4219 60418.4258 index_layer_3_loss -169.8764 198.6898 lambda_51_loss 476.3040 438.9201 lambda_51_loss 37.2197 37.2556 \n"
     ]
    },
    {
     "name": "stdout",
     "output_type": "stream",
     "text": [
      "Epoch 79/100 loss -50199.4219 58878.2031 index_layer_3_loss -169.9160 193.6289 lambda_51_loss 417.4618 421.6216 lambda_51_loss 35.7920 36.7902 \n",
      "Epoch 80/100 loss -50480.2812 58373.7734 index_layer_3_loss -170.9871 192.0824 lambda_51_loss 456.7448 373.6610 lambda_51_loss 35.9111 37.5403 \n",
      "Epoch 81/100 loss -50375.3672 60001.1758 index_layer_3_loss -170.5118 197.2299 lambda_51_loss 408.4025 479.2369 lambda_51_loss 36.9783 35.2971 \n",
      "Epoch 82/100 loss -50098.8594 58983.5312 index_layer_3_loss -169.6182 194.1830 lambda_51_loss 416.0826 372.6664 lambda_51_loss 37.0522 35.5960 \n",
      "Epoch 83/100 loss -50355.0273 60557.0195 index_layer_3_loss -170.4214 199.4230 lambda_51_loss 408.8024 375.0529 lambda_51_loss 36.2601 35.5049 \n",
      "Epoch 84/100 loss -49536.7773 59901.8477 index_layer_3_loss -171.0976 196.7995 lambda_51_loss 1428.6903 507.7522 lambda_51_loss 36.3802 35.4250 \n",
      "Epoch 85/100 loss -50294.2812 60792.1953 index_layer_3_loss -170.1530 200.1628 lambda_51_loss 394.5836 381.3525 lambda_51_loss 35.7027 36.2003 \n",
      "Epoch 86/100 loss -50386.3438 60769.1367 index_layer_3_loss -170.9807 200.0225 lambda_51_loss 553.3496 393.7780 lambda_51_loss 35.4531 36.8617 \n",
      "Epoch 87/100 loss -50469.3477 60196.8516 index_layer_3_loss -170.7592 198.0371 lambda_51_loss 402.6528 420.5941 lambda_51_loss 35.5749 36.5127 \n",
      "Epoch 88/100 loss -49718.8672 62412.9297 index_layer_3_loss -171.5535 204.9244 lambda_51_loss 1387.1045 576.0040 lambda_51_loss 36.0089 35.9617 \n",
      "Epoch 89/100 loss -50591.8906 58456.2969 index_layer_3_loss -171.1455 192.3746 lambda_51_loss 384.8841 384.4875 lambda_51_loss 36.6872 35.9423 \n",
      "Epoch 90/100 loss -50557.3477 60464.9219 index_layer_3_loss -171.1757 198.9384 lambda_51_loss 436.9933 417.7908 lambda_51_loss 35.8377 36.5604 \n",
      "Epoch 91/100 loss -50660.5156 59965.7070 index_layer_3_loss -171.3758 196.7783 lambda_51_loss 385.0002 577.3918 lambda_51_loss 36.7220 35.4840 \n",
      "Epoch 92/100 loss -50829.0000 59214.2891 index_layer_3_loss -172.1041 191.4580 lambda_51_loss 436.1609 1423.4803 lambda_51_loss 36.6076 35.3401 \n",
      "Epoch 93/100 loss -50731.7227 58367.3477 index_layer_3_loss -171.7944 191.9810 lambda_51_loss 448.4732 410.1003 lambda_51_loss 35.8117 36.2931 \n",
      "Epoch 94/100 loss -49824.9375 59924.5781 index_layer_3_loss -170.7819 197.2508 lambda_51_loss 1056.2509 387.5964 lambda_51_loss 35.3382 36.1748 \n",
      "Epoch 95/100 loss -49543.6445 58075.2070 index_layer_3_loss -171.1758 190.7115 lambda_51_loss 1446.1138 499.1644 lambda_51_loss 36.2977 36.2593 \n",
      "Epoch 96/100 loss -50254.9297 59885.6055 index_layer_3_loss -171.5400 195.8992 lambda_51_loss 840.3015 757.8985 lambda_51_loss 36.6764 35.7941 \n",
      "Epoch 97/100 loss -49768.9062 59054.9375 index_layer_3_loss -171.8251 193.8893 lambda_51_loss 1424.9355 532.3707 lambda_51_loss 35.3681 35.5774 \n",
      "Epoch 98/100 loss -50641.6758 58156.4375 index_layer_3_loss -171.2443 191.3266 lambda_51_loss 370.8031 402.0786 lambda_51_loss 36.0804 35.6396 \n",
      "Epoch 99/100 loss -50113.9141 59785.2773 index_layer_3_loss -171.1755 196.3689 lambda_51_loss 871.1940 517.0626 lambda_51_loss 36.7535 35.7550 \n",
      "[100, 0.0001, 100000.0, 100, 0.0, 10.0]\n",
      "Epoch 0/100 loss -16255.6455 20207.4531 index_layer_3_loss -170.0556 194.3806 lambda_51_loss 389.1963 406.6475 lambda_51_loss 36.0720 36.2749 \n",
      "Epoch 1/100 loss -16310.9404 20950.6641 index_layer_3_loss -172.4388 201.6515 lambda_51_loss 587.8923 438.9437 lambda_51_loss 34.5046 34.6574 \n",
      "Epoch 2/100 loss -16209.8730 20147.7480 index_layer_3_loss -171.8980 192.9116 lambda_51_loss 615.7424 512.4606 lambda_51_loss 36.4182 34.4131 \n",
      "Epoch 3/100 loss -16565.0117 19657.8086 index_layer_3_loss -172.8707 189.0958 lambda_51_loss 376.0694 403.0580 lambda_51_loss 34.5984 34.5167 \n",
      "Epoch 4/100 loss -16439.2422 21192.5078 index_layer_3_loss -171.6871 203.6121 lambda_51_loss 382.9982 483.9667 lambda_51_loss 34.6471 34.7330 \n",
      "Epoch 5/100 loss -16242.0225 20647.5742 index_layer_3_loss -171.8993 199.0824 lambda_51_loss 601.9505 387.9129 lambda_51_loss 34.5958 35.1420 \n",
      "Epoch 6/100 loss -16371.6543 20599.8574 index_layer_3_loss -173.1283 195.6412 lambda_51_loss 574.8027 684.9199 lambda_51_loss 36.6375 35.0822 \n",
      "Epoch 7/100 loss -16441.2578 20791.2812 index_layer_3_loss -171.8544 199.3267 lambda_51_loss 387.3661 502.6011 lambda_51_loss 35.6822 35.6013 \n",
      "Epoch 8/100 loss -16337.4541 21137.6523 index_layer_3_loss -171.8963 203.7700 lambda_51_loss 492.6430 396.9676 lambda_51_loss 35.9532 36.3686 \n",
      "Epoch 9/100 loss -16322.0264 22052.1348 index_layer_3_loss -172.6547 210.8766 lambda_51_loss 586.9247 620.4847 lambda_51_loss 35.6525 34.3986 \n",
      "Epoch 10/100 loss -16550.8770 21658.7832 index_layer_3_loss -172.8854 208.8685 lambda_51_loss 377.5085 420.9092 lambda_51_loss 36.0157 35.1018 \n",
      "Epoch 11/100 loss -16429.6250 21786.8184 index_layer_3_loss -172.9694 208.7760 lambda_51_loss 502.9272 565.9722 lambda_51_loss 36.4382 34.3249 \n",
      "Epoch 12/100 loss -16349.6387 21965.5078 index_layer_3_loss -171.9496 210.3341 lambda_51_loss 488.0920 590.5225 lambda_51_loss 35.7230 34.1570 \n",
      "Epoch 13/100 loss -16443.5566 22960.8828 index_layer_3_loss -172.6564 219.3367 lambda_51_loss 469.1090 687.6523 lambda_51_loss 35.2974 33.9562 \n",
      "Epoch 14/100 loss -16580.6836 22678.1367 index_layer_3_loss -173.3241 219.6458 lambda_51_loss 393.8790 365.4714 lambda_51_loss 35.7850 34.8089 \n",
      "Epoch 15/100 loss -16605.8496 22596.3711 index_layer_3_loss -173.5305 218.7497 lambda_51_loss 390.3739 362.9928 lambda_51_loss 35.6822 35.8405 \n",
      "Epoch 16/100 loss -16579.3613 23003.3379 index_layer_3_loss -172.9624 221.2789 lambda_51_loss 366.5815 519.3975 lambda_51_loss 35.0293 35.6049 \n",
      "Epoch 17/100 loss -16562.8184 21984.0391 index_layer_3_loss -173.1161 212.2943 lambda_51_loss 390.8102 408.2222 lambda_51_loss 35.7983 34.6382 \n",
      "Epoch 18/100 loss -16493.0605 22725.6758 index_layer_3_loss -173.5567 219.0343 lambda_51_loss 503.9296 478.1302 lambda_51_loss 35.8683 34.4118 \n",
      "Epoch 19/100 loss -16574.4531 22607.6055 index_layer_3_loss -173.0927 218.8655 lambda_51_loss 387.4792 373.6017 lambda_51_loss 34.7334 34.7450 \n",
      "Epoch 20/100 loss -16650.6113 22495.2266 index_layer_3_loss -173.5183 217.1783 lambda_51_loss 358.5623 439.9819 lambda_51_loss 34.2656 33.7411 \n",
      "Epoch 21/100 loss -16500.4707 23234.0234 index_layer_3_loss -173.7553 225.2655 lambda_51_loss 547.0569 362.0927 lambda_51_loss 32.8005 34.5386 \n",
      "Epoch 22/100 loss -16725.2012 23425.6445 index_layer_3_loss -174.4012 226.2249 lambda_51_loss 374.2026 464.7906 lambda_51_loss 34.0717 33.8360 \n",
      "Epoch 23/100 loss -16685.4922 23094.1074 index_layer_3_loss -174.4084 222.7798 lambda_51_loss 405.9533 473.7397 lambda_51_loss 34.9393 34.2391 \n",
      "Epoch 24/100 loss -16522.0195 23769.6797 index_layer_3_loss -173.2985 229.6128 lambda_51_loss 459.1049 469.4362 lambda_51_loss 34.8725 33.8966 \n",
      "Epoch 25/100 loss -16588.0000 23190.8594 index_layer_3_loss -173.9365 222.8154 lambda_51_loss 471.4248 563.0376 lambda_51_loss 33.4221 34.6277 \n",
      "Epoch 26/100 loss -16563.0801 22421.1094 index_layer_3_loss -174.0623 216.7232 lambda_51_loss 501.3578 406.8499 lambda_51_loss 34.1790 34.1940 \n",
      "Epoch 27/100 loss -16645.1055 22770.9336 index_layer_3_loss -173.7227 220.5985 lambda_51_loss 368.8264 365.0756 lambda_51_loss 35.8343 34.6012 \n",
      "Epoch 28/100 loss -16486.3809 23191.0527 index_layer_3_loss -173.0198 225.0017 lambda_51_loss 468.2941 348.5552 lambda_51_loss 34.7302 34.2327 \n",
      "Epoch 29/100 loss -16653.7148 23800.8438 index_layer_3_loss -173.5914 228.4608 lambda_51_loss 354.1658 595.8545 lambda_51_loss 35.1255 35.8906 \n",
      "Epoch 30/100 loss -16738.6211 23229.7168 index_layer_3_loss -174.5999 222.8085 lambda_51_loss 380.3807 605.5719 lambda_51_loss 34.0983 34.3299 \n",
      "Epoch 31/100 loss -16614.4629 23304.7871 index_layer_3_loss -174.4133 226.1530 lambda_51_loss 483.8869 357.5121 lambda_51_loss 34.2982 33.1976 \n",
      "Epoch 32/100 loss -16657.6387 24038.0547 index_layer_3_loss -174.4766 232.2411 lambda_51_loss 445.7342 465.7212 lambda_51_loss 34.4283 34.8229 \n",
      "Epoch 33/100 loss -16663.2031 23434.4160 index_layer_3_loss -173.6454 226.3415 lambda_51_loss 350.1446 458.7202 lambda_51_loss 35.1193 34.1547 \n",
      "Epoch 34/100 loss -16642.9336 24095.9316 index_layer_3_loss -173.8243 232.5571 lambda_51_loss 388.8154 488.1054 lambda_51_loss 35.0683 35.2121 \n",
      "Epoch 35/100 loss -16592.3398 23838.5918 index_layer_3_loss -174.2966 230.8773 lambda_51_loss 498.3089 409.2990 lambda_51_loss 33.9016 34.1558 \n"
     ]
    },
    {
     "name": "stdout",
     "output_type": "stream",
     "text": [
      "Epoch 36/100 loss -16598.1543 23865.3535 index_layer_3_loss -173.6584 231.4653 lambda_51_loss 424.9990 379.3030 lambda_51_loss 34.2691 33.9519 \n",
      "Epoch 37/100 loss -16582.8457 23062.5234 index_layer_3_loss -173.8697 222.2536 lambda_51_loss 457.9039 494.9127 lambda_51_loss 34.6223 34.2250 \n",
      "Epoch 38/100 loss -16697.4883 23950.1816 index_layer_3_loss -174.0224 231.2989 lambda_51_loss 352.6611 479.1381 lambda_51_loss 35.2088 34.1151 \n",
      "Epoch 39/100 loss -16703.6367 23966.0000 index_layer_3_loss -174.1467 231.6895 lambda_51_loss 372.5990 447.4637 lambda_51_loss 33.8429 34.9589 \n",
      "Epoch 40/100 loss -16732.2734 24032.6367 index_layer_3_loss -174.4393 233.4321 lambda_51_loss 365.0837 347.6795 lambda_51_loss 34.6568 34.1753 \n",
      "Epoch 41/100 loss -16666.4082 24320.6914 index_layer_3_loss -174.1424 236.2923 lambda_51_loss 400.6476 354.4449 lambda_51_loss 34.7180 33.7022 \n",
      "Epoch 42/100 loss -16744.1660 24500.8945 index_layer_3_loss -174.5387 237.4388 lambda_51_loss 378.5390 409.8671 lambda_51_loss 33.1166 34.7153 \n",
      "Epoch 43/100 loss -16611.8438 22793.3848 index_layer_3_loss -174.0850 220.3496 lambda_51_loss 469.1214 420.9383 lambda_51_loss 32.7537 33.7485 \n",
      "Epoch 44/100 loss -16697.9043 23212.2148 index_layer_3_loss -174.3928 225.2235 lambda_51_loss 405.7224 350.1217 lambda_51_loss 33.5656 33.9741 \n",
      "Epoch 45/100 loss -16659.3438 23378.3867 index_layer_3_loss -174.3562 226.3474 lambda_51_loss 439.7649 404.9676 lambda_51_loss 33.6516 33.8677 \n",
      "Epoch 46/100 loss -16753.7695 23332.7207 index_layer_3_loss -174.4407 226.3945 lambda_51_loss 351.7101 354.2812 lambda_51_loss 33.8586 33.8988 \n",
      "Epoch 47/100 loss -16642.9648 25156.4746 index_layer_3_loss -173.4825 243.7607 lambda_51_loss 367.7774 448.9362 lambda_51_loss 33.7509 33.1469 \n",
      "Epoch 48/100 loss -16751.9766 24181.5703 index_layer_3_loss -174.6653 234.8773 lambda_51_loss 387.4594 353.6139 lambda_51_loss 32.7096 34.0224 \n",
      "Epoch 49/100 loss -16680.0020 24345.1016 index_layer_3_loss -174.5875 235.1130 lambda_51_loss 446.0505 487.7944 lambda_51_loss 33.2693 34.6005 \n",
      "Epoch 50/100 loss -16613.3086 23756.5137 index_layer_3_loss -173.9148 230.5861 lambda_51_loss 445.3130 361.0654 lambda_51_loss 33.2860 33.6844 \n",
      "Epoch 51/100 loss -16788.7617 23899.0117 index_layer_3_loss -174.8237 229.7436 lambda_51_loss 355.2968 588.8721 lambda_51_loss 33.8311 33.5778 \n",
      "Epoch 52/100 loss -16623.7734 25115.6328 index_layer_3_loss -174.4402 243.1284 lambda_51_loss 483.8001 466.4630 lambda_51_loss 33.6448 33.6325 \n",
      "Epoch 53/100 loss -16639.2246 24328.1621 index_layer_3_loss -174.1151 235.8155 lambda_51_loss 434.7891 412.0807 lambda_51_loss 33.7494 33.4529 \n",
      "Epoch 54/100 loss -16688.8613 24153.6953 index_layer_3_loss -173.9756 233.8205 lambda_51_loss 373.7585 440.4628 lambda_51_loss 33.4946 33.1179 \n",
      "Epoch 55/100 loss -16787.4238 23038.7441 index_layer_3_loss -174.7663 223.4278 lambda_51_loss 348.8692 359.3119 lambda_51_loss 34.0332 33.6647 \n",
      "Epoch 56/100 loss -16642.7734 24095.7715 index_layer_3_loss -174.5972 233.6920 lambda_51_loss 480.8568 398.9494 lambda_51_loss 33.6089 32.7620 \n",
      "Epoch 57/100 loss -16627.0020 25123.7129 index_layer_3_loss -174.4240 242.3229 lambda_51_loss 474.4401 560.8738 lambda_51_loss 34.0960 33.0553 \n",
      "Epoch 58/100 loss -16726.1992 24715.7324 index_layer_3_loss -174.1617 239.3876 lambda_51_loss 359.1453 441.1893 lambda_51_loss 33.0827 33.5779 \n",
      "Epoch 59/100 loss -16763.3789 24348.0586 index_layer_3_loss -174.7112 235.1709 lambda_51_loss 380.4548 503.1231 lambda_51_loss 32.7286 32.7844 \n",
      "Epoch 60/100 loss -16751.7129 25466.6758 index_layer_3_loss -175.1919 247.3497 lambda_51_loss 437.1627 394.9868 lambda_51_loss 33.0314 33.6723 \n",
      "Epoch 61/100 loss -16704.8086 23788.6055 index_layer_3_loss -175.3091 229.7126 lambda_51_loss 494.4921 489.1459 lambda_51_loss 33.1614 32.8194 \n",
      "Epoch 62/100 loss -16739.2832 23026.0723 index_layer_3_loss -175.1999 223.3783 lambda_51_loss 450.2469 354.3900 lambda_51_loss 33.0465 33.3851 \n",
      "Epoch 63/100 loss -16795.1738 24237.8809 index_layer_3_loss -174.6960 235.3964 lambda_51_loss 344.6214 371.3147 lambda_51_loss 32.9804 32.6927 \n",
      "Epoch 64/100 loss -16685.3535 24753.4336 index_layer_3_loss -174.7591 240.3992 lambda_51_loss 460.2285 381.0952 lambda_51_loss 33.0324 33.2418 \n",
      "Epoch 65/100 loss -16639.1797 25457.8535 index_layer_3_loss -175.5760 245.5601 lambda_51_loss 588.6298 565.2139 lambda_51_loss 32.9793 33.6634 \n",
      "Epoch 66/100 loss -16760.0469 25520.7871 index_layer_3_loss -174.4566 247.0035 lambda_51_loss 358.8018 481.7837 lambda_51_loss 32.6812 33.8653 \n",
      "Epoch 67/100 loss -16810.1523 25216.5371 index_layer_3_loss -175.1267 244.0573 lambda_51_loss 367.6250 478.5725 lambda_51_loss 33.4888 33.2241 \n",
      "Epoch 68/100 loss -16726.4434 25112.7344 index_layer_3_loss -174.8648 243.3541 lambda_51_loss 436.8487 456.9452 lambda_51_loss 32.3186 32.0375 \n",
      "Epoch 69/100 loss -16696.2344 25893.5195 index_layer_3_loss -175.0294 250.5204 lambda_51_loss 476.2141 508.5256 lambda_51_loss 33.0489 33.2953 \n",
      "Epoch 70/100 loss -16844.8008 25304.2793 index_layer_3_loss -175.2104 245.0587 lambda_51_loss 350.6697 462.5009 lambda_51_loss 32.5571 33.5903 \n",
      "Epoch 71/100 loss -16548.8418 25480.7871 index_layer_3_loss -174.5675 247.8017 lambda_51_loss 582.8787 376.1206 lambda_51_loss 32.5028 32.4495 \n",
      "Epoch 72/100 loss -16713.7754 24500.0586 index_layer_3_loss -174.9882 237.4003 lambda_51_loss 457.7263 437.2453 lambda_51_loss 32.7320 32.2781 \n",
      "Epoch 73/100 loss -16735.5176 24557.4238 index_layer_3_loss -174.6865 237.1099 lambda_51_loss 401.5992 517.6667 lambda_51_loss 33.1537 32.8767 \n",
      "Epoch 74/100 loss -16743.4590 24829.7129 index_layer_3_loss -174.2514 241.5461 lambda_51_loss 346.6168 344.9047 lambda_51_loss 33.5069 33.0201 \n",
      "Epoch 75/100 loss -16636.9414 25611.9707 index_layer_3_loss -174.2727 248.9476 lambda_51_loss 455.4270 384.8764 lambda_51_loss 33.4903 33.2327 \n",
      "Epoch 76/100 loss -16727.7852 24102.1621 index_layer_3_loss -174.3196 233.9448 lambda_51_loss 374.5915 376.1239 lambda_51_loss 32.9584 33.1561 \n",
      "Epoch 77/100 loss -16750.9727 25998.5156 index_layer_3_loss -174.4084 252.2406 lambda_51_loss 364.0427 449.8752 lambda_51_loss 32.5828 32.4576 \n",
      "Epoch 78/100 loss -16731.0996 24895.6406 index_layer_3_loss -174.5202 242.0148 lambda_51_loss 392.9524 367.1060 lambda_51_loss 32.7971 32.7062 \n",
      "Epoch 79/100 loss -16524.0566 24089.4570 index_layer_3_loss -173.3795 233.9775 lambda_51_loss 478.2018 363.1901 lambda_51_loss 33.5687 32.8519 \n",
      "Epoch 80/100 loss -16726.5742 24329.7832 index_layer_3_loss -174.1441 236.5262 lambda_51_loss 358.9124 349.3957 lambda_51_loss 32.8920 32.7765 \n",
      "Epoch 81/100 loss -16763.0039 24449.1348 index_layer_3_loss -175.8147 235.8790 lambda_51_loss 489.7753 521.9316 lambda_51_loss 32.8686 33.9306 \n",
      "Epoch 82/100 loss -16892.3809 24467.8262 index_layer_3_loss -175.6581 237.8229 lambda_51_loss 342.3485 352.9322 lambda_51_loss 33.1078 33.2602 \n",
      "Epoch 83/100 loss -16638.9766 23928.5684 index_layer_3_loss -175.1230 232.3770 lambda_51_loss 552.2615 368.4307 lambda_51_loss 32.1064 32.2439 \n",
      "Epoch 84/100 loss -16715.4590 23937.9473 index_layer_3_loss -174.8927 232.4062 lambda_51_loss 444.3765 359.9623 lambda_51_loss 32.9431 33.7362 \n",
      "Epoch 85/100 loss -16567.8672 23791.5684 index_layer_3_loss -174.9205 230.3325 lambda_51_loss 594.1898 425.0370 lambda_51_loss 32.9998 33.3284 \n",
      "Epoch 86/100 loss -16642.3770 24073.3633 index_layer_3_loss -174.8912 231.5225 lambda_51_loss 520.2939 593.2775 lambda_51_loss 32.6447 32.7837 \n",
      "Epoch 87/100 loss -16630.1914 23245.3418 index_layer_3_loss -174.4937 225.2914 lambda_51_loss 484.7221 398.0807 lambda_51_loss 33.4455 31.8127 \n",
      "Epoch 88/100 loss -16687.8223 24116.6855 index_layer_3_loss -175.7310 233.3688 lambda_51_loss 563.3818 459.4729 lambda_51_loss 32.1900 32.0331 \n",
      "Epoch 89/100 loss -16739.1309 22381.3945 index_layer_3_loss -174.0079 217.0876 lambda_51_loss 335.0816 348.2731 lambda_51_loss 32.6582 32.4363 \n",
      "Epoch 90/100 loss -16719.2012 23889.2148 index_layer_3_loss -174.8418 230.5118 lambda_51_loss 445.7372 513.7053 lambda_51_loss 31.9241 32.4333 \n",
      "Epoch 91/100 loss -16769.1992 23732.7266 index_layer_3_loss -174.5928 229.6508 lambda_51_loss 369.8796 443.3678 lambda_51_loss 32.0197 32.4279 \n",
      "Epoch 92/100 loss -16701.6836 24310.5098 index_layer_3_loss -174.9377 235.8801 lambda_51_loss 475.4825 395.1524 lambda_51_loss 31.6599 32.7352 \n"
     ]
    },
    {
     "name": "stdout",
     "output_type": "stream",
     "text": [
      "Epoch 93/100 loss -16624.9668 23491.5879 index_layer_3_loss -175.2122 227.5178 lambda_51_loss 580.2180 420.0491 lambda_51_loss 31.6037 31.9758 \n",
      "Epoch 94/100 loss -16798.0215 24948.3672 index_layer_3_loss -175.0174 240.8950 lambda_51_loss 379.2037 541.1603 lambda_51_loss 32.4515 31.7703 \n",
      "Epoch 95/100 loss -16748.2031 24274.1387 index_layer_3_loss -174.7510 234.4799 lambda_51_loss 407.6707 500.8764 lambda_51_loss 31.9227 32.5275 \n",
      "Epoch 96/100 loss -16883.9453 25017.6973 index_layer_3_loss -175.4267 243.5511 lambda_51_loss 337.2236 341.7241 lambda_51_loss 32.1496 32.0860 \n",
      "Epoch 97/100 loss -16652.7637 25491.4863 index_layer_3_loss -175.2980 247.1461 lambda_51_loss 548.6132 459.1869 lambda_51_loss 32.8428 31.7687 \n",
      "Epoch 98/100 loss -16625.0254 25045.0645 index_layer_3_loss -175.1727 242.1976 lambda_51_loss 573.4052 503.4917 lambda_51_loss 31.8843 32.1812 \n",
      "Epoch 99/100 loss -16815.0312 25491.1582 index_layer_3_loss -175.1308 246.8618 lambda_51_loss 370.9717 480.0982 lambda_51_loss 32.7075 32.4882 \n",
      "[100, 0.0001, 50000.0, 50, 0.0, 10.0]\n",
      "Epoch 0/100 loss -8023.1167 13492.1621 index_layer_3_loss -176.0723 253.7585 lambda_51_loss 446.8172 486.3510 lambda_51_loss 33.3682 31.7888 \n",
      "Epoch 1/100 loss -8063.8721 13846.4883 index_layer_3_loss -175.1568 262.4692 lambda_51_loss 370.1190 399.3500 lambda_51_loss 32.3847 32.3680 \n",
      "Epoch 2/100 loss -8081.2939 13264.2012 index_layer_3_loss -175.1844 250.4317 lambda_51_loss 361.9871 423.6103 lambda_51_loss 31.5938 31.9004 \n",
      "Epoch 3/100 loss -8080.3135 13612.7119 index_layer_3_loss -174.6786 258.6169 lambda_51_loss 338.7865 367.6440 lambda_51_loss 31.4828 31.4226 \n",
      "Epoch 4/100 loss -8080.1084 13228.2861 index_layer_3_loss -175.2658 251.4981 lambda_51_loss 359.0849 340.7343 lambda_51_loss 32.4097 31.2644 \n",
      "Epoch 5/100 loss -7988.6250 13132.4590 index_layer_3_loss -175.1126 249.3177 lambda_51_loss 456.2799 359.5175 lambda_51_loss 31.0726 30.7058 \n",
      "Epoch 6/100 loss -8091.9780 13567.5420 index_layer_3_loss -175.4118 257.3588 lambda_51_loss 369.5761 386.7509 lambda_51_loss 30.9035 31.2851 \n",
      "Epoch 7/100 loss -8095.8413 13509.6240 index_layer_3_loss -175.0935 256.1598 lambda_51_loss 339.2823 385.6140 lambda_51_loss 31.9553 31.6022 \n",
      "Epoch 8/100 loss -8076.5874 13550.4355 index_layer_3_loss -175.8832 257.0518 lambda_51_loss 406.8148 387.4135 lambda_51_loss 31.0756 31.0432 \n",
      "Epoch 9/100 loss -8028.6533 13253.2402 index_layer_3_loss -174.7549 250.8012 lambda_51_loss 392.1012 393.3961 lambda_51_loss 31.6991 31.9785 \n",
      "Epoch 10/100 loss -8000.0845 13225.7344 index_layer_3_loss -175.3623 251.0528 lambda_51_loss 449.3507 353.0424 lambda_51_loss 31.8679 32.0053 \n",
      "Epoch 11/100 loss -7996.5107 13484.3760 index_layer_3_loss -175.1670 255.6693 lambda_51_loss 451.9113 386.4677 lambda_51_loss 30.9929 31.4444 \n",
      "Epoch 12/100 loss -8076.7007 13566.2979 index_layer_3_loss -174.7509 256.7205 lambda_51_loss 340.6220 415.6740 lambda_51_loss 32.0220 31.4597 \n",
      "Epoch 13/100 loss -8069.6738 13401.8369 index_layer_3_loss -175.4501 253.7916 lambda_51_loss 397.2740 403.7382 lambda_51_loss 30.5557 30.8521 \n",
      "Epoch 14/100 loss -8079.4873 13646.7119 index_layer_3_loss -174.8042 258.9695 lambda_51_loss 345.3715 395.6262 lambda_51_loss 31.5353 30.2610 \n",
      "Epoch 15/100 loss -8118.5747 13186.2363 index_layer_3_loss -175.4392 250.7588 lambda_51_loss 349.9927 343.2859 lambda_51_loss 30.3393 30.5012 \n",
      "Epoch 16/100 loss -8077.2104 12931.1182 index_layer_3_loss -175.6150 245.4932 lambda_51_loss 397.1111 351.9496 lambda_51_loss 30.6426 30.4507 \n",
      "Epoch 17/100 loss -8080.5269 12751.9375 index_layer_3_loss -175.2239 242.2686 lambda_51_loss 372.8617 336.6707 lambda_51_loss 30.7809 30.1838 \n",
      "Epoch 18/100 loss -8095.7075 12948.4199 index_layer_3_loss -175.5175 244.7182 lambda_51_loss 372.3013 402.2357 lambda_51_loss 30.7867 31.0272 \n",
      "Epoch 19/100 loss -8022.4297 13246.3398 index_layer_3_loss -175.6110 251.8564 lambda_51_loss 453.6040 347.0447 lambda_51_loss 30.4515 30.6477 \n",
      "Epoch 20/100 loss -8156.0093 13489.3145 index_layer_3_loss -175.7848 254.8475 lambda_51_loss 329.4281 442.1267 lambda_51_loss 30.3801 30.4809 \n",
      "Epoch 21/100 loss -8077.9458 13025.8896 index_layer_3_loss -174.5803 246.7451 lambda_51_loss 347.5569 379.5872 lambda_51_loss 30.3511 30.9049 \n",
      "Epoch 22/100 loss -8119.2124 13119.7432 index_layer_3_loss -175.2481 248.5616 lambda_51_loss 334.0103 388.5379 lambda_51_loss 30.9183 30.3127 \n",
      "Epoch 23/100 loss -8057.9717 13407.5586 index_layer_3_loss -174.8937 254.3636 lambda_51_loss 382.7928 378.3086 lambda_51_loss 30.3919 31.1071 \n",
      "Epoch 24/100 loss -8160.1050 13571.2256 index_layer_3_loss -176.0434 258.9085 lambda_51_loss 338.1683 323.4623 lambda_51_loss 30.3895 30.2337 \n",
      "Epoch 25/100 loss -8120.4434 13180.4854 index_layer_3_loss -175.3349 251.0714 lambda_51_loss 342.6368 327.9393 lambda_51_loss 30.3666 29.8976 \n",
      "Epoch 26/100 loss -8113.5762 12914.9141 index_layer_3_loss -174.7784 245.6851 lambda_51_loss 324.1899 325.5886 lambda_51_loss 30.1154 30.5072 \n",
      "Epoch 27/100 loss -8115.5933 12663.8574 index_layer_3_loss -174.8285 240.1887 lambda_51_loss 325.2371 351.1521 lambda_51_loss 30.0594 30.3270 \n",
      "Epoch 28/100 loss -8101.9717 12924.7383 index_layer_3_loss -175.0664 244.7589 lambda_51_loss 348.0490 380.6554 lambda_51_loss 30.3298 30.6135 \n",
      "Epoch 29/100 loss -8137.8467 13163.4258 index_layer_3_loss -175.3176 249.9358 lambda_51_loss 328.1468 366.1439 lambda_51_loss 29.9885 30.0493 \n",
      "Epoch 30/100 loss -8086.4785 12476.4678 index_layer_3_loss -175.3918 236.8632 lambda_51_loss 383.5859 338.1580 lambda_51_loss 29.9525 29.5150 \n",
      "Epoch 31/100 loss -8097.9131 12946.9414 index_layer_3_loss -174.7335 246.2803 lambda_51_loss 335.5605 337.0084 lambda_51_loss 30.3202 29.5915 \n",
      "Epoch 32/100 loss -8139.2646 12949.9551 index_layer_3_loss -175.7684 246.1933 lambda_51_loss 350.5156 333.2142 lambda_51_loss 29.8642 30.7074 \n",
      "Epoch 33/100 loss -8139.7148 12568.0889 index_layer_3_loss -176.4130 238.7947 lambda_51_loss 383.4604 329.6936 lambda_51_loss 29.7477 29.8661 \n",
      "Epoch 34/100 loss -8147.6182 12573.7207 index_layer_3_loss -175.6189 237.5089 lambda_51_loss 335.6309 402.5504 lambda_51_loss 29.7696 29.5725 \n",
      "Epoch 35/100 loss -8185.2056 12726.3711 index_layer_3_loss -176.2381 241.6020 lambda_51_loss 323.3980 342.3913 lambda_51_loss 30.3301 30.3881 \n",
      "Epoch 36/100 loss -8121.3062 12534.6045 index_layer_3_loss -175.1030 237.0365 lambda_51_loss 331.3130 387.2132 lambda_51_loss 30.2529 29.5568 \n",
      "Epoch 37/100 loss -8082.8027 12867.5430 index_layer_3_loss -176.4261 244.6034 lambda_51_loss 436.7566 337.0797 lambda_51_loss 30.1743 30.0295 \n",
      "Epoch 38/100 loss -8195.7617 12213.7539 index_layer_3_loss -176.6151 230.6161 lambda_51_loss 335.0706 381.0434 lambda_51_loss 29.9921 30.1908 \n",
      "Epoch 39/100 loss -8045.0166 12710.5322 index_layer_3_loss -176.0101 241.3168 lambda_51_loss 455.5565 341.6583 lambda_51_loss 29.9931 30.3033 \n",
      "Epoch 40/100 loss -8117.7559 12415.5898 index_layer_3_loss -176.1993 235.5703 lambda_51_loss 394.1428 342.3036 lambda_51_loss 29.8066 29.4773 \n",
      "Epoch 41/100 loss -8068.3110 12719.1270 index_layer_3_loss -176.3236 241.2319 lambda_51_loss 442.1823 356.5977 lambda_51_loss 30.5688 30.0933 \n",
      "Epoch 42/100 loss -8193.8662 12625.9727 index_layer_3_loss -176.8231 238.0533 lambda_51_loss 342.9277 424.9987 lambda_51_loss 30.4359 29.8307 \n",
      "Epoch 43/100 loss -8081.6807 12221.4023 index_layer_3_loss -175.4252 231.4536 lambda_51_loss 391.9416 348.3454 lambda_51_loss 29.7636 30.0378 \n",
      "Epoch 44/100 loss -8171.5562 12929.3174 index_layer_3_loss -177.0565 244.8307 lambda_51_loss 378.5560 387.1740 lambda_51_loss 30.2711 30.0607 \n",
      "Epoch 45/100 loss -8094.0332 12655.6631 index_layer_3_loss -175.9355 239.6402 lambda_51_loss 401.6112 374.8995 lambda_51_loss 30.1131 29.8755 \n",
      "Epoch 46/100 loss -8132.2808 13261.0215 index_layer_3_loss -175.9977 251.9118 lambda_51_loss 365.5807 371.1242 lambda_51_loss 30.2023 29.4309 \n",
      "Epoch 47/100 loss -8156.1138 12862.7725 index_layer_3_loss -176.2249 243.9988 lambda_51_loss 351.4919 363.0781 lambda_51_loss 30.3641 29.9755 \n",
      "Epoch 48/100 loss -8152.6216 13161.7607 index_layer_3_loss -176.4720 250.2222 lambda_51_loss 371.4952 353.9454 lambda_51_loss 29.9485 29.6705 \n",
      "Epoch 49/100 loss -8042.6768 13378.7559 index_layer_3_loss -175.8582 254.6477 lambda_51_loss 445.6687 344.6100 lambda_51_loss 30.4566 30.1762 \n",
      "Epoch 50/100 loss -8135.0674 13593.4062 index_layer_3_loss -175.5607 259.1299 lambda_51_loss 340.3299 334.3260 lambda_51_loss 30.2639 30.2584 \n"
     ]
    },
    {
     "name": "stdout",
     "output_type": "stream",
     "text": [
      "Epoch 51/100 loss -8111.3398 13456.6318 index_layer_3_loss -175.4036 255.4131 lambda_51_loss 361.7942 386.7122 lambda_51_loss 29.7047 29.9264 \n",
      "Epoch 52/100 loss -8083.4062 13711.2295 index_layer_3_loss -175.3180 261.6096 lambda_51_loss 382.9877 330.8898 lambda_51_loss 29.9505 29.9857 \n",
      "Epoch 53/100 loss -8149.2021 13614.6953 index_layer_3_loss -175.9595 259.5617 lambda_51_loss 346.5473 336.6650 lambda_51_loss 30.2225 29.9945 \n",
      "Epoch 54/100 loss -8110.7417 13793.9297 index_layer_3_loss -175.1729 263.3553 lambda_51_loss 346.0375 326.8338 lambda_51_loss 30.1869 29.9331 \n",
      "Epoch 55/100 loss -8066.3486 13583.1719 index_layer_3_loss -175.4216 258.9695 lambda_51_loss 404.7989 336.3498 lambda_51_loss 29.9935 29.8346 \n",
      "Epoch 56/100 loss -8133.1465 13572.1162 index_layer_3_loss -175.4328 258.8648 lambda_51_loss 339.1119 325.5593 lambda_51_loss 29.9380 30.3316 \n",
      "Epoch 57/100 loss -8016.7100 13983.7783 index_layer_3_loss -174.9370 267.1454 lambda_51_loss 429.6768 323.6349 lambda_51_loss 30.0462 30.2873 \n",
      "Epoch 58/100 loss -8169.4658 13246.3799 index_layer_3_loss -175.8508 252.1277 lambda_51_loss 323.3088 336.3365 lambda_51_loss 29.9763 30.3656 \n",
      "Epoch 59/100 loss -8090.0859 14243.8779 index_layer_3_loss -174.4993 272.1935 lambda_51_loss 336.2916 328.9846 lambda_51_loss 29.8588 30.5221 \n",
      "Epoch 60/100 loss -8138.9326 13567.8242 index_layer_3_loss -175.3255 258.7731 lambda_51_loss 318.3487 325.9040 lambda_51_loss 30.8996 30.3264 \n",
      "Epoch 61/100 loss -8137.7007 13690.5459 index_layer_3_loss -175.5947 261.3965 lambda_51_loss 333.1343 321.9367 lambda_51_loss 30.8897 29.8787 \n",
      "Epoch 62/100 loss -8127.1113 13381.1504 index_layer_3_loss -175.3880 255.1612 lambda_51_loss 340.2543 324.5267 lambda_51_loss 30.2036 29.8564 \n",
      "Epoch 63/100 loss -8105.8691 13684.3467 index_layer_3_loss -174.8328 260.8733 lambda_51_loss 336.0566 336.9566 lambda_51_loss 29.9713 30.3723 \n",
      "Epoch 64/100 loss -8110.1543 13921.1973 index_layer_3_loss -175.7037 264.8154 lambda_51_loss 376.4218 386.9628 lambda_51_loss 29.8610 29.3466 \n",
      "Epoch 65/100 loss -8131.1553 14358.3662 index_layer_3_loss -175.4562 274.3492 lambda_51_loss 337.9832 345.2841 lambda_51_loss 30.3672 29.5620 \n",
      "Epoch 66/100 loss -8172.8071 13841.9238 index_layer_3_loss -176.1294 263.7057 lambda_51_loss 333.2301 357.6198 lambda_51_loss 30.0431 29.9020 \n",
      "Epoch 67/100 loss -8164.0776 13895.8457 index_layer_3_loss -175.8275 264.4936 lambda_51_loss 329.3133 370.8232 lambda_51_loss 29.7983 30.0345 \n",
      "Epoch 68/100 loss -8147.0728 13804.3154 index_layer_3_loss -175.5857 263.5076 lambda_51_loss 336.9199 331.3430 lambda_51_loss 29.5291 29.7590 \n",
      "Epoch 69/100 loss -8134.2085 13644.1924 index_layer_3_loss -175.4131 260.5437 lambda_51_loss 332.2974 320.6571 lambda_51_loss 30.4151 29.6349 \n",
      "Epoch 70/100 loss -8181.7466 14139.1855 index_layer_3_loss -176.1179 270.2053 lambda_51_loss 326.0538 334.7744 lambda_51_loss 29.8092 29.4149 \n",
      "Epoch 71/100 loss -8105.5601 13592.9492 index_layer_3_loss -175.7381 259.5005 lambda_51_loss 385.0160 322.0989 lambda_51_loss 29.6329 29.5825 \n",
      "Epoch 72/100 loss -8189.0488 13481.5352 index_layer_3_loss -176.1866 257.1305 lambda_51_loss 328.0057 329.6705 lambda_51_loss 29.2276 29.5339 \n",
      "Epoch 73/100 loss -8203.5527 13545.3906 index_layer_3_loss -176.7852 258.3386 lambda_51_loss 336.1040 337.0809 lambda_51_loss 29.9604 29.1377 \n",
      "Epoch 74/100 loss -8201.9453 13092.0244 index_layer_3_loss -176.5017 248.7314 lambda_51_loss 324.6729 360.4324 lambda_51_loss 29.8467 29.5020 \n",
      "Epoch 75/100 loss -8121.9780 13460.9863 index_layer_3_loss -175.9063 256.2583 lambda_51_loss 373.0737 354.3648 lambda_51_loss 30.0262 29.3708 \n",
      "Epoch 76/100 loss -8105.0205 14179.7900 index_layer_3_loss -176.5397 271.0439 lambda_51_loss 425.2059 333.8120 lambda_51_loss 29.6760 29.3786 \n",
      "Epoch 77/100 loss -8098.9785 13343.0068 index_layer_3_loss -175.4463 254.5293 lambda_51_loss 379.4531 323.0782 lambda_51_loss 29.3882 29.3465 \n",
      "Epoch 78/100 loss -8127.7642 13755.5381 index_layer_3_loss -176.2115 261.1295 lambda_51_loss 386.9822 399.1444 lambda_51_loss 29.5830 29.9918 \n",
      "Epoch 79/100 loss -8131.1123 13621.5625 index_layer_3_loss -175.4138 259.9612 lambda_51_loss 342.7489 329.0218 lambda_51_loss 29.6829 29.4480 \n",
      "Epoch 80/100 loss -8082.9458 13602.9561 index_layer_3_loss -175.1453 259.6034 lambda_51_loss 377.9481 326.9437 lambda_51_loss 29.6370 29.5841 \n",
      "Epoch 81/100 loss -8160.5547 13965.2656 index_layer_3_loss -175.6795 266.8252 lambda_51_loss 325.3846 320.0314 lambda_51_loss 29.8037 30.3977 \n",
      "Epoch 82/100 loss -8174.5293 13941.7979 index_layer_3_loss -175.9337 266.1759 lambda_51_loss 322.3341 332.8006 lambda_51_loss 29.9824 30.0200 \n",
      "Epoch 83/100 loss -8099.4888 13811.2080 index_layer_3_loss -175.6954 263.7786 lambda_51_loss 383.4521 326.3008 lambda_51_loss 30.1830 29.5977 \n",
      "Epoch 84/100 loss -8181.4644 13306.9482 index_layer_3_loss -176.0665 253.6279 lambda_51_loss 322.9852 327.3236 lambda_51_loss 29.8877 29.8231 \n",
      "Epoch 85/100 loss -8207.6582 13343.0361 index_layer_3_loss -176.5494 254.5058 lambda_51_loss 323.7639 324.3679 lambda_51_loss 29.6049 29.3378 \n",
      "Epoch 86/100 loss -8142.8555 13646.3008 index_layer_3_loss -175.4967 260.3037 lambda_51_loss 334.7211 329.2737 lambda_51_loss 29.7258 30.1844 \n",
      "Epoch 87/100 loss -8152.3086 13459.7305 index_layer_3_loss -176.4075 256.7546 lambda_51_loss 370.6823 325.5484 lambda_51_loss 29.7382 29.6449 \n",
      "Epoch 88/100 loss -8133.8291 13580.4160 index_layer_3_loss -177.1288 259.2558 lambda_51_loss 423.2909 323.5565 lambda_51_loss 29.9321 29.4071 \n",
      "Epoch 89/100 loss -8201.1338 13056.3945 index_layer_3_loss -176.5649 248.5489 lambda_51_loss 332.7435 336.2313 lambda_51_loss 29.4369 29.2716 \n",
      "Epoch 90/100 loss -8157.8970 13553.5947 index_layer_3_loss -175.9448 258.5614 lambda_51_loss 338.4770 334.0196 lambda_51_loss 30.0868 29.1506 \n",
      "Epoch 91/100 loss -8192.3691 13379.9805 index_layer_3_loss -176.5110 254.2303 lambda_51_loss 338.8761 373.0919 lambda_51_loss 29.4303 29.5375 \n",
      "Epoch 92/100 loss -8133.8037 13435.0547 index_layer_3_loss -176.3582 256.2953 lambda_51_loss 389.5377 325.2864 lambda_51_loss 29.4570 29.5006 \n",
      "Epoch 93/100 loss -8204.1025 13193.8662 index_layer_3_loss -176.6466 251.4274 lambda_51_loss 337.6812 322.0904 lambda_51_loss 29.0548 30.0409 \n",
      "Epoch 94/100 loss -8246.0508 13257.2686 index_layer_3_loss -177.5520 252.4172 lambda_51_loss 339.0227 343.1421 lambda_51_loss 29.2529 29.3268 \n",
      "Epoch 95/100 loss -8196.5801 13821.8652 index_layer_3_loss -176.6961 263.7248 lambda_51_loss 344.8301 338.7451 lambda_51_loss 29.3393 29.6882 \n",
      "Epoch 96/100 loss -8182.0933 13258.1182 index_layer_3_loss -177.3803 252.4844 lambda_51_loss 389.6556 334.5662 lambda_51_loss 29.7265 29.9331 \n",
      "Epoch 97/100 loss -8193.6279 13601.3027 index_layer_3_loss -176.6674 259.4265 lambda_51_loss 338.2863 330.3635 lambda_51_loss 30.1455 29.9615 \n",
      "Epoch 98/100 loss -8206.2207 13854.2207 index_layer_3_loss -177.2368 262.2632 lambda_51_loss 350.3380 438.9965 lambda_51_loss 30.5284 30.2064 \n",
      "Epoch 99/100 loss -8181.6440 13674.4355 index_layer_3_loss -177.4724 260.5669 lambda_51_loss 391.1274 344.9902 lambda_51_loss 30.0846 30.1099 \n",
      "[100, 0.0001, 50000.0, 20, 0.0, 10.0]\n",
      "Epoch 0/100 loss -2906.3271 5666.8140 index_layer_3_loss -176.4460 249.2012 lambda_51_loss 321.7501 393.5109 lambda_51_loss 30.0844 28.9278 \n",
      "Epoch 1/100 loss -2913.6121 5685.1055 index_layer_3_loss -176.7165 252.8433 lambda_51_loss 330.1834 345.0272 lambda_51_loss 29.0534 28.3212 \n",
      "Epoch 2/100 loss -2916.6099 5799.0566 index_layer_3_loss -177.5489 256.8403 lambda_51_loss 349.7247 376.5209 lambda_51_loss 28.4643 28.5729 \n",
      "Epoch 3/100 loss -2913.8413 5737.8916 index_layer_3_loss -176.6112 255.6170 lambda_51_loss 331.0134 336.7138 lambda_51_loss 28.7370 28.8838 \n",
      "Epoch 4/100 loss -2848.4019 5831.9482 index_layer_3_loss -176.5068 261.1107 lambda_51_loss 388.4915 322.0364 lambda_51_loss 29.3243 28.7698 \n",
      "Epoch 5/100 loss -2872.6392 5849.0620 index_layer_3_loss -177.2573 257.8583 lambda_51_loss 386.0392 403.6212 lambda_51_loss 28.6467 28.8275 \n",
      "Epoch 6/100 loss -2835.7112 5946.4717 index_layer_3_loss -176.5638 266.5255 lambda_51_loss 409.4543 324.8286 lambda_51_loss 28.6111 29.1132 \n",
      "Epoch 7/100 loss -2869.2798 6173.8677 index_layer_3_loss -175.7629 278.0213 lambda_51_loss 356.9434 319.7619 lambda_51_loss 28.9035 29.3680 \n",
      "Epoch 8/100 loss -2925.3066 6386.3691 index_layer_3_loss -176.9329 287.1938 lambda_51_loss 323.8529 349.6466 lambda_51_loss 28.9498 29.2848 \n"
     ]
    },
    {
     "name": "stdout",
     "output_type": "stream",
     "text": [
      "Epoch 9/100 loss -2904.5198 6308.7183 index_layer_3_loss -176.0097 284.8319 lambda_51_loss 323.5522 321.2665 lambda_51_loss 29.2122 29.0813 \n",
      "Epoch 10/100 loss -2889.6941 6251.0098 index_layer_3_loss -174.9166 279.8588 lambda_51_loss 317.2001 361.9622 lambda_51_loss 29.1437 29.1872 \n",
      "Epoch 11/100 loss -2849.7737 6115.1357 index_layer_3_loss -175.4345 275.3690 lambda_51_loss 367.4428 318.8433 lambda_51_loss 29.1473 28.8914 \n",
      "Epoch 12/100 loss -2910.7664 6376.5938 index_layer_3_loss -176.2264 287.5963 lambda_51_loss 317.5656 335.5490 lambda_51_loss 29.6197 28.9119 \n",
      "Epoch 13/100 loss -2902.6699 6059.2559 index_layer_3_loss -175.7858 272.5550 lambda_51_loss 320.7423 322.2974 lambda_51_loss 29.2303 28.5858 \n",
      "Epoch 14/100 loss -2913.6177 6063.3677 index_layer_3_loss -176.6816 273.0256 lambda_51_loss 332.8767 316.0847 lambda_51_loss 28.7137 28.6771 \n",
      "Epoch 15/100 loss -2849.8684 5840.0591 index_layer_3_loss -175.4504 261.6020 lambda_51_loss 371.0269 325.9656 lambda_51_loss 28.8112 28.2054 \n",
      "Epoch 16/100 loss -2908.4565 6121.3208 index_layer_3_loss -176.0130 274.4072 lambda_51_loss 327.1083 350.3867 lambda_51_loss 28.4696 28.2791 \n",
      "Epoch 17/100 loss -2898.8728 5999.8628 index_layer_3_loss -174.9462 269.1461 lambda_51_loss 318.4667 329.2986 lambda_51_loss 28.1585 28.7642 \n",
      "Epoch 18/100 loss -2900.6663 6084.4224 index_layer_3_loss -175.2985 274.1509 lambda_51_loss 322.5733 323.1576 lambda_51_loss 28.2731 27.8247 \n",
      "Epoch 19/100 loss -2910.6699 5988.0566 index_layer_3_loss -175.4849 268.2108 lambda_51_loss 319.2212 337.8694 lambda_51_loss 27.9807 28.5971 \n",
      "Epoch 20/100 loss -2914.0459 6236.8350 index_layer_3_loss -176.1151 280.0765 lambda_51_loss 327.0652 355.2578 lambda_51_loss 28.1191 28.0048 \n",
      "Epoch 21/100 loss -2908.5251 6001.4995 index_layer_3_loss -175.9654 269.2840 lambda_51_loss 331.2114 331.4898 lambda_51_loss 27.9571 28.4330 \n",
      "Epoch 22/100 loss -2927.2595 5914.4741 index_layer_3_loss -177.0436 265.5663 lambda_51_loss 328.6434 319.4518 lambda_51_loss 28.4970 28.3697 \n",
      "Epoch 23/100 loss -2927.6775 5865.0713 index_layer_3_loss -176.4588 263.0400 lambda_51_loss 318.2606 317.6643 lambda_51_loss 28.3238 28.6606 \n",
      "Epoch 24/100 loss -2917.6245 6057.6040 index_layer_3_loss -176.3074 270.0514 lambda_51_loss 324.9770 374.0328 lambda_51_loss 28.3547 28.2543 \n",
      "Epoch 25/100 loss -2906.8843 5921.0845 index_layer_3_loss -176.2723 265.1666 lambda_51_loss 332.9624 330.7074 lambda_51_loss 28.5600 28.7045 \n",
      "Epoch 26/100 loss -2923.1394 6131.1021 index_layer_3_loss -176.3993 276.1287 lambda_51_loss 317.7180 316.1671 lambda_51_loss 28.7128 29.2361 \n",
      "Epoch 27/100 loss -2925.4373 5704.5356 index_layer_3_loss -176.6945 254.9320 lambda_51_loss 319.2610 316.3156 lambda_51_loss 28.9191 28.9580 \n",
      "Epoch 28/100 loss -2922.3296 5828.4946 index_layer_3_loss -176.8588 260.9550 lambda_51_loss 326.1121 316.2591 lambda_51_loss 28.8735 29.3135 \n",
      "Epoch 29/100 loss -2927.7136 5913.4233 index_layer_3_loss -176.4934 265.1960 lambda_51_loss 315.5221 319.1675 lambda_51_loss 28.6632 29.0335 \n",
      "Epoch 30/100 loss -2902.3259 5800.0137 index_layer_3_loss -177.5224 259.2794 lambda_51_loss 360.1157 327.7266 lambda_51_loss 28.8006 28.6700 \n",
      "Epoch 31/100 loss -2903.6831 6113.1440 index_layer_3_loss -176.5734 274.6704 lambda_51_loss 338.5093 328.9798 lambda_51_loss 28.9275 29.0755 \n",
      "Epoch 32/100 loss -2873.1514 5941.2559 index_layer_3_loss -177.2866 266.8336 lambda_51_loss 386.7336 317.5713 lambda_51_loss 28.5848 28.7012 \n",
      "Epoch 33/100 loss -2856.0588 6296.7690 index_layer_3_loss -176.0781 284.2572 lambda_51_loss 378.0268 318.6826 lambda_51_loss 28.7476 29.2942 \n",
      "Epoch 34/100 loss -2862.4783 6299.4185 index_layer_3_loss -176.2234 282.2294 lambda_51_loss 370.5202 367.8471 lambda_51_loss 29.1469 28.6984 \n",
      "Epoch 35/100 loss -2914.9661 6237.7173 index_layer_3_loss -176.0731 281.7802 lambda_51_loss 317.4030 314.8607 lambda_51_loss 28.9092 28.7253 \n",
      "Epoch 36/100 loss -2882.0725 5951.3921 index_layer_3_loss -174.9883 267.3602 lambda_51_loss 333.5359 315.0633 lambda_51_loss 28.4158 28.9124 \n",
      "Epoch 37/100 loss -2903.6321 6035.2749 index_layer_3_loss -175.3650 270.7921 lambda_51_loss 311.8074 334.6391 lambda_51_loss 29.1861 28.4795 \n",
      "Epoch 38/100 loss -2856.2622 6286.6440 index_layer_3_loss -175.3976 284.1962 lambda_51_loss 363.2674 315.5709 lambda_51_loss 28.8422 28.7149 \n",
      "Epoch 39/100 loss -2900.5994 6304.5234 index_layer_3_loss -174.8960 285.0937 lambda_51_loss 309.9093 313.3349 lambda_51_loss 28.7411 28.9315 \n",
      "Epoch 40/100 loss -2898.9241 6143.4219 index_layer_3_loss -174.9159 276.8976 lambda_51_loss 313.3754 317.4120 lambda_51_loss 28.6019 28.8058 \n",
      "Epoch 41/100 loss -2916.6309 6230.6226 index_layer_3_loss -175.7460 281.3193 lambda_51_loss 314.3124 320.7956 lambda_51_loss 28.3976 28.3441 \n",
      "Epoch 42/100 loss -2897.8159 6146.4106 index_layer_3_loss -174.7267 276.5623 lambda_51_loss 313.2283 332.8631 lambda_51_loss 28.3491 28.2302 \n",
      "Epoch 43/100 loss -2901.1116 6086.0425 index_layer_3_loss -175.0539 274.5298 lambda_51_loss 318.2001 315.2785 lambda_51_loss 28.1766 28.0169 \n",
      "Epoch 44/100 loss -2842.8733 6060.5767 index_layer_3_loss -174.9701 273.0424 lambda_51_loss 374.9547 318.1927 lambda_51_loss 28.1574 28.1537 \n",
      "Epoch 45/100 loss -2913.0264 5925.5059 index_layer_3_loss -175.8429 266.3562 lambda_51_loss 325.4165 317.2901 lambda_51_loss 27.8415 28.1091 \n",
      "Epoch 46/100 loss -2885.8518 5966.2114 index_layer_3_loss -176.6124 268.0473 lambda_51_loss 367.0360 324.9165 lambda_51_loss 27.9360 28.0349 \n",
      "Epoch 47/100 loss -2912.7625 5942.0483 index_layer_3_loss -175.6523 267.3114 lambda_51_loss 320.1930 314.6760 lambda_51_loss 28.0092 28.1144 \n",
      "Epoch 48/100 loss -2916.9099 6099.6514 index_layer_3_loss -176.3235 273.2445 lambda_51_loss 331.6760 354.7425 lambda_51_loss 27.7884 28.0018 \n",
      "Epoch 49/100 loss -2928.2109 6008.1528 index_layer_3_loss -176.4087 270.6628 lambda_51_loss 319.4826 316.1548 lambda_51_loss 28.0480 27.8741 \n",
      "Epoch 50/100 loss -2926.3667 6038.5244 index_layer_3_loss -176.1656 272.1327 lambda_51_loss 318.2601 315.8683 lambda_51_loss 27.8685 28.0002 \n",
      "Epoch 51/100 loss -2900.5535 5912.3652 index_layer_3_loss -174.9192 265.3484 lambda_51_loss 319.4410 327.7819 lambda_51_loss 27.8389 27.7616 \n",
      "Epoch 52/100 loss -2920.5500 5970.4800 index_layer_3_loss -175.9735 268.5827 lambda_51_loss 318.1609 318.9610 lambda_51_loss 28.0759 27.9865 \n",
      "Epoch 53/100 loss -2935.2344 5930.1387 index_layer_3_loss -176.8078 265.3804 lambda_51_loss 321.3574 341.3629 lambda_51_loss 27.9564 28.1167 \n",
      "Epoch 54/100 loss -2930.4722 6134.1455 index_layer_3_loss -176.1606 273.4230 lambda_51_loss 313.2238 388.4325 lambda_51_loss 27.9516 27.7253 \n",
      "Epoch 55/100 loss -2902.2415 5995.9321 index_layer_3_loss -176.0715 267.7744 lambda_51_loss 337.7519 360.9521 lambda_51_loss 28.1437 27.9492 \n",
      "Epoch 56/100 loss -2931.8491 5922.3799 index_layer_3_loss -176.9277 266.4083 lambda_51_loss 326.7209 314.8295 lambda_51_loss 27.9984 27.9384 \n",
      "Epoch 57/100 loss -2928.4065 6115.3623 index_layer_3_loss -176.2796 275.7583 lambda_51_loss 317.0726 318.4033 lambda_51_loss 28.0114 28.1793 \n",
      "Epoch 58/100 loss -2950.6243 5962.4702 index_layer_3_loss -177.2479 268.3776 lambda_51_loss 314.8922 312.7364 lambda_51_loss 27.9442 28.2182 \n",
      "Epoch 59/100 loss -2947.8118 5942.2983 index_layer_3_loss -177.2449 266.4828 lambda_51_loss 317.7990 333.8949 lambda_51_loss 27.9287 27.8748 \n",
      "Epoch 60/100 loss -2929.9207 6067.8018 index_layer_3_loss -176.4687 272.7878 lambda_51_loss 320.9401 328.0091 lambda_51_loss 27.8513 28.4036 \n",
      "Epoch 61/100 loss -2949.7627 6068.6357 index_layer_3_loss -177.1459 273.7668 lambda_51_loss 313.9324 314.5348 lambda_51_loss 27.9223 27.8765 \n",
      "Epoch 62/100 loss -2941.4431 6149.1777 index_layer_3_loss -176.7974 277.2552 lambda_51_loss 313.6017 320.1879 lambda_51_loss 28.0903 28.3887 \n",
      "Epoch 63/100 loss -2890.2888 6014.5059 index_layer_3_loss -177.0440 271.0594 lambda_51_loss 368.3564 315.8988 lambda_51_loss 28.2235 27.7420 \n",
      "Epoch 64/100 loss -2928.6096 6027.2388 index_layer_3_loss -176.6947 269.2515 lambda_51_loss 324.1626 360.8583 lambda_51_loss 28.1122 28.1351 \n",
      "Epoch 65/100 loss -2940.2610 6038.7549 index_layer_3_loss -176.6462 271.8152 lambda_51_loss 310.0493 320.6927 lambda_51_loss 28.2613 28.1757 \n",
      "Epoch 66/100 loss -2930.6450 5993.9258 index_layer_3_loss -176.9143 269.1568 lambda_51_loss 329.2722 327.2393 lambda_51_loss 27.8368 28.3551 \n"
     ]
    },
    {
     "name": "stdout",
     "output_type": "stream",
     "text": [
      "Epoch 67/100 loss -2860.7585 6192.2075 index_layer_3_loss -176.2339 279.4420 lambda_51_loss 385.3955 321.1033 lambda_51_loss 27.8523 28.2265 \n",
      "Epoch 68/100 loss -2922.9282 6111.6685 index_layer_3_loss -176.4171 276.0057 lambda_51_loss 323.1537 313.0061 lambda_51_loss 28.2259 27.8548 \n",
      "Epoch 69/100 loss -2890.8967 6089.4404 index_layer_3_loss -177.0739 274.7275 lambda_51_loss 363.7824 316.6438 lambda_51_loss 28.6799 27.8246 \n",
      "Epoch 70/100 loss -2934.0378 6163.6670 index_layer_3_loss -176.6138 278.5260 lambda_51_loss 317.7870 313.5609 lambda_51_loss 28.0451 27.9587 \n",
      "Epoch 71/100 loss -2922.4983 6201.1055 index_layer_3_loss -175.9452 279.9990 lambda_51_loss 315.0618 320.5421 lambda_51_loss 28.1345 28.0583 \n",
      "Epoch 72/100 loss -2882.3240 6304.3159 index_layer_3_loss -176.1420 285.5123 lambda_51_loss 359.9567 312.1797 lambda_51_loss 28.0560 28.1891 \n",
      "Epoch 73/100 loss -2917.0039 6340.8042 index_layer_3_loss -175.5873 287.3667 lambda_51_loss 315.9223 315.4112 lambda_51_loss 27.8820 27.8059 \n",
      "Epoch 74/100 loss -2920.0630 6310.9692 index_layer_3_loss -175.5339 285.9307 lambda_51_loss 314.6284 312.3308 lambda_51_loss 27.5987 28.0024 \n",
      "Epoch 75/100 loss -2927.2515 6363.6675 index_layer_3_loss -176.2067 288.0688 lambda_51_loss 316.5462 323.8218 lambda_51_loss 28.0336 27.8470 \n",
      "Epoch 76/100 loss -2914.0537 6297.8608 index_layer_3_loss -175.3401 285.3345 lambda_51_loss 314.3980 314.8112 lambda_51_loss 27.8350 27.6359 \n",
      "Epoch 77/100 loss -2830.1550 6266.2979 index_layer_3_loss -175.3114 283.5503 lambda_51_loss 396.9503 316.8477 lambda_51_loss 27.9122 27.8444 \n",
      "Epoch 78/100 loss -2917.5127 6495.7295 index_layer_3_loss -175.2775 295.3185 lambda_51_loss 310.4892 310.6715 lambda_51_loss 27.7548 27.8687 \n",
      "Epoch 79/100 loss -2901.2261 6273.8345 index_layer_3_loss -175.8963 284.2704 lambda_51_loss 340.6998 307.2834 lambda_51_loss 27.6000 28.1144 \n",
      "Epoch 80/100 loss -2913.2891 6352.0552 index_layer_3_loss -175.2696 287.7992 lambda_51_loss 312.2474 317.1301 lambda_51_loss 27.9854 27.8941 \n",
      "Epoch 81/100 loss -2895.3706 6382.6904 index_layer_3_loss -175.6361 289.4735 lambda_51_loss 339.0985 312.5598 lambda_51_loss 27.8253 28.0660 \n",
      "Epoch 82/100 loss -2907.0671 6222.2563 index_layer_3_loss -174.8790 281.5640 lambda_51_loss 309.1776 308.6352 lambda_51_loss 28.1335 28.2341 \n",
      "Epoch 83/100 loss -2907.6438 6408.6191 index_layer_3_loss -175.1147 290.8993 lambda_51_loss 310.0457 312.2925 lambda_51_loss 28.4604 27.8341 \n",
      "Epoch 84/100 loss -2922.0312 6139.0884 index_layer_3_loss -175.7945 277.0898 lambda_51_loss 311.9366 317.9140 lambda_51_loss 28.1923 27.9379 \n",
      "Epoch 85/100 loss -2921.5173 6324.6665 index_layer_3_loss -175.6531 286.5827 lambda_51_loss 310.6944 313.9840 lambda_51_loss 28.0850 27.9028 \n",
      "Epoch 86/100 loss -2903.4756 6413.3843 index_layer_3_loss -175.1144 290.7835 lambda_51_loss 316.9180 316.9284 lambda_51_loss 28.1894 28.0787 \n",
      "Epoch 87/100 loss -2930.2070 6262.8018 index_layer_3_loss -176.1047 283.5282 lambda_51_loss 312.7366 311.9089 lambda_51_loss 27.9151 28.0329 \n",
      "Epoch 88/100 loss -2895.9897 6526.8691 index_layer_3_loss -174.3662 296.7628 lambda_51_loss 313.4191 312.3200 lambda_51_loss 27.7916 27.9294 \n",
      "Epoch 89/100 loss -2928.5374 6240.3262 index_layer_3_loss -176.0958 282.2769 lambda_51_loss 315.3147 317.1210 lambda_51_loss 27.8064 27.7667 \n",
      "Epoch 90/100 loss -2916.2371 6083.4487 index_layer_3_loss -175.5112 274.4915 lambda_51_loss 314.8348 315.1863 lambda_51_loss 27.9152 27.8432 \n",
      "Epoch 91/100 loss -2918.7383 6227.8389 index_layer_3_loss -175.4401 281.6331 lambda_51_loss 314.5074 312.7622 lambda_51_loss 27.5557 28.2415 \n",
      "Epoch 92/100 loss -2929.0581 6289.7969 index_layer_3_loss -176.1865 284.7628 lambda_51_loss 316.9950 315.5184 lambda_51_loss 27.7677 27.9023 \n",
      "Epoch 93/100 loss -2925.9343 6097.7373 index_layer_3_loss -175.9801 275.3766 lambda_51_loss 315.3455 313.5544 lambda_51_loss 27.8323 27.6651 \n",
      "Epoch 94/100 loss -2931.5596 6192.0171 index_layer_3_loss -176.7542 279.9686 lambda_51_loss 324.7673 315.8383 lambda_51_loss 27.8757 27.6808 \n",
      "Epoch 95/100 loss -2921.4102 6055.2100 index_layer_3_loss -176.3557 272.9289 lambda_51_loss 327.0067 316.6029 lambda_51_loss 27.8697 28.0029 \n",
      "Epoch 96/100 loss -2907.0369 6180.1904 index_layer_3_loss -176.4072 279.4382 lambda_51_loss 346.6494 314.1833 lambda_51_loss 27.4457 27.7242 \n",
      "Epoch 97/100 loss -2949.0725 6495.2573 index_layer_3_loss -176.8862 295.1996 lambda_51_loss 311.4894 313.8698 lambda_51_loss 27.7162 27.7396 \n",
      "Epoch 98/100 loss -2931.4724 6167.3018 index_layer_3_loss -176.0417 278.8500 lambda_51_loss 308.3453 311.4164 lambda_51_loss 28.1015 27.8886 \n",
      "Epoch 99/100 loss -2922.9800 6421.9570 index_layer_3_loss -175.7585 291.2473 lambda_51_loss 310.2319 317.8052 lambda_51_loss 28.1959 27.9205 \n",
      "[200, 0.0001, 50000.0, 5, 0.0, 10.0]\n",
      "Epoch 0/200 loss -290.2756 1952.6669 index_layer_3_loss -176.4617 272.9467 lambda_51_loss 314.7327 311.2576 lambda_51_loss 27.7300 27.6676 \n",
      "Epoch 1/200 loss -279.0930 2074.6152 index_layer_3_loss -175.5570 286.6177 lambda_51_loss 321.3948 368.5282 lambda_51_loss 27.7297 27.2999 \n",
      "Epoch 2/200 loss -290.2199 2029.1910 index_layer_3_loss -175.7472 288.9745 lambda_51_loss 315.1195 309.8528 lambda_51_loss 27.3397 27.4466 \n",
      "Epoch 3/200 loss -288.8342 2000.9247 index_layer_3_loss -175.0920 283.1357 lambda_51_loss 313.5731 310.3219 lambda_51_loss 27.3053 27.4924 \n",
      "Epoch 4/200 loss -293.0469 1991.2571 index_layer_3_loss -176.0950 279.8402 lambda_51_loss 306.7959 316.8349 lambda_51_loss 28.0632 27.5221 \n",
      "Epoch 5/200 loss -283.9496 1945.1796 index_layer_3_loss -174.6887 272.4232 lambda_51_loss 313.0158 312.2780 lambda_51_loss 27.6478 27.0785 \n",
      "Epoch 6/200 loss -287.5966 1916.5111 index_layer_3_loss -174.6275 266.7414 lambda_51_loss 314.0500 313.7197 lambda_51_loss 27.1491 26.9084 \n",
      "Epoch 7/200 loss -291.6820 1964.3013 index_layer_3_loss -175.1861 276.8962 lambda_51_loss 311.7477 310.5769 lambda_51_loss 27.2501 26.9243 \n",
      "Epoch 8/200 loss -294.5659 1972.5591 index_layer_3_loss -175.0233 278.4471 lambda_51_loss 309.6222 310.1407 lambda_51_loss 27.0929 27.0183 \n",
      "Epoch 9/200 loss -297.2504 1986.0256 index_layer_3_loss -175.3704 279.8029 lambda_51_loss 309.8274 316.1864 lambda_51_loss 26.9774 27.0825 \n",
      "Epoch 10/200 loss -294.7888 1978.8654 index_layer_3_loss -175.4856 279.5065 lambda_51_loss 313.0201 309.3312 lambda_51_loss 26.9619 27.2002 \n",
      "Epoch 11/200 loss -294.6591 1923.8418 index_layer_3_loss -174.9086 268.8089 lambda_51_loss 309.7190 306.9636 lambda_51_loss 27.0165 27.2834 \n",
      "Epoch 12/200 loss -295.9998 1977.6566 index_layer_3_loss -175.3416 279.3028 lambda_51_loss 305.9738 304.6530 lambda_51_loss 27.4735 27.6490 \n",
      "Epoch 13/200 loss -294.9436 1937.3005 index_layer_3_loss -175.6156 266.5051 lambda_51_loss 308.1077 327.7775 lambda_51_loss 27.5027 27.6997 \n",
      "Epoch 14/200 loss -300.3548 1916.1083 index_layer_3_loss -175.9587 266.7589 lambda_51_loss 304.9053 308.1338 lambda_51_loss 27.4533 27.4180 \n",
      "Epoch 15/200 loss -297.3387 1863.8848 index_layer_3_loss -175.2077 257.2698 lambda_51_loss 302.9986 305.2278 lambda_51_loss 27.5701 27.2308 \n",
      "Epoch 16/200 loss -291.4181 1929.6912 index_layer_3_loss -175.0636 269.4792 lambda_51_loss 309.1864 312.4861 lambda_51_loss 27.4713 26.9809 \n",
      "Epoch 17/200 loss -304.8477 1896.2853 index_layer_3_loss -176.4645 263.7355 lambda_51_loss 307.3041 310.1573 lambda_51_loss 27.0170 26.7450 \n",
      "Epoch 18/200 loss -298.9004 1933.6002 index_layer_3_loss -175.3365 271.2271 lambda_51_loss 307.5758 307.9793 lambda_51_loss 27.0206 26.9485 \n",
      "Epoch 19/200 loss -296.7309 1910.5570 index_layer_3_loss -175.2591 266.5073 lambda_51_loss 311.3716 310.3667 lambda_51_loss 26.8193 26.7654 \n",
      "Epoch 20/200 loss -299.9899 1917.7297 index_layer_3_loss -175.4606 267.9579 lambda_51_loss 309.7930 306.8755 lambda_51_loss 26.7520 27.1065 \n",
      "Epoch 21/200 loss -298.8430 1901.9603 index_layer_3_loss -174.9827 265.4205 lambda_51_loss 307.7444 304.6289 lambda_51_loss 26.8326 27.0229 \n",
      "Epoch 22/200 loss -298.6248 1935.8137 index_layer_3_loss -175.1044 269.4912 lambda_51_loss 305.2358 317.3206 lambda_51_loss 27.1661 27.1037 \n",
      "Epoch 23/200 loss -302.8476 1944.2974 index_layer_3_loss -175.3966 273.4610 lambda_51_loss 304.5421 304.4061 lambda_51_loss 26.9593 27.2586 \n",
      "Epoch 24/200 loss -301.9005 1896.2535 index_layer_3_loss -175.5174 264.0537 lambda_51_loss 303.8438 302.2856 lambda_51_loss 27.1843 27.3699 \n"
     ]
    },
    {
     "name": "stdout",
     "output_type": "stream",
     "text": [
      "Epoch 25/200 loss -302.3771 1939.4246 index_layer_3_loss -176.0574 271.5502 lambda_51_loss 302.5044 306.2720 lambda_51_loss 27.5405 27.5402 \n",
      "Epoch 26/200 loss -305.0975 1914.5729 index_layer_3_loss -176.1031 267.1904 lambda_51_loss 302.6238 304.0284 lambda_51_loss 27.2794 27.4593 \n",
      "Epoch 27/200 loss -300.0219 1871.4479 index_layer_3_loss -175.3794 258.9129 lambda_51_loss 303.3044 304.4389 lambda_51_loss 27.3571 27.2445 \n",
      "Epoch 28/200 loss -288.9098 1908.2234 index_layer_3_loss -176.2708 266.1269 lambda_51_loss 320.5707 306.6794 lambda_51_loss 27.1873 27.0909 \n",
      "Epoch 29/200 loss -298.6306 1885.8657 index_layer_3_loss -175.4732 262.6166 lambda_51_loss 306.4257 304.1721 lambda_51_loss 27.2310 26.8611 \n",
      "Epoch 30/200 loss -304.0682 1909.5706 index_layer_3_loss -175.8103 266.8486 lambda_51_loss 304.8589 305.9171 lambda_51_loss 27.0124 26.9410 \n",
      "Epoch 31/200 loss -301.8738 1868.5396 index_layer_3_loss -175.3225 257.2494 lambda_51_loss 305.6327 314.1657 lambda_51_loss 26.9106 26.8127 \n",
      "Epoch 32/200 loss -305.4374 1857.5911 index_layer_3_loss -176.0588 256.6995 lambda_51_loss 306.9560 305.7267 lambda_51_loss 26.7901 26.8367 \n",
      "Epoch 33/200 loss -306.4283 1904.4978 index_layer_3_loss -176.1215 266.2414 lambda_51_loss 305.1623 304.1185 lambda_51_loss 26.9017 26.9172 \n",
      "Epoch 34/200 loss -303.4536 1850.3604 index_layer_3_loss -175.8390 255.1577 lambda_51_loss 306.5265 303.7957 lambda_51_loss 26.9215 27.0776 \n",
      "Epoch 35/200 loss -296.5598 1989.3199 index_layer_3_loss -174.7081 283.1631 lambda_51_loss 306.5011 301.7544 lambda_51_loss 27.0480 27.1750 \n",
      "Epoch 36/200 loss -305.7132 1963.2032 index_layer_3_loss -175.7708 277.4781 lambda_51_loss 303.1114 303.9129 lambda_51_loss 27.0029 27.1900 \n",
      "Epoch 37/200 loss -305.3929 1941.8679 index_layer_3_loss -175.7958 273.5263 lambda_51_loss 302.8550 303.7041 lambda_51_loss 27.0731 27.0532 \n",
      "Epoch 38/200 loss -305.1263 1931.5203 index_layer_3_loss -175.8595 269.8544 lambda_51_loss 300.7198 310.8084 lambda_51_loss 27.3451 27.1440 \n",
      "Epoch 39/200 loss -307.0041 1924.4031 index_layer_3_loss -176.3127 270.1200 lambda_51_loss 303.2436 302.3653 lambda_51_loss 27.1316 27.1438 \n",
      "Epoch 40/200 loss -309.4188 1996.2341 index_layer_3_loss -176.6027 284.4538 lambda_51_loss 302.9476 303.1228 lambda_51_loss 27.0647 27.0842 \n",
      "Epoch 41/200 loss -299.7556 1898.7771 index_layer_3_loss -174.8200 265.2593 lambda_51_loss 301.8899 303.4356 lambda_51_loss 27.2455 26.9045 \n",
      "Epoch 42/200 loss -308.9420 1856.3986 index_layer_3_loss -176.5651 256.8763 lambda_51_loss 302.5797 303.0074 lambda_51_loss 27.1304 26.9010 \n",
      "Epoch 43/200 loss -310.5769 1838.3612 index_layer_3_loss -176.7043 252.7457 lambda_51_loss 303.8367 306.0744 lambda_51_loss 26.9108 26.8559 \n",
      "Epoch 44/200 loss -304.2349 1809.8710 index_layer_3_loss -175.6829 247.3981 lambda_51_loss 304.2231 305.6138 lambda_51_loss 26.9957 26.7267 \n",
      "Epoch 45/200 loss -302.2903 1859.7034 index_layer_3_loss -175.9379 257.3301 lambda_51_loss 309.8313 305.0986 lambda_51_loss 26.7568 26.7954 \n",
      "Epoch 46/200 loss -308.3662 1820.1575 index_layer_3_loss -176.5246 248.6797 lambda_51_loss 305.7747 307.2900 lambda_51_loss 26.8482 26.9469 \n",
      "Epoch 47/200 loss -310.0736 1823.3770 index_layer_3_loss -176.3073 249.8181 lambda_51_loss 302.5571 304.2144 lambda_51_loss 26.8906 27.0072 \n",
      "Epoch 48/200 loss -311.8448 1894.1064 index_layer_3_loss -176.9174 263.3691 lambda_51_loss 302.6355 307.3794 lambda_51_loss 27.0107 26.9881 \n",
      "Epoch 49/200 loss -307.8131 1877.4868 index_layer_3_loss -176.3756 260.0712 lambda_51_loss 302.5679 307.8122 lambda_51_loss 27.1497 26.9319 \n",
      "Epoch 50/200 loss -307.7141 1843.7769 index_layer_3_loss -176.1296 254.1862 lambda_51_loss 302.3526 302.9183 lambda_51_loss 27.0581 26.9928 \n",
      "Epoch 51/200 loss -310.9725 1890.4482 index_layer_3_loss -177.3385 253.1033 lambda_51_loss 306.9891 352.0734 lambda_51_loss 26.8731 27.2858 \n",
      "Epoch 52/200 loss -308.4711 1863.0811 index_layer_3_loss -176.0616 257.3635 lambda_51_loss 301.8762 305.3903 lambda_51_loss 26.9961 27.0873 \n",
      "Epoch 53/200 loss -306.6639 1880.7231 index_layer_3_loss -176.1949 260.7012 lambda_51_loss 301.9634 306.9715 lambda_51_loss 27.2347 27.0245 \n",
      "Epoch 54/200 loss -311.1447 1806.6155 index_layer_3_loss -177.2198 246.8602 lambda_51_loss 303.9373 303.3070 lambda_51_loss 27.1017 26.9007 \n",
      "Epoch 55/200 loss -313.2242 1828.6267 index_layer_3_loss -177.3083 250.9706 lambda_51_loss 303.3857 303.3257 lambda_51_loss 26.9932 27.0448 \n",
      "Epoch 56/200 loss -313.1917 1903.6108 index_layer_3_loss -177.2685 266.2527 lambda_51_loss 302.7017 302.6591 lambda_51_loss 27.0449 26.9688 \n",
      "Epoch 57/200 loss -315.9686 1895.2700 index_layer_3_loss -178.1206 264.4923 lambda_51_loss 304.6650 302.2039 lambda_51_loss 26.9970 27.0604 \n",
      "Epoch 58/200 loss -309.4781 1835.3131 index_layer_3_loss -176.4083 250.3019 lambda_51_loss 302.9746 315.1818 lambda_51_loss 26.9589 26.8622 \n",
      "Epoch 59/200 loss -311.5713 1812.7869 index_layer_3_loss -176.8008 247.8104 lambda_51_loss 302.9230 305.1954 lambda_51_loss 26.9510 26.8540 \n",
      "Epoch 60/200 loss -311.6176 1866.5596 index_layer_3_loss -176.8681 258.3707 lambda_51_loss 304.6140 305.1328 lambda_51_loss 26.8109 26.9573 \n",
      "Epoch 61/200 loss -312.6330 1843.3411 index_layer_3_loss -176.6839 254.5139 lambda_51_loss 301.4862 300.4301 lambda_51_loss 26.9301 27.0341 \n",
      "Epoch 62/200 loss -312.0206 1835.1060 index_layer_3_loss -176.8502 251.8588 lambda_51_loss 301.2904 306.5172 lambda_51_loss 27.0940 26.9295 \n",
      "Epoch 63/200 loss -313.4086 1852.1914 index_layer_3_loss -176.6889 256.0392 lambda_51_loss 299.2923 301.9821 lambda_51_loss 27.0744 27.0013 \n",
      "Epoch 64/200 loss -308.8773 1885.5227 index_layer_3_loss -177.5596 262.6479 lambda_51_loss 307.4558 300.1700 lambda_51_loss 27.1465 27.2113 \n",
      "Epoch 65/200 loss -283.5000 1885.0828 index_layer_3_loss -176.3260 262.4503 lambda_51_loss 327.3556 303.3464 lambda_51_loss 27.0775 26.9485 \n",
      "Epoch 66/200 loss -285.9465 1889.5085 index_layer_3_loss -177.9233 263.2292 lambda_51_loss 331.8402 299.9165 lambda_51_loss 27.1830 27.3446 \n",
      "Epoch 67/200 loss -301.7456 1908.4468 index_layer_3_loss -176.2612 257.3857 lambda_51_loss 308.0583 349.9381 lambda_51_loss 27.1502 27.1580 \n",
      "Epoch 68/200 loss -303.3053 1897.8496 index_layer_3_loss -175.8536 264.4747 lambda_51_loss 304.7231 303.3481 lambda_51_loss 27.1240 27.2128 \n",
      "Epoch 69/200 loss -251.9402 1892.4933 index_layer_3_loss -175.2765 263.4879 lambda_51_loss 351.9900 304.1414 lambda_51_loss 27.2452 27.0912 \n",
      "Epoch 70/200 loss -302.8642 1942.9022 index_layer_3_loss -174.9514 263.9823 lambda_51_loss 302.0085 354.6760 lambda_51_loss 26.9884 26.8315 \n",
      "Epoch 71/200 loss -302.3298 1870.6117 index_layer_3_loss -175.6761 259.3690 lambda_51_loss 307.1675 305.5958 lambda_51_loss 26.8883 26.8171 \n",
      "Epoch 72/200 loss -300.6689 1915.0159 index_layer_3_loss -175.2399 268.6158 lambda_51_loss 307.3470 303.2485 lambda_51_loss 26.8183 26.8688 \n",
      "Epoch 73/200 loss -301.6291 1887.2106 index_layer_3_loss -174.5748 262.5663 lambda_51_loss 303.2035 306.3565 lambda_51_loss 26.8042 26.8022 \n",
      "Epoch 74/200 loss -298.5223 1918.2750 index_layer_3_loss -174.2611 269.0742 lambda_51_loss 304.8623 304.2212 lambda_51_loss 26.7921 26.8683 \n",
      "Epoch 75/200 loss -299.8824 1896.5057 index_layer_3_loss -174.8612 263.7020 lambda_51_loss 306.3358 309.8743 lambda_51_loss 26.8088 26.8121 \n",
      "Epoch 76/200 loss -301.2435 1883.5490 index_layer_3_loss -175.0792 261.8167 lambda_51_loss 304.1332 304.0347 lambda_51_loss 27.0019 27.0431 \n",
      "Epoch 77/200 loss -308.1362 1868.4319 index_layer_3_loss -176.2234 258.8333 lambda_51_loss 301.9311 302.2373 lambda_51_loss 27.1050 27.2028 \n",
      "Epoch 78/200 loss -299.9426 1893.4653 index_layer_3_loss -175.0284 263.4748 lambda_51_loss 305.7600 305.2184 lambda_51_loss 26.9439 27.0873 \n",
      "Epoch 79/200 loss -301.6167 1942.3254 index_layer_3_loss -174.6643 273.4666 lambda_51_loss 301.4619 303.7431 lambda_51_loss 27.0243 27.1249 \n",
      "Epoch 80/200 loss -294.1494 1890.3424 index_layer_3_loss -175.2241 262.7191 lambda_51_loss 311.6020 306.3708 lambda_51_loss 27.0369 27.0376 \n",
      "Epoch 81/200 loss -304.8342 1884.2053 index_layer_3_loss -175.4351 260.4869 lambda_51_loss 301.3508 312.6793 lambda_51_loss 27.0991 26.9092 \n",
      "Epoch 82/200 loss -301.7890 1879.5638 index_layer_3_loss -175.3831 261.5491 lambda_51_loss 304.5249 302.7731 lambda_51_loss 27.0602 26.9045 \n",
      "Epoch 83/200 loss -304.0894 1899.5459 index_layer_3_loss -175.3140 255.7552 lambda_51_loss 302.1151 351.3153 lambda_51_loss 27.0365 26.9455 \n"
     ]
    },
    {
     "name": "stdout",
     "output_type": "stream",
     "text": [
      "Epoch 84/200 loss -302.7470 1890.3071 index_layer_3_loss -174.9582 261.4899 lambda_51_loss 302.2205 312.1826 lambda_51_loss 26.9824 27.0675 \n",
      "Epoch 85/200 loss -297.9939 1893.8002 index_layer_3_loss -174.9895 262.2949 lambda_51_loss 308.1354 314.8877 lambda_51_loss 26.8818 26.7438 \n",
      "Epoch 86/200 loss -305.0419 1951.6636 index_layer_3_loss -175.2630 275.8480 lambda_51_loss 301.3273 301.9173 lambda_51_loss 26.9946 27.0506 \n",
      "Epoch 87/200 loss -205.6192 1933.8146 index_layer_3_loss -175.2702 272.3911 lambda_51_loss 401.4774 301.8677 lambda_51_loss 26.9254 26.9991 \n",
      "Epoch 88/200 loss -302.4000 1980.6339 index_layer_3_loss -175.4126 272.0439 lambda_51_loss 305.3201 351.9526 lambda_51_loss 26.9343 26.8462 \n",
      "Epoch 89/200 loss -302.0604 1934.4701 index_layer_3_loss -175.2378 272.8399 lambda_51_loss 303.6697 301.0157 lambda_51_loss 27.0459 26.9255 \n",
      "Epoch 90/200 loss -307.1498 1950.5594 index_layer_3_loss -175.9519 275.7060 lambda_51_loss 303.2743 302.4433 lambda_51_loss 26.9335 26.9586 \n",
      "Epoch 91/200 loss -306.9033 1885.4286 index_layer_3_loss -175.6139 262.5576 lambda_51_loss 302.1199 303.2147 lambda_51_loss 26.9047 26.9426 \n",
      "Epoch 92/200 loss -308.1814 1864.4801 index_layer_3_loss -175.5765 258.6200 lambda_51_loss 299.2974 302.4927 lambda_51_loss 27.0404 26.8888 \n",
      "Epoch 93/200 loss -308.6207 1872.0233 index_layer_3_loss -175.9082 259.9861 lambda_51_loss 300.6935 303.4437 lambda_51_loss 27.0227 26.8649 \n",
      "Epoch 94/200 loss -306.4065 1890.1016 index_layer_3_loss -175.4765 262.3954 lambda_51_loss 300.9517 309.0409 lambda_51_loss 27.0024 26.9083 \n",
      "Epoch 95/200 loss -309.8334 1894.5712 index_layer_3_loss -176.1103 264.5474 lambda_51_loss 301.9699 302.6459 lambda_51_loss 26.8748 26.9188 \n",
      "Epoch 96/200 loss -307.1979 1887.4031 index_layer_3_loss -175.9395 263.1533 lambda_51_loss 303.0134 302.3237 lambda_51_loss 26.9486 26.9313 \n",
      "Epoch 97/200 loss -285.4247 1909.9792 index_layer_3_loss -176.2985 268.1099 lambda_51_loss 326.4470 300.0265 lambda_51_loss 26.9621 26.9404 \n",
      "Epoch 98/200 loss -312.1197 1881.4513 index_layer_3_loss -176.3634 262.3782 lambda_51_loss 301.5270 297.9998 lambda_51_loss 26.8170 27.1561 \n",
      "Epoch 99/200 loss -308.0142 1869.6289 index_layer_3_loss -175.5057 259.3465 lambda_51_loss 298.0377 301.8032 lambda_51_loss 27.1477 27.1093 \n",
      "Epoch 100/200 loss -307.2523 1902.4755 index_layer_3_loss -175.6460 265.9931 lambda_51_loss 300.9182 300.9354 lambda_51_loss 27.0059 27.1575 \n",
      "Epoch 101/200 loss -295.5513 1919.2466 index_layer_3_loss -174.2561 269.3573 lambda_51_loss 304.6205 302.5386 lambda_51_loss 27.1109 26.9921 \n",
      "Epoch 102/200 loss -302.6383 1916.2393 index_layer_3_loss -174.6373 268.2117 lambda_51_loss 299.2067 305.5028 lambda_51_loss 27.1342 26.9678 \n",
      "Epoch 103/200 loss -300.2088 1852.6797 index_layer_3_loss -174.0563 256.4907 lambda_51_loss 300.4205 301.4211 lambda_51_loss 26.9652 26.8805 \n",
      "Epoch 104/200 loss -305.4617 1892.4761 index_layer_3_loss -175.2917 263.9926 lambda_51_loss 302.1053 302.3738 lambda_51_loss 26.8891 27.0139 \n",
      "Epoch 105/200 loss -295.9917 1879.6189 index_layer_3_loss -175.4015 261.5729 lambda_51_loss 312.2747 302.0673 lambda_51_loss 26.8741 26.9687 \n",
      "Epoch 106/200 loss -307.5591 1857.5046 index_layer_3_loss -175.7943 256.7581 lambda_51_loss 301.7573 304.4963 lambda_51_loss 26.9655 26.9218 \n",
      "Epoch 107/200 loss -267.1262 1866.8715 index_layer_3_loss -175.9963 258.5181 lambda_51_loss 343.8880 304.1524 lambda_51_loss 26.8967 27.0129 \n",
      "Epoch 108/200 loss -260.4664 1962.3651 index_layer_3_loss -174.3198 278.2189 lambda_51_loss 342.0475 301.2455 lambda_51_loss 26.9085 27.0025 \n",
      "Epoch 109/200 loss -286.9085 1948.9507 index_layer_3_loss -173.9994 275.2546 lambda_51_loss 312.4423 299.5631 lambda_51_loss 27.0646 27.3115 \n",
      "Epoch 110/200 loss -292.3766 1970.7444 index_layer_3_loss -172.8409 279.7513 lambda_51_loss 300.1218 299.8307 lambda_51_loss 27.1706 27.2157 \n",
      "Epoch 111/200 loss -286.7901 2009.9348 index_layer_3_loss -171.6242 287.3374 lambda_51_loss 299.3029 301.6271 lambda_51_loss 27.2028 27.1621 \n",
      "Epoch 112/200 loss -279.3666 2059.7632 index_layer_3_loss -170.3500 297.0019 lambda_51_loss 299.1197 302.4934 lambda_51_loss 27.3264 27.2260 \n",
      "Epoch 113/200 loss -275.7383 2025.5000 index_layer_3_loss -169.9135 290.4151 lambda_51_loss 301.3828 300.5422 lambda_51_loss 27.2446 27.2882 \n",
      "Epoch 114/200 loss -280.5145 2054.4844 index_layer_3_loss -170.5190 296.3238 lambda_51_loss 298.8444 302.4706 lambda_51_loss 27.3236 27.0395 \n",
      "Epoch 115/200 loss -275.9843 1984.6846 index_layer_3_loss -169.8526 282.3502 lambda_51_loss 303.8694 302.7455 lambda_51_loss 26.9409 27.0188 \n",
      "Epoch 116/200 loss -272.1036 2061.4731 index_layer_3_loss -168.8703 297.8385 lambda_51_loss 301.9484 302.5075 lambda_51_loss 27.0300 26.9773 \n",
      "Epoch 117/200 loss -266.1258 2022.0430 index_layer_3_loss -167.5717 289.6718 lambda_51_loss 301.9593 304.9571 lambda_51_loss 26.9773 26.8727 \n",
      "Epoch 118/200 loss -248.3755 2075.6714 index_layer_3_loss -168.6072 300.9570 lambda_51_loss 325.3001 302.5011 lambda_51_loss 26.9360 26.8385 \n",
      "Epoch 119/200 loss -271.9024 2041.5026 index_layer_3_loss -169.1902 293.8799 lambda_51_loss 305.2656 304.9594 lambda_51_loss 26.8783 26.7144 \n",
      "Epoch 120/200 loss -271.0587 2023.4257 index_layer_3_loss -168.5689 290.7557 lambda_51_loss 304.4724 302.3318 lambda_51_loss 26.7313 26.7315 \n",
      "Epoch 121/200 loss -266.8555 2033.8147 index_layer_3_loss -167.8160 292.7091 lambda_51_loss 302.7338 303.1647 lambda_51_loss 26.9491 26.7105 \n",
      "Epoch 122/200 loss -269.4604 2023.3921 index_layer_3_loss -168.2378 290.5799 lambda_51_loss 304.0237 302.6639 lambda_51_loss 26.7705 26.7829 \n",
      "Epoch 123/200 loss -273.2795 1979.4202 index_layer_3_loss -168.7180 281.8260 lambda_51_loss 302.5056 303.0453 lambda_51_loss 26.7805 26.7245 \n",
      "Epoch 124/200 loss -273.2916 2052.8564 index_layer_3_loss -168.7453 296.5798 lambda_51_loss 301.7537 302.3530 lambda_51_loss 26.8681 26.7604 \n",
      "Epoch 125/200 loss -272.1103 1998.1136 index_layer_3_loss -168.7114 284.9595 lambda_51_loss 304.7536 304.6107 lambda_51_loss 26.6693 26.8705 \n",
      "Epoch 126/200 loss -271.0325 1995.9785 index_layer_3_loss -168.4532 284.6106 lambda_51_loss 303.2406 303.9279 lambda_51_loss 26.7993 26.8998 \n",
      "Epoch 127/200 loss -277.8218 2067.8833 index_layer_3_loss -169.6861 299.0651 lambda_51_loss 301.6594 303.4755 lambda_51_loss 26.8949 26.9082 \n",
      "Epoch 128/200 loss -272.3972 1976.5688 index_layer_3_loss -168.6278 281.3732 lambda_51_loss 300.9618 301.4543 lambda_51_loss 26.9780 26.8248 \n",
      "Epoch 129/200 loss -281.9668 1974.7104 index_layer_3_loss -170.7566 277.8035 lambda_51_loss 303.2714 315.5468 lambda_51_loss 26.8545 27.0146 \n",
      "Epoch 130/200 loss -284.4807 1950.4722 index_layer_3_loss -171.2103 275.6364 lambda_51_loss 301.9001 302.8986 lambda_51_loss 26.9671 26.9392 \n",
      "Epoch 131/200 loss -283.6374 2016.1199 index_layer_3_loss -170.7889 288.9714 lambda_51_loss 301.2850 300.6250 lambda_51_loss 26.9022 27.0638 \n",
      "Epoch 132/200 loss -284.1849 1927.7632 index_layer_3_loss -170.7257 271.2198 lambda_51_loss 298.9789 300.6713 lambda_51_loss 27.0465 27.0993 \n",
      "Epoch 133/200 loss -291.6876 1955.9677 index_layer_3_loss -172.2310 276.9748 lambda_51_loss 298.5812 300.8410 lambda_51_loss 27.0886 27.0253 \n",
      "Epoch 134/200 loss -288.0125 1930.3555 index_layer_3_loss -172.0026 272.3635 lambda_51_loss 302.5386 299.1066 lambda_51_loss 26.9462 26.9431 \n",
      "Epoch 135/200 loss -287.6679 1909.8091 index_layer_3_loss -171.6609 267.8112 lambda_51_loss 300.1956 300.6586 lambda_51_loss 27.0441 27.0094 \n",
      "Epoch 136/200 loss -292.0012 1894.3086 index_layer_3_loss -172.5141 264.9620 lambda_51_loss 300.6852 300.4137 lambda_51_loss 26.9884 26.9085 \n",
      "Epoch 137/200 loss -295.7317 1875.9263 index_layer_3_loss -172.9434 261.1891 lambda_51_loss 299.3167 301.1488 lambda_51_loss 26.9669 26.8832 \n",
      "Epoch 138/200 loss -292.2298 1906.1929 index_layer_3_loss -172.3956 267.3591 lambda_51_loss 300.1152 300.0057 lambda_51_loss 26.9633 26.9392 \n",
      "Epoch 139/200 loss -293.3118 1945.2594 index_layer_3_loss -173.3461 264.6446 lambda_51_loss 304.9029 353.5237 lambda_51_loss 26.8516 26.8513 \n",
      "Epoch 140/200 loss -294.0095 1875.7368 index_layer_3_loss -172.8400 260.7836 lambda_51_loss 300.7206 302.3097 lambda_51_loss 26.9470 26.9509 \n",
      "Epoch 141/200 loss -289.3225 1894.3359 index_layer_3_loss -173.0220 263.5156 lambda_51_loss 305.1898 307.6945 lambda_51_loss 27.0597 26.9063 \n"
     ]
    },
    {
     "name": "stdout",
     "output_type": "stream",
     "text": [
      "Epoch 142/200 loss -296.6967 1843.7217 index_layer_3_loss -173.4310 254.2750 lambda_51_loss 301.5973 303.9929 lambda_51_loss 26.8861 26.8353 \n",
      "Epoch 143/200 loss -286.6950 1930.2834 index_layer_3_loss -173.8297 260.9551 lambda_51_loss 313.7003 356.0408 lambda_51_loss 26.8753 26.9467 \n",
      "Epoch 144/200 loss -299.6924 1895.3694 index_layer_3_loss -174.1020 264.8458 lambda_51_loss 302.2073 302.3188 lambda_51_loss 26.8611 26.8822 \n",
      "Epoch 145/200 loss -297.9072 1853.5514 index_layer_3_loss -173.6978 257.1692 lambda_51_loss 301.5535 299.1672 lambda_51_loss 26.9028 26.8538 \n",
      "Epoch 146/200 loss -290.9309 1826.8402 index_layer_3_loss -174.4656 248.6220 lambda_51_loss 312.6497 314.7992 lambda_51_loss 26.8747 26.8931 \n",
      "Epoch 147/200 loss -266.2714 1885.8279 index_layer_3_loss -174.1140 263.4411 lambda_51_loss 335.5013 300.1341 lambda_51_loss 26.8797 26.8488 \n",
      "Epoch 148/200 loss -266.6442 1920.9614 index_layer_3_loss -173.1870 270.3491 lambda_51_loss 330.3315 299.5731 lambda_51_loss 26.8959 26.9643 \n",
      "Epoch 149/200 loss -294.3477 1968.9758 index_layer_3_loss -173.0705 279.8034 lambda_51_loss 301.7567 301.1789 lambda_51_loss 26.9248 26.8780 \n",
      "Epoch 150/200 loss -296.8896 1970.8225 index_layer_3_loss -173.6337 280.2808 lambda_51_loss 301.5685 298.8549 lambda_51_loss 26.9711 27.0564 \n",
      "Epoch 151/200 loss -292.6990 1912.1742 index_layer_3_loss -172.5292 268.3427 lambda_51_loss 299.6162 299.9448 lambda_51_loss 27.0331 27.0516 \n",
      "Epoch 152/200 loss -291.6264 1995.3699 index_layer_3_loss -172.0031 284.0044 lambda_51_loss 296.9326 304.5091 lambda_51_loss 27.1456 27.0839 \n",
      "Epoch 153/200 loss -292.6247 1969.4629 index_layer_3_loss -172.6396 280.0023 lambda_51_loss 299.3117 299.0569 lambda_51_loss 27.1262 27.0394 \n",
      "Epoch 154/200 loss -297.5536 1964.6625 index_layer_3_loss -173.0440 279.3488 lambda_51_loss 298.7674 298.3801 lambda_51_loss 26.8899 26.9538 \n",
      "Epoch 155/200 loss -288.9500 1999.5139 index_layer_3_loss -172.2899 286.0595 lambda_51_loss 302.3536 299.6211 lambda_51_loss 27.0146 26.9595 \n",
      "Epoch 156/200 loss -286.1389 1949.4072 index_layer_3_loss -171.2056 274.6687 lambda_51_loss 299.9040 305.6942 lambda_51_loss 26.9985 27.0370 \n",
      "Epoch 157/200 loss -294.2902 1945.2195 index_layer_3_loss -172.5867 275.4466 lambda_51_loss 298.7919 299.8902 lambda_51_loss 26.9852 26.8096 \n",
      "Epoch 158/200 loss -294.0609 1944.7607 index_layer_3_loss -172.8625 274.8800 lambda_51_loss 301.7010 301.6393 lambda_51_loss 26.8550 26.8721 \n",
      "Epoch 159/200 loss -301.0180 1965.9504 index_layer_3_loss -173.5692 279.1628 lambda_51_loss 298.5442 300.7095 lambda_51_loss 26.8284 26.9427 \n",
      "Epoch 160/200 loss -297.8418 1973.8301 index_layer_3_loss -173.0487 281.1326 lambda_51_loss 298.6654 299.6551 lambda_51_loss 26.8736 26.8512 \n",
      "Epoch 161/200 loss -290.3589 1986.1549 index_layer_3_loss -172.1784 283.4585 lambda_51_loss 302.5156 300.5351 lambda_51_loss 26.8018 26.8327 \n",
      "Epoch 162/200 loss -292.0322 1995.6820 index_layer_3_loss -172.4301 284.2059 lambda_51_loss 301.4492 305.7090 lambda_51_loss 26.8669 26.8943 \n",
      "Epoch 163/200 loss -295.2652 1906.9607 index_layer_3_loss -172.9241 266.6114 lambda_51_loss 299.1359 306.1071 lambda_51_loss 27.0219 26.7796 \n",
      "Epoch 164/200 loss -297.1123 1942.6086 index_layer_3_loss -173.3631 274.5713 lambda_51_loss 300.0529 302.1105 lambda_51_loss 26.9651 26.7642 \n",
      "Epoch 165/200 loss -299.8825 1967.7166 index_layer_3_loss -173.5819 279.5114 lambda_51_loss 298.2261 301.7379 lambda_51_loss 26.9801 26.8422 \n",
      "Epoch 166/200 loss -297.3932 1896.2078 index_layer_3_loss -172.9531 263.9503 lambda_51_loss 298.4558 307.0374 lambda_51_loss 26.8917 26.9419 \n",
      "Epoch 167/200 loss -288.7821 1976.1823 index_layer_3_loss -174.1801 281.1242 lambda_51_loss 313.0969 301.7519 lambda_51_loss 26.9021 26.8809 \n",
      "Epoch 168/200 loss -295.8273 1877.5309 index_layer_3_loss -173.3004 261.8589 lambda_51_loss 300.9983 298.6019 lambda_51_loss 26.9676 26.9634 \n",
      "Epoch 169/200 loss -297.8343 1944.5374 index_layer_3_loss -173.4514 274.9890 lambda_51_loss 300.9998 300.7325 lambda_51_loss 26.8423 26.8860 \n",
      "Epoch 170/200 loss -299.5978 1888.5962 index_layer_3_loss -174.1720 263.9513 lambda_51_loss 302.2469 300.0320 lambda_51_loss 26.9015 26.8808 \n",
      "Epoch 171/200 loss -300.8734 1944.1234 index_layer_3_loss -174.1615 274.6744 lambda_51_loss 300.5221 301.6456 lambda_51_loss 26.9412 26.9106 \n",
      "Epoch 172/200 loss -295.0309 1871.9009 index_layer_3_loss -173.5070 260.6540 lambda_51_loss 303.3340 300.2948 lambda_51_loss 26.9170 26.8336 \n",
      "Epoch 173/200 loss -301.1061 1887.1583 index_layer_3_loss -174.3977 263.2334 lambda_51_loss 300.5048 302.5654 lambda_51_loss 27.0378 26.8426 \n",
      "Epoch 174/200 loss -302.8821 1864.7817 index_layer_3_loss -174.1790 259.0465 lambda_51_loss 298.5839 300.6392 lambda_51_loss 26.9429 26.8910 \n",
      "Epoch 175/200 loss -306.7628 1951.0955 index_layer_3_loss -174.9160 276.4348 lambda_51_loss 299.3391 299.3862 lambda_51_loss 26.8478 26.9535 \n",
      "Epoch 176/200 loss -303.0564 1883.7832 index_layer_3_loss -174.3787 263.0860 lambda_51_loss 297.4171 299.1615 lambda_51_loss 27.1420 26.9192 \n",
      "Epoch 177/200 loss -302.8445 1880.7028 index_layer_3_loss -174.9004 262.3324 lambda_51_loss 302.1613 299.5222 lambda_51_loss 26.9496 26.9519 \n",
      "Epoch 178/200 loss -302.6510 1911.3070 index_layer_3_loss -174.2889 268.4548 lambda_51_loss 299.6832 300.2081 lambda_51_loss 26.9110 26.8825 \n",
      "Epoch 179/200 loss -302.2159 1903.7538 index_layer_3_loss -175.0576 266.9250 lambda_51_loss 303.8228 299.6132 lambda_51_loss 26.9250 26.9516 \n",
      "Epoch 180/200 loss -307.0654 1967.1337 index_layer_3_loss -174.9581 276.6458 lambda_51_loss 299.3925 314.5558 lambda_51_loss 26.8333 26.9349 \n",
      "Epoch 181/200 loss -307.9560 1914.1591 index_layer_3_loss -175.2079 268.9402 lambda_51_loss 297.8849 298.8902 lambda_51_loss 27.0198 27.0568 \n",
      "Epoch 182/200 loss -305.6190 1839.8689 index_layer_3_loss -174.9451 254.2597 lambda_51_loss 300.3787 300.0854 lambda_51_loss 26.8728 26.8485 \n",
      "Epoch 183/200 loss -301.4167 1877.5737 index_layer_3_loss -173.8577 261.6151 lambda_51_loss 299.3841 301.1069 lambda_51_loss 26.8488 26.8391 \n",
      "Epoch 184/200 loss -308.8233 1890.1803 index_layer_3_loss -175.4661 263.7231 lambda_51_loss 299.7226 302.5086 lambda_51_loss 26.8785 26.9056 \n",
      "Epoch 185/200 loss -308.9169 1883.5161 index_layer_3_loss -175.5524 262.7733 lambda_51_loss 299.6079 300.2103 lambda_51_loss 26.9237 26.9439 \n",
      "Epoch 186/200 loss -307.4479 1843.2013 index_layer_3_loss -176.2481 253.8724 lambda_51_loss 304.5959 304.7714 lambda_51_loss 26.9197 26.9068 \n",
      "Epoch 187/200 loss -311.1236 1879.8713 index_layer_3_loss -175.9898 262.1342 lambda_51_loss 300.2841 300.3903 lambda_51_loss 26.8541 26.8810 \n",
      "Epoch 188/200 loss -308.7804 1884.1857 index_layer_3_loss -175.7900 263.3213 lambda_51_loss 299.7575 299.1901 lambda_51_loss 27.0412 26.8389 \n",
      "Epoch 189/200 loss -261.0297 1855.9677 index_layer_3_loss -175.4035 257.1234 lambda_51_loss 347.0634 298.6645 lambda_51_loss 26.8924 27.1686 \n",
      "Epoch 190/200 loss -309.3910 1882.6145 index_layer_3_loss -176.1653 262.1265 lambda_51_loss 300.0589 298.1756 lambda_51_loss 27.1376 27.3806 \n",
      "Epoch 191/200 loss -303.3019 1884.6874 index_layer_3_loss -175.1608 262.6416 lambda_51_loss 299.4469 299.0085 lambda_51_loss 27.3055 27.2471 \n",
      "Epoch 192/200 loss -304.5123 1909.3135 index_layer_3_loss -175.1138 267.6422 lambda_51_loss 298.5986 299.5570 lambda_51_loss 27.2458 27.1545 \n",
      "Epoch 193/200 loss -299.3661 1879.8580 index_layer_3_loss -174.1430 261.4987 lambda_51_loss 300.5479 298.8296 lambda_51_loss 27.0801 27.3535 \n",
      "Epoch 194/200 loss -294.6588 1858.4977 index_layer_3_loss -173.7337 257.4549 lambda_51_loss 299.6410 299.8269 lambda_51_loss 27.4369 27.1397 \n",
      "Epoch 195/200 loss -290.7489 1861.9446 index_layer_3_loss -172.7913 258.2610 lambda_51_loss 300.3662 299.8905 lambda_51_loss 27.2841 27.0749 \n",
      "Epoch 196/200 loss -296.0993 1826.4470 index_layer_3_loss -173.2673 251.4608 lambda_51_loss 298.8636 298.5922 lambda_51_loss 27.1374 27.0551 \n",
      "Epoch 197/200 loss -297.8104 1877.8831 index_layer_3_loss -173.3716 261.7362 lambda_51_loss 300.1455 300.0497 lambda_51_loss 26.8902 26.9152 \n",
      "Epoch 198/200 loss -277.0758 1846.1976 index_layer_3_loss -172.3499 254.3992 lambda_51_loss 315.2687 305.8997 lambda_51_loss 26.9405 26.8302 \n",
      "Epoch 199/200 loss -292.7292 1853.6765 index_layer_3_loss -172.8372 256.9894 lambda_51_loss 302.8459 298.9232 lambda_51_loss 26.8611 26.9806 \n"
     ]
    }
   ],
   "source": [
    "hists_bg_KL = []\n",
    "for i, s in enumerate(Eschedule):\n",
    "    print(s)#'high_energy =', s[0], 'weight_ML =', s[1], 'epochs =', s[2])\n",
    "    sys.stdout.flush()\n",
    "    hist_bg_KL = bg.train_flexible(X0, xval=xval, epochs=s[0], lr=s[1], batch_size=batchsize_KL,\n",
    "                                   verbose=1, high_energy=s[2], max_energy=1e10,\n",
    "                                   weight_ML=s[3], weight_KL=1.0, temperature=temperature, weight_MC=0.0, weight_W2=s[4],\n",
    "                                   weight_RCEnt=s[5], rc_func=model.dimer_distance_tf, rc_min=0.5, rc_max=2.5,\n",
    "                                   std=1.0, reg_Jxz=0.0, return_test_energies=True)\n",
    "    hists_bg_KL.append(hist_bg_KL)"
   ]
  },
  {
   "cell_type": "code",
   "execution_count": null,
   "metadata": {},
   "outputs": [],
   "source": [
    "bg.save('temp.pkl')"
   ]
  },
  {
   "cell_type": "code",
   "execution_count": null,
   "metadata": {},
   "outputs": [],
   "source": [
    "anotherModel = invnet(model.dim, 'RRRRRRRR', energy_model=model, nl_layers=4, nl_hidden=200, #100\n",
    "            nl_activation='relu', nl_activation_scale='tanh', whiten=X0noise)\n",
    "anotherModel = anotherModel.load('temp.pkl',ParticleDimer())"
   ]
  },
  {
   "cell_type": "code",
   "execution_count": null,
   "metadata": {},
   "outputs": [],
   "source": [
    "\n"
   ]
  },
  {
   "cell_type": "code",
   "execution_count": null,
   "metadata": {},
   "outputs": [],
   "source": [
    "xeners = []\n",
    "zeners = []\n",
    "for h in hists_bg_KL:\n",
    "    xeners += h[3]\n",
    "    zeners += h[4]\n",
    "hist_bg_KL_combined = [hists_bg_KL[0][0], \n",
    "                       np.vstack([h[1] for h in hists_bg_KL]),\n",
    "                       np.vstack([h[2] for h in hists_bg_KL]),\n",
    "                       xeners, zeners]"
   ]
  },
  {
   "cell_type": "code",
   "execution_count": null,
   "metadata": {},
   "outputs": [],
   "source": [
    "def plot_convergence(hist_ML, hist_KL, enerx_cut, enerz_cut, MLcol=1, KLcol=2):\n",
    "    fig, axes = plt.subplots(nrows=3, ncols=1, figsize=(5, 10))\n",
    "    niter1 = len(hist_ML[0])\n",
    "    niter2 = hist_KL[1].shape[0]\n",
    "    niter = niter1 + niter2\n",
    "    # ML loss\n",
    "    losses_ML = np.concatenate([hist_ML[0], hist_KL[1][:, MLcol]])\n",
    "    xticks = np.arange(niter1 + niter2) + 1\n",
    "    axes[0].plot(xticks, losses_ML, color='black')\n",
    "    axes[0].set_xlim(0, niter + 1)\n",
    "    axes[0].set_ylabel('ML loss')\n",
    "    axes[0].axvline(x=200, color='red', linestyle='--', linewidth=3)\n",
    "    # KL loss\n",
    "    losses_KL = hist_KL[1][:, KLcol]\n",
    "    xticks = np.arange(niter1, niter1 + niter2) + 1\n",
    "    axes[1].plot(xticks, losses_KL, color='black')\n",
    "    axes[1].set_xlim(0, niter + 1)\n",
    "    axes[1].set_ylabel('KL loss')\n",
    "    axes[1].axvline(x=200, color='red', linestyle='--', linewidth=3)\n",
    "    # low energy fractions\n",
    "    enerx = hist_ML[2] + hist_KL[3]\n",
    "    enerz = hist_ML[3] + hist_KL[4]\n",
    "    lef_x = low_energy_fraction(enerx, enerx_cut)\n",
    "    lef_z = low_energy_fraction(enerz, enerz_cut)\n",
    "    axes[2].plot(lef_x, color='black', label='x')\n",
    "    axes[2].plot(lef_z, color='blue', label='z')\n",
    "    axes[2].set_xlim(0, niter + 1)\n",
    "    axes[2].set_ylim(0, 1.05)\n",
    "    axes[2].axvline(x=200, color='red', linestyle='--', linewidth=3)\n",
    "    axes[2].set_ylabel('Training iterations')\n",
    "    axes[2].set_ylabel('Low energy fraction')\n",
    "    axes[2].legend()\n",
    "    return fig, axes"
   ]
  },
  {
   "cell_type": "code",
   "execution_count": null,
   "metadata": {},
   "outputs": [],
   "source": [
    "def energy_cut_z(ndim, nstd=3):\n",
    "    z = np.random.randn(10000, ndim)\n",
    "    zener = 0.5 * np.sum(z**2, axis=1)\n",
    "    #return zener\n",
    "    std = np.sqrt(np.mean((zener - zener.mean())**2))\n",
    "    return zener.mean() + nstd*std"
   ]
  },
  {
   "cell_type": "code",
   "execution_count": null,
   "metadata": {},
   "outputs": [],
   "source": [
    "zener = energy_cut_z(model.dim, nstd=3)\n",
    "#plt.hist(zener, 100);"
   ]
  },
  {
   "cell_type": "code",
   "execution_count": null,
   "metadata": {},
   "outputs": [],
   "source": [
    "xcut = 80\n",
    "zcut = energy_cut_z(model.dim, nstd=3)\n",
    "print('zcut = ', zcut)\n",
    "#hist_bg_KL_arr = np.vstack([hist_bg_KL[1] for hist_bg_KL in hists_bg_KL])\n",
    "fig, axes = plot_convergence(hist_bg_ML, hist_bg_KL_combined, xcut, zcut, MLcol=1, KLcol=2);\n",
    "axes[1].semilogy()\n",
    "#plt.savefig(paper_dir + 'figs/particles/training_convergence.pdf', bbox_inches='tight', transparent=True)"
   ]
  },
  {
   "cell_type": "code",
   "execution_count": null,
   "metadata": {},
   "outputs": [],
   "source": [
    "_, sample_x, _, energies_x, _ = bg.sample(nsample=20000)\n",
    "sample_d = model.dimer_distance(sample_x)\n",
    "plt.hist(sample_d[sample_d < 3], 100, log=True)\n",
    "plt.xlim(0, 3)"
   ]
  },
  {
   "cell_type": "code",
   "execution_count": null,
   "metadata": {},
   "outputs": [],
   "source": [
    "plt.hist(energies_x[np.bitwise_and(energies_x<100, sample_d<1.5)], 100, color='yellow', density=True);\n",
    "plt.hist(energies_x[np.bitwise_and(energies_x<100, sample_d>1.5)], 100, color='green', density=True);\n",
    "plt.hist(model.energy(traj_open_train), 100, color='blue', alpha=0.5, density=True);\n",
    "plt.hist(model.energy(traj_closed_train), 100, color='red', alpha=0.5, density=True);"
   ]
  },
  {
   "cell_type": "code",
   "execution_count": null,
   "metadata": {},
   "outputs": [],
   "source": [
    "model.draw_config(sample_x[1], dimercolor='blue', alpha=0.8);"
   ]
  },
  {
   "cell_type": "code",
   "execution_count": null,
   "metadata": {
    "scrolled": true
   },
   "outputs": [],
   "source": [
    "# show minimum energy path\n",
    "Emin = 1e9\n",
    "bestpath = None\n",
    "for i in range(90):\n",
    "    for j in range(90):\n",
    "        path = latent_interpolation(bg, traj_closed_train[i*100], traj_open_train[j*100], nstep=9)\n",
    "        E = model.energy(path).max()\n",
    "        if E < Emin:\n",
    "            Emin = E\n",
    "            bestpath = path"
   ]
  },
  {
   "cell_type": "code",
   "execution_count": null,
   "metadata": {},
   "outputs": [],
   "source": [
    "# Compressed version for paper\n",
    "fig, axes = plt.subplots(nrows=3, ncols=2, figsize=(6.5, 10))\n",
    "model.draw_config(bestpath[0], axis=axes[0, 0], dimercolor='blue', alpha=0.8);\n",
    "model.draw_config(bestpath[2], axis=axes[1, 0], dimercolor='blue', alpha=0.8);\n",
    "model.draw_config(bestpath[3], axis=axes[2, 0], dimercolor='orange', alpha=0.8);\n",
    "model.draw_config(bestpath[4], axis=axes[2, 1], dimercolor='orange', alpha=0.8);\n",
    "model.draw_config(bestpath[5], axis=axes[1, 1], dimercolor='red', alpha=0.8);\n",
    "model.draw_config(bestpath[7], axis=axes[0, 1], dimercolor='red', alpha=0.8);\n",
    "plt.subplots_adjust(wspace=0.03, hspace=0.03)\n",
    "plt.savefig('interpolate.pdf', bbox_inches='tight')"
   ]
  },
  {
   "cell_type": "code",
   "execution_count": 30,
   "metadata": {},
   "outputs": [],
   "source": [
    "bg.save('ParticleModel.pkl')"
   ]
  },
  {
   "cell_type": "code",
   "execution_count": null,
   "metadata": {},
   "outputs": [],
   "source": []
  }
 ],
 "metadata": {
  "anaconda-cloud": {},
  "kernelspec": {
   "display_name": "Python 3",
   "language": "python",
   "name": "python3"
  },
  "language_info": {
   "codemirror_mode": {
    "name": "ipython",
    "version": 3
   },
   "file_extension": ".py",
   "mimetype": "text/x-python",
   "name": "python",
   "nbconvert_exporter": "python",
   "pygments_lexer": "ipython3",
   "version": "3.7.3"
  }
 },
 "nbformat": 4,
 "nbformat_minor": 2
}
