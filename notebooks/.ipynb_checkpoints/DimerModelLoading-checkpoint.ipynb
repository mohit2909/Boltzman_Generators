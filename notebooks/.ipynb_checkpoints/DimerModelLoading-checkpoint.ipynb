{
 "cells": [
  {
   "cell_type": "code",
   "execution_count": null,
   "metadata": {},
   "outputs": [
    {
     "name": "stderr",
     "output_type": "stream",
     "text": [
      "Using TensorFlow backend.\n"
     ]
    }
   ],
   "source": [
    "import sys \n",
    "sys.path.insert(0,'/home/mohit/Downloads/code_notebooks/deep_boltzmann')\n",
    "import numpy as np\n",
    "import matplotlib.pyplot as plt\n",
    "from matplotlib import rcParams\n",
    "import keras\n",
    "import tensorflow as tf"
   ]
  },
  {
   "cell_type": "code",
   "execution_count": null,
   "metadata": {},
   "outputs": [],
   "source": [
    "from IPython.display import SVG\n",
    "from keras.utils.vis_utils import model_to_dot"
   ]
  },
  {
   "cell_type": "code",
   "execution_count": null,
   "metadata": {},
   "outputs": [],
   "source": [
    "rcParams.update({'font.size': 16})"
   ]
  },
  {
   "cell_type": "code",
   "execution_count": null,
   "metadata": {},
   "outputs": [],
   "source": [
    "%load_ext autoreload\n",
    "%autoreload 2"
   ]
  },
  {
   "cell_type": "code",
   "execution_count": null,
   "metadata": {},
   "outputs": [],
   "source": [
    "from deep_boltzmann.models import ParticleDimer\n",
    "from deep_boltzmann.networks.invertible import invnet, EnergyInvNet, create_RealNVPNet\n",
    "from deep_boltzmann.sampling import GaussianPriorMCMC\n",
    "from deep_boltzmann.sampling.latent_sampling import BiasedModel\n",
    "from deep_boltzmann.sampling.permutation import HungarianMapper\n",
    "from deep_boltzmann.util import load_obj, save_obj\n",
    "from deep_boltzmann.sampling.analysis import free_energy_bootstrap, mean_finite, std_finite"
   ]
  },
  {
   "cell_type": "code",
   "execution_count": null,
   "metadata": {},
   "outputs": [],
   "source": [
    "trajdict = np.load('output.npz')\n",
    "import ast\n",
    "#params = ast.literal_eval(str(trajdict['params']))\n",
    "traj_closed_train = trajdict['traj_closed_train_hungarian']\n",
    "traj_open_train = trajdict['traj_open_train_hungarian']\n",
    "traj_closed_test = trajdict['traj_closed_test_hungarian']\n",
    "traj_open_test = trajdict['traj_open_test_hungarian']\n",
    "x = np.vstack([traj_closed_train, traj_open_train])\n",
    "xval = np.vstack([traj_closed_test, traj_open_test])"
   ]
  },
  {
   "cell_type": "code",
   "execution_count": null,
   "metadata": {},
   "outputs": [],
   "source": [
    "model = ParticleDimer()"
   ]
  },
  {
   "cell_type": "code",
   "execution_count": null,
   "metadata": {},
   "outputs": [],
   "source": [
    "noise_intensity = 0.0\n",
    "X0 = np.vstack([traj_closed_train, traj_open_train])\n",
    "Nnoise = xval.shape[0]\n",
    "X0noise = X0[np.random.choice(X0.shape[0], Nnoise)] + noise_intensity * np.random.randn(Nnoise, X0.shape[1])\n",
    "X0noise = X0noise.astype(np.float32)"
   ]
  },
  {
   "cell_type": "code",
   "execution_count": null,
   "metadata": {},
   "outputs": [],
   "source": [
    "print(X0)\n",
    "print(Nnoise)\n",
    "print(X0noise)"
   ]
  },
  {
   "cell_type": "code",
   "execution_count": null,
   "metadata": {},
   "outputs": [],
   "source": [
    "def load(filename, energy_model, clear_session=True):\n",
    "        \"\"\" Loads parameters into model. Careful: this clears the whole TF session!!\n",
    "        \"\"\"\n",
    "        from deep_boltzmann.util import load_obj\n",
    "        if clear_session:\n",
    "                keras.backend.clear_session()\n",
    "        D = load_obj(filename)\n",
    "        prior = D['prior']\n",
    "        layerdicts = D['layers']\n",
    "        layers = [eval(d['type']).from_dict(d) for d in layerdicts]\n",
    "        return EnergyInvNet(energy_model, layers, prior=prior)"
   ]
  },
  {
   "cell_type": "code",
   "execution_count": null,
   "metadata": {},
   "outputs": [],
   "source": [
    "bg = invnet(model.dim, 'RRRRRRRR', energy_model=model, nl_layers=4, nl_hidden=200, #100\n",
    "            nl_activation='relu', nl_activation_scale='tanh', whiten=X0noise)\n",
    "bg = bg.load('ParticleModel.pkl',model)"
   ]
  },
  {
   "cell_type": "code",
   "execution_count": 12,
   "metadata": {},
   "outputs": [
    {
     "name": "stdout",
     "output_type": "stream",
     "text": [
      "[[ 1.9572867   0.4004053   0.5223278   1.7814726   0.18984634  1.4211472\n",
      "   1.4091517   0.32418895  0.47014764  0.27301234  0.05660823  1.5759207\n",
      "   0.9411641   0.11529212 -0.36492872 -1.402907    2.4879348  -0.19491237\n",
      "  -2.4307237  -1.2326376   1.0743597  -0.34663197  2.1743052  -1.3172942\n",
      "   0.08816755  0.8033407  -1.3519748  -1.1594783  -1.9806067  -1.3263488\n",
      "   1.1516556  -0.03824997 -0.78479624  0.73889923  1.2666298  -0.848596\n",
      "   1.4399124   0.62048113  1.9062109   1.1174085  -0.5345824   1.6808629\n",
      "  -1.4555032   0.79905266 -0.44156712 -0.05199707 -2.3669388   1.9275584\n",
      "  -0.08194138 -0.8850204   1.0034802  -0.62691885 -3.093033    0.27217257\n",
      "  -1.8111604   1.2449572  -1.0462887  -1.09285     0.01245205 -1.4201572\n",
      "   0.01730055 -0.5653697   0.35124308  1.7833525   1.0483669  -1.619142\n",
      "  -1.3836769  -1.6323123  -0.62473965  1.7005557   1.138487    0.5154848\n",
      "  -2.2754796  -1.5632753   0.48130587  0.24134487]]\n"
     ]
    }
   ],
   "source": [
    "print(bg.transform_xz(np.array(traj_closed_train[100])))"
   ]
  },
  {
   "cell_type": "code",
   "execution_count": 13,
   "metadata": {},
   "outputs": [],
   "source": [
    "def latent_interpolation(bg, x1, x2, nstep=1000, through_origin=False):\n",
    "    lambdas = np.array([np.linspace(0, 1, num=nstep)]).T\n",
    "    x1 = np.array([x1])\n",
    "    x2 = np.array([x2])\n",
    "    z1 = bg.transform_xz(x1)\n",
    "    z2 = bg.transform_xz(x2)\n",
    "    if through_origin:\n",
    "        zpath1 = z1 * (1-lambdas[::2])\n",
    "        zpath2 = z2 * (lambdas[::2]) \n",
    "        zpath = np.vstack([zpath1, zpath2])\n",
    "    else:\n",
    "        zpath = z1 + lambdas*(z2-z1)\n",
    "    xpath = bg.transform_zx(zpath)\n",
    "    return xpath"
   ]
  },
  {
   "cell_type": "code",
   "execution_count": null,
   "metadata": {},
   "outputs": [],
   "source": [
    "Emin = 1e9\n",
    "bestpath = None\n",
    "for i in range(90):\n",
    "    for j in range(90):\n",
    "        path = latent_interpolation(bg, traj_closed_train[i*100], traj_open_train[j*100], nstep=9)\n",
    "        E = model.energy(path).max()\n",
    "        if E < Emin:\n",
    "            Emin = E\n",
    "            bestpath = path"
   ]
  },
  {
   "cell_type": "code",
   "execution_count": null,
   "metadata": {},
   "outputs": [],
   "source": [
    "fig, axes = plt.subplots(nrows=3, ncols=2, figsize=(6.5, 10))\n",
    "model.draw_config(bestpath[0], axis=axes[0, 0], dimercolor='blue', alpha=0.8);\n",
    "model.draw_config(bestpath[2], axis=axes[1, 0], dimercolor='blue', alpha=0.8);\n",
    "model.draw_config(bestpath[3], axis=axes[2, 0], dimercolor='orange', alpha=0.8);\n",
    "model.draw_config(bestpath[4], axis=axes[2, 1], dimercolor='orange', alpha=0.8);\n",
    "model.draw_config(bestpath[5], axis=axes[1, 1], dimercolor='red', alpha=0.8);\n",
    "model.draw_config(bestpath[7], axis=axes[0, 1], dimercolor='red', alpha=0.8);\n",
    "plt.subplots_adjust(wspace=0.03, hspace=0.03)\n",
    "plt.savefig('interpolate.pdf', bbox_inches='tight')"
   ]
  },
  {
   "cell_type": "code",
   "execution_count": null,
   "metadata": {},
   "outputs": [],
   "source": []
  }
 ],
 "metadata": {
  "kernelspec": {
   "display_name": "Python 3",
   "language": "python",
   "name": "python3"
  },
  "language_info": {
   "codemirror_mode": {
    "name": "ipython",
    "version": 3
   },
   "file_extension": ".py",
   "mimetype": "text/x-python",
   "name": "python",
   "nbconvert_exporter": "python",
   "pygments_lexer": "ipython3",
   "version": "3.7.3"
  }
 },
 "nbformat": 4,
 "nbformat_minor": 2
}
